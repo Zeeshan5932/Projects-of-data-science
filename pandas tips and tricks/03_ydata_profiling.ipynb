{
 "cells": [
  {
   "cell_type": "markdown",
   "metadata": {},
   "source": [
    "# Automatic EDA using `ydata_profiling`"
   ]
  },
  {
   "cell_type": "code",
   "execution_count": 1,
   "metadata": {},
   "outputs": [
    {
     "name": "stderr",
     "output_type": "stream",
     "text": [
      "c:\\Users\\aammar\\miniconda3\\envs\\ydata_profiling\\lib\\site-packages\\tqdm\\auto.py:21: TqdmWarning: IProgress not found. Please update jupyter and ipywidgets. See https://ipywidgets.readthedocs.io/en/stable/user_install.html\n",
      "  from .autonotebook import tqdm as notebook_tqdm\n"
     ]
    }
   ],
   "source": [
    "# improt libraries\n",
    "import pandas as pd\n",
    "import seaborn as sns\n",
    "import ydata_profiling as yd"
   ]
  },
  {
   "cell_type": "code",
   "execution_count": 2,
   "metadata": {},
   "outputs": [],
   "source": [
    "# import data from seaborn\n",
    "df = sns.load_dataset('titanic')"
   ]
  },
  {
   "cell_type": "code",
   "execution_count": 4,
   "metadata": {},
   "outputs": [
    {
     "name": "stderr",
     "output_type": "stream",
     "text": [
      "Summarize dataset: 100%|██████████| 41/41 [00:04<00:00,  8.86it/s, Completed]                    \n",
      "Generate report structure: 100%|██████████| 1/1 [00:05<00:00,  5.77s/it]\n",
      "Render HTML: 100%|██████████| 1/1 [00:01<00:00,  1.43s/it]\n",
      "Export report to file: 100%|██████████| 1/1 [00:00<00:00, 127.06it/s]\n"
     ]
    }
   ],
   "source": [
    "# ydata profile report\n",
    "profile = yd.ProfileReport(df)\n",
    "profile.to_file(output_file='./outputs/03_ydata_titanic.html')"
   ]
  },
  {
   "cell_type": "markdown",
   "metadata": {},
   "source": [
    "# Do it on our Pak Polulation Dataset"
   ]
  },
  {
   "cell_type": "code",
   "execution_count": 5,
   "metadata": {},
   "outputs": [],
   "source": [
    "df_pop = pd.read_csv(\"./data/data.csv\")"
   ]
  },
  {
   "cell_type": "code",
   "execution_count": 6,
   "metadata": {},
   "outputs": [
    {
     "name": "stderr",
     "output_type": "stream",
     "text": [
      "Summarize dataset: 100%|██████████| 319/319 [00:48<00:00,  6.60it/s, Completed]                                                     \n",
      "Generate report structure: 100%|██████████| 1/1 [00:11<00:00, 11.15s/it]\n",
      "Render HTML: 100%|██████████| 1/1 [00:11<00:00, 11.20s/it]\n",
      "Export report to file: 100%|██████████| 1/1 [00:00<00:00, 15.73it/s]\n"
     ]
    }
   ],
   "source": [
    "# ydata profile report\n",
    "profile = yd.ProfileReport(df_pop)\n",
    "profile.to_file(output_file='./outputs/03b_ydata_pak_poluation.html')"
   ]
  }
 ],
 "metadata": {
  "kernelspec": {
   "display_name": "ydata_profiling",
   "language": "python",
   "name": "python3"
  },
  "language_info": {
   "codemirror_mode": {
    "name": "ipython",
    "version": 3
   },
   "file_extension": ".py",
   "mimetype": "text/x-python",
   "name": "python",
   "nbconvert_exporter": "python",
   "pygments_lexer": "ipython3",
   "version": "3.10.13"
  }
 },
 "nbformat": 4,
 "nbformat_minor": 2
}
