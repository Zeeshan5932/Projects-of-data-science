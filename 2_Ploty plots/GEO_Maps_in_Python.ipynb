{
 "cells": [
  {
   "cell_type": "markdown",
   "metadata": {},
   "source": [
    "# *GEO Maps in Python*"
   ]
  },
  {
   "cell_type": "code",
   "execution_count": null,
   "metadata": {},
   "outputs": [],
   "source": [
    "import plotly.express as px\n",
    "\n",
    "df = px.data.election()\n",
    "\n",
    "geojson = px.data.election_geojson()\n",
    "\n",
    "print(df[\"district\"][2])\n",
    "print(geojson[\"features\"][0][\"properties\"])"
   ]
  },
  {
   "cell_type": "code",
   "execution_count": null,
   "metadata": {},
   "outputs": [],
   "source": [
    "geojson"
   ]
  },
  {
   "cell_type": "code",
   "execution_count": null,
   "metadata": {},
   "outputs": [],
   "source": [
    "df.head()"
   ]
  },
  {
   "cell_type": "code",
   "execution_count": null,
   "metadata": {},
   "outputs": [],
   "source": [
    "fig = px.choropleth_mapbox(df, geojson=geojson, color=\"Coderre\",\n",
    "                           locations=\"district\", featureidkey=\"properties.district\",\n",
    "                           center={\"lat\": 45.5517, \"lon\": -73.7073},\n",
    "                           mapbox_style=\"carto-positron\", zoom=9)\n",
    "fig.update_layout(margin={\"r\":0,\"t\":0,\"l\":0,\"b\":0})\n",
    "fig.show()"
   ]
  },
  {
   "cell_type": "code",
   "execution_count": null,
   "metadata": {},
   "outputs": [],
   "source": [
    "import pandas as pd\n",
    "# Sample population data\n",
    "data = {\n",
    "    'Country': ['China', 'India', 'United States', 'Indonesia', 'Pakistan'],\n",
    "    'Population': [1444216107, 1393409038, 332915073, 276361783, 225199937]\n",
    "}\n",
    "\n",
    "# Create a pandas DataFrame\n",
    "df = pd.DataFrame(data)\n",
    "\n",
    "# Display the DataFrame\n",
    "print(df)"
   ]
  },
  {
   "cell_type": "code",
   "execution_count": null,
   "metadata": {},
   "outputs": [],
   "source": [
    "import plotly.express as px\n",
    "# Create the map visualization\n",
    "fig = px.choropleth(df, locations='Country', locationmode='country names', color = 'Population',\n",
    "                    title='Global Population by Country')\n",
    "# Display the map\n",
    "fig.show()"
   ]
  },
  {
   "cell_type": "markdown",
   "metadata": {},
   "source": [
    "# let's make a COVID 19 Map"
   ]
  },
  {
   "cell_type": "code",
   "execution_count": null,
   "metadata": {},
   "outputs": [],
   "source": [
    "# import libraries\n",
    "import pandas as pd\n",
    "import plotly.express as p"
   ]
  },
  {
   "cell_type": "code",
   "execution_count": null,
   "metadata": {},
   "outputs": [],
   "source": [
    "# import the data\n",
    "df = pd.read_csv(\"D:\\DS & ai\\Data/covid-data.csv\")\n",
    "df.head()\n"
   ]
  },
  {
   "cell_type": "code",
   "execution_count": null,
   "metadata": {},
   "outputs": [],
   "source": [
    "# set max column print option\n",
    "pd.set_option('display.max_columns', None)"
   ]
  },
  {
   "cell_type": "code",
   "execution_count": null,
   "metadata": {},
   "outputs": [],
   "source": [
    "df['total_cases'].value_counts()"
   ]
  },
  {
   "cell_type": "code",
   "execution_count": null,
   "metadata": {},
   "outputs": [],
   "source": [
    "# lets take an average of total case by location using groupby function and create a new df\n",
    "df_total_cases = df.groupby(['location'])['total_cases'].mean().reset_index()\n",
    "df_total_cases"
   ]
  },
  {
   "cell_type": "code",
   "execution_count": null,
   "metadata": {},
   "outputs": [],
   "source": [
    "# # Create the map visualization\n",
    "# fig = px.choropleth(df_total_cases, locations='location', locationmode='country names', color = 'total_cases',\n",
    "#                     title='Total Cases by Country', range_color=[0, 10000000])\n",
    "# # Display the map\n",
    "# fig.show()"
   ]
  },
  {
   "cell_type": "code",
   "execution_count": null,
   "metadata": {},
   "outputs": [],
   "source": [
    "# px.choropleth(df, locations='location', locationmode='country names', color = 'new_cases',\n",
    "#                     title='Total Cases by Country', range_color=[0, 10000],\n",
    "#                     animation_frame= 'date'\n",
    "#                     )"
   ]
  },
  {
   "cell_type": "markdown",
   "metadata": {},
   "source": [
    "# Assignment: Animate this graph using Monthly Data, convert the data into monthly data and then animated the plot, save it as avi and mp4 file or gif"
   ]
  },
  {
   "cell_type": "code",
   "execution_count": 6,
   "metadata": {},
   "outputs": [
    {
     "data": {
      "text/html": [
       "<div>\n",
       "<style scoped>\n",
       "    .dataframe tbody tr th:only-of-type {\n",
       "        vertical-align: middle;\n",
       "    }\n",
       "\n",
       "    .dataframe tbody tr th {\n",
       "        vertical-align: top;\n",
       "    }\n",
       "\n",
       "    .dataframe thead th {\n",
       "        text-align: right;\n",
       "    }\n",
       "</style>\n",
       "<table border=\"1\" class=\"dataframe\">\n",
       "  <thead>\n",
       "    <tr style=\"text-align: right;\">\n",
       "      <th></th>\n",
       "      <th>year_month</th>\n",
       "      <th>location</th>\n",
       "      <th>total_cases</th>\n",
       "    </tr>\n",
       "  </thead>\n",
       "  <tbody>\n",
       "    <tr>\n",
       "      <th>0</th>\n",
       "      <td>2020-01</td>\n",
       "      <td>Afghanistan</td>\n",
       "      <td>0.0</td>\n",
       "    </tr>\n",
       "    <tr>\n",
       "      <th>1</th>\n",
       "      <td>2020-01</td>\n",
       "      <td>Africa</td>\n",
       "      <td>0.0</td>\n",
       "    </tr>\n",
       "    <tr>\n",
       "      <th>2</th>\n",
       "      <td>2020-01</td>\n",
       "      <td>Albania</td>\n",
       "      <td>0.0</td>\n",
       "    </tr>\n",
       "    <tr>\n",
       "      <th>3</th>\n",
       "      <td>2020-01</td>\n",
       "      <td>Algeria</td>\n",
       "      <td>0.0</td>\n",
       "    </tr>\n",
       "    <tr>\n",
       "      <th>4</th>\n",
       "      <td>2020-01</td>\n",
       "      <td>American Samoa</td>\n",
       "      <td>0.0</td>\n",
       "    </tr>\n",
       "  </tbody>\n",
       "</table>\n",
       "</div>"
      ],
      "text/plain": [
       "  year_month        location  total_cases\n",
       "0    2020-01     Afghanistan          0.0\n",
       "1    2020-01          Africa          0.0\n",
       "2    2020-01         Albania          0.0\n",
       "3    2020-01         Algeria          0.0\n",
       "4    2020-01  American Samoa          0.0"
      ]
     },
     "execution_count": 6,
     "metadata": {},
     "output_type": "execute_result"
    }
   ],
   "source": [
    "# group df based on each month in date and take average of new_cases\n",
    "# Convert the 'date' column to datetime format\n",
    "df['date'] = pd.to_datetime(df['date'])\n",
    "\n",
    "# Create a new column 'year_month' to represent the year and month\n",
    "df['year_month'] = df['date'].dt.to_period('M')\n",
    "\n",
    "# Now group by 'year_month' and 'location', and sum the 'new_cases' for each group\n",
    "monthly_cases = df.groupby(['year_month', 'location']).agg({'total_cases': 'sum'}).reset_index()\n",
    "\n",
    "# Convert 'year_month' back to a string format for readability\n",
    "monthly_cases['year_month'] = monthly_cases['year_month'].astype(str)\n",
    "\n",
    "# This will give you a new DataFrame with the sum of new cases for each month and location\n",
    "monthly_cases.head()"
   ]
  },
  {
   "cell_type": "code",
   "execution_count": null,
   "metadata": {},
   "outputs": [],
   "source": [
    "# fig = px.ba(monthly_cases, locations='location', locationmode='country names', color = 'total_cases',\n",
    "#                     title='Total Covid Cases Worldwide (January 2021 -to- April 2023)', \n",
    "#                     range_color=[0, monthly_cases['total_cases'].quantile(0.85)],\n",
    "#                     animation_frame= 'year_month', color_continuous_scale='viridis',\n",
    "#                     labels={'year_month':'Year-Month', 'total_cases':'Total Cases'}\n",
    "#                     )\n",
    "# # increase the size of the map\n",
    "# fig.update_layout(height=600, width=800)\n"
   ]
  },
  {
   "cell_type": "code",
   "execution_count": null,
   "metadata": {},
   "outputs": [],
   "source": [
    "df.head()"
   ]
  },
  {
   "cell_type": "code",
   "execution_count": 7,
   "metadata": {},
   "outputs": [
    {
     "ename": "ValueError",
     "evalue": "Value of 'x' is not the name of a column in 'data_frame'. Expected one of ['year_month', 'location', 'total_cases'] but received: continent",
     "output_type": "error",
     "traceback": [
      "\u001b[1;31m---------------------------------------------------------------------------\u001b[0m",
      "\u001b[1;31mValueError\u001b[0m                                Traceback (most recent call last)",
      "\u001b[1;32md:\\DS & ai\\2_Ploty plots\\GEO_Maps_in_Python.ipynb Cell 20\u001b[0m line \u001b[0;36m5\n\u001b[0;32m      <a href='vscode-notebook-cell:/d%3A/DS%20%26%20ai/2_Ploty%20plots/GEO_Maps_in_Python.ipynb#X25sZmlsZQ%3D%3D?line=1'>2</a>\u001b[0m \u001b[39mimport\u001b[39;00m \u001b[39mio\u001b[39;00m \n\u001b[0;32m      <a href='vscode-notebook-cell:/d%3A/DS%20%26%20ai/2_Ploty%20plots/GEO_Maps_in_Python.ipynb#X25sZmlsZQ%3D%3D?line=2'>3</a>\u001b[0m \u001b[39mimport\u001b[39;00m \u001b[39mPIL\u001b[39;00m\n\u001b[1;32m----> <a href='vscode-notebook-cell:/d%3A/DS%20%26%20ai/2_Ploty%20plots/GEO_Maps_in_Python.ipynb#X25sZmlsZQ%3D%3D?line=4'>5</a>\u001b[0m fig \u001b[39m=\u001b[39m px\u001b[39m.\u001b[39;49mscatter( \n\u001b[0;32m      <a href='vscode-notebook-cell:/d%3A/DS%20%26%20ai/2_Ploty%20plots/GEO_Maps_in_Python.ipynb#X25sZmlsZQ%3D%3D?line=5'>6</a>\u001b[0m     monthly_cases, \n\u001b[0;32m      <a href='vscode-notebook-cell:/d%3A/DS%20%26%20ai/2_Ploty%20plots/GEO_Maps_in_Python.ipynb#X25sZmlsZQ%3D%3D?line=6'>7</a>\u001b[0m     x \u001b[39m=\u001b[39;49m\u001b[39m\"\u001b[39;49m\u001b[39mcontinent\u001b[39;49m\u001b[39m\"\u001b[39;49m, \n\u001b[0;32m      <a href='vscode-notebook-cell:/d%3A/DS%20%26%20ai/2_Ploty%20plots/GEO_Maps_in_Python.ipynb#X25sZmlsZQ%3D%3D?line=7'>8</a>\u001b[0m     y \u001b[39m=\u001b[39;49m\u001b[39m\"\u001b[39;49m\u001b[39mtotal_cases\u001b[39;49m\u001b[39m\"\u001b[39;49m, \n\u001b[0;32m      <a href='vscode-notebook-cell:/d%3A/DS%20%26%20ai/2_Ploty%20plots/GEO_Maps_in_Python.ipynb#X25sZmlsZQ%3D%3D?line=8'>9</a>\u001b[0m     animation_frame \u001b[39m=\u001b[39;49m\u001b[39m\"\u001b[39;49m\u001b[39myear_month\u001b[39;49m\u001b[39m\"\u001b[39;49m, \n\u001b[0;32m     <a href='vscode-notebook-cell:/d%3A/DS%20%26%20ai/2_Ploty%20plots/GEO_Maps_in_Python.ipynb#X25sZmlsZQ%3D%3D?line=9'>10</a>\u001b[0m     animation_group \u001b[39m=\u001b[39;49m\u001b[39m\"\u001b[39;49m\u001b[39mcontinent\u001b[39;49m\u001b[39m\"\u001b[39;49m, \n\u001b[0;32m     <a href='vscode-notebook-cell:/d%3A/DS%20%26%20ai/2_Ploty%20plots/GEO_Maps_in_Python.ipynb#X25sZmlsZQ%3D%3D?line=10'>11</a>\u001b[0m     size \u001b[39m=\u001b[39;49m \u001b[39m\"\u001b[39;49m\u001b[39mtotal_cases\u001b[39;49m\u001b[39m\"\u001b[39;49m,\n\u001b[0;32m     <a href='vscode-notebook-cell:/d%3A/DS%20%26%20ai/2_Ploty%20plots/GEO_Maps_in_Python.ipynb#X25sZmlsZQ%3D%3D?line=11'>12</a>\u001b[0m     range_y \u001b[39m=\u001b[39;49m[\u001b[39m0\u001b[39;49m, \u001b[39m9000000000\u001b[39;49m] \n\u001b[0;32m     <a href='vscode-notebook-cell:/d%3A/DS%20%26%20ai/2_Ploty%20plots/GEO_Maps_in_Python.ipynb#X25sZmlsZQ%3D%3D?line=12'>13</a>\u001b[0m ) \n\u001b[0;32m     <a href='vscode-notebook-cell:/d%3A/DS%20%26%20ai/2_Ploty%20plots/GEO_Maps_in_Python.ipynb#X25sZmlsZQ%3D%3D?line=13'>14</a>\u001b[0m fig\u001b[39m.\u001b[39mshow()\n",
      "File \u001b[1;32mc:\\Users\\Ali BaBa\\.conda\\envs\\python_eda\\Lib\\site-packages\\plotly\\express\\_chart_types.py:66\u001b[0m, in \u001b[0;36mscatter\u001b[1;34m(data_frame, x, y, color, symbol, size, hover_name, hover_data, custom_data, text, facet_row, facet_col, facet_col_wrap, facet_row_spacing, facet_col_spacing, error_x, error_x_minus, error_y, error_y_minus, animation_frame, animation_group, category_orders, labels, orientation, color_discrete_sequence, color_discrete_map, color_continuous_scale, range_color, color_continuous_midpoint, symbol_sequence, symbol_map, opacity, size_max, marginal_x, marginal_y, trendline, trendline_options, trendline_color_override, trendline_scope, log_x, log_y, range_x, range_y, render_mode, title, template, width, height)\u001b[0m\n\u001b[0;32m     12\u001b[0m \u001b[39mdef\u001b[39;00m \u001b[39mscatter\u001b[39m(\n\u001b[0;32m     13\u001b[0m     data_frame\u001b[39m=\u001b[39m\u001b[39mNone\u001b[39;00m,\n\u001b[0;32m     14\u001b[0m     x\u001b[39m=\u001b[39m\u001b[39mNone\u001b[39;00m,\n\u001b[1;32m   (...)\u001b[0m\n\u001b[0;32m     60\u001b[0m     height\u001b[39m=\u001b[39m\u001b[39mNone\u001b[39;00m,\n\u001b[0;32m     61\u001b[0m ) \u001b[39m-\u001b[39m\u001b[39m>\u001b[39m go\u001b[39m.\u001b[39mFigure:\n\u001b[0;32m     62\u001b[0m \u001b[39m    \u001b[39m\u001b[39m\"\"\"\u001b[39;00m\n\u001b[0;32m     63\u001b[0m \u001b[39m    In a scatter plot, each row of `data_frame` is represented by a symbol\u001b[39;00m\n\u001b[0;32m     64\u001b[0m \u001b[39m    mark in 2D space.\u001b[39;00m\n\u001b[0;32m     65\u001b[0m \u001b[39m    \"\"\"\u001b[39;00m\n\u001b[1;32m---> 66\u001b[0m     \u001b[39mreturn\u001b[39;00m make_figure(args\u001b[39m=\u001b[39;49m\u001b[39mlocals\u001b[39;49m(), constructor\u001b[39m=\u001b[39;49mgo\u001b[39m.\u001b[39;49mScatter)\n",
      "File \u001b[1;32mc:\\Users\\Ali BaBa\\.conda\\envs\\python_eda\\Lib\\site-packages\\plotly\\express\\_core.py:2076\u001b[0m, in \u001b[0;36mmake_figure\u001b[1;34m(args, constructor, trace_patch, layout_patch)\u001b[0m\n\u001b[0;32m   2073\u001b[0m layout_patch \u001b[39m=\u001b[39m layout_patch \u001b[39mor\u001b[39;00m {}\n\u001b[0;32m   2074\u001b[0m apply_default_cascade(args)\n\u001b[1;32m-> 2076\u001b[0m args \u001b[39m=\u001b[39m build_dataframe(args, constructor)\n\u001b[0;32m   2077\u001b[0m \u001b[39mif\u001b[39;00m constructor \u001b[39min\u001b[39;00m [go\u001b[39m.\u001b[39mTreemap, go\u001b[39m.\u001b[39mSunburst, go\u001b[39m.\u001b[39mIcicle] \u001b[39mand\u001b[39;00m args[\u001b[39m\"\u001b[39m\u001b[39mpath\u001b[39m\u001b[39m\"\u001b[39m] \u001b[39mis\u001b[39;00m \u001b[39mnot\u001b[39;00m \u001b[39mNone\u001b[39;00m:\n\u001b[0;32m   2078\u001b[0m     args \u001b[39m=\u001b[39m process_dataframe_hierarchy(args)\n",
      "File \u001b[1;32mc:\\Users\\Ali BaBa\\.conda\\envs\\python_eda\\Lib\\site-packages\\plotly\\express\\_core.py:1485\u001b[0m, in \u001b[0;36mbuild_dataframe\u001b[1;34m(args, constructor)\u001b[0m\n\u001b[0;32m   1482\u001b[0m     args[\u001b[39m\"\u001b[39m\u001b[39mcolor\u001b[39m\u001b[39m\"\u001b[39m] \u001b[39m=\u001b[39m \u001b[39mNone\u001b[39;00m\n\u001b[0;32m   1483\u001b[0m \u001b[39m# now that things have been prepped, we do the systematic rewriting of `args`\u001b[39;00m\n\u001b[1;32m-> 1485\u001b[0m df_output, wide_id_vars \u001b[39m=\u001b[39m process_args_into_dataframe(\n\u001b[0;32m   1486\u001b[0m     args, wide_mode, var_name, value_name\n\u001b[0;32m   1487\u001b[0m )\n\u001b[0;32m   1489\u001b[0m \u001b[39m# now that `df_output` exists and `args` contains only references, we complete\u001b[39;00m\n\u001b[0;32m   1490\u001b[0m \u001b[39m# the special-case and wide-mode handling by further rewriting args and/or mutating\u001b[39;00m\n\u001b[0;32m   1491\u001b[0m \u001b[39m# df_output\u001b[39;00m\n\u001b[0;32m   1493\u001b[0m count_name \u001b[39m=\u001b[39m _escape_col_name(df_output, \u001b[39m\"\u001b[39m\u001b[39mcount\u001b[39m\u001b[39m\"\u001b[39m, [var_name, value_name])\n",
      "File \u001b[1;32mc:\\Users\\Ali BaBa\\.conda\\envs\\python_eda\\Lib\\site-packages\\plotly\\express\\_core.py:1210\u001b[0m, in \u001b[0;36mprocess_args_into_dataframe\u001b[1;34m(args, wide_mode, var_name, value_name)\u001b[0m\n\u001b[0;32m   1208\u001b[0m         \u001b[39mif\u001b[39;00m argument \u001b[39m==\u001b[39m \u001b[39m\"\u001b[39m\u001b[39mindex\u001b[39m\u001b[39m\"\u001b[39m:\n\u001b[0;32m   1209\u001b[0m             err_msg \u001b[39m+\u001b[39m\u001b[39m=\u001b[39m \u001b[39m\"\u001b[39m\u001b[39m\\n\u001b[39;00m\u001b[39m To use the index, pass it in directly as `df.index`.\u001b[39m\u001b[39m\"\u001b[39m\n\u001b[1;32m-> 1210\u001b[0m         \u001b[39mraise\u001b[39;00m \u001b[39mValueError\u001b[39;00m(err_msg)\n\u001b[0;32m   1211\u001b[0m \u001b[39melif\u001b[39;00m length \u001b[39mand\u001b[39;00m \u001b[39mlen\u001b[39m(df_input[argument]) \u001b[39m!=\u001b[39m length:\n\u001b[0;32m   1212\u001b[0m     \u001b[39mraise\u001b[39;00m \u001b[39mValueError\u001b[39;00m(\n\u001b[0;32m   1213\u001b[0m         \u001b[39m\"\u001b[39m\u001b[39mAll arguments should have the same length. \u001b[39m\u001b[39m\"\u001b[39m\n\u001b[0;32m   1214\u001b[0m         \u001b[39m\"\u001b[39m\u001b[39mThe length of column argument `df[\u001b[39m\u001b[39m%s\u001b[39;00m\u001b[39m]` is \u001b[39m\u001b[39m%d\u001b[39;00m\u001b[39m, whereas the \u001b[39m\u001b[39m\"\u001b[39m\n\u001b[1;32m   (...)\u001b[0m\n\u001b[0;32m   1221\u001b[0m         )\n\u001b[0;32m   1222\u001b[0m     )\n",
      "\u001b[1;31mValueError\u001b[0m: Value of 'x' is not the name of a column in 'data_frame'. Expected one of ['year_month', 'location', 'total_cases'] but received: continent"
     ]
    }
   ],
   "source": [
    "import plotly.express as px \n",
    "import io \n",
    "import PIL\n",
    "\n",
    "fig = px.scatter( \n",
    "    monthly_cases, \n",
    "    x =\"continent\", \n",
    "    y =\"total_cases\", \n",
    "    animation_frame =\"year_month\", \n",
    "    animation_group =\"continent\", \n",
    "    size = \"total_cases\",\n",
    "    range_y =[0, 9000000000] \n",
    ") \n",
    "fig.show()"
   ]
  },
  {
   "cell_type": "code",
   "execution_count": null,
   "metadata": {},
   "outputs": [],
   "source": [
    "# saving animated gif\n",
    "import plotly.express as px\n",
    "import pandas as pd\n",
    "import numpy as np\n",
    "import io\n",
    "import PIL\n",
    "fig = px.choropleth(monthly_cases, locations='location', locationmode='country names', color = 'total_cases',\n",
    "                    title='Total Covid Cases Worldwide (January 2021 -to- April 2023)', \n",
    "                    range_color=[0, monthly_cases['total_cases'].quantile(0.85)],\n",
    "                    animation_frame= 'year_month', color_continuous_scale='viridis',\n",
    "                    labels={'year_month':'Year-Month', 'total_cases':'Total Cases'}\n",
    "                    )\n",
    "# increase the size of the map\n",
    "fig.update_layout(height=600, width=800)\n",
    "\n",
    "# generate images for each step in animation\n",
    "frames = []\n",
    "for s, fr in enumerate(fig.frames):\n",
    "    # set main traces to appropriate traces within plotly frame\n",
    "    fig.update(data=fr.data)\n",
    "    # move slider to correct place\n",
    "    fig.layout.sliders[0].update(active=s)\n",
    "    # generate image of current state\n",
    "    frames.append(PIL.Image.open(io.BytesIO(fig.to_image(format=\"png\", scale=3))))\n",
    "    \n",
    "# create animated GIF\n",
    "frames[0].save(\n",
    "        \"./output/total_covid_cases_worldwide.gif\",\n",
    "        save_all=True,\n",
    "        append_images=frames[1:],\n",
    "        optimize=True,\n",
    "        duration=500, # milliseconds per frame\n",
    "        loop=0, # infinite loop\n",
    "        dither=None  # Turn off dithering\n",
    "    )"
   ]
  }
 ],
 "metadata": {
  "kernelspec": {
   "display_name": "python_eda",
   "language": "python",
   "name": "python3"
  },
  "language_info": {
   "codemirror_mode": {
    "name": "ipython",
    "version": 3
   },
   "file_extension": ".py",
   "mimetype": "text/x-python",
   "name": "python",
   "nbconvert_exporter": "python",
   "pygments_lexer": "ipython3",
   "version": "3.11.6"
  }
 },
 "nbformat": 4,
 "nbformat_minor": 2
}
