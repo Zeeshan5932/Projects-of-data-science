{
 "cells": [
  {
   "cell_type": "markdown",
   "metadata": {},
   "source": [
    "# *Animated plots*\n",
    "\n",
    "we will use to make animated  plots"
   ]
  },
  {
   "cell_type": "code",
   "execution_count": 1,
   "metadata": {},
   "outputs": [],
   "source": [
    "# 1 Import library\n",
    "import plotly.express as px"
   ]
  },
  {
   "cell_type": "code",
   "execution_count": 2,
   "metadata": {},
   "outputs": [
    {
     "data": {
      "text/html": [
       "<div>\n",
       "<style scoped>\n",
       "    .dataframe tbody tr th:only-of-type {\n",
       "        vertical-align: middle;\n",
       "    }\n",
       "\n",
       "    .dataframe tbody tr th {\n",
       "        vertical-align: top;\n",
       "    }\n",
       "\n",
       "    .dataframe thead th {\n",
       "        text-align: right;\n",
       "    }\n",
       "</style>\n",
       "<table border=\"1\" class=\"dataframe\">\n",
       "  <thead>\n",
       "    <tr style=\"text-align: right;\">\n",
       "      <th></th>\n",
       "      <th>country</th>\n",
       "      <th>continent</th>\n",
       "      <th>year</th>\n",
       "      <th>lifeExp</th>\n",
       "      <th>pop</th>\n",
       "      <th>gdpPercap</th>\n",
       "      <th>iso_alpha</th>\n",
       "      <th>iso_num</th>\n",
       "    </tr>\n",
       "  </thead>\n",
       "  <tbody>\n",
       "    <tr>\n",
       "      <th>0</th>\n",
       "      <td>Afghanistan</td>\n",
       "      <td>Asia</td>\n",
       "      <td>1952</td>\n",
       "      <td>28.801</td>\n",
       "      <td>8425333</td>\n",
       "      <td>779.445314</td>\n",
       "      <td>AFG</td>\n",
       "      <td>4</td>\n",
       "    </tr>\n",
       "    <tr>\n",
       "      <th>1</th>\n",
       "      <td>Afghanistan</td>\n",
       "      <td>Asia</td>\n",
       "      <td>1957</td>\n",
       "      <td>30.332</td>\n",
       "      <td>9240934</td>\n",
       "      <td>820.853030</td>\n",
       "      <td>AFG</td>\n",
       "      <td>4</td>\n",
       "    </tr>\n",
       "    <tr>\n",
       "      <th>2</th>\n",
       "      <td>Afghanistan</td>\n",
       "      <td>Asia</td>\n",
       "      <td>1962</td>\n",
       "      <td>31.997</td>\n",
       "      <td>10267083</td>\n",
       "      <td>853.100710</td>\n",
       "      <td>AFG</td>\n",
       "      <td>4</td>\n",
       "    </tr>\n",
       "    <tr>\n",
       "      <th>3</th>\n",
       "      <td>Afghanistan</td>\n",
       "      <td>Asia</td>\n",
       "      <td>1967</td>\n",
       "      <td>34.020</td>\n",
       "      <td>11537966</td>\n",
       "      <td>836.197138</td>\n",
       "      <td>AFG</td>\n",
       "      <td>4</td>\n",
       "    </tr>\n",
       "    <tr>\n",
       "      <th>4</th>\n",
       "      <td>Afghanistan</td>\n",
       "      <td>Asia</td>\n",
       "      <td>1972</td>\n",
       "      <td>36.088</td>\n",
       "      <td>13079460</td>\n",
       "      <td>739.981106</td>\n",
       "      <td>AFG</td>\n",
       "      <td>4</td>\n",
       "    </tr>\n",
       "  </tbody>\n",
       "</table>\n",
       "</div>"
      ],
      "text/plain": [
       "       country continent  year  lifeExp       pop   gdpPercap iso_alpha  \\\n",
       "0  Afghanistan      Asia  1952   28.801   8425333  779.445314       AFG   \n",
       "1  Afghanistan      Asia  1957   30.332   9240934  820.853030       AFG   \n",
       "2  Afghanistan      Asia  1962   31.997  10267083  853.100710       AFG   \n",
       "3  Afghanistan      Asia  1967   34.020  11537966  836.197138       AFG   \n",
       "4  Afghanistan      Asia  1972   36.088  13079460  739.981106       AFG   \n",
       "\n",
       "   iso_num  \n",
       "0        4  \n",
       "1        4  \n",
       "2        4  \n",
       "3        4  \n",
       "4        4  "
      ]
     },
     "execution_count": 2,
     "metadata": {},
     "output_type": "execute_result"
    }
   ],
   "source": [
    "# 2 import Dataset\n",
    "df = px.data.gapminder()\n",
    "\n",
    "# explore the data\n",
    "df.head()"
   ]
  },
  {
   "cell_type": "code",
   "execution_count": 3,
   "metadata": {},
   "outputs": [
    {
     "data": {
      "application/vnd.plotly.v1+json": {
       "config": {
        "plotlyServerURL": "https://plot.ly"
       },
       "data": [
        {
         "branchvalues": "total",
         "customdata": [
          [
           "Africa"
          ],
          [
           "Africa"
          ],
          [
           "Africa"
          ],
          [
           "Europe"
          ],
          [
           "Americas"
          ],
          [
           "Europe"
          ],
          [
           "Europe"
          ],
          [
           "Africa"
          ],
          [
           "Americas"
          ],
          [
           "Americas"
          ],
          [
           "Africa"
          ],
          [
           "Americas"
          ],
          [
           "Africa"
          ],
          [
           "Africa"
          ],
          [
           "Americas"
          ],
          [
           "Africa"
          ],
          [
           "Asia"
          ],
          [
           "Europe"
          ],
          [
           "Africa"
          ],
          [
           "Europe"
          ],
          [
           "Africa"
          ],
          [
           "Asia"
          ],
          [
           "Asia"
          ],
          [
           "Asia"
          ],
          [
           "Europe"
          ],
          [
           "Africa"
          ],
          [
           "Americas"
          ],
          [
           "Europe"
          ],
          [
           "Africa"
          ],
          [
           "Americas"
          ],
          [
           "Europe"
          ],
          [
           "Africa"
          ],
          [
           "Africa"
          ],
          [
           "Asia"
          ],
          [
           "Africa"
          ],
          [
           "Americas"
          ],
          [
           "Africa"
          ],
          [
           "Africa"
          ],
          [
           "Americas"
          ],
          [
           "Americas"
          ],
          [
           "Europe"
          ],
          [
           "Africa"
          ],
          [
           "Europe"
          ],
          [
           "Asia"
          ],
          [
           "Asia"
          ],
          [
           "Africa"
          ],
          [
           "Africa"
          ],
          [
           "Africa"
          ],
          [
           "Africa"
          ],
          [
           "Africa"
          ],
          [
           "Asia"
          ],
          [
           "Africa"
          ],
          [
           "Africa"
          ],
          [
           "Africa"
          ],
          [
           "Americas"
          ],
          [
           "Asia"
          ],
          [
           "Europe"
          ],
          [
           "Africa"
          ],
          [
           "Africa"
          ],
          [
           "Asia"
          ],
          [
           "Asia"
          ],
          [
           "Africa"
          ],
          [
           "Asia"
          ],
          [
           "Asia"
          ],
          [
           "Asia"
          ],
          [
           "Africa"
          ],
          [
           "Africa"
          ],
          [
           "Europe"
          ],
          [
           "Americas"
          ],
          [
           "Asia"
          ],
          [
           "Europe"
          ],
          [
           "Europe"
          ],
          [
           "Asia"
          ],
          [
           "Asia"
          ],
          [
           "Asia"
          ],
          [
           "Asia"
          ],
          [
           "Europe"
          ],
          [
           "Asia"
          ],
          [
           "Europe"
          ],
          [
           "Americas"
          ],
          [
           "Asia"
          ],
          [
           "Africa"
          ],
          [
           "Africa"
          ],
          [
           "Americas"
          ],
          [
           "Americas"
          ],
          [
           "Africa"
          ],
          [
           "Asia"
          ],
          [
           "Africa"
          ],
          [
           "Asia"
          ],
          [
           "Asia"
          ],
          [
           "Europe"
          ],
          [
           "Europe"
          ],
          [
           "Africa"
          ],
          [
           "Africa"
          ],
          [
           "Asia"
          ],
          [
           "Europe"
          ],
          [
           "Africa"
          ],
          [
           "Africa"
          ],
          [
           "Africa"
          ],
          [
           "Asia"
          ],
          [
           "Asia"
          ],
          [
           "Africa"
          ],
          [
           "Africa"
          ],
          [
           "Asia"
          ],
          [
           "Europe"
          ],
          [
           "Americas"
          ],
          [
           "Americas"
          ],
          [
           "Americas"
          ],
          [
           "Asia"
          ],
          [
           "Europe"
          ],
          [
           "Europe"
          ],
          [
           "Asia"
          ],
          [
           "Europe"
          ],
          [
           "Asia"
          ],
          [
           "Asia"
          ],
          [
           "Europe"
          ],
          [
           "Asia"
          ],
          [
           "Africa"
          ],
          [
           "Africa"
          ],
          [
           "Asia"
          ],
          [
           "Africa"
          ],
          [
           "Africa"
          ],
          [
           "Africa"
          ],
          [
           "Asia"
          ],
          [
           "Oceania"
          ],
          [
           "Africa"
          ],
          [
           "Africa"
          ],
          [
           "Asia"
          ],
          [
           "Asia"
          ],
          [
           "Europe"
          ],
          [
           "Africa"
          ],
          [
           "Africa"
          ],
          [
           "Americas"
          ],
          [
           "Americas"
          ],
          [
           "Americas"
          ],
          [
           "Asia"
          ],
          [
           "Asia"
          ],
          [
           "Asia"
          ],
          [
           "Africa"
          ],
          [
           "Africa"
          ],
          [
           "Asia"
          ],
          [
           "Europe"
          ],
          [
           "Africa"
          ],
          [
           "Africa"
          ],
          [
           "Americas"
          ],
          [
           "Americas"
          ],
          [
           "Americas"
          ],
          [
           "Asia"
          ],
          [
           "Europe"
          ],
          [
           "Africa"
          ],
          [
           "Europe"
          ],
          [
           "Americas"
          ],
          [
           "Africa"
          ],
          [
           "Americas"
          ],
          [
           "Africa"
          ],
          [
           "Americas"
          ],
          [
           "Americas"
          ],
          [
           "Africa"
          ],
          [
           "Europe"
          ],
          [
           "Europe"
          ],
          [
           "Americas"
          ],
          [
           "Europe"
          ],
          [
           "Africa"
          ],
          [
           "Europe"
          ],
          [
           "Europe"
          ],
          [
           "Americas"
          ],
          [
           "Africa"
          ],
          [
           "Asia"
          ],
          [
           "Africa"
          ],
          [
           "Asia"
          ],
          [
           "Europe"
          ],
          [
           "Europe"
          ],
          [
           "Asia"
          ],
          [
           "Asia"
          ],
          [
           "Asia"
          ],
          [
           "Asia"
          ],
          [
           "Europe"
          ],
          [
           "Asia"
          ],
          [
           "Europe"
          ],
          [
           "Americas"
          ],
          [
           "Asia"
          ],
          [
           "Asia"
          ],
          [
           "Americas"
          ],
          [
           "Asia"
          ],
          [
           "Asia"
          ],
          [
           "Africa"
          ],
          [
           "Americas"
          ],
          [
           "Asia"
          ],
          [
           "Americas"
          ],
          [
           "Africa"
          ],
          [
           "Europe"
          ],
          [
           "Europe"
          ],
          [
           "Africa"
          ],
          [
           "Africa"
          ],
          [
           "Europe"
          ],
          [
           "Africa"
          ],
          [
           "Europe"
          ],
          [
           "Americas"
          ],
          [
           "Africa"
          ],
          [
           "Africa"
          ],
          [
           "Europe"
          ],
          [
           "Africa"
          ],
          [
           "Africa"
          ],
          [
           "Europe"
          ],
          [
           "Africa"
          ],
          [
           "Europe"
          ],
          [
           "Americas"
          ],
          [
           "Africa"
          ],
          [
           "Africa"
          ],
          [
           "Asia"
          ],
          [
           "Asia"
          ],
          [
           "Asia"
          ],
          [
           "Africa"
          ],
          [
           "Asia"
          ],
          [
           "Americas"
          ],
          [
           "Americas"
          ],
          [
           "Americas"
          ],
          [
           "Europe"
          ],
          [
           "Africa"
          ],
          [
           "Europe"
          ],
          [
           "Africa"
          ],
          [
           "Americas"
          ],
          [
           "Africa"
          ],
          [
           "Asia"
          ],
          [
           "Africa"
          ],
          [
           "Asia"
          ],
          [
           "Asia"
          ],
          [
           "Europe"
          ],
          [
           "Europe"
          ],
          [
           "Asia"
          ],
          [
           "Africa"
          ],
          [
           "Europe"
          ],
          [
           "Africa"
          ],
          [
           "Africa"
          ],
          [
           "Africa"
          ],
          [
           "Africa"
          ],
          [
           "Africa"
          ],
          [
           "Asia"
          ],
          [
           "Asia"
          ],
          [
           "Africa"
          ],
          [
           "Asia"
          ],
          [
           "Africa"
          ],
          [
           "Americas"
          ],
          [
           "Africa"
          ],
          [
           "Europe"
          ],
          [
           "Europe"
          ],
          [
           "Africa"
          ],
          [
           "Africa"
          ],
          [
           "Europe"
          ],
          [
           "Africa"
          ],
          [
           "Africa"
          ],
          [
           "Europe"
          ],
          [
           "Americas"
          ],
          [
           "Europe"
          ],
          [
           "Europe"
          ],
          [
           "Europe"
          ],
          [
           "Africa"
          ],
          [
           "Africa"
          ],
          [
           "Europe"
          ],
          [
           "Asia"
          ],
          [
           "Africa"
          ],
          [
           "Africa"
          ],
          [
           "Europe"
          ],
          [
           "Europe"
          ],
          [
           "Asia"
          ],
          [
           "Asia"
          ],
          [
           "Africa"
          ],
          [
           "Asia"
          ],
          [
           "Africa"
          ],
          [
           "Americas"
          ],
          [
           "Africa"
          ],
          [
           "Africa"
          ],
          [
           "Africa"
          ],
          [
           "Asia"
          ],
          [
           "Africa"
          ],
          [
           "Europe"
          ],
          [
           "Europe"
          ],
          [
           "Asia"
          ],
          [
           "Asia"
          ],
          [
           "Africa"
          ],
          [
           "Asia"
          ],
          [
           "Africa"
          ],
          [
           "Americas"
          ],
          [
           "Africa"
          ],
          [
           "Europe"
          ],
          [
           "Africa"
          ],
          [
           "Europe"
          ],
          [
           "Americas"
          ],
          [
           "Americas"
          ],
          [
           "Americas"
          ],
          [
           "Asia"
          ],
          [
           "Asia"
          ],
          [
           "Asia"
          ],
          [
           "Europe"
          ],
          [
           "Europe"
          ],
          [
           "Africa"
          ],
          [
           "Americas"
          ],
          [
           "Europe"
          ],
          [
           "Africa"
          ],
          [
           "Africa"
          ],
          [
           "Asia"
          ],
          [
           "Africa"
          ],
          [
           "Africa"
          ],
          [
           "Americas"
          ],
          [
           "Africa"
          ],
          [
           "Africa"
          ],
          [
           "Africa"
          ],
          [
           "Americas"
          ],
          [
           "Asia"
          ],
          [
           "Americas"
          ],
          [
           "Africa"
          ],
          [
           "Africa"
          ],
          [
           "Europe"
          ],
          [
           "Africa"
          ],
          [
           "Americas"
          ],
          [
           "Europe"
          ],
          [
           "Americas"
          ],
          [
           "Americas"
          ],
          [
           "Americas"
          ],
          [
           "Asia"
          ],
          [
           "Africa"
          ],
          [
           "Africa"
          ],
          [
           "Africa"
          ],
          [
           "Americas"
          ],
          [
           "Africa"
          ],
          [
           "Americas"
          ],
          [
           "Americas"
          ],
          [
           "Africa"
          ],
          [
           "Europe"
          ],
          [
           "Europe"
          ],
          [
           "Americas"
          ],
          [
           "Europe"
          ],
          [
           "Asia"
          ],
          [
           "Africa"
          ],
          [
           "Africa"
          ],
          [
           "Asia"
          ],
          [
           "Europe"
          ],
          [
           "Europe"
          ],
          [
           "Africa"
          ],
          [
           "Africa"
          ],
          [
           "Europe"
          ],
          [
           "Europe"
          ],
          [
           "Africa"
          ],
          [
           "Africa"
          ],
          [
           "Africa"
          ],
          [
           "Africa"
          ],
          [
           "Africa"
          ],
          [
           "Americas"
          ],
          [
           "Americas"
          ],
          [
           "Africa"
          ],
          [
           "Europe"
          ],
          [
           "Europe"
          ],
          [
           "Americas"
          ],
          [
           "Americas"
          ],
          [
           "Europe"
          ],
          [
           "Europe"
          ],
          [
           "Africa"
          ],
          [
           "Asia"
          ],
          [
           "Asia"
          ],
          [
           "Europe"
          ],
          [
           "Europe"
          ],
          [
           "Europe"
          ],
          [
           "Africa"
          ],
          [
           "Europe"
          ],
          [
           "Americas"
          ],
          [
           "Africa"
          ],
          [
           "Europe"
          ],
          [
           "Europe"
          ],
          [
           "Africa"
          ],
          [
           "Asia"
          ],
          [
           "Americas"
          ],
          [
           "Americas"
          ],
          [
           "Africa"
          ],
          [
           "Africa"
          ],
          [
           "Africa"
          ],
          [
           "Africa"
          ],
          [
           "Europe"
          ],
          [
           "Americas"
          ],
          [
           "Europe"
          ],
          [
           "Africa"
          ],
          [
           "Africa"
          ],
          [
           "Asia"
          ],
          [
           "Africa"
          ],
          [
           "Americas"
          ],
          [
           "Europe"
          ],
          [
           "Africa"
          ],
          [
           "Americas"
          ],
          [
           "Asia"
          ],
          [
           "Americas"
          ],
          [
           "Africa"
          ],
          [
           "Americas"
          ],
          [
           "Americas"
          ],
          [
           "Europe"
          ],
          [
           "Africa"
          ],
          [
           "Americas"
          ],
          [
           "Americas"
          ],
          [
           "Asia"
          ],
          [
           "Europe"
          ],
          [
           "Asia"
          ],
          [
           "Asia"
          ],
          [
           "Africa"
          ],
          [
           "Asia"
          ],
          [
           "Africa"
          ],
          [
           "Americas"
          ],
          [
           "Africa"
          ],
          [
           "Europe"
          ],
          [
           "Africa"
          ],
          [
           "Americas"
          ],
          [
           "Africa"
          ],
          [
           "Africa"
          ],
          [
           "Africa"
          ],
          [
           "Americas"
          ],
          [
           "Asia"
          ],
          [
           "Asia"
          ],
          [
           "Asia"
          ],
          [
           "Asia"
          ],
          [
           "Europe"
          ],
          [
           "Asia"
          ],
          [
           "Europe"
          ],
          [
           "Asia"
          ],
          [
           "Asia"
          ],
          [
           "Americas"
          ],
          [
           "Africa"
          ],
          [
           "Africa"
          ],
          [
           "Africa"
          ],
          [
           "Asia"
          ],
          [
           "Americas"
          ],
          [
           "Europe"
          ],
          [
           "Americas"
          ],
          [
           "Europe"
          ],
          [
           "Europe"
          ],
          [
           "Africa"
          ],
          [
           "Americas"
          ],
          [
           "Americas"
          ],
          [
           "Africa"
          ],
          [
           "Africa"
          ],
          [
           "Africa"
          ],
          [
           "Europe"
          ],
          [
           "Asia"
          ],
          [
           "Asia"
          ],
          [
           "Asia"
          ],
          [
           "Americas"
          ],
          [
           "Americas"
          ],
          [
           "Americas"
          ],
          [
           "Europe"
          ],
          [
           "Africa"
          ],
          [
           "Europe"
          ],
          [
           "Africa"
          ],
          [
           "Americas"
          ],
          [
           "Africa"
          ],
          [
           "Asia"
          ],
          [
           "Africa"
          ],
          [
           "Asia"
          ],
          [
           "Asia"
          ],
          [
           "Europe"
          ],
          [
           "Africa"
          ],
          [
           "Africa"
          ],
          [
           "Americas"
          ],
          [
           "Africa"
          ],
          [
           "Africa"
          ],
          [
           "Asia"
          ],
          [
           "Asia"
          ],
          [
           "Asia"
          ],
          [
           "Asia"
          ],
          [
           "Africa"
          ],
          [
           "Asia"
          ],
          [
           "Africa"
          ],
          [
           "Asia"
          ],
          [
           "Europe"
          ],
          [
           "Asia"
          ],
          [
           "Europe"
          ],
          [
           "Asia"
          ],
          [
           "Asia"
          ],
          [
           "Americas"
          ],
          [
           "Europe"
          ],
          [
           "Americas"
          ],
          [
           "Asia"
          ],
          [
           "Asia"
          ],
          [
           "Asia"
          ],
          [
           "Africa"
          ],
          [
           "Europe"
          ],
          [
           "Europe"
          ],
          [
           "Africa"
          ],
          [
           "Africa"
          ],
          [
           "Europe"
          ],
          [
           "Americas"
          ],
          [
           "Africa"
          ],
          [
           "Africa"
          ],
          [
           "Africa"
          ],
          [
           "Asia"
          ],
          [
           "Africa"
          ],
          [
           "Africa"
          ],
          [
           "Africa"
          ],
          [
           "Africa"
          ],
          [
           "Africa"
          ],
          [
           "Asia"
          ],
          [
           "Africa"
          ],
          [
           "Americas"
          ],
          [
           "Africa"
          ],
          [
           "Africa"
          ],
          [
           "Asia"
          ],
          [
           "Africa"
          ],
          [
           "Americas"
          ],
          [
           "Africa"
          ],
          [
           "Europe"
          ],
          [
           "Africa"
          ],
          [
           "Africa"
          ],
          [
           "Europe"
          ],
          [
           "Europe"
          ],
          [
           "Europe"
          ],
          [
           "Asia"
          ],
          [
           "Africa"
          ],
          [
           "Europe"
          ],
          [
           "Africa"
          ],
          [
           "Africa"
          ],
          [
           "Asia"
          ],
          [
           "Asia"
          ],
          [
           "Europe"
          ],
          [
           "Asia"
          ],
          [
           "Africa"
          ],
          [
           "Africa"
          ],
          [
           "Europe"
          ],
          [
           "Africa"
          ],
          [
           "Asia"
          ],
          [
           "Europe"
          ],
          [
           "Africa"
          ],
          [
           "Africa"
          ],
          [
           "Africa"
          ],
          [
           "Europe"
          ],
          [
           "Asia"
          ],
          [
           "Africa"
          ],
          [
           "Africa"
          ],
          [
           "Europe"
          ],
          [
           "Asia"
          ],
          [
           "Africa"
          ],
          [
           "Africa"
          ],
          [
           "Europe"
          ],
          [
           "Europe"
          ],
          [
           "Africa"
          ],
          [
           "Americas"
          ],
          [
           "Americas"
          ],
          [
           "Africa"
          ],
          [
           "Americas"
          ],
          [
           "Africa"
          ],
          [
           "Africa"
          ],
          [
           "Africa"
          ],
          [
           "Europe"
          ],
          [
           "Europe"
          ],
          [
           "Africa"
          ],
          [
           "Africa"
          ],
          [
           "Europe"
          ],
          [
           "Africa"
          ],
          [
           "Europe"
          ],
          [
           "Asia"
          ],
          [
           "Americas"
          ],
          [
           "Africa"
          ],
          [
           "Americas"
          ],
          [
           "Asia"
          ],
          [
           "Europe"
          ],
          [
           "Europe"
          ],
          [
           "Americas"
          ],
          [
           "Africa"
          ],
          [
           "Europe"
          ],
          [
           "Africa"
          ],
          [
           "Africa"
          ],
          [
           "Asia"
          ],
          [
           "Africa"
          ],
          [
           "Asia"
          ],
          [
           "Europe"
          ],
          [
           "Africa"
          ],
          [
           "Americas"
          ],
          [
           "Europe"
          ],
          [
           "Europe"
          ],
          [
           "Europe"
          ],
          [
           "Africa"
          ],
          [
           "Asia"
          ],
          [
           "Asia"
          ],
          [
           "Asia"
          ],
          [
           "Africa"
          ],
          [
           "Asia"
          ],
          [
           "Asia"
          ],
          [
           "Americas"
          ],
          [
           "Europe"
          ],
          [
           "Asia"
          ],
          [
           "Europe"
          ],
          [
           "Africa"
          ],
          [
           "Asia"
          ],
          [
           "Asia"
          ],
          [
           "Asia"
          ],
          [
           "Asia"
          ],
          [
           "Europe"
          ],
          [
           "Asia"
          ],
          [
           "Americas"
          ],
          [
           "Americas"
          ],
          [
           "Africa"
          ],
          [
           "Africa"
          ],
          [
           "Americas"
          ],
          [
           "Europe"
          ],
          [
           "Africa"
          ],
          [
           "Americas"
          ],
          [
           "Asia"
          ],
          [
           "Americas"
          ],
          [
           "Africa"
          ],
          [
           "Europe"
          ],
          [
           "Africa"
          ],
          [
           "Asia"
          ],
          [
           "Asia"
          ],
          [
           "Asia"
          ],
          [
           "Africa"
          ],
          [
           "Asia"
          ],
          [
           "Africa"
          ],
          [
           "Asia"
          ],
          [
           "Europe"
          ],
          [
           "Americas"
          ],
          [
           "Africa"
          ],
          [
           "Oceania"
          ],
          [
           "Asia"
          ],
          [
           "Europe"
          ],
          [
           "Oceania"
          ],
          [
           "Americas"
          ],
          [
           "Europe"
          ],
          [
           "Africa"
          ],
          [
           "Africa"
          ],
          [
           "Africa"
          ],
          [
           "Africa"
          ],
          [
           "Africa"
          ],
          [
           "Africa"
          ],
          [
           "Asia"
          ],
          [
           "Asia"
          ],
          [
           "Americas"
          ],
          [
           "Asia"
          ],
          [
           "Americas"
          ],
          [
           "Americas"
          ],
          [
           "Europe"
          ],
          [
           "Africa"
          ],
          [
           "Africa"
          ],
          [
           "Asia"
          ],
          [
           "Africa"
          ],
          [
           "Asia"
          ],
          [
           "Africa"
          ],
          [
           "Africa"
          ],
          [
           "Africa"
          ],
          [
           "Asia"
          ],
          [
           "Europe"
          ],
          [
           "Europe"
          ],
          [
           "Asia"
          ],
          [
           "Asia"
          ],
          [
           "Asia"
          ],
          [
           "Asia"
          ],
          [
           "Europe"
          ],
          [
           "Americas"
          ],
          [
           "Europe"
          ],
          [
           "Africa"
          ],
          [
           "Asia"
          ],
          [
           "Africa"
          ],
          [
           "Asia"
          ],
          [
           "Asia"
          ],
          [
           "Africa"
          ],
          [
           "Africa"
          ],
          [
           "Africa"
          ],
          [
           "Europe"
          ],
          [
           "Europe"
          ],
          [
           "Africa"
          ],
          [
           "Africa"
          ],
          [
           "Africa"
          ],
          [
           "Europe"
          ],
          [
           "Africa"
          ],
          [
           "Europe"
          ],
          [
           "Americas"
          ],
          [
           "Africa"
          ],
          [
           "Africa"
          ],
          [
           "Europe"
          ],
          [
           "Africa"
          ],
          [
           "Asia"
          ],
          [
           "Europe"
          ],
          [
           "Europe"
          ],
          [
           "Africa"
          ],
          [
           "Africa"
          ],
          [
           "Europe"
          ],
          [
           "Asia"
          ],
          [
           "Africa"
          ],
          [
           "Europe"
          ],
          [
           "Africa"
          ],
          [
           "Asia"
          ],
          [
           "Asia"
          ],
          [
           "Asia"
          ],
          [
           "Africa"
          ],
          [
           "Americas"
          ],
          [
           "Africa"
          ],
          [
           "Asia"
          ],
          [
           "Asia"
          ],
          [
           "Americas"
          ],
          [
           "Americas"
          ],
          [
           "Africa"
          ],
          [
           "Europe"
          ],
          [
           "Europe"
          ],
          [
           "Americas"
          ],
          [
           "Europe"
          ],
          [
           "Africa"
          ],
          [
           "Americas"
          ],
          [
           "Africa"
          ],
          [
           "Africa"
          ],
          [
           "Africa"
          ],
          [
           "Africa"
          ],
          [
           "Europe"
          ],
          [
           "Africa"
          ],
          [
           "Europe"
          ],
          [
           "Americas"
          ],
          [
           "Africa"
          ],
          [
           "Africa"
          ],
          [
           "Americas"
          ],
          [
           "Americas"
          ],
          [
           "Asia"
          ],
          [
           "Europe"
          ],
          [
           "Europe"
          ],
          [
           "Americas"
          ],
          [
           "Americas"
          ],
          [
           "Americas"
          ],
          [
           "Asia"
          ],
          [
           "Europe"
          ],
          [
           "Americas"
          ],
          [
           "Americas"
          ],
          [
           "Americas"
          ],
          [
           "Americas"
          ],
          [
           "Asia"
          ],
          [
           "Africa"
          ],
          [
           "Africa"
          ],
          [
           "Europe"
          ],
          [
           "Asia"
          ],
          [
           "Africa"
          ],
          [
           "Africa"
          ],
          [
           "Asia"
          ],
          [
           "Asia"
          ],
          [
           "Asia"
          ],
          [
           "Americas"
          ],
          [
           "Americas"
          ],
          [
           "Americas"
          ],
          [
           "Asia"
          ],
          [
           "Africa"
          ],
          [
           "Africa"
          ],
          [
           "Europe"
          ],
          [
           "Africa"
          ],
          [
           "Americas"
          ],
          [
           "Europe"
          ],
          [
           "Europe"
          ],
          [
           "Asia"
          ],
          [
           "Africa"
          ],
          [
           "Africa"
          ],
          [
           "Asia"
          ],
          [
           "Africa"
          ],
          [
           "Africa"
          ],
          [
           "Africa"
          ],
          [
           "Africa"
          ],
          [
           "Asia"
          ],
          [
           "Europe"
          ],
          [
           "Africa"
          ],
          [
           "Africa"
          ],
          [
           "Europe"
          ],
          [
           "Europe"
          ],
          [
           "Asia"
          ],
          [
           "Africa"
          ],
          [
           "Africa"
          ],
          [
           "Europe"
          ],
          [
           "Asia"
          ],
          [
           "Asia"
          ],
          [
           "Europe"
          ],
          [
           "Europe"
          ],
          [
           "Asia"
          ],
          [
           "Americas"
          ],
          [
           "Americas"
          ],
          [
           "Africa"
          ],
          [
           "Africa"
          ],
          [
           "Americas"
          ],
          [
           "Europe"
          ],
          [
           "Africa"
          ],
          [
           "Africa"
          ],
          [
           "Africa"
          ],
          [
           "Asia"
          ],
          [
           "Africa"
          ],
          [
           "Asia"
          ],
          [
           "Asia"
          ],
          [
           "Americas"
          ],
          [
           "Americas"
          ],
          [
           "Americas"
          ],
          [
           "Europe"
          ],
          [
           "Africa"
          ],
          [
           "Europe"
          ],
          [
           "Asia"
          ],
          [
           "Asia"
          ],
          [
           "Asia"
          ],
          [
           "Asia"
          ],
          [
           "Africa"
          ],
          [
           "Europe"
          ],
          [
           "Europe"
          ],
          [
           "Americas"
          ],
          [
           "Asia"
          ],
          [
           "Asia"
          ],
          [
           "Africa"
          ],
          [
           "Asia"
          ],
          [
           "Asia"
          ],
          [
           "Asia"
          ],
          [
           "Asia"
          ],
          [
           "Africa"
          ],
          [
           "Africa"
          ],
          [
           "Africa"
          ],
          [
           "Asia"
          ],
          [
           "Europe"
          ],
          [
           "Asia"
          ],
          [
           "Americas"
          ],
          [
           "Africa"
          ],
          [
           "Europe"
          ],
          [
           "Europe"
          ],
          [
           "Americas"
          ],
          [
           "Americas"
          ],
          [
           "Africa"
          ],
          [
           "Africa"
          ],
          [
           "Americas"
          ],
          [
           "Europe"
          ],
          [
           "Africa"
          ],
          [
           "Europe"
          ],
          [
           "Africa"
          ],
          [
           "Africa"
          ],
          [
           "Europe"
          ],
          [
           "Europe"
          ],
          [
           "Oceania"
          ],
          [
           "Americas"
          ],
          [
           "Africa"
          ],
          [
           "Europe"
          ],
          [
           "Asia"
          ],
          [
           "Africa"
          ],
          [
           "Africa"
          ],
          [
           "Africa"
          ],
          [
           "Asia"
          ],
          [
           "Asia"
          ],
          [
           "Americas"
          ],
          [
           "Africa"
          ],
          [
           "Americas"
          ],
          [
           "Americas"
          ],
          [
           "Africa"
          ],
          [
           "Asia"
          ],
          [
           "Europe"
          ],
          [
           "Africa"
          ],
          [
           "Europe"
          ],
          [
           "Asia"
          ],
          [
           "Americas"
          ],
          [
           "Africa"
          ],
          [
           "Africa"
          ],
          [
           "Africa"
          ],
          [
           "Asia"
          ],
          [
           "Africa"
          ],
          [
           "Africa"
          ],
          [
           "Africa"
          ],
          [
           "Africa"
          ],
          [
           "Africa"
          ],
          [
           "Asia"
          ],
          [
           "Asia"
          ],
          [
           "Asia"
          ],
          [
           "Asia"
          ],
          [
           "Africa"
          ],
          [
           "Europe"
          ],
          [
           "Africa"
          ],
          [
           "Africa"
          ],
          [
           "Africa"
          ],
          [
           "Africa"
          ],
          [
           "Africa"
          ],
          [
           "Africa"
          ],
          [
           "Asia"
          ],
          [
           "Americas"
          ],
          [
           "Africa"
          ],
          [
           "Africa"
          ],
          [
           "Africa"
          ],
          [
           "Asia"
          ],
          [
           "Asia"
          ],
          [
           "Asia"
          ],
          [
           "Asia"
          ],
          [
           "Africa"
          ],
          [
           "Asia"
          ],
          [
           "Asia"
          ],
          [
           "Americas"
          ],
          [
           "Asia"
          ],
          [
           "Europe"
          ],
          [
           "Africa"
          ],
          [
           "Americas"
          ],
          [
           "Asia"
          ],
          [
           "Americas"
          ],
          [
           "Africa"
          ],
          [
           "Africa"
          ],
          [
           "Americas"
          ],
          [
           "Africa"
          ],
          [
           "Asia"
          ],
          [
           "Africa"
          ],
          [
           "Africa"
          ],
          [
           "Africa"
          ],
          [
           "Africa"
          ],
          [
           "Americas"
          ],
          [
           "Europe"
          ],
          [
           "Americas"
          ],
          [
           "Americas"
          ],
          [
           "Africa"
          ],
          [
           "Africa"
          ],
          [
           "Americas"
          ],
          [
           "Africa"
          ],
          [
           "Asia"
          ],
          [
           "Africa"
          ],
          [
           "Africa"
          ],
          [
           "Europe"
          ],
          [
           "Americas"
          ],
          [
           "Africa"
          ],
          [
           "Europe"
          ],
          [
           "Europe"
          ],
          [
           "Africa"
          ],
          [
           "Europe"
          ],
          [
           "Asia"
          ],
          [
           "Asia"
          ],
          [
           "Europe"
          ],
          [
           "Europe"
          ],
          [
           "Africa"
          ],
          [
           "Asia"
          ],
          [
           "Africa"
          ],
          [
           "Africa"
          ],
          [
           "Europe"
          ],
          [
           "Africa"
          ],
          [
           "Americas"
          ],
          [
           "Asia"
          ],
          [
           "Americas"
          ],
          [
           "Americas"
          ],
          [
           "Europe"
          ],
          [
           "Africa"
          ],
          [
           "Asia"
          ],
          [
           "Americas"
          ],
          [
           "Africa"
          ],
          [
           "Africa"
          ],
          [
           "Africa"
          ],
          [
           "Asia"
          ],
          [
           "Africa"
          ],
          [
           "Africa"
          ],
          [
           "Asia"
          ],
          [
           "Americas"
          ],
          [
           "Asia"
          ],
          [
           "Africa"
          ],
          [
           "Asia"
          ],
          [
           "Americas"
          ],
          [
           "Europe"
          ],
          [
           "Europe"
          ],
          [
           "Asia"
          ],
          [
           "Africa"
          ],
          [
           "Europe"
          ],
          [
           "Africa"
          ],
          [
           "Asia"
          ],
          [
           "Africa"
          ],
          [
           "Africa"
          ],
          [
           "Europe"
          ],
          [
           "Africa"
          ],
          [
           "Americas"
          ],
          [
           "Europe"
          ],
          [
           "Oceania"
          ],
          [
           "Asia"
          ],
          [
           "Africa"
          ],
          [
           "Asia"
          ],
          [
           "Africa"
          ],
          [
           "Africa"
          ],
          [
           "Europe"
          ],
          [
           "Asia"
          ],
          [
           "Americas"
          ],
          [
           "Africa"
          ],
          [
           "Africa"
          ],
          [
           "Africa"
          ],
          [
           "Asia"
          ],
          [
           "Africa"
          ],
          [
           "Africa"
          ],
          [
           "Europe"
          ],
          [
           "Africa"
          ],
          [
           "Africa"
          ],
          [
           "Asia"
          ],
          [
           "Africa"
          ],
          [
           "Africa"
          ],
          [
           "Europe"
          ],
          [
           "Europe"
          ],
          [
           "Asia"
          ],
          [
           "Africa"
          ],
          [
           "Europe"
          ],
          [
           "Africa"
          ],
          [
           "Asia"
          ],
          [
           "Africa"
          ],
          [
           "Africa"
          ],
          [
           "Europe"
          ],
          [
           "Africa"
          ],
          [
           "Americas"
          ],
          [
           "Africa"
          ],
          [
           "Europe"
          ],
          [
           "Asia"
          ],
          [
           "Americas"
          ],
          [
           "Americas"
          ],
          [
           "Americas"
          ],
          [
           "Asia"
          ],
          [
           "Asia"
          ],
          [
           "Europe"
          ],
          [
           "Africa"
          ],
          [
           "Africa"
          ],
          [
           "Americas"
          ],
          [
           "Oceania"
          ],
          [
           "Europe"
          ],
          [
           "Asia"
          ],
          [
           "Africa"
          ],
          [
           "Europe"
          ],
          [
           "Africa"
          ],
          [
           "Africa"
          ],
          [
           "Asia"
          ],
          [
           "Africa"
          ],
          [
           "Europe"
          ],
          [
           "Europe"
          ],
          [
           "Americas"
          ],
          [
           "Europe"
          ],
          [
           "Africa"
          ],
          [
           "Asia"
          ],
          [
           "Africa"
          ],
          [
           "Africa"
          ],
          [
           "Europe"
          ],
          [
           "Asia"
          ],
          [
           "Americas"
          ],
          [
           "Africa"
          ],
          [
           "Africa"
          ],
          [
           "Americas"
          ],
          [
           "Africa"
          ],
          [
           "Africa"
          ],
          [
           "Africa"
          ],
          [
           "Americas"
          ],
          [
           "Africa"
          ],
          [
           "Americas"
          ],
          [
           "Americas"
          ],
          [
           "Africa"
          ],
          [
           "Europe"
          ],
          [
           "Europe"
          ],
          [
           "Americas"
          ],
          [
           "Europe"
          ],
          [
           "Africa"
          ],
          [
           "Americas"
          ],
          [
           "Africa"
          ],
          [
           "Asia"
          ],
          [
           "Africa"
          ],
          [
           "Americas"
          ],
          [
           "Americas"
          ],
          [
           "Asia"
          ],
          [
           "Africa"
          ],
          [
           "Asia"
          ],
          [
           "Africa"
          ],
          [
           "Africa"
          ],
          [
           "Asia"
          ],
          [
           "Africa"
          ],
          [
           "Africa"
          ],
          [
           "Europe"
          ],
          [
           "Americas"
          ],
          [
           "Africa"
          ],
          [
           "Europe"
          ],
          [
           "Americas"
          ],
          [
           "Africa"
          ],
          [
           "Africa"
          ],
          [
           "Europe"
          ],
          [
           "Asia"
          ],
          [
           "Africa"
          ],
          [
           "Asia"
          ],
          [
           "Africa"
          ],
          [
           "Africa"
          ],
          [
           "Europe"
          ],
          [
           "Asia"
          ],
          [
           "Americas"
          ],
          [
           "Africa"
          ],
          [
           "Africa"
          ],
          [
           "Africa"
          ],
          [
           "Asia"
          ],
          [
           "Africa"
          ],
          [
           "Africa"
          ],
          [
           "Asia"
          ],
          [
           "Africa"
          ],
          [
           "Asia"
          ],
          [
           "Asia"
          ],
          [
           "Europe"
          ],
          [
           "Asia"
          ],
          [
           "Asia"
          ],
          [
           "Europe"
          ],
          [
           "Africa"
          ],
          [
           "Americas"
          ],
          [
           "Oceania"
          ],
          [
           "Europe"
          ],
          [
           "Americas"
          ],
          [
           "Europe"
          ],
          [
           "Africa"
          ],
          [
           "Africa"
          ],
          [
           "Asia"
          ],
          [
           "Africa"
          ],
          [
           "Africa"
          ],
          [
           "Americas"
          ],
          [
           "Americas"
          ],
          [
           "Africa"
          ],
          [
           "Africa"
          ],
          [
           "Europe"
          ],
          [
           "Africa"
          ],
          [
           "Europe"
          ],
          [
           "Americas"
          ],
          [
           "Americas"
          ],
          [
           "Africa"
          ],
          [
           "Americas"
          ],
          [
           "Asia"
          ],
          [
           "Asia"
          ],
          [
           "Africa"
          ],
          [
           "Africa"
          ],
          [
           "Asia"
          ],
          [
           "Europe"
          ],
          [
           "Asia"
          ],
          [
           "Africa"
          ],
          [
           "Africa"
          ],
          [
           "Americas"
          ],
          [
           "Asia"
          ],
          [
           "Europe"
          ],
          [
           "Europe"
          ],
          [
           "Americas"
          ],
          [
           "Asia"
          ],
          [
           "Europe"
          ],
          [
           "Americas"
          ],
          [
           "Africa"
          ],
          [
           "Asia"
          ],
          [
           "Africa"
          ],
          [
           "Asia"
          ],
          [
           "Europe"
          ],
          [
           "Oceania"
          ],
          [
           "Americas"
          ],
          [
           "Africa"
          ],
          [
           "Americas"
          ],
          [
           "Africa"
          ],
          [
           "Africa"
          ],
          [
           "Asia"
          ],
          [
           "Americas"
          ],
          [
           "Africa"
          ],
          [
           "Africa"
          ],
          [
           "Africa"
          ],
          [
           "Americas"
          ],
          [
           "Africa"
          ],
          [
           "Europe"
          ],
          [
           "Americas"
          ],
          [
           "Europe"
          ],
          [
           "Africa"
          ],
          [
           "Europe"
          ],
          [
           "Africa"
          ],
          [
           "Europe"
          ],
          [
           "Americas"
          ],
          [
           "Americas"
          ],
          [
           "Africa"
          ],
          [
           "Africa"
          ],
          [
           "Europe"
          ],
          [
           "Americas"
          ],
          [
           "Africa"
          ],
          [
           "Africa"
          ],
          [
           "Europe"
          ],
          [
           "Asia"
          ],
          [
           "Asia"
          ],
          [
           "Oceania"
          ],
          [
           "Americas"
          ],
          [
           "Americas"
          ],
          [
           "Asia"
          ],
          [
           "Europe"
          ],
          [
           "Europe"
          ],
          [
           "Americas"
          ],
          [
           "Africa"
          ],
          [
           "Americas"
          ],
          [
           "Europe"
          ],
          [
           "Asia"
          ],
          [
           "Africa"
          ],
          [
           "Europe"
          ],
          [
           "Africa"
          ],
          [
           "Africa"
          ],
          [
           "Americas"
          ],
          [
           "Oceania"
          ],
          [
           "Europe"
          ],
          [
           "Asia"
          ],
          [
           "Asia"
          ],
          [
           "Europe"
          ],
          [
           "Africa"
          ],
          [
           "Americas"
          ],
          [
           "Europe"
          ],
          [
           "Africa"
          ],
          [
           "Africa"
          ],
          [
           "Asia"
          ],
          [
           "Europe"
          ],
          [
           "Africa"
          ],
          [
           "Africa"
          ],
          [
           "Africa"
          ],
          [
           "Africa"
          ],
          [
           "Americas"
          ],
          [
           "Europe"
          ],
          [
           "Americas"
          ],
          [
           "Africa"
          ],
          [
           "Africa"
          ],
          [
           "Europe"
          ],
          [
           "Europe"
          ],
          [
           "Asia"
          ],
          [
           "Americas"
          ],
          [
           "Americas"
          ],
          [
           "Americas"
          ],
          [
           "Asia"
          ],
          [
           "Europe"
          ],
          [
           "Asia"
          ],
          [
           "Americas"
          ],
          [
           "Africa"
          ],
          [
           "Europe"
          ],
          [
           "Africa"
          ],
          [
           "Africa"
          ],
          [
           "Asia"
          ],
          [
           "Africa"
          ],
          [
           "Africa"
          ],
          [
           "Africa"
          ],
          [
           "Americas"
          ],
          [
           "Asia"
          ],
          [
           "Europe"
          ],
          [
           "Africa"
          ],
          [
           "Americas"
          ],
          [
           "Oceania"
          ],
          [
           "Europe"
          ],
          [
           "Asia"
          ],
          [
           "Asia"
          ],
          [
           "Africa"
          ],
          [
           "Africa"
          ],
          [
           "Africa"
          ],
          [
           "Asia"
          ],
          [
           "Asia"
          ],
          [
           "Africa"
          ],
          [
           "Africa"
          ],
          [
           "Europe"
          ],
          [
           "Americas"
          ],
          [
           "Africa"
          ],
          [
           "Europe"
          ],
          [
           "Americas"
          ],
          [
           "Africa"
          ],
          [
           "Europe"
          ],
          [
           "Asia"
          ],
          [
           "Asia"
          ],
          [
           "Europe"
          ],
          [
           "Oceania"
          ],
          [
           "Africa"
          ],
          [
           "Americas"
          ],
          [
           "Africa"
          ],
          [
           "Europe"
          ],
          [
           "Asia"
          ],
          [
           "Africa"
          ],
          [
           "Asia"
          ],
          [
           "Asia"
          ],
          [
           "Asia"
          ],
          [
           "Americas"
          ],
          [
           "Americas"
          ],
          [
           "Americas"
          ],
          [
           "Europe"
          ],
          [
           "Africa"
          ],
          [
           "Europe"
          ],
          [
           "Africa"
          ],
          [
           "Africa"
          ],
          [
           "Americas"
          ],
          [
           "Americas"
          ],
          [
           "Africa"
          ],
          [
           "Europe"
          ],
          [
           "Europe"
          ],
          [
           "Oceania"
          ],
          [
           "Americas"
          ],
          [
           "Africa"
          ],
          [
           "Africa"
          ],
          [
           "Asia"
          ],
          [
           "Asia"
          ],
          [
           "Europe"
          ],
          [
           "Africa"
          ],
          [
           "Americas"
          ],
          [
           "Europe"
          ],
          [
           "Africa"
          ],
          [
           "Americas"
          ],
          [
           "Africa"
          ],
          [
           "Africa"
          ],
          [
           "Americas"
          ],
          [
           "Americas"
          ],
          [
           "Europe"
          ],
          [
           "Africa"
          ],
          [
           "Africa"
          ],
          [
           "Americas"
          ],
          [
           "Oceania"
          ],
          [
           "Europe"
          ],
          [
           "Asia"
          ],
          [
           "Africa"
          ],
          [
           "Africa"
          ],
          [
           "Africa"
          ],
          [
           "Europe"
          ],
          [
           "Americas"
          ],
          [
           "Africa"
          ],
          [
           "Africa"
          ],
          [
           "Asia"
          ],
          [
           "Africa"
          ],
          [
           "Asia"
          ],
          [
           "Africa"
          ],
          [
           "Asia"
          ],
          [
           "Asia"
          ],
          [
           "Europe"
          ],
          [
           "Africa"
          ],
          [
           "Americas"
          ],
          [
           "Europe"
          ],
          [
           "Asia"
          ],
          [
           "Europe"
          ],
          [
           "Americas"
          ],
          [
           "Americas"
          ],
          [
           "Americas"
          ],
          [
           "Africa"
          ],
          [
           "Africa"
          ],
          [
           "Africa"
          ],
          [
           "Africa"
          ],
          [
           "Asia"
          ],
          [
           "Asia"
          ],
          [
           "Asia"
          ],
          [
           "Africa"
          ],
          [
           "Europe"
          ],
          [
           "Europe"
          ],
          [
           "Asia"
          ],
          [
           "Europe"
          ],
          [
           "Europe"
          ],
          [
           "Asia"
          ],
          [
           "Asia"
          ],
          [
           "Asia"
          ],
          [
           "Asia"
          ],
          [
           "Europe"
          ],
          [
           "Oceania"
          ],
          [
           "Americas"
          ],
          [
           "Africa"
          ],
          [
           "Africa"
          ],
          [
           "Europe"
          ],
          [
           "Americas"
          ],
          [
           "Asia"
          ],
          [
           "Americas"
          ],
          [
           "Africa"
          ],
          [
           "Africa"
          ],
          [
           "Africa"
          ],
          [
           "Asia"
          ],
          [
           "Asia"
          ],
          [
           "Africa"
          ],
          [
           "Africa"
          ],
          [
           "Asia"
          ],
          [
           "Africa"
          ],
          [
           "Americas"
          ],
          [
           "Asia"
          ],
          [
           "Americas"
          ],
          [
           "Africa"
          ],
          [
           "Africa"
          ],
          [
           "Americas"
          ],
          [
           "Africa"
          ],
          [
           "Asia"
          ],
          [
           "Africa"
          ],
          [
           "Africa"
          ],
          [
           "Europe"
          ],
          [
           "Americas"
          ],
          [
           "Europe"
          ],
          [
           "Americas"
          ],
          [
           "Oceania"
          ],
          [
           "Europe"
          ],
          [
           "Asia"
          ],
          [
           "Europe"
          ],
          [
           "Asia"
          ],
          [
           "Africa"
          ],
          [
           "Americas"
          ],
          [
           "Africa"
          ],
          [
           "Europe"
          ],
          [
           "Africa"
          ],
          [
           "Europe"
          ],
          [
           "Americas"
          ],
          [
           "Americas"
          ],
          [
           "Americas"
          ],
          [
           "Europe"
          ],
          [
           "Oceania"
          ],
          [
           "Americas"
          ],
          [
           "Africa"
          ],
          [
           "Americas"
          ],
          [
           "Africa"
          ],
          [
           "Europe"
          ],
          [
           "Asia"
          ],
          [
           "Asia"
          ],
          [
           "Africa"
          ],
          [
           "Asia"
          ],
          [
           "Africa"
          ],
          [
           "Asia"
          ],
          [
           "Africa"
          ],
          [
           "Africa"
          ],
          [
           "Europe"
          ],
          [
           "Africa"
          ],
          [
           "Americas"
          ],
          [
           "Europe"
          ],
          [
           "Europe"
          ],
          [
           "Asia"
          ],
          [
           "Europe"
          ],
          [
           "Americas"
          ],
          [
           "Africa"
          ],
          [
           "Europe"
          ],
          [
           "Asia"
          ],
          [
           "Africa"
          ],
          [
           "Africa"
          ],
          [
           "Europe"
          ],
          [
           "Europe"
          ],
          [
           "Asia"
          ],
          [
           "Americas"
          ],
          [
           "Europe"
          ],
          [
           "Asia"
          ],
          [
           "Africa"
          ],
          [
           "Africa"
          ],
          [
           "Asia"
          ],
          [
           "Africa"
          ],
          [
           "Africa"
          ],
          [
           "Africa"
          ],
          [
           "Africa"
          ],
          [
           "Africa"
          ],
          [
           "Africa"
          ],
          [
           "Americas"
          ],
          [
           "Oceania"
          ],
          [
           "Europe"
          ],
          [
           "Asia"
          ],
          [
           "Asia"
          ],
          [
           "Europe"
          ],
          [
           "Africa"
          ],
          [
           "Americas"
          ],
          [
           "Europe"
          ],
          [
           "Africa"
          ],
          [
           "Africa"
          ],
          [
           "Americas"
          ],
          [
           "Asia"
          ],
          [
           "Asia"
          ],
          [
           "Africa"
          ],
          [
           "Europe"
          ],
          [
           "Africa"
          ],
          [
           "Asia"
          ],
          [
           "Europe"
          ],
          [
           "Europe"
          ],
          [
           "Africa"
          ],
          [
           "Africa"
          ],
          [
           "Africa"
          ],
          [
           "Asia"
          ],
          [
           "Africa"
          ],
          [
           "Africa"
          ],
          [
           "Asia"
          ],
          [
           "Asia"
          ],
          [
           "Europe"
          ],
          [
           "Africa"
          ],
          [
           "Africa"
          ],
          [
           "Europe"
          ],
          [
           "Europe"
          ],
          [
           "Europe"
          ],
          [
           "Asia"
          ],
          [
           "Europe"
          ],
          [
           "Europe"
          ],
          [
           "Africa"
          ],
          [
           "Africa"
          ],
          [
           "Europe"
          ],
          [
           "Africa"
          ],
          [
           "Africa"
          ],
          [
           "Americas"
          ],
          [
           "Africa"
          ],
          [
           "Africa"
          ],
          [
           "Africa"
          ],
          [
           "Europe"
          ],
          [
           "Americas"
          ],
          [
           "Africa"
          ],
          [
           "Europe"
          ],
          [
           "Americas"
          ],
          [
           "Africa"
          ],
          [
           "Europe"
          ],
          [
           "Africa"
          ],
          [
           "Africa"
          ],
          [
           "Africa"
          ],
          [
           "Americas"
          ],
          [
           "Americas"
          ],
          [
           "Africa"
          ],
          [
           "Africa"
          ],
          [
           "Americas"
          ],
          [
           "Africa"
          ],
          [
           "Asia"
          ],
          [
           "Europe"
          ],
          [
           "Africa"
          ],
          [
           "Africa"
          ],
          [
           "Africa"
          ],
          [
           "Americas"
          ],
          [
           "Africa"
          ],
          [
           "Americas"
          ],
          [
           "Americas"
          ],
          [
           "Africa"
          ],
          [
           "Europe"
          ],
          [
           "Africa"
          ],
          [
           "Africa"
          ],
          [
           "Africa"
          ],
          [
           "Africa"
          ],
          [
           "Asia"
          ],
          [
           "Asia"
          ],
          [
           "Asia"
          ],
          [
           "Asia"
          ],
          [
           "Asia"
          ],
          [
           "Asia"
          ],
          [
           "Europe"
          ],
          [
           "Europe"
          ],
          [
           "Asia"
          ],
          [
           "Americas"
          ],
          [
           "Europe"
          ],
          [
           "Europe"
          ],
          [
           "Africa"
          ],
          [
           "Americas"
          ],
          [
           "Africa"
          ],
          [
           "Americas"
          ],
          [
           "Africa"
          ],
          [
           "Africa"
          ],
          [
           "Africa"
          ],
          [
           "Europe"
          ],
          [
           "Europe"
          ],
          [
           "Africa"
          ],
          [
           "Americas"
          ],
          [
           "Oceania"
          ],
          [
           "Asia"
          ],
          [
           "Americas"
          ],
          [
           "Americas"
          ],
          [
           "Europe"
          ],
          [
           "Europe"
          ],
          [
           "Asia"
          ],
          [
           "Americas"
          ],
          [
           "Americas"
          ],
          [
           "Americas"
          ],
          [
           "Asia"
          ],
          [
           "Asia"
          ],
          [
           "Europe"
          ],
          [
           "Asia"
          ],
          [
           "Africa"
          ],
          [
           "Americas"
          ],
          [
           "Oceania"
          ],
          [
           "Europe"
          ],
          [
           "Asia"
          ],
          [
           "Europe"
          ],
          [
           "Africa"
          ],
          [
           "Americas"
          ],
          [
           "Europe"
          ],
          [
           "Africa"
          ],
          [
           "Africa"
          ],
          [
           "Americas"
          ],
          [
           "Africa"
          ],
          [
           "Africa"
          ],
          [
           "Europe"
          ],
          [
           "Africa"
          ],
          [
           "Americas"
          ],
          [
           "Europe"
          ],
          [
           "Europe"
          ],
          [
           "Asia"
          ],
          [
           "Americas"
          ],
          [
           "Americas"
          ],
          [
           "Africa"
          ],
          [
           "Americas"
          ],
          [
           "Asia"
          ],
          [
           "Europe"
          ],
          [
           "Africa"
          ],
          [
           "Africa"
          ],
          [
           "Americas"
          ],
          [
           "Oceania"
          ],
          [
           "Europe"
          ],
          [
           "Asia"
          ],
          [
           "Africa"
          ],
          [
           "Asia"
          ],
          [
           "Africa"
          ],
          [
           "Asia"
          ],
          [
           "Europe"
          ],
          [
           "Europe"
          ],
          [
           "Asia"
          ],
          [
           "Africa"
          ],
          [
           "Africa"
          ],
          [
           "Asia"
          ],
          [
           "Asia"
          ],
          [
           "Asia"
          ],
          [
           "Americas"
          ],
          [
           "Asia"
          ],
          [
           "Africa"
          ],
          [
           "Asia"
          ],
          [
           "Asia"
          ],
          [
           "Europe"
          ],
          [
           "Asia"
          ],
          [
           "Europe"
          ],
          [
           "Americas"
          ],
          [
           "Asia"
          ],
          [
           "Asia"
          ],
          [
           "Africa"
          ],
          [
           "Asia"
          ],
          [
           "Asia"
          ],
          [
           "Europe"
          ],
          [
           "Europe"
          ],
          [
           "Africa"
          ],
          [
           "Africa"
          ],
          [
           "Asia"
          ],
          [
           "Europe"
          ],
          [
           "Africa"
          ],
          [
           "Africa"
          ],
          [
           "Americas"
          ],
          [
           "Oceania"
          ],
          [
           "Europe"
          ],
          [
           "Asia"
          ],
          [
           "Africa"
          ],
          [
           "Americas"
          ],
          [
           "Africa"
          ],
          [
           "Americas"
          ],
          [
           "Asia"
          ],
          [
           "Americas"
          ],
          [
           "Africa"
          ],
          [
           "Africa"
          ],
          [
           "Africa"
          ],
          [
           "Africa"
          ],
          [
           "Americas"
          ],
          [
           "Africa"
          ],
          [
           "Asia"
          ],
          [
           "Asia"
          ],
          [
           "Europe"
          ],
          [
           "Americas"
          ],
          [
           "Europe"
          ],
          [
           "Asia"
          ],
          [
           "Europe"
          ],
          [
           "Asia"
          ],
          [
           "Asia"
          ],
          [
           "Asia"
          ],
          [
           "Asia"
          ],
          [
           "Europe"
          ],
          [
           "Europe"
          ],
          [
           "Asia"
          ],
          [
           "Americas"
          ],
          [
           "Americas"
          ],
          [
           "Africa"
          ],
          [
           "Africa"
          ],
          [
           "Americas"
          ],
          [
           "Europe"
          ],
          [
           "Africa"
          ],
          [
           "Europe"
          ],
          [
           "Africa"
          ],
          [
           "Africa"
          ],
          [
           "Africa"
          ],
          [
           "Europe"
          ],
          [
           "Europe"
          ],
          [
           "Oceania"
          ],
          [
           "Africa"
          ],
          [
           "Asia"
          ],
          [
           "Asia"
          ],
          [
           "Africa"
          ],
          [
           "Americas"
          ],
          [
           "Africa"
          ],
          [
           "Europe"
          ],
          [
           "Africa"
          ],
          [
           "Africa"
          ],
          [
           "Africa"
          ],
          [
           "Africa"
          ],
          [
           "Asia"
          ],
          [
           "Europe"
          ],
          [
           "Africa"
          ],
          [
           "Africa"
          ],
          [
           "Europe"
          ],
          [
           "Europe"
          ],
          [
           "Asia"
          ],
          [
           "Africa"
          ],
          [
           "Europe"
          ],
          [
           "Americas"
          ],
          [
           "Africa"
          ],
          [
           "Asia"
          ],
          [
           "Africa"
          ],
          [
           "Europe"
          ],
          [
           "Asia"
          ],
          [
           "Asia"
          ],
          [
           "Europe"
          ],
          [
           "Asia"
          ],
          [
           "Africa"
          ],
          [
           "Americas"
          ],
          [
           "Africa"
          ],
          [
           "Asia"
          ],
          [
           "Europe"
          ],
          [
           "Asia"
          ],
          [
           "Asia"
          ],
          [
           "Asia"
          ],
          [
           "Europe"
          ],
          [
           "Europe"
          ],
          [
           "Africa"
          ],
          [
           "Europe"
          ],
          [
           "Oceania"
          ],
          [
           "Americas"
          ],
          [
           "Africa"
          ],
          [
           "Africa"
          ],
          [
           "Asia"
          ],
          [
           "Asia"
          ],
          [
           "Asia"
          ],
          [
           "Asia"
          ],
          [
           "Africa"
          ],
          [
           "Africa"
          ],
          [
           "Europe"
          ],
          [
           "Africa"
          ],
          [
           "Europe"
          ],
          [
           "Europe"
          ],
          [
           "Asia"
          ],
          [
           "Americas"
          ],
          [
           "Asia"
          ],
          [
           "Americas"
          ],
          [
           "Asia"
          ],
          [
           "Asia"
          ],
          [
           "Africa"
          ],
          [
           "Asia"
          ],
          [
           "Asia"
          ],
          [
           "Americas"
          ],
          [
           "Europe"
          ],
          [
           "Asia"
          ],
          [
           "Europe"
          ],
          [
           "Americas"
          ],
          [
           "Americas"
          ],
          [
           "Asia"
          ],
          [
           "Europe"
          ],
          [
           "Africa"
          ],
          [
           "Africa"
          ],
          [
           "Americas"
          ],
          [
           "Oceania"
          ],
          [
           "Europe"
          ],
          [
           "Asia"
          ],
          [
           "Asia"
          ],
          [
           "Europe"
          ],
          [
           "Africa"
          ],
          [
           "Americas"
          ],
          [
           "Europe"
          ],
          [
           "Africa"
          ],
          [
           "Americas"
          ],
          [
           "Europe"
          ],
          [
           "Africa"
          ],
          [
           "Africa"
          ],
          [
           "Asia"
          ],
          [
           "Africa"
          ],
          [
           "Americas"
          ],
          [
           "Africa"
          ],
          [
           "Africa"
          ],
          [
           "Americas"
          ],
          [
           "Asia"
          ],
          [
           "Americas"
          ],
          [
           "Africa"
          ],
          [
           "Africa"
          ],
          [
           "Africa"
          ],
          [
           "Americas"
          ],
          [
           "Africa"
          ],
          [
           "Europe"
          ],
          [
           "Americas"
          ],
          [
           "Europe"
          ],
          [
           "Europe"
          ],
          [
           "Africa"
          ],
          [
           "Americas"
          ],
          [
           "Americas"
          ],
          [
           "Africa"
          ],
          [
           "Americas"
          ],
          [
           "Africa"
          ],
          [
           "Africa"
          ],
          [
           "Africa"
          ],
          [
           "Europe"
          ],
          [
           "Europe"
          ],
          [
           "Africa"
          ],
          [
           "Africa"
          ],
          [
           "Europe"
          ],
          [
           "Africa"
          ],
          [
           "Europe"
          ],
          [
           "Americas"
          ],
          [
           "Africa"
          ],
          [
           "Africa"
          ],
          [
           "Americas"
          ],
          [
           "Americas"
          ],
          [
           "Asia"
          ],
          [
           "Europe"
          ],
          [
           "Europe"
          ],
          [
           "Asia"
          ],
          [
           "Asia"
          ],
          [
           "Asia"
          ],
          [
           "Asia"
          ],
          [
           "Europe"
          ],
          [
           "Asia"
          ],
          [
           "Europe"
          ],
          [
           "Americas"
          ],
          [
           "Asia"
          ],
          [
           "Asia"
          ],
          [
           "Africa"
          ],
          [
           "Asia"
          ],
          [
           "Asia"
          ],
          [
           "Asia"
          ],
          [
           "Asia"
          ],
          [
           "Africa"
          ],
          [
           "Africa"
          ],
          [
           "Africa"
          ],
          [
           "Africa"
          ],
          [
           "Africa"
          ],
          [
           "Asia"
          ],
          [
           "Africa"
          ],
          [
           "Africa"
          ],
          [
           "Africa"
          ],
          [
           "Americas"
          ],
          [
           "Asia"
          ],
          [
           "Europe"
          ],
          [
           "Africa"
          ],
          [
           "Africa"
          ],
          [
           "Asia"
          ],
          [
           "Africa"
          ],
          [
           "Asia"
          ],
          [
           "Europe"
          ],
          [
           "Oceania"
          ],
          [
           "Americas"
          ],
          [
           "Africa"
          ],
          [
           "Africa"
          ],
          [
           "Europe"
          ],
          [
           "Asia"
          ],
          [
           "Asia"
          ],
          [
           "Americas"
          ],
          [
           "Americas"
          ],
          [
           "Americas"
          ],
          [
           "Asia"
          ],
          [
           "Europe"
          ],
          [
           "Europe"
          ],
          [
           "Americas"
          ],
          [
           "Africa"
          ],
          [
           "Europe"
          ],
          [
           "Africa"
          ],
          [
           "Africa"
          ],
          [
           "Asia"
          ],
          [
           "Africa"
          ],
          [
           "Europe"
          ],
          [
           "Africa"
          ],
          [
           "Asia"
          ],
          [
           "Europe"
          ],
          [
           "Europe"
          ],
          [
           "Africa"
          ],
          [
           "Africa"
          ],
          [
           "Europe"
          ],
          [
           "Asia"
          ],
          [
           "Africa"
          ],
          [
           "Africa"
          ],
          [
           "Europe"
          ],
          [
           "Europe"
          ],
          [
           "Asia"
          ],
          [
           "Asia"
          ],
          [
           "Africa"
          ],
          [
           "Asia"
          ],
          [
           "Africa"
          ],
          [
           "Americas"
          ],
          [
           "Africa"
          ],
          [
           "Europe"
          ],
          [
           "Africa"
          ],
          [
           "Europe"
          ],
          [
           "Americas"
          ],
          [
           "Americas"
          ],
          [
           "Americas"
          ],
          [
           "Asia"
          ],
          [
           "Asia"
          ],
          [
           "Asia"
          ],
          [
           "Africa"
          ],
          [
           "Africa"
          ],
          [
           "Africa"
          ],
          [
           "Americas"
          ],
          [
           "Asia"
          ],
          [
           "Europe"
          ],
          [
           "Oceania"
          ]
         ],
         "domain": {
          "x": [
           0,
           1
          ],
          "y": [
           0,
           1
          ]
         },
         "hovertemplate": "labels=%{label}<br>pop=%{value}<br>parent=%{parent}<br>id=%{id}<br>continent=%{customdata[0]}<extra></extra>",
         "ids": [
          "Africa/Zimbabwe/2007",
          "Africa/Congo, Rep./1997",
          "Africa/Cote d'Ivoire/1967",
          "Europe/Croatia/1967",
          "Americas/Cuba/1967",
          "Europe/Czech Republic/1967",
          "Europe/Denmark/1967",
          "Africa/Djibouti/1967",
          "Americas/Dominican Republic/1967",
          "Americas/Ecuador/1967",
          "Africa/Egypt/1967",
          "Americas/El Salvador/1967",
          "Africa/Equatorial Guinea/1967",
          "Africa/Eritrea/1967",
          "Americas/Costa Rica/1997",
          "Africa/Sierra Leone/1982",
          "Asia/Singapore/1982",
          "Europe/Slovak Republic/1982",
          "Africa/Congo, Dem. Rep./1997",
          "Europe/Slovenia/1982",
          "Africa/Comoros/1997",
          "Asia/China/1997",
          "Asia/Bahrain/1997",
          "Asia/Bangladesh/1997",
          "Europe/Belgium/1997",
          "Africa/Benin/1997",
          "Americas/Bolivia/1997",
          "Europe/Bosnia and Herzegovina/1997",
          "Africa/Botswana/1997",
          "Americas/Brazil/1997",
          "Europe/Bulgaria/1997",
          "Africa/Burkina Faso/1997",
          "Africa/Burundi/1997",
          "Asia/Cambodia/1997",
          "Africa/Cameroon/1997",
          "Americas/Canada/1997",
          "Africa/Central African Republic/1997",
          "Africa/Chad/1997",
          "Americas/Chile/1997",
          "Americas/Colombia/1997",
          "Europe/Austria/1997",
          "Africa/Somalia/1982",
          "Europe/Spain/1982",
          "Asia/Kuwait/1967",
          "Asia/Lebanon/1967",
          "Africa/Lesotho/1967",
          "Africa/Liberia/1967",
          "Africa/Libya/1967",
          "Africa/Madagascar/1967",
          "Africa/Malawi/1967",
          "Asia/Malaysia/1967",
          "Africa/Mali/1967",
          "Africa/Mauritania/1967",
          "Africa/Mauritius/1967",
          "Americas/Mexico/1967",
          "Asia/Mongolia/1967",
          "Europe/Montenegro/1967",
          "Africa/Morocco/1967",
          "Africa/Mozambique/1967",
          "Asia/Myanmar/1967",
          "Asia/Korea, Rep./1967",
          "Africa/South Africa/1982",
          "Asia/Korea, Dem. Rep./1967",
          "Asia/Jordan/1967",
          "Asia/Sri Lanka/1982",
          "Africa/Sudan/1982",
          "Africa/Swaziland/1982",
          "Europe/Sweden/1982",
          "Americas/Honduras/1967",
          "Asia/Hong Kong, China/1967",
          "Europe/Hungary/1967",
          "Europe/Iceland/1967",
          "Asia/India/1967",
          "Asia/Indonesia/1967",
          "Asia/Iran/1967",
          "Asia/Iraq/1967",
          "Europe/Ireland/1967",
          "Asia/Israel/1967",
          "Europe/Italy/1967",
          "Americas/Jamaica/1967",
          "Asia/Japan/1967",
          "Africa/Kenya/1967",
          "Africa/Namibia/1967",
          "Americas/Uruguay/1992",
          "Americas/Argentina/1967",
          "Africa/Mozambique/1962",
          "Asia/Myanmar/1962",
          "Africa/Tanzania/2002",
          "Asia/Taiwan/2002",
          "Asia/Syria/2002",
          "Europe/Switzerland/2002",
          "Europe/Sweden/2002",
          "Africa/Swaziland/2002",
          "Africa/Sudan/2002",
          "Asia/Sri Lanka/2002",
          "Europe/Spain/2002",
          "Africa/South Africa/2002",
          "Africa/Somalia/2002",
          "Africa/Eritrea/1987",
          "Asia/Syria/1992",
          "Asia/Taiwan/1992",
          "Africa/Tanzania/1992",
          "Africa/Morocco/1962",
          "Asia/Thailand/1992",
          "Europe/Montenegro/1962",
          "Americas/Mexico/1962",
          "Americas/Haiti/1962",
          "Americas/Honduras/1962",
          "Asia/Hong Kong, China/1962",
          "Europe/Hungary/1962",
          "Europe/Iceland/1962",
          "Asia/India/1962",
          "Europe/Sweden/1997",
          "Asia/Iran/1962",
          "Asia/Iraq/1962",
          "Europe/Ireland/1962",
          "Asia/Israel/1962",
          "Africa/Madagascar/1962",
          "Africa/Malawi/1962",
          "Asia/Malaysia/1962",
          "Africa/Mali/1962",
          "Africa/Mauritania/1962",
          "Africa/Mauritius/1962",
          "Asia/Mongolia/1962",
          "Oceania/Australia/1967",
          "Africa/Togo/1992",
          "Africa/Tunisia/1992",
          "Asia/Pakistan/2002",
          "Asia/Oman/2002",
          "Europe/Norway/2002",
          "Africa/Nigeria/2002",
          "Africa/Niger/2002",
          "Americas/Nicaragua/2002",
          "Americas/Costa Rica/1987",
          "Americas/Venezuela/1962",
          "Asia/Vietnam/1962",
          "Asia/West Bank and Gaza/1962",
          "Asia/Yemen, Rep./1962",
          "Africa/Zambia/1962",
          "Africa/Zimbabwe/1962",
          "Asia/Afghanistan/1967",
          "Europe/Albania/1967",
          "Africa/Algeria/1967",
          "Africa/Angola/1967",
          "Americas/Panama/2002",
          "Americas/Trinidad and Tobago/1992",
          "Americas/Paraguay/2002",
          "Asia/Philippines/2002",
          "Europe/Turkey/1992",
          "Africa/Uganda/1992",
          "Europe/United Kingdom/1992",
          "Americas/United States/1992",
          "Africa/Equatorial Guinea/1987",
          "Americas/El Salvador/1987",
          "Africa/Egypt/1987",
          "Americas/Ecuador/1987",
          "Americas/Dominican Republic/1987",
          "Africa/Djibouti/1987",
          "Europe/Denmark/1987",
          "Europe/Czech Republic/1987",
          "Americas/Cuba/1987",
          "Europe/Croatia/1987",
          "Africa/Cote d'Ivoire/1987",
          "Europe/Portugal/2002",
          "Europe/Poland/2002",
          "Americas/Peru/2002",
          "Africa/Guinea-Bissau/1962",
          "Asia/Nepal/1967",
          "Africa/Congo, Dem. Rep./1987",
          "Asia/Hong Kong, China/1972",
          "Europe/Hungary/1972",
          "Europe/Iceland/1972",
          "Asia/India/1972",
          "Asia/Indonesia/1972",
          "Asia/Iran/1972",
          "Asia/Iraq/1972",
          "Europe/Ireland/1972",
          "Asia/Israel/1972",
          "Europe/Italy/1972",
          "Americas/Jamaica/1972",
          "Asia/Japan/1972",
          "Asia/Jordan/1972",
          "Americas/Haiti/1997",
          "Asia/Japan/1997",
          "Asia/Jordan/1997",
          "Africa/Kenya/1997",
          "Americas/Honduras/1972",
          "Asia/Korea, Dem. Rep./1997",
          "Americas/Haiti/1972",
          "Africa/Guinea/1972",
          "Europe/Finland/1997",
          "Europe/France/1997",
          "Africa/Gabon/1997",
          "Africa/Gambia/1997",
          "Europe/Germany/1997",
          "Africa/Ghana/1997",
          "Europe/Greece/1997",
          "Americas/Guatemala/1997",
          "Africa/Guinea/1997",
          "Africa/Guinea-Bissau/1997",
          "Europe/France/1972",
          "Africa/Gabon/1972",
          "Africa/Gambia/1972",
          "Europe/Germany/1972",
          "Africa/Ghana/1972",
          "Europe/Greece/1972",
          "Americas/Guatemala/1972",
          "Africa/Guinea-Bissau/1972",
          "Africa/Ethiopia/1997",
          "Asia/Korea, Rep./1997",
          "Asia/Lebanon/1997",
          "Asia/Sri Lanka/1997",
          "Africa/Sudan/1997",
          "Asia/Vietnam/1997",
          "Americas/Venezuela/1997",
          "Americas/Uruguay/1997",
          "Americas/United States/1997",
          "Europe/United Kingdom/1997",
          "Africa/Uganda/1997",
          "Europe/Turkey/1997",
          "Africa/Tunisia/1997",
          "Americas/Trinidad and Tobago/1997",
          "Africa/Togo/1997",
          "Asia/Thailand/1997",
          "Africa/Tanzania/1997",
          "Asia/Taiwan/1997",
          "Asia/Syria/1997",
          "Europe/Switzerland/1997",
          "Europe/Spain/1997",
          "Asia/Kuwait/1997",
          "Africa/South Africa/1997",
          "Europe/Slovenia/1997",
          "Africa/Lesotho/1997",
          "Africa/Liberia/1997",
          "Africa/Libya/1997",
          "Africa/Madagascar/1997",
          "Africa/Malawi/1997",
          "Asia/Syria/1982",
          "Asia/Taiwan/1982",
          "Africa/Tanzania/1982",
          "Asia/Thailand/1982",
          "Africa/Togo/1982",
          "Americas/Trinidad and Tobago/1982",
          "Africa/Tunisia/1982",
          "Europe/Turkey/1982",
          "Europe/Albania/1992",
          "Africa/Algeria/1992",
          "Africa/Angola/1992",
          "Europe/Slovak Republic/1997",
          "Africa/Somalia/1997",
          "Africa/Congo, Rep./1987",
          "Europe/Switzerland/1982",
          "Americas/Canada/2002",
          "Europe/Finland/2002",
          "Europe/Slovak Republic/1967",
          "Europe/Slovenia/1967",
          "Africa/Somalia/1967",
          "Africa/South Africa/1967",
          "Europe/Spain/1967",
          "Asia/Sri Lanka/1967",
          "Africa/Sudan/1967",
          "Africa/Swaziland/1967",
          "Europe/Sweden/1967",
          "Europe/Switzerland/1967",
          "Asia/Syria/1967",
          "Asia/Taiwan/1967",
          "Africa/Tanzania/1967",
          "Asia/Thailand/1967",
          "Africa/Togo/1967",
          "Americas/Trinidad and Tobago/1967",
          "Africa/Zimbabwe/1987",
          "Africa/Tunisia/1967",
          "Africa/Zambia/1987",
          "Asia/West Bank and Gaza/1987",
          "Africa/Comoros/1987",
          "Europe/Sweden/1987",
          "Europe/Switzerland/1987",
          "Asia/Syria/1987",
          "Asia/Taiwan/1987",
          "Africa/Tanzania/1987",
          "Asia/Thailand/1987",
          "Africa/Togo/1987",
          "Americas/Trinidad and Tobago/1987",
          "Africa/Tunisia/1987",
          "Europe/Turkey/1987",
          "Africa/Uganda/1987",
          "Europe/United Kingdom/1987",
          "Americas/United States/1987",
          "Americas/Uruguay/1987",
          "Americas/Venezuela/1987",
          "Asia/Vietnam/1987",
          "Asia/Yemen, Rep./1987",
          "Asia/Afghanistan/1992",
          "Europe/Turkey/1967",
          "Europe/United Kingdom/1967",
          "Africa/Botswana/1972",
          "Americas/Brazil/1972",
          "Europe/Bulgaria/1972",
          "Africa/Burkina Faso/1972",
          "Africa/Burundi/1972",
          "Asia/Cambodia/1972",
          "Africa/Cameroon/1972",
          "Africa/Cote d'Ivoire/2002",
          "Americas/Costa Rica/2002",
          "Africa/Congo, Rep./2002",
          "Africa/Congo, Dem. Rep./2002",
          "Africa/Comoros/2002",
          "Americas/Colombia/2002",
          "Asia/China/2002",
          "Americas/Chile/2002",
          "Africa/Chad/2002",
          "Africa/Central African Republic/2002",
          "Europe/Bosnia and Herzegovina/1972",
          "Africa/Uganda/1967",
          "Americas/Bolivia/1972",
          "Europe/Belgium/1972",
          "Americas/United States/1967",
          "Americas/Uruguay/1967",
          "Americas/Venezuela/1967",
          "Asia/Vietnam/1967",
          "Africa/Ethiopia/2002",
          "Africa/Eritrea/2002",
          "Africa/Equatorial Guinea/2002",
          "Americas/El Salvador/2002",
          "Africa/Egypt/2002",
          "Americas/Ecuador/2002",
          "Americas/Dominican Republic/2002",
          "Africa/Djibouti/2002",
          "Europe/Denmark/2002",
          "Europe/Czech Republic/2002",
          "Americas/Cuba/2002",
          "Europe/Croatia/2002",
          "Asia/Bangladesh/1972",
          "Africa/Benin/1972",
          "Africa/Guinea/1962",
          "Asia/Indonesia/1962",
          "Europe/Greece/1962",
          "Europe/Germany/1982",
          "Africa/Gambia/1982",
          "Africa/Gabon/1982",
          "Europe/France/1982",
          "Europe/Finland/1982",
          "Africa/Ethiopia/1982",
          "Africa/Eritrea/1982",
          "Africa/Ghana/1982",
          "Africa/Equatorial Guinea/1982",
          "Africa/Egypt/1982",
          "Americas/Ecuador/1982",
          "Americas/Dominican Republic/1982",
          "Africa/Djibouti/1982",
          "Europe/Denmark/1982",
          "Europe/Czech Republic/1982",
          "Americas/Cuba/1982",
          "Americas/El Salvador/1982",
          "Europe/Croatia/1982",
          "Europe/Greece/1982",
          "Africa/Guinea/1982",
          "Asia/Indonesia/1982",
          "Asia/India/1982",
          "Europe/Iceland/1982",
          "Europe/Hungary/1982",
          "Europe/Greece/1987",
          "Africa/Ghana/1987",
          "Europe/Germany/1987",
          "Americas/Guatemala/1982",
          "Africa/Gambia/1987",
          "Europe/France/1987",
          "Europe/Finland/1987",
          "Africa/Ethiopia/1987",
          "Asia/Hong Kong, China/1982",
          "Americas/Honduras/1982",
          "Americas/Haiti/1982",
          "Africa/Guinea-Bissau/1982",
          "Africa/Gabon/1987",
          "Africa/Sudan/1952",
          "Africa/Swaziland/1952",
          "Europe/Sweden/1952",
          "Americas/Brazil/1957",
          "Europe/Bulgaria/1957",
          "Africa/Burkina Faso/1957",
          "Africa/Burundi/1957",
          "Asia/Cambodia/1957",
          "Africa/Cameroon/1957",
          "Americas/Canada/1957",
          "Europe/Czech Republic/2007",
          "Africa/Central African Republic/1957",
          "Americas/Chile/1957",
          "Asia/China/1957",
          "Americas/Colombia/1957",
          "Africa/Zambia/2007",
          "Americas/Guatemala/1962",
          "Americas/Cuba/2007",
          "Europe/Croatia/2007",
          "Africa/Chad/1957",
          "Americas/Paraguay/1982",
          "Americas/Panama/1982",
          "Asia/Pakistan/1982",
          "Europe/Switzerland/1952",
          "Asia/Syria/1952",
          "Asia/Taiwan/1952",
          "Africa/Tanzania/1952",
          "Asia/Thailand/1952",
          "Africa/Togo/1952",
          "Americas/Trinidad and Tobago/1952",
          "Africa/Tunisia/1952",
          "Europe/Turkey/1952",
          "Africa/Cote d'Ivoire/1982",
          "Americas/Costa Rica/1982",
          "Africa/Congo, Rep./1982",
          "Africa/Congo, Dem. Rep./1982",
          "Africa/Comoros/1982",
          "Americas/Colombia/1982",
          "Asia/China/1982",
          "Asia/Oman/1982",
          "Asia/Iran/1982",
          "Asia/Iraq/1982",
          "Europe/Ireland/1982",
          "Asia/Israel/1982",
          "Europe/Spain/2007",
          "Asia/Mongolia/1982",
          "Asia/China/1952",
          "Americas/Colombia/1952",
          "Africa/Comoros/1952",
          "Africa/Congo, Dem. Rep./1952",
          "Africa/Congo, Rep./1952",
          "Asia/Sri Lanka/2007",
          "Americas/Costa Rica/1952",
          "Europe/Croatia/1952",
          "Americas/Cuba/1952",
          "Europe/Czech Republic/1952",
          "Europe/Denmark/1952",
          "Africa/Djibouti/1952",
          "Americas/Dominican Republic/1952",
          "Americas/Ecuador/1952",
          "Africa/Cote d'Ivoire/1952",
          "Africa/Sudan/2007",
          "Africa/Swaziland/2007",
          "Europe/Sweden/2007",
          "Asia/Yemen, Rep./2007",
          "Asia/West Bank and Gaza/2007",
          "Asia/Vietnam/2007",
          "Americas/Venezuela/2007",
          "Americas/Uruguay/2007",
          "Americas/United States/2007",
          "Europe/United Kingdom/2007",
          "Africa/Uganda/2007",
          "Europe/Turkey/2007",
          "Africa/Tunisia/2007",
          "Americas/Trinidad and Tobago/2007",
          "Africa/Togo/2007",
          "Asia/Thailand/2007",
          "Africa/Tanzania/2007",
          "Asia/Taiwan/2007",
          "Asia/Syria/2007",
          "Europe/Switzerland/2007",
          "Africa/Egypt/1952",
          "Africa/Cote d'Ivoire/2007",
          "Americas/El Salvador/1952",
          "Africa/Eritrea/1952",
          "Africa/Lesotho/1987",
          "Asia/Lebanon/1987",
          "Asia/Kuwait/1987",
          "Asia/Korea, Rep./1987",
          "Asia/Korea, Dem. Rep./1987",
          "Africa/Kenya/1987",
          "Asia/Jordan/1987",
          "Africa/Kenya/1982",
          "Asia/Japan/1987",
          "Europe/Italy/1987",
          "Asia/Israel/1987",
          "Europe/Ireland/1987",
          "Asia/Jordan/1982",
          "Asia/Japan/1982",
          "Americas/Jamaica/1982",
          "Europe/Italy/1982",
          "Americas/Jamaica/1987",
          "Asia/Korea, Dem. Rep./1982",
          "Asia/Korea, Rep./1982",
          "Asia/Kuwait/1982",
          "Africa/Ethiopia/1952",
          "Europe/Finland/1952",
          "Europe/France/1952",
          "Africa/Gabon/1952",
          "Africa/Gambia/1952",
          "Europe/Germany/1952",
          "Americas/Mexico/1982",
          "Africa/Mauritius/1982",
          "Africa/Mauritania/1982",
          "Africa/Mali/1982",
          "Asia/Malaysia/1982",
          "Africa/Malawi/1982",
          "Africa/Madagascar/1982",
          "Africa/Libya/1982",
          "Africa/Liberia/1982",
          "Africa/Lesotho/1982",
          "Asia/Lebanon/1982",
          "Africa/Equatorial Guinea/1952",
          "Americas/Costa Rica/2007",
          "Africa/Swaziland/1997",
          "Africa/Congo, Dem. Rep./2007",
          "Asia/Thailand/1957",
          "Africa/Togo/1957",
          "Americas/Trinidad and Tobago/1957",
          "Africa/Tunisia/1957",
          "Europe/Turkey/1957",
          "Africa/Uganda/1957",
          "Africa/Tanzania/1957",
          "Europe/United Kingdom/1957",
          "Europe/Slovenia/1977",
          "Europe/Slovak Republic/1977",
          "Asia/Singapore/1977",
          "Africa/Sierra Leone/1977",
          "Europe/Serbia/1977",
          "Africa/Senegal/1977",
          "Africa/Somalia/1977",
          "Asia/Taiwan/1957",
          "Asia/Syria/1957",
          "Europe/Switzerland/1957",
          "Asia/Pakistan/1957",
          "Africa/South Africa/1977",
          "Africa/Senegal/1957",
          "Europe/Serbia/1957",
          "Africa/Sierra Leone/1957",
          "Asia/Singapore/1957",
          "Europe/Slovak Republic/1957",
          "Africa/Congo, Rep./2007",
          "Africa/Somalia/1957",
          "Africa/South Africa/1957",
          "Europe/Spain/1957",
          "Asia/Sri Lanka/1957",
          "Africa/Sudan/1957",
          "Africa/Swaziland/1957",
          "Europe/Sweden/1957",
          "Asia/Saudi Arabia/1977",
          "Africa/Sao Tome and Principe/1977",
          "Africa/Rwanda/1977",
          "Europe/Romania/1977",
          "Europe/Denmark/1962",
          "Africa/Djibouti/1962",
          "Americas/Dominican Republic/1962",
          "Americas/Ecuador/1962",
          "Africa/Egypt/1962",
          "Americas/El Salvador/1962",
          "Africa/Equatorial Guinea/1962",
          "Africa/Eritrea/1962",
          "Africa/Ethiopia/1962",
          "Europe/Finland/1962",
          "Europe/France/1962",
          "Africa/Gabon/1962",
          "Africa/Gambia/1962",
          "Europe/Germany/1962",
          "Africa/Ghana/1962",
          "Europe/Czech Republic/1962",
          "Asia/Oman/1957",
          "Americas/Cuba/1962",
          "Africa/Cote d'Ivoire/1962",
          "Americas/Peru/1982",
          "Asia/Philippines/1982",
          "Europe/Poland/1982",
          "Europe/Portugal/1982",
          "Americas/Puerto Rico/1982",
          "Africa/Reunion/1982",
          "Europe/Romania/1982",
          "Africa/Rwanda/1982",
          "Africa/Sao Tome and Principe/1982",
          "Asia/Saudi Arabia/1982",
          "Africa/Senegal/1982",
          "Asia/Thailand/2002",
          "Europe/Serbia/1982",
          "Africa/Congo, Rep./1962",
          "Americas/Costa Rica/1962",
          "Europe/Croatia/1962",
          "Europe/Norway/1957",
          "Europe/Slovenia/1957",
          "Africa/Niger/1957",
          "Asia/Kuwait/1957",
          "Asia/Korea, Rep./1957",
          "Asia/Korea, Dem. Rep./1957",
          "Africa/Kenya/1957",
          "Asia/Jordan/1957",
          "Asia/Japan/1957",
          "Americas/Jamaica/1957",
          "Europe/Italy/1957",
          "Asia/Israel/1957",
          "Europe/Ireland/1957",
          "Africa/Nigeria/1957",
          "Asia/Iran/1957",
          "Asia/Indonesia/1957",
          "Asia/Lebanon/1957",
          "Asia/India/1957",
          "Europe/Hungary/1957",
          "Asia/Hong Kong, China/1957",
          "Americas/Honduras/1957",
          "Americas/Haiti/1957",
          "Africa/Guinea-Bissau/1957",
          "Africa/Guinea/1957",
          "Americas/Guatemala/1957",
          "Europe/Belgium/2007",
          "Africa/Chad/2007",
          "Americas/Chile/2007",
          "Asia/China/2007",
          "Americas/Colombia/2007",
          "Africa/Comoros/2007",
          "Europe/Iceland/1957",
          "Africa/Lesotho/1957",
          "Asia/Iraq/1957",
          "Asia/Bahrain/2007",
          "Asia/Nepal/1957",
          "Africa/Namibia/1957",
          "Asia/Myanmar/1957",
          "Africa/Mozambique/1957",
          "Asia/Bangladesh/2007",
          "Europe/Netherlands/1957",
          "Americas/Nicaragua/1957",
          "Africa/Zambia/2002",
          "Oceania/New Zealand/1957",
          "Asia/Afghanistan/2007",
          "Europe/Austria/2007",
          "Oceania/Australia/2007",
          "Americas/Argentina/2007",
          "Europe/Albania/2007",
          "Africa/Algeria/2007",
          "Africa/Angola/2007",
          "Africa/Zimbabwe/2002",
          "Africa/Madagascar/1977",
          "Africa/Libya/1977",
          "Africa/Liberia/1977",
          "Asia/Lebanon/1977",
          "Asia/Kuwait/1977",
          "Americas/Uruguay/1982",
          "Asia/Korea, Rep./1977",
          "Americas/Haiti/1992",
          "Americas/United States/1982",
          "Europe/United Kingdom/1982",
          "Africa/Uganda/1982",
          "Africa/Lesotho/1977",
          "Asia/Japan/1992",
          "Africa/Mali/1977",
          "Asia/Malaysia/1977",
          "Africa/Guinea-Bissau/1992",
          "Africa/Mauritania/1977",
          "Africa/Mauritius/1977",
          "Asia/Hong Kong, China/1992",
          "Europe/Hungary/1992",
          "Europe/Iceland/1992",
          "Asia/India/1992",
          "Asia/Indonesia/1992",
          "Asia/Iran/1992",
          "Asia/Iraq/1992",
          "Europe/Ireland/1992",
          "Americas/Jamaica/1992",
          "Europe/Italy/1992",
          "Africa/Malawi/1977",
          "Asia/Jordan/1992",
          "Africa/Sudan/1992",
          "Asia/Korea, Dem. Rep./1992",
          "Asia/Israel/1992",
          "Africa/Equatorial Guinea/1992",
          "Africa/Eritrea/1992",
          "Africa/Ethiopia/1992",
          "Europe/Finland/1992",
          "Europe/France/1992",
          "Africa/Gabon/1992",
          "Africa/Libya/1992",
          "Africa/Gambia/1992",
          "Europe/Germany/1992",
          "Africa/Ghana/1992",
          "Europe/Greece/1992",
          "Americas/Guatemala/1992",
          "Africa/Guinea/1992",
          "Africa/Kenya/1992",
          "Europe/Switzerland/1992",
          "Africa/Sierra Leone/1992",
          "Asia/Singapore/1992",
          "Europe/Slovak Republic/1992",
          "Europe/Slovenia/1992",
          "Africa/Somalia/1992",
          "Africa/South Africa/1992",
          "Europe/Spain/1992",
          "Asia/Sri Lanka/1992",
          "Africa/Swaziland/1992",
          "Europe/Sweden/1992",
          "Africa/Lesotho/1992",
          "Asia/Lebanon/1992",
          "Asia/Kuwait/1992",
          "Asia/Korea, Rep./1992",
          "Africa/Liberia/1992",
          "Americas/Honduras/1992",
          "Africa/Ethiopia/1967",
          "Asia/Vietnam/1982",
          "Asia/Yemen, Rep./2002",
          "Americas/Ecuador/1957",
          "Americas/Dominican Republic/1957",
          "Africa/Djibouti/1957",
          "Europe/Denmark/1957",
          "Europe/Czech Republic/1957",
          "Americas/Cuba/1957",
          "Europe/Croatia/1957",
          "Africa/Cote d'Ivoire/1957",
          "Americas/Costa Rica/1957",
          "Africa/Congo, Rep./1957",
          "Africa/Congo, Dem. Rep./1957",
          "Africa/Comoros/1957",
          "Africa/Gambia/2007",
          "Europe/Germany/2007",
          "Africa/Ghana/2007",
          "Europe/Greece/2007",
          "Americas/Guatemala/2007",
          "Africa/Guinea/2007",
          "Africa/Guinea-Bissau/2007",
          "Americas/Haiti/2007",
          "Americas/Honduras/2007",
          "Asia/Hong Kong, China/2007",
          "Europe/Hungary/2007",
          "Europe/Albania/1957",
          "Americas/Panama/1957",
          "Americas/Paraguay/1957",
          "Americas/Peru/1957",
          "Asia/Philippines/1957",
          "Europe/United Kingdom/2002",
          "Americas/United States/2002",
          "Americas/Uruguay/2002",
          "Americas/Venezuela/2002",
          "Americas/Venezuela/1982",
          "Asia/West Bank and Gaza/2002",
          "Africa/Angola/1962",
          "Africa/Algeria/1962",
          "Europe/Albania/1962",
          "Asia/Afghanistan/1962",
          "Africa/Zimbabwe/1957",
          "Africa/Zambia/1957",
          "Asia/Afghanistan/1957",
          "Asia/Yemen, Rep./1957",
          "Asia/Vietnam/1957",
          "Americas/Venezuela/1957",
          "Americas/Uruguay/1957",
          "Americas/United States/1957",
          "Asia/Saudi Arabia/1957",
          "Africa/Sao Tome and Principe/1957",
          "Africa/Rwanda/1957",
          "Europe/Romania/1957",
          "Africa/Reunion/1957",
          "Americas/Puerto Rico/1957",
          "Europe/Portugal/1957",
          "Europe/Poland/1957",
          "Asia/West Bank and Gaza/1957",
          "Africa/Zimbabwe/1952",
          "Africa/Zambia/1952",
          "Asia/Yemen, Rep./1952",
          "Africa/Mauritania/2007",
          "Africa/Mauritius/2007",
          "Africa/Swaziland/1987",
          "Africa/Sudan/1987",
          "Asia/Sri Lanka/1987",
          "Europe/Spain/1987",
          "Africa/South Africa/1987",
          "Africa/Somalia/1987",
          "Europe/Slovenia/1987",
          "Europe/Slovak Republic/1987",
          "Asia/Singapore/1987",
          "Africa/Sierra Leone/1987",
          "Africa/Mali/2007",
          "Europe/Serbia/1987",
          "Asia/Indonesia/1952",
          "Asia/India/1952",
          "Europe/Iceland/1952",
          "Europe/Hungary/1952",
          "Asia/Hong Kong, China/1952",
          "Americas/Honduras/1952",
          "Americas/Haiti/1952",
          "Africa/Guinea-Bissau/1952",
          "Africa/Guinea/1952",
          "Americas/Guatemala/1952",
          "Europe/Greece/1952",
          "Africa/Ghana/1952",
          "Africa/Senegal/1987",
          "Africa/Uganda/2002",
          "Asia/Malaysia/2007",
          "Africa/Madagascar/2007",
          "Asia/West Bank and Gaza/1952",
          "Asia/Vietnam/1952",
          "Americas/Venezuela/1952",
          "Americas/Uruguay/1952",
          "Americas/United States/1952",
          "Europe/United Kingdom/1952",
          "Africa/Uganda/1952",
          "Europe/Iceland/2007",
          "Asia/India/2007",
          "Asia/Indonesia/2007",
          "Asia/Iran/2007",
          "Asia/Iraq/2007",
          "Africa/Malawi/2007",
          "Europe/Ireland/2007",
          "Europe/Italy/2007",
          "Americas/Jamaica/2007",
          "Asia/Japan/2007",
          "Asia/Jordan/2007",
          "Africa/Kenya/2007",
          "Asia/Korea, Dem. Rep./2007",
          "Asia/Korea, Rep./2007",
          "Asia/Kuwait/2007",
          "Asia/Lebanon/2007",
          "Africa/Lesotho/2007",
          "Africa/Liberia/2007",
          "Africa/Libya/2007",
          "Asia/Israel/2007",
          "Europe/Turkey/2002",
          "Asia/Vietnam/2002",
          "Americas/Trinidad and Tobago/2002",
          "Africa/Djibouti/1972",
          "Europe/Denmark/1972",
          "Europe/Czech Republic/1972",
          "Americas/Cuba/1972",
          "Americas/Haiti/1967",
          "Africa/Guinea-Bissau/1967",
          "Africa/Guinea/1967",
          "Americas/Guatemala/1967",
          "Europe/Greece/1967",
          "Africa/Ghana/1967",
          "Europe/Germany/1967",
          "Africa/Gambia/1967",
          "Africa/Gabon/1967",
          "Europe/France/1967",
          "Europe/Finland/1967",
          "Oceania/New Zealand/1972",
          "Americas/Costa Rica/1967",
          "Africa/Congo, Rep./1967",
          "Europe/Albania/1987",
          "Asia/Afghanistan/1987",
          "Africa/Zimbabwe/1982",
          "Africa/Tunisia/2002",
          "Africa/Zambia/1982",
          "Asia/Yemen, Rep./1982",
          "Asia/West Bank and Gaza/1982",
          "Americas/Dominican Republic/1972",
          "Africa/Congo, Dem. Rep./1967",
          "Americas/Ecuador/1972",
          "Americas/El Salvador/1972",
          "Africa/Namibia/1972",
          "Asia/Nepal/1972",
          "Europe/Netherlands/1972",
          "Africa/Morocco/1972",
          "Europe/Montenegro/1972",
          "Asia/Mongolia/1972",
          "Americas/Mexico/1972",
          "Africa/Mauritius/1972",
          "Africa/Mauritania/1972",
          "Africa/Mali/1972",
          "Asia/Malaysia/1972",
          "Africa/Malawi/1972",
          "Africa/Madagascar/1972",
          "Africa/Libya/1972",
          "Africa/Liberia/1972",
          "Africa/Lesotho/1972",
          "Asia/Lebanon/1972",
          "Asia/Kuwait/1972",
          "Asia/Korea, Rep./1972",
          "Asia/Korea, Dem. Rep./1972",
          "Africa/Kenya/1972",
          "Europe/Finland/1972",
          "Africa/Ethiopia/1972",
          "Africa/Eritrea/1972",
          "Africa/Equatorial Guinea/1972",
          "Africa/Egypt/1972",
          "Africa/Mozambique/1972",
          "Africa/Comoros/1967",
          "Asia/China/1967",
          "Americas/Peru/1962",
          "Africa/Libya/1962",
          "Africa/Liberia/1962",
          "Africa/Lesotho/1962",
          "Asia/Lebanon/1962",
          "Asia/Kuwait/1962",
          "Asia/Korea, Rep./1962",
          "Asia/Korea, Dem. Rep./1962",
          "Africa/Kenya/1962",
          "Asia/Jordan/1962",
          "Asia/Japan/1962",
          "Americas/Jamaica/1962",
          "Asia/Philippines/1962",
          "Europe/Italy/1962",
          "Africa/Comoros/1962",
          "Americas/Colombia/1962",
          "Asia/China/1962",
          "Americas/Chile/1962",
          "Africa/Chad/1962",
          "Africa/Central African Republic/1962",
          "Americas/Canada/1962",
          "Africa/Cameroon/1962",
          "Asia/Cambodia/1962",
          "Africa/Burundi/1962",
          "Africa/Burkina Faso/1962",
          "Africa/Togo/2002",
          "Africa/Congo, Dem. Rep./1962",
          "Americas/Colombia/1967",
          "Europe/Poland/1962",
          "Americas/Puerto Rico/1962",
          "Americas/Chile/1967",
          "Africa/Chad/1967",
          "Africa/Central African Republic/1967",
          "Americas/Canada/1967",
          "Africa/Cameroon/1967",
          "Asia/Cambodia/1967",
          "Africa/Burundi/1967",
          "Africa/Burkina Faso/1967",
          "Europe/Bulgaria/1967",
          "Americas/Brazil/1967",
          "Africa/Botswana/1967",
          "Europe/Portugal/1962",
          "Europe/Bosnia and Herzegovina/1967",
          "Africa/Benin/1967",
          "Europe/Belgium/1967",
          "Asia/Bangladesh/1967",
          "Asia/Bahrain/1967",
          "Europe/Austria/1967",
          "Europe/Serbia/1962",
          "Africa/Senegal/1962",
          "Asia/Saudi Arabia/1962",
          "Africa/Sao Tome and Principe/1962",
          "Africa/Rwanda/1962",
          "Europe/Romania/1962",
          "Africa/Reunion/1962",
          "Americas/Bolivia/1967",
          "Asia/Myanmar/1972",
          "Americas/Mexico/1987",
          "Americas/Canada/1992",
          "Europe/Montenegro/1987",
          "Africa/Morocco/1987",
          "Asia/China/1992",
          "Americas/Chile/1992",
          "Africa/Chad/1992",
          "Africa/Central African Republic/1992",
          "Africa/Cameroon/1992",
          "Asia/Cambodia/1992",
          "Africa/Burundi/1992",
          "Africa/Burkina Faso/1992",
          "Asia/Mongolia/1987",
          "Americas/Colombia/1992",
          "Asia/Korea, Rep./2002",
          "Africa/Congo, Dem. Rep./1992",
          "Asia/Mongolia/2007",
          "Americas/Mexico/2007",
          "Europe/Slovenia/2002",
          "Europe/Slovak Republic/2002",
          "Asia/Singapore/2002",
          "Africa/Sierra Leone/2002",
          "Europe/Serbia/2002",
          "Africa/Senegal/2002",
          "Asia/Saudi Arabia/2002",
          "Africa/Sao Tome and Principe/2002",
          "Africa/Rwanda/2002",
          "Europe/Romania/2002",
          "Africa/Reunion/2002",
          "Americas/Puerto Rico/2002",
          "Europe/Montenegro/2007",
          "Oceania/New Zealand/2002",
          "Asia/Nepal/2002",
          "Africa/Namibia/2002",
          "Asia/Myanmar/2002",
          "Africa/Mozambique/2002",
          "Africa/Morocco/2002",
          "Europe/Montenegro/2002",
          "Asia/Mongolia/2002",
          "Americas/Mexico/2002",
          "Africa/Mauritius/2002",
          "Africa/Mauritania/2002",
          "Africa/Mali/2002",
          "Asia/Malaysia/2002",
          "Africa/Malawi/2002",
          "Africa/Madagascar/2002",
          "Europe/Netherlands/2002",
          "Africa/Libya/2002",
          "Africa/Morocco/2007",
          "Asia/Myanmar/2007",
          "Africa/South Africa/2007",
          "Africa/Somalia/2007",
          "Europe/Slovenia/2007",
          "Europe/Slovak Republic/2007",
          "Asia/Singapore/2007",
          "Africa/Sierra Leone/2007",
          "Europe/Serbia/2007",
          "Africa/Senegal/2007",
          "Asia/Saudi Arabia/2007",
          "Africa/Sao Tome and Principe/2007",
          "Africa/Rwanda/2007",
          "Europe/Romania/2007",
          "Africa/Reunion/2007",
          "Americas/Puerto Rico/2007",
          "Africa/Mozambique/2007",
          "Europe/Portugal/2007",
          "Asia/Philippines/2007",
          "Americas/Peru/2007",
          "Americas/Paraguay/2007",
          "Americas/Panama/2007",
          "Asia/Pakistan/2007",
          "Asia/Oman/2007",
          "Europe/Norway/2007",
          "Africa/Nigeria/2007",
          "Africa/Niger/2007",
          "Americas/Nicaragua/2007",
          "Oceania/New Zealand/2007",
          "Europe/Netherlands/2007",
          "Asia/Nepal/2007",
          "Africa/Namibia/2007",
          "Europe/Poland/2007",
          "Africa/Comoros/1992",
          "Africa/Liberia/2002",
          "Asia/Lebanon/2002",
          "Africa/Djibouti/1997",
          "Europe/Denmark/1997",
          "Europe/Czech Republic/1997",
          "Americas/Cuba/1997",
          "Europe/Croatia/1997",
          "Africa/Cote d'Ivoire/1997",
          "Asia/Myanmar/1992",
          "Africa/Mozambique/1992",
          "Africa/Morocco/1992",
          "Europe/Montenegro/1992",
          "Asia/Mongolia/1992",
          "Americas/Mexico/1992",
          "Africa/Mauritius/1992",
          "Africa/Mauritania/1992",
          "Americas/Dominican Republic/1997",
          "Africa/Mali/1992",
          "Africa/Malawi/1992",
          "Africa/Madagascar/1992",
          "Americas/El Salvador/1992",
          "Africa/Egypt/1992",
          "Americas/Ecuador/1992",
          "Americas/Dominican Republic/1992",
          "Africa/Djibouti/1992",
          "Europe/Denmark/1992",
          "Europe/Czech Republic/1992",
          "Americas/Cuba/1992",
          "Europe/Croatia/1992",
          "Africa/Cote d'Ivoire/1992",
          "Americas/Costa Rica/1992",
          "Africa/Congo, Rep./1992",
          "Asia/Malaysia/1992",
          "Africa/Lesotho/2002",
          "Americas/Ecuador/1997",
          "Americas/El Salvador/1997",
          "Asia/Kuwait/2002",
          "Africa/Mauritius/1987",
          "Asia/Korea, Dem. Rep./2002",
          "Africa/Kenya/2002",
          "Africa/Cameroon/2002",
          "Asia/Cambodia/2002",
          "Africa/Burundi/2002",
          "Africa/Burkina Faso/2002",
          "Europe/Bulgaria/2002",
          "Americas/Brazil/2002",
          "Africa/Botswana/2002",
          "Europe/Bosnia and Herzegovina/2002",
          "Americas/Bolivia/2002",
          "Africa/Benin/2002",
          "Africa/Egypt/1997",
          "Europe/Belgium/2002",
          "Asia/Nepal/1997",
          "Africa/Namibia/1997",
          "Asia/Myanmar/1997",
          "Africa/Mozambique/1997",
          "Africa/Morocco/1997",
          "Europe/Montenegro/1997",
          "Asia/Mongolia/1997",
          "Americas/Mexico/1997",
          "Africa/Mauritius/1997",
          "Africa/Mauritania/1997",
          "Africa/Mali/1997",
          "Asia/Malaysia/1997",
          "Africa/Eritrea/1997",
          "Africa/Equatorial Guinea/1997",
          "Asia/Bangladesh/2002",
          "Africa/Mauritania/1987",
          "Asia/Afghanistan/1952",
          "Asia/Malaysia/1987",
          "Europe/Austria/1977",
          "Asia/Bahrain/1977",
          "Asia/Bangladesh/1977",
          "Europe/Belgium/1977",
          "Africa/Benin/1977",
          "Americas/Bolivia/1977",
          "Oceania/Australia/1977",
          "Europe/Bosnia and Herzegovina/1977",
          "Americas/Brazil/1977",
          "Europe/Bulgaria/1977",
          "Africa/Burkina Faso/1977",
          "Africa/Burundi/1977",
          "Asia/Cambodia/1977",
          "Africa/Cameroon/1977",
          "Africa/Botswana/1977",
          "Americas/Canada/1977",
          "Americas/Argentina/1977",
          "Africa/Algeria/1977",
          "Africa/Tunisia/1972",
          "Europe/Turkey/1972",
          "Africa/Uganda/1972",
          "Europe/United Kingdom/1972",
          "Americas/United States/1972",
          "Americas/Uruguay/1972",
          "Africa/Angola/1977",
          "Americas/Venezuela/1972",
          "Asia/West Bank and Gaza/1972",
          "Asia/Yemen, Rep./1972",
          "Africa/Zambia/1972",
          "Africa/Zimbabwe/1972",
          "Asia/Afghanistan/1977",
          "Europe/Albania/1977",
          "Asia/Vietnam/1972",
          "Africa/Central African Republic/1977",
          "Africa/Chad/1977",
          "Americas/Chile/1977",
          "Asia/Hong Kong, China/1977",
          "Europe/Hungary/1977",
          "Europe/Iceland/1977",
          "Americas/Mexico/1977",
          "Asia/Mongolia/1977",
          "Europe/Montenegro/1977",
          "Americas/Honduras/1977",
          "Africa/Morocco/1977",
          "Asia/Myanmar/1977",
          "Africa/Namibia/1977",
          "Asia/Nepal/1977",
          "Europe/Netherlands/1977",
          "Oceania/New Zealand/1977",
          "Americas/Nicaragua/1977",
          "Africa/Mozambique/1977",
          "Americas/Haiti/1977",
          "Africa/Guinea-Bissau/1977",
          "Africa/Guinea/1977",
          "Asia/China/1977",
          "Americas/Colombia/1977",
          "Africa/Comoros/1977",
          "Africa/Congo, Dem. Rep./1977",
          "Africa/Congo, Rep./1977",
          "Americas/Costa Rica/1977",
          "Africa/Cote d'Ivoire/1977",
          "Europe/Croatia/1977",
          "Americas/Cuba/1977",
          "Europe/Czech Republic/1977",
          "Africa/Gambia/1977",
          "Europe/Germany/1977",
          "Africa/Ghana/1977",
          "Europe/Greece/1977",
          "Americas/Guatemala/1977",
          "Americas/Trinidad and Tobago/1972",
          "Africa/Togo/1972",
          "Africa/Mali/1987",
          "Europe/Portugal/1972",
          "Americas/Nicaragua/1952",
          "Africa/Niger/1952",
          "Africa/Nigeria/1952",
          "Europe/Norway/1952",
          "Asia/Oman/1952",
          "Asia/Pakistan/1952",
          "Oceania/New Zealand/1952",
          "Americas/Panama/1952",
          "Americas/Peru/1952",
          "Asia/Philippines/1952",
          "Europe/Poland/1952",
          "Europe/Portugal/1952",
          "Americas/Puerto Rico/1952",
          "Africa/Reunion/1952",
          "Americas/Paraguay/1952",
          "Europe/Netherlands/1952",
          "Asia/Nepal/1952",
          "Africa/Namibia/1952",
          "Europe/Albania/1952",
          "Africa/Algeria/1952",
          "Africa/Angola/1952",
          "Americas/Argentina/1952",
          "Oceania/Australia/1952",
          "Europe/Austria/1952",
          "Asia/Bahrain/1952",
          "Asia/Bangladesh/1952",
          "Europe/Belgium/1952",
          "Africa/Benin/1952",
          "Americas/Bolivia/1952",
          "Europe/Montenegro/1952",
          "Africa/Morocco/1952",
          "Africa/Mozambique/1952",
          "Asia/Myanmar/1952",
          "Europe/Romania/1952",
          "Africa/Niger/1977",
          "Africa/Rwanda/1952",
          "Africa/Libya/1957",
          "Africa/Botswana/1962",
          "Americas/Brazil/1962",
          "Europe/Bulgaria/1962",
          "Americas/Nicaragua/1972",
          "Africa/Niger/1972",
          "Africa/Nigeria/1972",
          "Europe/Bosnia and Herzegovina/1962",
          "Europe/Norway/1972",
          "Asia/Pakistan/1972",
          "Americas/Panama/1972",
          "Americas/Paraguay/1972",
          "Americas/Peru/1972",
          "Asia/Philippines/1972",
          "Europe/Poland/1972",
          "Asia/Oman/1972",
          "Americas/Bolivia/1962",
          "Africa/Benin/1962",
          "Europe/Belgium/1962",
          "Africa/Madagascar/1957",
          "Africa/Malawi/1957",
          "Asia/Malaysia/1957",
          "Africa/Mali/1957",
          "Africa/Mauritania/1957",
          "Africa/Mauritius/1957",
          "Americas/Mexico/1957",
          "Asia/Mongolia/1957",
          "Europe/Montenegro/1957",
          "Africa/Morocco/1957",
          "Americas/Argentina/1962",
          "Oceania/Australia/1962",
          "Europe/Austria/1962",
          "Asia/Bahrain/1962",
          "Asia/Bangladesh/1962",
          "Africa/Liberia/1957",
          "Africa/Nigeria/1977",
          "Africa/Zimbabwe/1977",
          "Asia/Oman/1977",
          "Asia/Cambodia/1982",
          "Africa/Burundi/1982",
          "Africa/Burkina Faso/1982",
          "Europe/Bulgaria/1982",
          "Americas/Brazil/1982",
          "Africa/Botswana/1982",
          "Europe/Bosnia and Herzegovina/1982",
          "Americas/Bolivia/1982",
          "Africa/Benin/1982",
          "Europe/Belgium/1982",
          "Asia/Bangladesh/1982",
          "Asia/Bahrain/1982",
          "Europe/Austria/1982",
          "Oceania/Australia/1982",
          "Africa/Cameroon/1982",
          "Americas/Argentina/1982",
          "Africa/Algeria/1982",
          "Europe/Albania/1982",
          "Asia/Afghanistan/1982",
          "Africa/Zambia/1977",
          "Asia/Yemen, Rep./1977",
          "Asia/West Bank and Gaza/1977",
          "Asia/Vietnam/1977",
          "Americas/Venezuela/1977",
          "Americas/Uruguay/1977",
          "Americas/United States/1977",
          "Europe/United Kingdom/1977",
          "Africa/Uganda/1977",
          "Europe/Turkey/1977",
          "Africa/Tunisia/1977",
          "Africa/Angola/1982",
          "Americas/Trinidad and Tobago/1977",
          "Americas/Canada/1982",
          "Africa/Chad/1982",
          "Europe/Norway/1977",
          "Europe/Austria/1987",
          "Oceania/Australia/1987",
          "Americas/Argentina/1987",
          "Africa/Angola/1987",
          "Africa/Algeria/1987",
          "Asia/Bahrain/1987",
          "Asia/Bangladesh/1987",
          "Europe/Belgium/1987",
          "Africa/Benin/1987",
          "Americas/Bolivia/1987",
          "Europe/Bosnia and Herzegovina/1987",
          "Africa/Botswana/1987",
          "Americas/Guatemala/1987",
          "Africa/Central African Republic/1982",
          "Africa/Guinea/1987",
          "Americas/Haiti/1987",
          "Americas/Honduras/1987",
          "Europe/Norway/1982",
          "Africa/Nigeria/1982",
          "Africa/Niger/1982",
          "Americas/Nicaragua/1982",
          "Oceania/New Zealand/1982",
          "Europe/Netherlands/1982",
          "Asia/Nepal/1982",
          "Africa/Namibia/1982",
          "Africa/Mozambique/1982",
          "Africa/Morocco/1982",
          "Europe/Montenegro/1982",
          "Americas/Chile/1982",
          "Africa/Guinea-Bissau/1987",
          "Africa/Togo/1977",
          "Asia/Myanmar/1982",
          "Africa/Tanzania/1977",
          "Asia/Iraq/1987",
          "Africa/Swaziland/1977",
          "Asia/Pakistan/1977",
          "Asia/Sri Lanka/1977",
          "Europe/Spain/1977",
          "Africa/Reunion/1977",
          "Americas/Puerto Rico/1977",
          "Europe/Portugal/1977",
          "Asia/Iran/1987",
          "Europe/Poland/1977",
          "Americas/Peru/1977",
          "Americas/Paraguay/1977",
          "Americas/Panama/1977",
          "Africa/Malawi/1987",
          "Africa/Madagascar/1987",
          "Africa/Libya/1987",
          "Africa/Liberia/1987",
          "Asia/Thailand/1977",
          "Asia/Philippines/1977",
          "Asia/Indonesia/1987",
          "Africa/Sudan/1977",
          "Europe/Iceland/1987",
          "Europe/Hungary/1987",
          "Asia/Hong Kong, China/1987",
          "Europe/Sweden/1977",
          "Europe/Switzerland/1977",
          "Asia/Syria/1977",
          "Asia/India/1987",
          "Asia/Taiwan/1977",
          "Asia/Nepal/1962",
          "Europe/Netherlands/1962",
          "Oceania/New Zealand/1962",
          "Americas/Nicaragua/1962",
          "Africa/Niger/1962",
          "Africa/Nigeria/1962",
          "Europe/Norway/1962",
          "Americas/Panama/1962",
          "Asia/Pakistan/1962",
          "Americas/Paraguay/1962",
          "Africa/Mozambique/1987",
          "Africa/Senegal/1967",
          "Africa/Sierra Leone/1962",
          "Asia/Singapore/1962",
          "Asia/Oman/1962",
          "Africa/Namibia/1962",
          "Africa/Namibia/1987",
          "Asia/Nepal/1987",
          "Africa/Botswana/1952",
          "Americas/Colombia/1987",
          "Asia/China/1987",
          "Americas/Chile/1987",
          "Africa/Chad/1987",
          "Africa/Central African Republic/1987",
          "Americas/Canada/1987",
          "Africa/Cameroon/1987",
          "Asia/Cambodia/1987",
          "Africa/Burundi/1987",
          "Africa/Burkina Faso/1987",
          "Europe/Bulgaria/1987",
          "Americas/Brazil/1987",
          "Europe/Bosnia and Herzegovina/1952",
          "Americas/Nicaragua/1987",
          "Oceania/New Zealand/1987",
          "Europe/Netherlands/1987",
          "Asia/Myanmar/1987",
          "Europe/Slovak Republic/1962",
          "Asia/Saudi Arabia/1967",
          "Africa/Somalia/1962",
          "Americas/Trinidad and Tobago/1962",
          "Africa/Tunisia/1962",
          "Europe/Turkey/1962",
          "Africa/Uganda/1962",
          "Europe/United Kingdom/1962",
          "Americas/United States/1962",
          "Americas/Paraguay/1967",
          "Americas/Uruguay/1962",
          "Europe/Netherlands/1967",
          "Oceania/New Zealand/1967",
          "Americas/Nicaragua/1967",
          "Africa/Niger/1967",
          "Americas/Panama/1967",
          "Africa/Nigeria/1967",
          "Europe/Norway/1967",
          "Asia/Oman/1967",
          "Asia/Pakistan/1967",
          "Africa/Togo/1962",
          "Asia/Thailand/1962",
          "Africa/Tanzania/1962",
          "Asia/Taiwan/1962",
          "Africa/Sao Tome and Principe/1967",
          "Africa/Rwanda/1967",
          "Europe/Romania/1967",
          "Africa/Reunion/1967",
          "Americas/Puerto Rico/1967",
          "Europe/Portugal/1967",
          "Europe/Poland/1967",
          "Asia/Philippines/1967",
          "Europe/Slovenia/1962",
          "Americas/Peru/1967",
          "Africa/South Africa/1962",
          "Europe/Spain/1962",
          "Asia/Sri Lanka/1962",
          "Africa/Sudan/1962",
          "Africa/Swaziland/1962",
          "Europe/Sweden/1962",
          "Europe/Switzerland/1962",
          "Asia/Syria/1962",
          "Americas/Brazil/1952",
          "Europe/Bulgaria/1952",
          "Asia/Cambodia/2007",
          "Africa/Burundi/1952",
          "Africa/Mali/1952",
          "Asia/Malaysia/1952",
          "Africa/Malawi/1952",
          "Africa/Madagascar/1952",
          "Africa/Libya/1952",
          "Africa/Liberia/1952",
          "Africa/Lesotho/1952",
          "Africa/Angola/1957",
          "Americas/Argentina/1957",
          "Oceania/Australia/1957",
          "Europe/Austria/1957",
          "Asia/Bahrain/1957",
          "Asia/Bangladesh/1957",
          "Europe/Belgium/1957",
          "Africa/Benin/1957",
          "Americas/Bolivia/1957",
          "Europe/Bosnia and Herzegovina/1957",
          "Africa/Mauritania/1952",
          "Africa/Mauritius/1952",
          "Americas/Mexico/1952",
          "Asia/Mongolia/1952",
          "Asia/Saudi Arabia/1952",
          "Africa/Senegal/1952",
          "Europe/Serbia/1952",
          "Africa/Sierra Leone/1952",
          "Asia/Singapore/1952",
          "Europe/Slovak Republic/1952",
          "Europe/Slovenia/1952",
          "Africa/Somalia/1952",
          "Africa/Gabon/2007",
          "Africa/South Africa/1952",
          "Asia/Sri Lanka/1952",
          "Africa/Algeria/1957",
          "Africa/Sao Tome and Principe/1952",
          "Asia/Pakistan/1987",
          "Asia/Oman/1987",
          "Europe/Norway/1987",
          "Africa/Nigeria/1987",
          "Africa/Niger/1987",
          "Europe/Spain/1952",
          "Europe/France/2007",
          "Europe/Serbia/1967",
          "Asia/Lebanon/1952",
          "Europe/Finland/1957",
          "Europe/France/1957",
          "Africa/Gabon/1957",
          "Africa/Gambia/1957",
          "Europe/Germany/1957",
          "Africa/Ghana/1957",
          "Africa/Central African Republic/2007",
          "Americas/Canada/2007",
          "Africa/Ethiopia/1957",
          "Africa/Cameroon/2007",
          "Africa/Burkina Faso/2007",
          "Europe/Bulgaria/2007",
          "Americas/Brazil/2007",
          "Africa/Botswana/2007",
          "Europe/Bosnia and Herzegovina/2007",
          "Americas/Bolivia/2007",
          "Africa/Benin/2007",
          "Europe/Greece/1957",
          "Africa/Burundi/2007",
          "Africa/Burkina Faso/1952",
          "Africa/Eritrea/1957",
          "Americas/El Salvador/1957",
          "Americas/Chile/1952",
          "Africa/Chad/1952",
          "Africa/Central African Republic/1952",
          "Americas/Canada/1952",
          "Africa/Cameroon/1952",
          "Asia/Cambodia/1952",
          "Europe/Finland/2007",
          "Africa/Ethiopia/2007",
          "Africa/Equatorial Guinea/1957",
          "Africa/Eritrea/2007",
          "Americas/El Salvador/2007",
          "Africa/Egypt/2007",
          "Americas/Ecuador/2007",
          "Americas/Dominican Republic/2007",
          "Africa/Djibouti/2007",
          "Europe/Denmark/2007",
          "Africa/Botswana/1957",
          "Africa/Egypt/1957",
          "Africa/Equatorial Guinea/2007",
          "Africa/Sierra Leone/1967",
          "Asia/West Bank and Gaza/1967",
          "Asia/Japan/2002",
          "Asia/Iraq/1997",
          "Asia/Iran/1997",
          "Asia/Indonesia/1997",
          "Asia/India/1997",
          "Europe/Iceland/1997",
          "Europe/Hungary/1997",
          "Asia/Hong Kong, China/1997",
          "Americas/Honduras/1997",
          "Europe/Denmark/1977",
          "Europe/Ireland/1997",
          "Africa/Djibouti/1977",
          "Americas/Ecuador/1977",
          "Africa/Egypt/1977",
          "Americas/El Salvador/1977",
          "Africa/Equatorial Guinea/1977",
          "Africa/Eritrea/1977",
          "Africa/Ethiopia/1977",
          "Europe/Finland/1977",
          "Europe/France/1977",
          "Africa/Gabon/1977",
          "Americas/Dominican Republic/1977",
          "Oceania/Australia/1997",
          "Asia/Israel/1997",
          "Americas/Jamaica/1997",
          "Americas/Puerto Rico/1997",
          "Europe/Portugal/1997",
          "Europe/Poland/1997",
          "Asia/Philippines/1997",
          "Americas/Peru/1997",
          "Americas/Paraguay/1997",
          "Americas/Panama/1997",
          "Asia/Pakistan/1997",
          "Asia/Oman/1997",
          "Europe/Italy/1997",
          "Asia/Jordan/2002",
          "Africa/Niger/1997",
          "Americas/Nicaragua/1997",
          "Oceania/New Zealand/1997",
          "Europe/Netherlands/1997",
          "Asia/Thailand/1972",
          "Europe/Bosnia and Herzegovina/1992",
          "Africa/Botswana/1992",
          "Americas/Brazil/1992",
          "Europe/Bulgaria/1992",
          "Africa/Nigeria/1997",
          "Africa/Reunion/1997",
          "Americas/Argentina/1997",
          "Africa/Algeria/1997",
          "Africa/Rwanda/1992",
          "Europe/Romania/1992",
          "Africa/Reunion/1992",
          "Americas/Puerto Rico/1992",
          "Europe/Portugal/1992",
          "Europe/Poland/1992",
          "Asia/Philippines/1992",
          "Americas/Peru/1992",
          "Americas/Paraguay/1992",
          "Africa/Sao Tome and Principe/1992",
          "Americas/Panama/1992",
          "Asia/Oman/1992",
          "Europe/Norway/1992",
          "Africa/Nigeria/1992",
          "Africa/Niger/1992",
          "Americas/Nicaragua/1992",
          "Oceania/New Zealand/1992",
          "Europe/Netherlands/1992",
          "Asia/Nepal/1992",
          "Africa/Namibia/1992",
          "Asia/Pakistan/1992",
          "Africa/Angola/1997",
          "Asia/Saudi Arabia/1992",
          "Europe/Serbia/1992",
          "Europe/Albania/1997",
          "Asia/Afghanistan/1997",
          "Africa/Zimbabwe/1992",
          "Africa/Zambia/1992",
          "Asia/Yemen, Rep./1992",
          "Asia/West Bank and Gaza/1992",
          "Asia/Vietnam/1992",
          "Americas/Venezuela/1992",
          "Asia/India/1977",
          "Africa/Senegal/1992",
          "Asia/Indonesia/1977",
          "Asia/Iraq/1977",
          "Europe/Ireland/1977",
          "Asia/Israel/1977",
          "Europe/Italy/1977",
          "Americas/Jamaica/1977",
          "Asia/Japan/1977",
          "Asia/Jordan/1977",
          "Africa/Kenya/1977",
          "Asia/Korea, Dem. Rep./1977",
          "Asia/Iran/1977",
          "Europe/Romania/1997",
          "Europe/Norway/1997",
          "Africa/Sao Tome and Principe/1997",
          "Africa/Zimbabwe/1967",
          "Asia/Afghanistan/1972",
          "Europe/Albania/1972",
          "Africa/Algeria/1972",
          "Africa/Angola/1972",
          "Americas/Argentina/1972",
          "Oceania/Australia/1972",
          "Europe/Austria/1972",
          "Asia/Bahrain/1972",
          "Africa/Zambia/1967",
          "Americas/Canada/1972",
          "Africa/Chad/1972",
          "Americas/Chile/1972",
          "Asia/China/1972",
          "Americas/Colombia/1972",
          "Africa/Rwanda/1997",
          "Africa/Comoros/1972",
          "Africa/Congo, Dem. Rep./1972",
          "Africa/Congo, Rep./1972",
          "Americas/Costa Rica/1972",
          "Africa/Central African Republic/1972",
          "Asia/Yemen, Rep./1967",
          "Asia/Singapore/1967",
          "Europe/France/2002",
          "Americas/Jamaica/2002",
          "Europe/Italy/2002",
          "Asia/Israel/2002",
          "Europe/Ireland/2002",
          "Asia/Iraq/2002",
          "Asia/Iran/2002",
          "Asia/Indonesia/2002",
          "Asia/India/2002",
          "Europe/Iceland/2002",
          "Europe/Hungary/2002",
          "Asia/Hong Kong, China/2002",
          "Americas/Honduras/2002",
          "Americas/Haiti/2002",
          "Africa/Guinea-Bissau/2002",
          "Africa/Guinea/2002",
          "Americas/Guatemala/2002",
          "Europe/Greece/2002",
          "Africa/Ghana/2002",
          "Europe/Germany/2002",
          "Africa/Gambia/2002",
          "Africa/Gabon/2002",
          "Africa/Cote d'Ivoire/1972",
          "Europe/Croatia/1972",
          "Europe/Serbia/1997",
          "Oceania/Australia/1992",
          "Africa/Zambia/1997",
          "Asia/Yemen, Rep./1997",
          "Asia/West Bank and Gaza/1997",
          "Africa/Benin/1992",
          "Americas/Puerto Rico/1972",
          "Africa/Reunion/1972",
          "Europe/Romania/1972",
          "Africa/Rwanda/1972",
          "Africa/Sao Tome and Principe/1972",
          "Africa/Zimbabwe/1997",
          "Africa/Sudan/1972",
          "Asia/Sri Lanka/1972",
          "Europe/Spain/1972",
          "Africa/South Africa/1972",
          "Africa/Somalia/1972",
          "Europe/Slovenia/1972",
          "Europe/Slovak Republic/1972",
          "Asia/Singapore/1972",
          "Africa/Sierra Leone/1972",
          "Europe/Serbia/1972",
          "Americas/Argentina/1992",
          "Africa/Senegal/1972",
          "Asia/Afghanistan/2002",
          "Africa/Algeria/2002",
          "Europe/Austria/1992",
          "Asia/Bahrain/1992",
          "Asia/Bangladesh/1992",
          "Europe/Belgium/1992",
          "Asia/Saudi Arabia/1997",
          "Africa/Senegal/1997",
          "Americas/Bolivia/1992",
          "Africa/Sierra Leone/1997",
          "Asia/Singapore/1997",
          "Europe/Albania/2002",
          "Asia/Bahrain/2002",
          "Asia/Taiwan/1972",
          "Asia/Syria/1972",
          "Europe/Switzerland/1972",
          "Europe/Sweden/1972",
          "Africa/Swaziland/1972",
          "Europe/Austria/2002",
          "Oceania/Australia/2002",
          "Americas/Argentina/2002",
          "Africa/Angola/2002",
          "Africa/Tanzania/1972",
          "Asia/Saudi Arabia/1972",
          "Asia/Korea, Rep./1952",
          "Asia/Iraq/1952",
          "Asia/Saudi Arabia/1987",
          "Africa/Sao Tome and Principe/1987",
          "Africa/Rwanda/1987",
          "Europe/Romania/1987",
          "Africa/Reunion/1987",
          "Europe/Portugal/1987",
          "Europe/Poland/1987",
          "Asia/Philippines/1987",
          "Americas/Peru/1987",
          "Asia/Iran/1952",
          "Americas/Paraguay/1987",
          "Asia/Kuwait/1952",
          "Asia/Korea, Dem. Rep./1952",
          "Africa/Kenya/1952",
          "Asia/Jordan/1952",
          "Asia/Japan/1952",
          "Americas/Jamaica/1952",
          "Europe/Italy/1952",
          "Asia/Israel/1952",
          "Europe/Ireland/1952",
          "Americas/Panama/1987",
          "Americas/Puerto Rico/1987",
          "Asia/Afghanistan",
          "Europe/Albania",
          "Africa/Algeria",
          "Africa/Angola",
          "Americas/Argentina",
          "Oceania/Australia",
          "Europe/Austria",
          "Asia/Bahrain",
          "Asia/Bangladesh",
          "Europe/Belgium",
          "Africa/Benin",
          "Americas/Bolivia",
          "Europe/Bosnia and Herzegovina",
          "Africa/Botswana",
          "Americas/Brazil",
          "Europe/Bulgaria",
          "Africa/Burkina Faso",
          "Africa/Burundi",
          "Asia/Cambodia",
          "Africa/Cameroon",
          "Americas/Canada",
          "Africa/Central African Republic",
          "Africa/Chad",
          "Americas/Chile",
          "Asia/China",
          "Americas/Colombia",
          "Africa/Comoros",
          "Africa/Congo, Dem. Rep.",
          "Africa/Congo, Rep.",
          "Americas/Costa Rica",
          "Africa/Cote d'Ivoire",
          "Europe/Croatia",
          "Americas/Cuba",
          "Europe/Czech Republic",
          "Europe/Denmark",
          "Africa/Djibouti",
          "Americas/Dominican Republic",
          "Americas/Ecuador",
          "Africa/Egypt",
          "Americas/El Salvador",
          "Africa/Equatorial Guinea",
          "Africa/Eritrea",
          "Africa/Ethiopia",
          "Europe/Finland",
          "Europe/France",
          "Africa/Gabon",
          "Africa/Gambia",
          "Europe/Germany",
          "Africa/Ghana",
          "Europe/Greece",
          "Americas/Guatemala",
          "Africa/Guinea",
          "Africa/Guinea-Bissau",
          "Americas/Haiti",
          "Americas/Honduras",
          "Asia/Hong Kong, China",
          "Europe/Hungary",
          "Europe/Iceland",
          "Asia/India",
          "Asia/Indonesia",
          "Asia/Iran",
          "Asia/Iraq",
          "Europe/Ireland",
          "Asia/Israel",
          "Europe/Italy",
          "Americas/Jamaica",
          "Asia/Japan",
          "Asia/Jordan",
          "Africa/Kenya",
          "Asia/Korea, Dem. Rep.",
          "Asia/Korea, Rep.",
          "Asia/Kuwait",
          "Asia/Lebanon",
          "Africa/Lesotho",
          "Africa/Liberia",
          "Africa/Libya",
          "Africa/Madagascar",
          "Africa/Malawi",
          "Asia/Malaysia",
          "Africa/Mali",
          "Africa/Mauritania",
          "Africa/Mauritius",
          "Americas/Mexico",
          "Asia/Mongolia",
          "Europe/Montenegro",
          "Africa/Morocco",
          "Africa/Mozambique",
          "Asia/Myanmar",
          "Africa/Namibia",
          "Asia/Nepal",
          "Europe/Netherlands",
          "Oceania/New Zealand",
          "Americas/Nicaragua",
          "Africa/Niger",
          "Africa/Nigeria",
          "Europe/Norway",
          "Asia/Oman",
          "Asia/Pakistan",
          "Americas/Panama",
          "Americas/Paraguay",
          "Americas/Peru",
          "Asia/Philippines",
          "Europe/Poland",
          "Europe/Portugal",
          "Americas/Puerto Rico",
          "Africa/Reunion",
          "Europe/Romania",
          "Africa/Rwanda",
          "Africa/Sao Tome and Principe",
          "Asia/Saudi Arabia",
          "Africa/Senegal",
          "Europe/Serbia",
          "Africa/Sierra Leone",
          "Asia/Singapore",
          "Europe/Slovak Republic",
          "Europe/Slovenia",
          "Africa/Somalia",
          "Africa/South Africa",
          "Europe/Spain",
          "Asia/Sri Lanka",
          "Africa/Sudan",
          "Africa/Swaziland",
          "Europe/Sweden",
          "Europe/Switzerland",
          "Asia/Syria",
          "Asia/Taiwan",
          "Africa/Tanzania",
          "Asia/Thailand",
          "Africa/Togo",
          "Americas/Trinidad and Tobago",
          "Africa/Tunisia",
          "Europe/Turkey",
          "Africa/Uganda",
          "Europe/United Kingdom",
          "Americas/United States",
          "Americas/Uruguay",
          "Americas/Venezuela",
          "Asia/Vietnam",
          "Asia/West Bank and Gaza",
          "Asia/Yemen, Rep.",
          "Africa/Zambia",
          "Africa/Zimbabwe",
          "Africa",
          "Americas",
          "Asia",
          "Europe",
          "Oceania"
         ],
         "labels": [
          "2007",
          "1997",
          "1967",
          "1967",
          "1967",
          "1967",
          "1967",
          "1967",
          "1967",
          "1967",
          "1967",
          "1967",
          "1967",
          "1967",
          "1997",
          "1982",
          "1982",
          "1982",
          "1997",
          "1982",
          "1997",
          "1997",
          "1997",
          "1997",
          "1997",
          "1997",
          "1997",
          "1997",
          "1997",
          "1997",
          "1997",
          "1997",
          "1997",
          "1997",
          "1997",
          "1997",
          "1997",
          "1997",
          "1997",
          "1997",
          "1997",
          "1982",
          "1982",
          "1967",
          "1967",
          "1967",
          "1967",
          "1967",
          "1967",
          "1967",
          "1967",
          "1967",
          "1967",
          "1967",
          "1967",
          "1967",
          "1967",
          "1967",
          "1967",
          "1967",
          "1967",
          "1982",
          "1967",
          "1967",
          "1982",
          "1982",
          "1982",
          "1982",
          "1967",
          "1967",
          "1967",
          "1967",
          "1967",
          "1967",
          "1967",
          "1967",
          "1967",
          "1967",
          "1967",
          "1967",
          "1967",
          "1967",
          "1967",
          "1992",
          "1967",
          "1962",
          "1962",
          "2002",
          "2002",
          "2002",
          "2002",
          "2002",
          "2002",
          "2002",
          "2002",
          "2002",
          "2002",
          "2002",
          "1987",
          "1992",
          "1992",
          "1992",
          "1962",
          "1992",
          "1962",
          "1962",
          "1962",
          "1962",
          "1962",
          "1962",
          "1962",
          "1962",
          "1997",
          "1962",
          "1962",
          "1962",
          "1962",
          "1962",
          "1962",
          "1962",
          "1962",
          "1962",
          "1962",
          "1962",
          "1967",
          "1992",
          "1992",
          "2002",
          "2002",
          "2002",
          "2002",
          "2002",
          "2002",
          "1987",
          "1962",
          "1962",
          "1962",
          "1962",
          "1962",
          "1962",
          "1967",
          "1967",
          "1967",
          "1967",
          "2002",
          "1992",
          "2002",
          "2002",
          "1992",
          "1992",
          "1992",
          "1992",
          "1987",
          "1987",
          "1987",
          "1987",
          "1987",
          "1987",
          "1987",
          "1987",
          "1987",
          "1987",
          "1987",
          "2002",
          "2002",
          "2002",
          "1962",
          "1967",
          "1987",
          "1972",
          "1972",
          "1972",
          "1972",
          "1972",
          "1972",
          "1972",
          "1972",
          "1972",
          "1972",
          "1972",
          "1972",
          "1972",
          "1997",
          "1997",
          "1997",
          "1997",
          "1972",
          "1997",
          "1972",
          "1972",
          "1997",
          "1997",
          "1997",
          "1997",
          "1997",
          "1997",
          "1997",
          "1997",
          "1997",
          "1997",
          "1972",
          "1972",
          "1972",
          "1972",
          "1972",
          "1972",
          "1972",
          "1972",
          "1997",
          "1997",
          "1997",
          "1997",
          "1997",
          "1997",
          "1997",
          "1997",
          "1997",
          "1997",
          "1997",
          "1997",
          "1997",
          "1997",
          "1997",
          "1997",
          "1997",
          "1997",
          "1997",
          "1997",
          "1997",
          "1997",
          "1997",
          "1997",
          "1997",
          "1997",
          "1997",
          "1997",
          "1997",
          "1982",
          "1982",
          "1982",
          "1982",
          "1982",
          "1982",
          "1982",
          "1982",
          "1992",
          "1992",
          "1992",
          "1997",
          "1997",
          "1987",
          "1982",
          "2002",
          "2002",
          "1967",
          "1967",
          "1967",
          "1967",
          "1967",
          "1967",
          "1967",
          "1967",
          "1967",
          "1967",
          "1967",
          "1967",
          "1967",
          "1967",
          "1967",
          "1967",
          "1987",
          "1967",
          "1987",
          "1987",
          "1987",
          "1987",
          "1987",
          "1987",
          "1987",
          "1987",
          "1987",
          "1987",
          "1987",
          "1987",
          "1987",
          "1987",
          "1987",
          "1987",
          "1987",
          "1987",
          "1987",
          "1987",
          "1992",
          "1967",
          "1967",
          "1972",
          "1972",
          "1972",
          "1972",
          "1972",
          "1972",
          "1972",
          "2002",
          "2002",
          "2002",
          "2002",
          "2002",
          "2002",
          "2002",
          "2002",
          "2002",
          "2002",
          "1972",
          "1967",
          "1972",
          "1972",
          "1967",
          "1967",
          "1967",
          "1967",
          "2002",
          "2002",
          "2002",
          "2002",
          "2002",
          "2002",
          "2002",
          "2002",
          "2002",
          "2002",
          "2002",
          "2002",
          "1972",
          "1972",
          "1962",
          "1962",
          "1962",
          "1982",
          "1982",
          "1982",
          "1982",
          "1982",
          "1982",
          "1982",
          "1982",
          "1982",
          "1982",
          "1982",
          "1982",
          "1982",
          "1982",
          "1982",
          "1982",
          "1982",
          "1982",
          "1982",
          "1982",
          "1982",
          "1982",
          "1982",
          "1982",
          "1987",
          "1987",
          "1987",
          "1982",
          "1987",
          "1987",
          "1987",
          "1987",
          "1982",
          "1982",
          "1982",
          "1982",
          "1987",
          "1952",
          "1952",
          "1952",
          "1957",
          "1957",
          "1957",
          "1957",
          "1957",
          "1957",
          "1957",
          "2007",
          "1957",
          "1957",
          "1957",
          "1957",
          "2007",
          "1962",
          "2007",
          "2007",
          "1957",
          "1982",
          "1982",
          "1982",
          "1952",
          "1952",
          "1952",
          "1952",
          "1952",
          "1952",
          "1952",
          "1952",
          "1952",
          "1982",
          "1982",
          "1982",
          "1982",
          "1982",
          "1982",
          "1982",
          "1982",
          "1982",
          "1982",
          "1982",
          "1982",
          "2007",
          "1982",
          "1952",
          "1952",
          "1952",
          "1952",
          "1952",
          "2007",
          "1952",
          "1952",
          "1952",
          "1952",
          "1952",
          "1952",
          "1952",
          "1952",
          "1952",
          "2007",
          "2007",
          "2007",
          "2007",
          "2007",
          "2007",
          "2007",
          "2007",
          "2007",
          "2007",
          "2007",
          "2007",
          "2007",
          "2007",
          "2007",
          "2007",
          "2007",
          "2007",
          "2007",
          "2007",
          "1952",
          "2007",
          "1952",
          "1952",
          "1987",
          "1987",
          "1987",
          "1987",
          "1987",
          "1987",
          "1987",
          "1982",
          "1987",
          "1987",
          "1987",
          "1987",
          "1982",
          "1982",
          "1982",
          "1982",
          "1987",
          "1982",
          "1982",
          "1982",
          "1952",
          "1952",
          "1952",
          "1952",
          "1952",
          "1952",
          "1982",
          "1982",
          "1982",
          "1982",
          "1982",
          "1982",
          "1982",
          "1982",
          "1982",
          "1982",
          "1982",
          "1952",
          "2007",
          "1997",
          "2007",
          "1957",
          "1957",
          "1957",
          "1957",
          "1957",
          "1957",
          "1957",
          "1957",
          "1977",
          "1977",
          "1977",
          "1977",
          "1977",
          "1977",
          "1977",
          "1957",
          "1957",
          "1957",
          "1957",
          "1977",
          "1957",
          "1957",
          "1957",
          "1957",
          "1957",
          "2007",
          "1957",
          "1957",
          "1957",
          "1957",
          "1957",
          "1957",
          "1957",
          "1977",
          "1977",
          "1977",
          "1977",
          "1962",
          "1962",
          "1962",
          "1962",
          "1962",
          "1962",
          "1962",
          "1962",
          "1962",
          "1962",
          "1962",
          "1962",
          "1962",
          "1962",
          "1962",
          "1962",
          "1957",
          "1962",
          "1962",
          "1982",
          "1982",
          "1982",
          "1982",
          "1982",
          "1982",
          "1982",
          "1982",
          "1982",
          "1982",
          "1982",
          "2002",
          "1982",
          "1962",
          "1962",
          "1962",
          "1957",
          "1957",
          "1957",
          "1957",
          "1957",
          "1957",
          "1957",
          "1957",
          "1957",
          "1957",
          "1957",
          "1957",
          "1957",
          "1957",
          "1957",
          "1957",
          "1957",
          "1957",
          "1957",
          "1957",
          "1957",
          "1957",
          "1957",
          "1957",
          "1957",
          "2007",
          "2007",
          "2007",
          "2007",
          "2007",
          "2007",
          "1957",
          "1957",
          "1957",
          "2007",
          "1957",
          "1957",
          "1957",
          "1957",
          "2007",
          "1957",
          "1957",
          "2002",
          "1957",
          "2007",
          "2007",
          "2007",
          "2007",
          "2007",
          "2007",
          "2007",
          "2002",
          "1977",
          "1977",
          "1977",
          "1977",
          "1977",
          "1982",
          "1977",
          "1992",
          "1982",
          "1982",
          "1982",
          "1977",
          "1992",
          "1977",
          "1977",
          "1992",
          "1977",
          "1977",
          "1992",
          "1992",
          "1992",
          "1992",
          "1992",
          "1992",
          "1992",
          "1992",
          "1992",
          "1992",
          "1977",
          "1992",
          "1992",
          "1992",
          "1992",
          "1992",
          "1992",
          "1992",
          "1992",
          "1992",
          "1992",
          "1992",
          "1992",
          "1992",
          "1992",
          "1992",
          "1992",
          "1992",
          "1992",
          "1992",
          "1992",
          "1992",
          "1992",
          "1992",
          "1992",
          "1992",
          "1992",
          "1992",
          "1992",
          "1992",
          "1992",
          "1992",
          "1992",
          "1992",
          "1992",
          "1992",
          "1967",
          "1982",
          "2002",
          "1957",
          "1957",
          "1957",
          "1957",
          "1957",
          "1957",
          "1957",
          "1957",
          "1957",
          "1957",
          "1957",
          "1957",
          "2007",
          "2007",
          "2007",
          "2007",
          "2007",
          "2007",
          "2007",
          "2007",
          "2007",
          "2007",
          "2007",
          "1957",
          "1957",
          "1957",
          "1957",
          "1957",
          "2002",
          "2002",
          "2002",
          "2002",
          "1982",
          "2002",
          "1962",
          "1962",
          "1962",
          "1962",
          "1957",
          "1957",
          "1957",
          "1957",
          "1957",
          "1957",
          "1957",
          "1957",
          "1957",
          "1957",
          "1957",
          "1957",
          "1957",
          "1957",
          "1957",
          "1957",
          "1957",
          "1952",
          "1952",
          "1952",
          "2007",
          "2007",
          "1987",
          "1987",
          "1987",
          "1987",
          "1987",
          "1987",
          "1987",
          "1987",
          "1987",
          "1987",
          "2007",
          "1987",
          "1952",
          "1952",
          "1952",
          "1952",
          "1952",
          "1952",
          "1952",
          "1952",
          "1952",
          "1952",
          "1952",
          "1952",
          "1987",
          "2002",
          "2007",
          "2007",
          "1952",
          "1952",
          "1952",
          "1952",
          "1952",
          "1952",
          "1952",
          "2007",
          "2007",
          "2007",
          "2007",
          "2007",
          "2007",
          "2007",
          "2007",
          "2007",
          "2007",
          "2007",
          "2007",
          "2007",
          "2007",
          "2007",
          "2007",
          "2007",
          "2007",
          "2007",
          "2007",
          "2002",
          "2002",
          "2002",
          "1972",
          "1972",
          "1972",
          "1972",
          "1967",
          "1967",
          "1967",
          "1967",
          "1967",
          "1967",
          "1967",
          "1967",
          "1967",
          "1967",
          "1967",
          "1972",
          "1967",
          "1967",
          "1987",
          "1987",
          "1982",
          "2002",
          "1982",
          "1982",
          "1982",
          "1972",
          "1967",
          "1972",
          "1972",
          "1972",
          "1972",
          "1972",
          "1972",
          "1972",
          "1972",
          "1972",
          "1972",
          "1972",
          "1972",
          "1972",
          "1972",
          "1972",
          "1972",
          "1972",
          "1972",
          "1972",
          "1972",
          "1972",
          "1972",
          "1972",
          "1972",
          "1972",
          "1972",
          "1972",
          "1972",
          "1972",
          "1967",
          "1967",
          "1962",
          "1962",
          "1962",
          "1962",
          "1962",
          "1962",
          "1962",
          "1962",
          "1962",
          "1962",
          "1962",
          "1962",
          "1962",
          "1962",
          "1962",
          "1962",
          "1962",
          "1962",
          "1962",
          "1962",
          "1962",
          "1962",
          "1962",
          "1962",
          "1962",
          "2002",
          "1962",
          "1967",
          "1962",
          "1962",
          "1967",
          "1967",
          "1967",
          "1967",
          "1967",
          "1967",
          "1967",
          "1967",
          "1967",
          "1967",
          "1967",
          "1962",
          "1967",
          "1967",
          "1967",
          "1967",
          "1967",
          "1967",
          "1962",
          "1962",
          "1962",
          "1962",
          "1962",
          "1962",
          "1962",
          "1967",
          "1972",
          "1987",
          "1992",
          "1987",
          "1987",
          "1992",
          "1992",
          "1992",
          "1992",
          "1992",
          "1992",
          "1992",
          "1992",
          "1987",
          "1992",
          "2002",
          "1992",
          "2007",
          "2007",
          "2002",
          "2002",
          "2002",
          "2002",
          "2002",
          "2002",
          "2002",
          "2002",
          "2002",
          "2002",
          "2002",
          "2002",
          "2007",
          "2002",
          "2002",
          "2002",
          "2002",
          "2002",
          "2002",
          "2002",
          "2002",
          "2002",
          "2002",
          "2002",
          "2002",
          "2002",
          "2002",
          "2002",
          "2002",
          "2002",
          "2007",
          "2007",
          "2007",
          "2007",
          "2007",
          "2007",
          "2007",
          "2007",
          "2007",
          "2007",
          "2007",
          "2007",
          "2007",
          "2007",
          "2007",
          "2007",
          "2007",
          "2007",
          "2007",
          "2007",
          "2007",
          "2007",
          "2007",
          "2007",
          "2007",
          "2007",
          "2007",
          "2007",
          "2007",
          "2007",
          "2007",
          "2007",
          "2007",
          "1992",
          "2002",
          "2002",
          "1997",
          "1997",
          "1997",
          "1997",
          "1997",
          "1997",
          "1992",
          "1992",
          "1992",
          "1992",
          "1992",
          "1992",
          "1992",
          "1992",
          "1997",
          "1992",
          "1992",
          "1992",
          "1992",
          "1992",
          "1992",
          "1992",
          "1992",
          "1992",
          "1992",
          "1992",
          "1992",
          "1992",
          "1992",
          "1992",
          "1992",
          "2002",
          "1997",
          "1997",
          "2002",
          "1987",
          "2002",
          "2002",
          "2002",
          "2002",
          "2002",
          "2002",
          "2002",
          "2002",
          "2002",
          "2002",
          "2002",
          "2002",
          "1997",
          "2002",
          "1997",
          "1997",
          "1997",
          "1997",
          "1997",
          "1997",
          "1997",
          "1997",
          "1997",
          "1997",
          "1997",
          "1997",
          "1997",
          "1997",
          "2002",
          "1987",
          "1952",
          "1987",
          "1977",
          "1977",
          "1977",
          "1977",
          "1977",
          "1977",
          "1977",
          "1977",
          "1977",
          "1977",
          "1977",
          "1977",
          "1977",
          "1977",
          "1977",
          "1977",
          "1977",
          "1977",
          "1972",
          "1972",
          "1972",
          "1972",
          "1972",
          "1972",
          "1977",
          "1972",
          "1972",
          "1972",
          "1972",
          "1972",
          "1977",
          "1977",
          "1972",
          "1977",
          "1977",
          "1977",
          "1977",
          "1977",
          "1977",
          "1977",
          "1977",
          "1977",
          "1977",
          "1977",
          "1977",
          "1977",
          "1977",
          "1977",
          "1977",
          "1977",
          "1977",
          "1977",
          "1977",
          "1977",
          "1977",
          "1977",
          "1977",
          "1977",
          "1977",
          "1977",
          "1977",
          "1977",
          "1977",
          "1977",
          "1977",
          "1977",
          "1977",
          "1977",
          "1977",
          "1972",
          "1972",
          "1987",
          "1972",
          "1952",
          "1952",
          "1952",
          "1952",
          "1952",
          "1952",
          "1952",
          "1952",
          "1952",
          "1952",
          "1952",
          "1952",
          "1952",
          "1952",
          "1952",
          "1952",
          "1952",
          "1952",
          "1952",
          "1952",
          "1952",
          "1952",
          "1952",
          "1952",
          "1952",
          "1952",
          "1952",
          "1952",
          "1952",
          "1952",
          "1952",
          "1952",
          "1952",
          "1952",
          "1977",
          "1952",
          "1957",
          "1962",
          "1962",
          "1962",
          "1972",
          "1972",
          "1972",
          "1962",
          "1972",
          "1972",
          "1972",
          "1972",
          "1972",
          "1972",
          "1972",
          "1972",
          "1962",
          "1962",
          "1962",
          "1957",
          "1957",
          "1957",
          "1957",
          "1957",
          "1957",
          "1957",
          "1957",
          "1957",
          "1957",
          "1962",
          "1962",
          "1962",
          "1962",
          "1962",
          "1957",
          "1977",
          "1977",
          "1977",
          "1982",
          "1982",
          "1982",
          "1982",
          "1982",
          "1982",
          "1982",
          "1982",
          "1982",
          "1982",
          "1982",
          "1982",
          "1982",
          "1982",
          "1982",
          "1982",
          "1982",
          "1982",
          "1982",
          "1977",
          "1977",
          "1977",
          "1977",
          "1977",
          "1977",
          "1977",
          "1977",
          "1977",
          "1977",
          "1977",
          "1982",
          "1977",
          "1982",
          "1982",
          "1977",
          "1987",
          "1987",
          "1987",
          "1987",
          "1987",
          "1987",
          "1987",
          "1987",
          "1987",
          "1987",
          "1987",
          "1987",
          "1987",
          "1982",
          "1987",
          "1987",
          "1987",
          "1982",
          "1982",
          "1982",
          "1982",
          "1982",
          "1982",
          "1982",
          "1982",
          "1982",
          "1982",
          "1982",
          "1982",
          "1987",
          "1977",
          "1982",
          "1977",
          "1987",
          "1977",
          "1977",
          "1977",
          "1977",
          "1977",
          "1977",
          "1977",
          "1987",
          "1977",
          "1977",
          "1977",
          "1977",
          "1987",
          "1987",
          "1987",
          "1987",
          "1977",
          "1977",
          "1987",
          "1977",
          "1987",
          "1987",
          "1987",
          "1977",
          "1977",
          "1977",
          "1987",
          "1977",
          "1962",
          "1962",
          "1962",
          "1962",
          "1962",
          "1962",
          "1962",
          "1962",
          "1962",
          "1962",
          "1987",
          "1967",
          "1962",
          "1962",
          "1962",
          "1962",
          "1987",
          "1987",
          "1952",
          "1987",
          "1987",
          "1987",
          "1987",
          "1987",
          "1987",
          "1987",
          "1987",
          "1987",
          "1987",
          "1987",
          "1987",
          "1952",
          "1987",
          "1987",
          "1987",
          "1987",
          "1962",
          "1967",
          "1962",
          "1962",
          "1962",
          "1962",
          "1962",
          "1962",
          "1962",
          "1967",
          "1962",
          "1967",
          "1967",
          "1967",
          "1967",
          "1967",
          "1967",
          "1967",
          "1967",
          "1967",
          "1962",
          "1962",
          "1962",
          "1962",
          "1967",
          "1967",
          "1967",
          "1967",
          "1967",
          "1967",
          "1967",
          "1967",
          "1962",
          "1967",
          "1962",
          "1962",
          "1962",
          "1962",
          "1962",
          "1962",
          "1962",
          "1962",
          "1952",
          "1952",
          "2007",
          "1952",
          "1952",
          "1952",
          "1952",
          "1952",
          "1952",
          "1952",
          "1952",
          "1957",
          "1957",
          "1957",
          "1957",
          "1957",
          "1957",
          "1957",
          "1957",
          "1957",
          "1957",
          "1952",
          "1952",
          "1952",
          "1952",
          "1952",
          "1952",
          "1952",
          "1952",
          "1952",
          "1952",
          "1952",
          "1952",
          "2007",
          "1952",
          "1952",
          "1957",
          "1952",
          "1987",
          "1987",
          "1987",
          "1987",
          "1987",
          "1952",
          "2007",
          "1967",
          "1952",
          "1957",
          "1957",
          "1957",
          "1957",
          "1957",
          "1957",
          "2007",
          "2007",
          "1957",
          "2007",
          "2007",
          "2007",
          "2007",
          "2007",
          "2007",
          "2007",
          "2007",
          "1957",
          "2007",
          "1952",
          "1957",
          "1957",
          "1952",
          "1952",
          "1952",
          "1952",
          "1952",
          "1952",
          "2007",
          "2007",
          "1957",
          "2007",
          "2007",
          "2007",
          "2007",
          "2007",
          "2007",
          "2007",
          "1957",
          "1957",
          "2007",
          "1967",
          "1967",
          "2002",
          "1997",
          "1997",
          "1997",
          "1997",
          "1997",
          "1997",
          "1997",
          "1997",
          "1977",
          "1997",
          "1977",
          "1977",
          "1977",
          "1977",
          "1977",
          "1977",
          "1977",
          "1977",
          "1977",
          "1977",
          "1977",
          "1997",
          "1997",
          "1997",
          "1997",
          "1997",
          "1997",
          "1997",
          "1997",
          "1997",
          "1997",
          "1997",
          "1997",
          "1997",
          "2002",
          "1997",
          "1997",
          "1997",
          "1997",
          "1972",
          "1992",
          "1992",
          "1992",
          "1992",
          "1997",
          "1997",
          "1997",
          "1997",
          "1992",
          "1992",
          "1992",
          "1992",
          "1992",
          "1992",
          "1992",
          "1992",
          "1992",
          "1992",
          "1992",
          "1992",
          "1992",
          "1992",
          "1992",
          "1992",
          "1992",
          "1992",
          "1992",
          "1992",
          "1992",
          "1997",
          "1992",
          "1992",
          "1997",
          "1997",
          "1992",
          "1992",
          "1992",
          "1992",
          "1992",
          "1992",
          "1977",
          "1992",
          "1977",
          "1977",
          "1977",
          "1977",
          "1977",
          "1977",
          "1977",
          "1977",
          "1977",
          "1977",
          "1977",
          "1997",
          "1997",
          "1997",
          "1967",
          "1972",
          "1972",
          "1972",
          "1972",
          "1972",
          "1972",
          "1972",
          "1972",
          "1967",
          "1972",
          "1972",
          "1972",
          "1972",
          "1972",
          "1997",
          "1972",
          "1972",
          "1972",
          "1972",
          "1972",
          "1967",
          "1967",
          "2002",
          "2002",
          "2002",
          "2002",
          "2002",
          "2002",
          "2002",
          "2002",
          "2002",
          "2002",
          "2002",
          "2002",
          "2002",
          "2002",
          "2002",
          "2002",
          "2002",
          "2002",
          "2002",
          "2002",
          "2002",
          "2002",
          "1972",
          "1972",
          "1997",
          "1992",
          "1997",
          "1997",
          "1997",
          "1992",
          "1972",
          "1972",
          "1972",
          "1972",
          "1972",
          "1997",
          "1972",
          "1972",
          "1972",
          "1972",
          "1972",
          "1972",
          "1972",
          "1972",
          "1972",
          "1972",
          "1992",
          "1972",
          "2002",
          "2002",
          "1992",
          "1992",
          "1992",
          "1992",
          "1997",
          "1997",
          "1992",
          "1997",
          "1997",
          "2002",
          "2002",
          "1972",
          "1972",
          "1972",
          "1972",
          "1972",
          "2002",
          "2002",
          "2002",
          "2002",
          "1972",
          "1972",
          "1952",
          "1952",
          "1987",
          "1987",
          "1987",
          "1987",
          "1987",
          "1987",
          "1987",
          "1987",
          "1987",
          "1952",
          "1987",
          "1952",
          "1952",
          "1952",
          "1952",
          "1952",
          "1952",
          "1952",
          "1952",
          "1952",
          "1987",
          "1987",
          "Afghanistan",
          "Albania",
          "Algeria",
          "Angola",
          "Argentina",
          "Australia",
          "Austria",
          "Bahrain",
          "Bangladesh",
          "Belgium",
          "Benin",
          "Bolivia",
          "Bosnia and Herzegovina",
          "Botswana",
          "Brazil",
          "Bulgaria",
          "Burkina Faso",
          "Burundi",
          "Cambodia",
          "Cameroon",
          "Canada",
          "Central African Republic",
          "Chad",
          "Chile",
          "China",
          "Colombia",
          "Comoros",
          "Congo, Dem. Rep.",
          "Congo, Rep.",
          "Costa Rica",
          "Cote d'Ivoire",
          "Croatia",
          "Cuba",
          "Czech Republic",
          "Denmark",
          "Djibouti",
          "Dominican Republic",
          "Ecuador",
          "Egypt",
          "El Salvador",
          "Equatorial Guinea",
          "Eritrea",
          "Ethiopia",
          "Finland",
          "France",
          "Gabon",
          "Gambia",
          "Germany",
          "Ghana",
          "Greece",
          "Guatemala",
          "Guinea",
          "Guinea-Bissau",
          "Haiti",
          "Honduras",
          "Hong Kong, China",
          "Hungary",
          "Iceland",
          "India",
          "Indonesia",
          "Iran",
          "Iraq",
          "Ireland",
          "Israel",
          "Italy",
          "Jamaica",
          "Japan",
          "Jordan",
          "Kenya",
          "Korea, Dem. Rep.",
          "Korea, Rep.",
          "Kuwait",
          "Lebanon",
          "Lesotho",
          "Liberia",
          "Libya",
          "Madagascar",
          "Malawi",
          "Malaysia",
          "Mali",
          "Mauritania",
          "Mauritius",
          "Mexico",
          "Mongolia",
          "Montenegro",
          "Morocco",
          "Mozambique",
          "Myanmar",
          "Namibia",
          "Nepal",
          "Netherlands",
          "New Zealand",
          "Nicaragua",
          "Niger",
          "Nigeria",
          "Norway",
          "Oman",
          "Pakistan",
          "Panama",
          "Paraguay",
          "Peru",
          "Philippines",
          "Poland",
          "Portugal",
          "Puerto Rico",
          "Reunion",
          "Romania",
          "Rwanda",
          "Sao Tome and Principe",
          "Saudi Arabia",
          "Senegal",
          "Serbia",
          "Sierra Leone",
          "Singapore",
          "Slovak Republic",
          "Slovenia",
          "Somalia",
          "South Africa",
          "Spain",
          "Sri Lanka",
          "Sudan",
          "Swaziland",
          "Sweden",
          "Switzerland",
          "Syria",
          "Taiwan",
          "Tanzania",
          "Thailand",
          "Togo",
          "Trinidad and Tobago",
          "Tunisia",
          "Turkey",
          "Uganda",
          "United Kingdom",
          "United States",
          "Uruguay",
          "Venezuela",
          "Vietnam",
          "West Bank and Gaza",
          "Yemen, Rep.",
          "Zambia",
          "Zimbabwe",
          "Africa",
          "Americas",
          "Asia",
          "Europe",
          "Oceania"
         ],
         "marker": {
          "colors": [
           "#636efa",
           "#636efa",
           "#636efa",
           "#EF553B",
           "#00cc96",
           "#EF553B",
           "#EF553B",
           "#636efa",
           "#00cc96",
           "#00cc96",
           "#636efa",
           "#00cc96",
           "#636efa",
           "#636efa",
           "#00cc96",
           "#636efa",
           "#ab63fa",
           "#EF553B",
           "#636efa",
           "#EF553B",
           "#636efa",
           "#ab63fa",
           "#ab63fa",
           "#ab63fa",
           "#EF553B",
           "#636efa",
           "#00cc96",
           "#EF553B",
           "#636efa",
           "#00cc96",
           "#EF553B",
           "#636efa",
           "#636efa",
           "#ab63fa",
           "#636efa",
           "#00cc96",
           "#636efa",
           "#636efa",
           "#00cc96",
           "#00cc96",
           "#EF553B",
           "#636efa",
           "#EF553B",
           "#ab63fa",
           "#ab63fa",
           "#636efa",
           "#636efa",
           "#636efa",
           "#636efa",
           "#636efa",
           "#ab63fa",
           "#636efa",
           "#636efa",
           "#636efa",
           "#00cc96",
           "#ab63fa",
           "#EF553B",
           "#636efa",
           "#636efa",
           "#ab63fa",
           "#ab63fa",
           "#636efa",
           "#ab63fa",
           "#ab63fa",
           "#ab63fa",
           "#636efa",
           "#636efa",
           "#EF553B",
           "#00cc96",
           "#ab63fa",
           "#EF553B",
           "#EF553B",
           "#ab63fa",
           "#ab63fa",
           "#ab63fa",
           "#ab63fa",
           "#EF553B",
           "#ab63fa",
           "#EF553B",
           "#00cc96",
           "#ab63fa",
           "#636efa",
           "#636efa",
           "#00cc96",
           "#00cc96",
           "#636efa",
           "#ab63fa",
           "#636efa",
           "#ab63fa",
           "#ab63fa",
           "#EF553B",
           "#EF553B",
           "#636efa",
           "#636efa",
           "#ab63fa",
           "#EF553B",
           "#636efa",
           "#636efa",
           "#636efa",
           "#ab63fa",
           "#ab63fa",
           "#636efa",
           "#636efa",
           "#ab63fa",
           "#EF553B",
           "#00cc96",
           "#00cc96",
           "#00cc96",
           "#ab63fa",
           "#EF553B",
           "#EF553B",
           "#ab63fa",
           "#EF553B",
           "#ab63fa",
           "#ab63fa",
           "#EF553B",
           "#ab63fa",
           "#636efa",
           "#636efa",
           "#ab63fa",
           "#636efa",
           "#636efa",
           "#636efa",
           "#ab63fa",
           "#FFA15A",
           "#636efa",
           "#636efa",
           "#ab63fa",
           "#ab63fa",
           "#EF553B",
           "#636efa",
           "#636efa",
           "#00cc96",
           "#00cc96",
           "#00cc96",
           "#ab63fa",
           "#ab63fa",
           "#ab63fa",
           "#636efa",
           "#636efa",
           "#ab63fa",
           "#EF553B",
           "#636efa",
           "#636efa",
           "#00cc96",
           "#00cc96",
           "#00cc96",
           "#ab63fa",
           "#EF553B",
           "#636efa",
           "#EF553B",
           "#00cc96",
           "#636efa",
           "#00cc96",
           "#636efa",
           "#00cc96",
           "#00cc96",
           "#636efa",
           "#EF553B",
           "#EF553B",
           "#00cc96",
           "#EF553B",
           "#636efa",
           "#EF553B",
           "#EF553B",
           "#00cc96",
           "#636efa",
           "#ab63fa",
           "#636efa",
           "#ab63fa",
           "#EF553B",
           "#EF553B",
           "#ab63fa",
           "#ab63fa",
           "#ab63fa",
           "#ab63fa",
           "#EF553B",
           "#ab63fa",
           "#EF553B",
           "#00cc96",
           "#ab63fa",
           "#ab63fa",
           "#00cc96",
           "#ab63fa",
           "#ab63fa",
           "#636efa",
           "#00cc96",
           "#ab63fa",
           "#00cc96",
           "#636efa",
           "#EF553B",
           "#EF553B",
           "#636efa",
           "#636efa",
           "#EF553B",
           "#636efa",
           "#EF553B",
           "#00cc96",
           "#636efa",
           "#636efa",
           "#EF553B",
           "#636efa",
           "#636efa",
           "#EF553B",
           "#636efa",
           "#EF553B",
           "#00cc96",
           "#636efa",
           "#636efa",
           "#ab63fa",
           "#ab63fa",
           "#ab63fa",
           "#636efa",
           "#ab63fa",
           "#00cc96",
           "#00cc96",
           "#00cc96",
           "#EF553B",
           "#636efa",
           "#EF553B",
           "#636efa",
           "#00cc96",
           "#636efa",
           "#ab63fa",
           "#636efa",
           "#ab63fa",
           "#ab63fa",
           "#EF553B",
           "#EF553B",
           "#ab63fa",
           "#636efa",
           "#EF553B",
           "#636efa",
           "#636efa",
           "#636efa",
           "#636efa",
           "#636efa",
           "#ab63fa",
           "#ab63fa",
           "#636efa",
           "#ab63fa",
           "#636efa",
           "#00cc96",
           "#636efa",
           "#EF553B",
           "#EF553B",
           "#636efa",
           "#636efa",
           "#EF553B",
           "#636efa",
           "#636efa",
           "#EF553B",
           "#00cc96",
           "#EF553B",
           "#EF553B",
           "#EF553B",
           "#636efa",
           "#636efa",
           "#EF553B",
           "#ab63fa",
           "#636efa",
           "#636efa",
           "#EF553B",
           "#EF553B",
           "#ab63fa",
           "#ab63fa",
           "#636efa",
           "#ab63fa",
           "#636efa",
           "#00cc96",
           "#636efa",
           "#636efa",
           "#636efa",
           "#ab63fa",
           "#636efa",
           "#EF553B",
           "#EF553B",
           "#ab63fa",
           "#ab63fa",
           "#636efa",
           "#ab63fa",
           "#636efa",
           "#00cc96",
           "#636efa",
           "#EF553B",
           "#636efa",
           "#EF553B",
           "#00cc96",
           "#00cc96",
           "#00cc96",
           "#ab63fa",
           "#ab63fa",
           "#ab63fa",
           "#EF553B",
           "#EF553B",
           "#636efa",
           "#00cc96",
           "#EF553B",
           "#636efa",
           "#636efa",
           "#ab63fa",
           "#636efa",
           "#636efa",
           "#00cc96",
           "#636efa",
           "#636efa",
           "#636efa",
           "#00cc96",
           "#ab63fa",
           "#00cc96",
           "#636efa",
           "#636efa",
           "#EF553B",
           "#636efa",
           "#00cc96",
           "#EF553B",
           "#00cc96",
           "#00cc96",
           "#00cc96",
           "#ab63fa",
           "#636efa",
           "#636efa",
           "#636efa",
           "#00cc96",
           "#636efa",
           "#00cc96",
           "#00cc96",
           "#636efa",
           "#EF553B",
           "#EF553B",
           "#00cc96",
           "#EF553B",
           "#ab63fa",
           "#636efa",
           "#636efa",
           "#ab63fa",
           "#EF553B",
           "#EF553B",
           "#636efa",
           "#636efa",
           "#EF553B",
           "#EF553B",
           "#636efa",
           "#636efa",
           "#636efa",
           "#636efa",
           "#636efa",
           "#00cc96",
           "#00cc96",
           "#636efa",
           "#EF553B",
           "#EF553B",
           "#00cc96",
           "#00cc96",
           "#EF553B",
           "#EF553B",
           "#636efa",
           "#ab63fa",
           "#ab63fa",
           "#EF553B",
           "#EF553B",
           "#EF553B",
           "#636efa",
           "#EF553B",
           "#00cc96",
           "#636efa",
           "#EF553B",
           "#EF553B",
           "#636efa",
           "#ab63fa",
           "#00cc96",
           "#00cc96",
           "#636efa",
           "#636efa",
           "#636efa",
           "#636efa",
           "#EF553B",
           "#00cc96",
           "#EF553B",
           "#636efa",
           "#636efa",
           "#ab63fa",
           "#636efa",
           "#00cc96",
           "#EF553B",
           "#636efa",
           "#00cc96",
           "#ab63fa",
           "#00cc96",
           "#636efa",
           "#00cc96",
           "#00cc96",
           "#EF553B",
           "#636efa",
           "#00cc96",
           "#00cc96",
           "#ab63fa",
           "#EF553B",
           "#ab63fa",
           "#ab63fa",
           "#636efa",
           "#ab63fa",
           "#636efa",
           "#00cc96",
           "#636efa",
           "#EF553B",
           "#636efa",
           "#00cc96",
           "#636efa",
           "#636efa",
           "#636efa",
           "#00cc96",
           "#ab63fa",
           "#ab63fa",
           "#ab63fa",
           "#ab63fa",
           "#EF553B",
           "#ab63fa",
           "#EF553B",
           "#ab63fa",
           "#ab63fa",
           "#00cc96",
           "#636efa",
           "#636efa",
           "#636efa",
           "#ab63fa",
           "#00cc96",
           "#EF553B",
           "#00cc96",
           "#EF553B",
           "#EF553B",
           "#636efa",
           "#00cc96",
           "#00cc96",
           "#636efa",
           "#636efa",
           "#636efa",
           "#EF553B",
           "#ab63fa",
           "#ab63fa",
           "#ab63fa",
           "#00cc96",
           "#00cc96",
           "#00cc96",
           "#EF553B",
           "#636efa",
           "#EF553B",
           "#636efa",
           "#00cc96",
           "#636efa",
           "#ab63fa",
           "#636efa",
           "#ab63fa",
           "#ab63fa",
           "#EF553B",
           "#636efa",
           "#636efa",
           "#00cc96",
           "#636efa",
           "#636efa",
           "#ab63fa",
           "#ab63fa",
           "#ab63fa",
           "#ab63fa",
           "#636efa",
           "#ab63fa",
           "#636efa",
           "#ab63fa",
           "#EF553B",
           "#ab63fa",
           "#EF553B",
           "#ab63fa",
           "#ab63fa",
           "#00cc96",
           "#EF553B",
           "#00cc96",
           "#ab63fa",
           "#ab63fa",
           "#ab63fa",
           "#636efa",
           "#EF553B",
           "#EF553B",
           "#636efa",
           "#636efa",
           "#EF553B",
           "#00cc96",
           "#636efa",
           "#636efa",
           "#636efa",
           "#ab63fa",
           "#636efa",
           "#636efa",
           "#636efa",
           "#636efa",
           "#636efa",
           "#ab63fa",
           "#636efa",
           "#00cc96",
           "#636efa",
           "#636efa",
           "#ab63fa",
           "#636efa",
           "#00cc96",
           "#636efa",
           "#EF553B",
           "#636efa",
           "#636efa",
           "#EF553B",
           "#EF553B",
           "#EF553B",
           "#ab63fa",
           "#636efa",
           "#EF553B",
           "#636efa",
           "#636efa",
           "#ab63fa",
           "#ab63fa",
           "#EF553B",
           "#ab63fa",
           "#636efa",
           "#636efa",
           "#EF553B",
           "#636efa",
           "#ab63fa",
           "#EF553B",
           "#636efa",
           "#636efa",
           "#636efa",
           "#EF553B",
           "#ab63fa",
           "#636efa",
           "#636efa",
           "#EF553B",
           "#ab63fa",
           "#636efa",
           "#636efa",
           "#EF553B",
           "#EF553B",
           "#636efa",
           "#00cc96",
           "#00cc96",
           "#636efa",
           "#00cc96",
           "#636efa",
           "#636efa",
           "#636efa",
           "#EF553B",
           "#EF553B",
           "#636efa",
           "#636efa",
           "#EF553B",
           "#636efa",
           "#EF553B",
           "#ab63fa",
           "#00cc96",
           "#636efa",
           "#00cc96",
           "#ab63fa",
           "#EF553B",
           "#EF553B",
           "#00cc96",
           "#636efa",
           "#EF553B",
           "#636efa",
           "#636efa",
           "#ab63fa",
           "#636efa",
           "#ab63fa",
           "#EF553B",
           "#636efa",
           "#00cc96",
           "#EF553B",
           "#EF553B",
           "#EF553B",
           "#636efa",
           "#ab63fa",
           "#ab63fa",
           "#ab63fa",
           "#636efa",
           "#ab63fa",
           "#ab63fa",
           "#00cc96",
           "#EF553B",
           "#ab63fa",
           "#EF553B",
           "#636efa",
           "#ab63fa",
           "#ab63fa",
           "#ab63fa",
           "#ab63fa",
           "#EF553B",
           "#ab63fa",
           "#00cc96",
           "#00cc96",
           "#636efa",
           "#636efa",
           "#00cc96",
           "#EF553B",
           "#636efa",
           "#00cc96",
           "#ab63fa",
           "#00cc96",
           "#636efa",
           "#EF553B",
           "#636efa",
           "#ab63fa",
           "#ab63fa",
           "#ab63fa",
           "#636efa",
           "#ab63fa",
           "#636efa",
           "#ab63fa",
           "#EF553B",
           "#00cc96",
           "#636efa",
           "#FFA15A",
           "#ab63fa",
           "#EF553B",
           "#FFA15A",
           "#00cc96",
           "#EF553B",
           "#636efa",
           "#636efa",
           "#636efa",
           "#636efa",
           "#636efa",
           "#636efa",
           "#ab63fa",
           "#ab63fa",
           "#00cc96",
           "#ab63fa",
           "#00cc96",
           "#00cc96",
           "#EF553B",
           "#636efa",
           "#636efa",
           "#ab63fa",
           "#636efa",
           "#ab63fa",
           "#636efa",
           "#636efa",
           "#636efa",
           "#ab63fa",
           "#EF553B",
           "#EF553B",
           "#ab63fa",
           "#ab63fa",
           "#ab63fa",
           "#ab63fa",
           "#EF553B",
           "#00cc96",
           "#EF553B",
           "#636efa",
           "#ab63fa",
           "#636efa",
           "#ab63fa",
           "#ab63fa",
           "#636efa",
           "#636efa",
           "#636efa",
           "#EF553B",
           "#EF553B",
           "#636efa",
           "#636efa",
           "#636efa",
           "#EF553B",
           "#636efa",
           "#EF553B",
           "#00cc96",
           "#636efa",
           "#636efa",
           "#EF553B",
           "#636efa",
           "#ab63fa",
           "#EF553B",
           "#EF553B",
           "#636efa",
           "#636efa",
           "#EF553B",
           "#ab63fa",
           "#636efa",
           "#EF553B",
           "#636efa",
           "#ab63fa",
           "#ab63fa",
           "#ab63fa",
           "#636efa",
           "#00cc96",
           "#636efa",
           "#ab63fa",
           "#ab63fa",
           "#00cc96",
           "#00cc96",
           "#636efa",
           "#EF553B",
           "#EF553B",
           "#00cc96",
           "#EF553B",
           "#636efa",
           "#00cc96",
           "#636efa",
           "#636efa",
           "#636efa",
           "#636efa",
           "#EF553B",
           "#636efa",
           "#EF553B",
           "#00cc96",
           "#636efa",
           "#636efa",
           "#00cc96",
           "#00cc96",
           "#ab63fa",
           "#EF553B",
           "#EF553B",
           "#00cc96",
           "#00cc96",
           "#00cc96",
           "#ab63fa",
           "#EF553B",
           "#00cc96",
           "#00cc96",
           "#00cc96",
           "#00cc96",
           "#ab63fa",
           "#636efa",
           "#636efa",
           "#EF553B",
           "#ab63fa",
           "#636efa",
           "#636efa",
           "#ab63fa",
           "#ab63fa",
           "#ab63fa",
           "#00cc96",
           "#00cc96",
           "#00cc96",
           "#ab63fa",
           "#636efa",
           "#636efa",
           "#EF553B",
           "#636efa",
           "#00cc96",
           "#EF553B",
           "#EF553B",
           "#ab63fa",
           "#636efa",
           "#636efa",
           "#ab63fa",
           "#636efa",
           "#636efa",
           "#636efa",
           "#636efa",
           "#ab63fa",
           "#EF553B",
           "#636efa",
           "#636efa",
           "#EF553B",
           "#EF553B",
           "#ab63fa",
           "#636efa",
           "#636efa",
           "#EF553B",
           "#ab63fa",
           "#ab63fa",
           "#EF553B",
           "#EF553B",
           "#ab63fa",
           "#00cc96",
           "#00cc96",
           "#636efa",
           "#636efa",
           "#00cc96",
           "#EF553B",
           "#636efa",
           "#636efa",
           "#636efa",
           "#ab63fa",
           "#636efa",
           "#ab63fa",
           "#ab63fa",
           "#00cc96",
           "#00cc96",
           "#00cc96",
           "#EF553B",
           "#636efa",
           "#EF553B",
           "#ab63fa",
           "#ab63fa",
           "#ab63fa",
           "#ab63fa",
           "#636efa",
           "#EF553B",
           "#EF553B",
           "#00cc96",
           "#ab63fa",
           "#ab63fa",
           "#636efa",
           "#ab63fa",
           "#ab63fa",
           "#ab63fa",
           "#ab63fa",
           "#636efa",
           "#636efa",
           "#636efa",
           "#ab63fa",
           "#EF553B",
           "#ab63fa",
           "#00cc96",
           "#636efa",
           "#EF553B",
           "#EF553B",
           "#00cc96",
           "#00cc96",
           "#636efa",
           "#636efa",
           "#00cc96",
           "#EF553B",
           "#636efa",
           "#EF553B",
           "#636efa",
           "#636efa",
           "#EF553B",
           "#EF553B",
           "#FFA15A",
           "#00cc96",
           "#636efa",
           "#EF553B",
           "#ab63fa",
           "#636efa",
           "#636efa",
           "#636efa",
           "#ab63fa",
           "#ab63fa",
           "#00cc96",
           "#636efa",
           "#00cc96",
           "#00cc96",
           "#636efa",
           "#ab63fa",
           "#EF553B",
           "#636efa",
           "#EF553B",
           "#ab63fa",
           "#00cc96",
           "#636efa",
           "#636efa",
           "#636efa",
           "#ab63fa",
           "#636efa",
           "#636efa",
           "#636efa",
           "#636efa",
           "#636efa",
           "#ab63fa",
           "#ab63fa",
           "#ab63fa",
           "#ab63fa",
           "#636efa",
           "#EF553B",
           "#636efa",
           "#636efa",
           "#636efa",
           "#636efa",
           "#636efa",
           "#636efa",
           "#ab63fa",
           "#00cc96",
           "#636efa",
           "#636efa",
           "#636efa",
           "#ab63fa",
           "#ab63fa",
           "#ab63fa",
           "#ab63fa",
           "#636efa",
           "#ab63fa",
           "#ab63fa",
           "#00cc96",
           "#ab63fa",
           "#EF553B",
           "#636efa",
           "#00cc96",
           "#ab63fa",
           "#00cc96",
           "#636efa",
           "#636efa",
           "#00cc96",
           "#636efa",
           "#ab63fa",
           "#636efa",
           "#636efa",
           "#636efa",
           "#636efa",
           "#00cc96",
           "#EF553B",
           "#00cc96",
           "#00cc96",
           "#636efa",
           "#636efa",
           "#00cc96",
           "#636efa",
           "#ab63fa",
           "#636efa",
           "#636efa",
           "#EF553B",
           "#00cc96",
           "#636efa",
           "#EF553B",
           "#EF553B",
           "#636efa",
           "#EF553B",
           "#ab63fa",
           "#ab63fa",
           "#EF553B",
           "#EF553B",
           "#636efa",
           "#ab63fa",
           "#636efa",
           "#636efa",
           "#EF553B",
           "#636efa",
           "#00cc96",
           "#ab63fa",
           "#00cc96",
           "#00cc96",
           "#EF553B",
           "#636efa",
           "#ab63fa",
           "#00cc96",
           "#636efa",
           "#636efa",
           "#636efa",
           "#ab63fa",
           "#636efa",
           "#636efa",
           "#ab63fa",
           "#00cc96",
           "#ab63fa",
           "#636efa",
           "#ab63fa",
           "#00cc96",
           "#EF553B",
           "#EF553B",
           "#ab63fa",
           "#636efa",
           "#EF553B",
           "#636efa",
           "#ab63fa",
           "#636efa",
           "#636efa",
           "#EF553B",
           "#636efa",
           "#00cc96",
           "#EF553B",
           "#FFA15A",
           "#ab63fa",
           "#636efa",
           "#ab63fa",
           "#636efa",
           "#636efa",
           "#EF553B",
           "#ab63fa",
           "#00cc96",
           "#636efa",
           "#636efa",
           "#636efa",
           "#ab63fa",
           "#636efa",
           "#636efa",
           "#EF553B",
           "#636efa",
           "#636efa",
           "#ab63fa",
           "#636efa",
           "#636efa",
           "#EF553B",
           "#EF553B",
           "#ab63fa",
           "#636efa",
           "#EF553B",
           "#636efa",
           "#ab63fa",
           "#636efa",
           "#636efa",
           "#EF553B",
           "#636efa",
           "#00cc96",
           "#636efa",
           "#EF553B",
           "#ab63fa",
           "#00cc96",
           "#00cc96",
           "#00cc96",
           "#ab63fa",
           "#ab63fa",
           "#EF553B",
           "#636efa",
           "#636efa",
           "#00cc96",
           "#FFA15A",
           "#EF553B",
           "#ab63fa",
           "#636efa",
           "#EF553B",
           "#636efa",
           "#636efa",
           "#ab63fa",
           "#636efa",
           "#EF553B",
           "#EF553B",
           "#00cc96",
           "#EF553B",
           "#636efa",
           "#ab63fa",
           "#636efa",
           "#636efa",
           "#EF553B",
           "#ab63fa",
           "#00cc96",
           "#636efa",
           "#636efa",
           "#00cc96",
           "#636efa",
           "#636efa",
           "#636efa",
           "#00cc96",
           "#636efa",
           "#00cc96",
           "#00cc96",
           "#636efa",
           "#EF553B",
           "#EF553B",
           "#00cc96",
           "#EF553B",
           "#636efa",
           "#00cc96",
           "#636efa",
           "#ab63fa",
           "#636efa",
           "#00cc96",
           "#00cc96",
           "#ab63fa",
           "#636efa",
           "#ab63fa",
           "#636efa",
           "#636efa",
           "#ab63fa",
           "#636efa",
           "#636efa",
           "#EF553B",
           "#00cc96",
           "#636efa",
           "#EF553B",
           "#00cc96",
           "#636efa",
           "#636efa",
           "#EF553B",
           "#ab63fa",
           "#636efa",
           "#ab63fa",
           "#636efa",
           "#636efa",
           "#EF553B",
           "#ab63fa",
           "#00cc96",
           "#636efa",
           "#636efa",
           "#636efa",
           "#ab63fa",
           "#636efa",
           "#636efa",
           "#ab63fa",
           "#636efa",
           "#ab63fa",
           "#ab63fa",
           "#EF553B",
           "#ab63fa",
           "#ab63fa",
           "#EF553B",
           "#636efa",
           "#00cc96",
           "#FFA15A",
           "#EF553B",
           "#00cc96",
           "#EF553B",
           "#636efa",
           "#636efa",
           "#ab63fa",
           "#636efa",
           "#636efa",
           "#00cc96",
           "#00cc96",
           "#636efa",
           "#636efa",
           "#EF553B",
           "#636efa",
           "#EF553B",
           "#00cc96",
           "#00cc96",
           "#636efa",
           "#00cc96",
           "#ab63fa",
           "#ab63fa",
           "#636efa",
           "#636efa",
           "#ab63fa",
           "#EF553B",
           "#ab63fa",
           "#636efa",
           "#636efa",
           "#00cc96",
           "#ab63fa",
           "#EF553B",
           "#EF553B",
           "#00cc96",
           "#ab63fa",
           "#EF553B",
           "#00cc96",
           "#636efa",
           "#ab63fa",
           "#636efa",
           "#ab63fa",
           "#EF553B",
           "#FFA15A",
           "#00cc96",
           "#636efa",
           "#00cc96",
           "#636efa",
           "#636efa",
           "#ab63fa",
           "#00cc96",
           "#636efa",
           "#636efa",
           "#636efa",
           "#00cc96",
           "#636efa",
           "#EF553B",
           "#00cc96",
           "#EF553B",
           "#636efa",
           "#EF553B",
           "#636efa",
           "#EF553B",
           "#00cc96",
           "#00cc96",
           "#636efa",
           "#636efa",
           "#EF553B",
           "#00cc96",
           "#636efa",
           "#636efa",
           "#EF553B",
           "#ab63fa",
           "#ab63fa",
           "#FFA15A",
           "#00cc96",
           "#00cc96",
           "#ab63fa",
           "#EF553B",
           "#EF553B",
           "#00cc96",
           "#636efa",
           "#00cc96",
           "#EF553B",
           "#ab63fa",
           "#636efa",
           "#EF553B",
           "#636efa",
           "#636efa",
           "#00cc96",
           "#FFA15A",
           "#EF553B",
           "#ab63fa",
           "#ab63fa",
           "#EF553B",
           "#636efa",
           "#00cc96",
           "#EF553B",
           "#636efa",
           "#636efa",
           "#ab63fa",
           "#EF553B",
           "#636efa",
           "#636efa",
           "#636efa",
           "#636efa",
           "#00cc96",
           "#EF553B",
           "#00cc96",
           "#636efa",
           "#636efa",
           "#EF553B",
           "#EF553B",
           "#ab63fa",
           "#00cc96",
           "#00cc96",
           "#00cc96",
           "#ab63fa",
           "#EF553B",
           "#ab63fa",
           "#00cc96",
           "#636efa",
           "#EF553B",
           "#636efa",
           "#636efa",
           "#ab63fa",
           "#636efa",
           "#636efa",
           "#636efa",
           "#00cc96",
           "#ab63fa",
           "#EF553B",
           "#636efa",
           "#00cc96",
           "#FFA15A",
           "#EF553B",
           "#ab63fa",
           "#ab63fa",
           "#636efa",
           "#636efa",
           "#636efa",
           "#ab63fa",
           "#ab63fa",
           "#636efa",
           "#636efa",
           "#EF553B",
           "#00cc96",
           "#636efa",
           "#EF553B",
           "#00cc96",
           "#636efa",
           "#EF553B",
           "#ab63fa",
           "#ab63fa",
           "#EF553B",
           "#FFA15A",
           "#636efa",
           "#00cc96",
           "#636efa",
           "#EF553B",
           "#ab63fa",
           "#636efa",
           "#ab63fa",
           "#ab63fa",
           "#ab63fa",
           "#00cc96",
           "#00cc96",
           "#00cc96",
           "#EF553B",
           "#636efa",
           "#EF553B",
           "#636efa",
           "#636efa",
           "#00cc96",
           "#00cc96",
           "#636efa",
           "#EF553B",
           "#EF553B",
           "#FFA15A",
           "#00cc96",
           "#636efa",
           "#636efa",
           "#ab63fa",
           "#ab63fa",
           "#EF553B",
           "#636efa",
           "#00cc96",
           "#EF553B",
           "#636efa",
           "#00cc96",
           "#636efa",
           "#636efa",
           "#00cc96",
           "#00cc96",
           "#EF553B",
           "#636efa",
           "#636efa",
           "#00cc96",
           "#FFA15A",
           "#EF553B",
           "#ab63fa",
           "#636efa",
           "#636efa",
           "#636efa",
           "#EF553B",
           "#00cc96",
           "#636efa",
           "#636efa",
           "#ab63fa",
           "#636efa",
           "#ab63fa",
           "#636efa",
           "#ab63fa",
           "#ab63fa",
           "#EF553B",
           "#636efa",
           "#00cc96",
           "#EF553B",
           "#ab63fa",
           "#EF553B",
           "#00cc96",
           "#00cc96",
           "#00cc96",
           "#636efa",
           "#636efa",
           "#636efa",
           "#636efa",
           "#ab63fa",
           "#ab63fa",
           "#ab63fa",
           "#636efa",
           "#EF553B",
           "#EF553B",
           "#ab63fa",
           "#EF553B",
           "#EF553B",
           "#ab63fa",
           "#ab63fa",
           "#ab63fa",
           "#ab63fa",
           "#EF553B",
           "#FFA15A",
           "#00cc96",
           "#636efa",
           "#636efa",
           "#EF553B",
           "#00cc96",
           "#ab63fa",
           "#00cc96",
           "#636efa",
           "#636efa",
           "#636efa",
           "#ab63fa",
           "#ab63fa",
           "#636efa",
           "#636efa",
           "#ab63fa",
           "#636efa",
           "#00cc96",
           "#ab63fa",
           "#00cc96",
           "#636efa",
           "#636efa",
           "#00cc96",
           "#636efa",
           "#ab63fa",
           "#636efa",
           "#636efa",
           "#EF553B",
           "#00cc96",
           "#EF553B",
           "#00cc96",
           "#FFA15A",
           "#EF553B",
           "#ab63fa",
           "#EF553B",
           "#ab63fa",
           "#636efa",
           "#00cc96",
           "#636efa",
           "#EF553B",
           "#636efa",
           "#EF553B",
           "#00cc96",
           "#00cc96",
           "#00cc96",
           "#EF553B",
           "#FFA15A",
           "#00cc96",
           "#636efa",
           "#00cc96",
           "#636efa",
           "#EF553B",
           "#ab63fa",
           "#ab63fa",
           "#636efa",
           "#ab63fa",
           "#636efa",
           "#ab63fa",
           "#636efa",
           "#636efa",
           "#EF553B",
           "#636efa",
           "#00cc96",
           "#EF553B",
           "#EF553B",
           "#ab63fa",
           "#EF553B",
           "#00cc96",
           "#636efa",
           "#EF553B",
           "#ab63fa",
           "#636efa",
           "#636efa",
           "#EF553B",
           "#EF553B",
           "#ab63fa",
           "#00cc96",
           "#EF553B",
           "#ab63fa",
           "#636efa",
           "#636efa",
           "#ab63fa",
           "#636efa",
           "#636efa",
           "#636efa",
           "#636efa",
           "#636efa",
           "#636efa",
           "#00cc96",
           "#FFA15A",
           "#EF553B",
           "#ab63fa",
           "#ab63fa",
           "#EF553B",
           "#636efa",
           "#00cc96",
           "#EF553B",
           "#636efa",
           "#636efa",
           "#00cc96",
           "#ab63fa",
           "#ab63fa",
           "#636efa",
           "#EF553B",
           "#636efa",
           "#ab63fa",
           "#EF553B",
           "#EF553B",
           "#636efa",
           "#636efa",
           "#636efa",
           "#ab63fa",
           "#636efa",
           "#636efa",
           "#ab63fa",
           "#ab63fa",
           "#EF553B",
           "#636efa",
           "#636efa",
           "#EF553B",
           "#EF553B",
           "#EF553B",
           "#ab63fa",
           "#EF553B",
           "#EF553B",
           "#636efa",
           "#636efa",
           "#EF553B",
           "#636efa",
           "#636efa",
           "#00cc96",
           "#636efa",
           "#636efa",
           "#636efa",
           "#EF553B",
           "#00cc96",
           "#636efa",
           "#EF553B",
           "#00cc96",
           "#636efa",
           "#EF553B",
           "#636efa",
           "#636efa",
           "#636efa",
           "#00cc96",
           "#00cc96",
           "#636efa",
           "#636efa",
           "#00cc96",
           "#636efa",
           "#ab63fa",
           "#EF553B",
           "#636efa",
           "#636efa",
           "#636efa",
           "#00cc96",
           "#636efa",
           "#00cc96",
           "#00cc96",
           "#636efa",
           "#EF553B",
           "#636efa",
           "#636efa",
           "#636efa",
           "#636efa",
           "#ab63fa",
           "#ab63fa",
           "#ab63fa",
           "#ab63fa",
           "#ab63fa",
           "#ab63fa",
           "#EF553B",
           "#EF553B",
           "#ab63fa",
           "#00cc96",
           "#EF553B",
           "#EF553B",
           "#636efa",
           "#00cc96",
           "#636efa",
           "#00cc96",
           "#636efa",
           "#636efa",
           "#636efa",
           "#EF553B",
           "#EF553B",
           "#636efa",
           "#00cc96",
           "#FFA15A",
           "#ab63fa",
           "#00cc96",
           "#00cc96",
           "#EF553B",
           "#EF553B",
           "#ab63fa",
           "#00cc96",
           "#00cc96",
           "#00cc96",
           "#ab63fa",
           "#ab63fa",
           "#EF553B",
           "#ab63fa",
           "#636efa",
           "#00cc96",
           "#FFA15A",
           "#EF553B",
           "#ab63fa",
           "#EF553B",
           "#636efa",
           "#00cc96",
           "#EF553B",
           "#636efa",
           "#636efa",
           "#00cc96",
           "#636efa",
           "#636efa",
           "#EF553B",
           "#636efa",
           "#00cc96",
           "#EF553B",
           "#EF553B",
           "#ab63fa",
           "#00cc96",
           "#00cc96",
           "#636efa",
           "#00cc96",
           "#ab63fa",
           "#EF553B",
           "#636efa",
           "#636efa",
           "#00cc96",
           "#FFA15A",
           "#EF553B",
           "#ab63fa",
           "#636efa",
           "#ab63fa",
           "#636efa",
           "#ab63fa",
           "#EF553B",
           "#EF553B",
           "#ab63fa",
           "#636efa",
           "#636efa",
           "#ab63fa",
           "#ab63fa",
           "#ab63fa",
           "#00cc96",
           "#ab63fa",
           "#636efa",
           "#ab63fa",
           "#ab63fa",
           "#EF553B",
           "#ab63fa",
           "#EF553B",
           "#00cc96",
           "#ab63fa",
           "#ab63fa",
           "#636efa",
           "#ab63fa",
           "#ab63fa",
           "#EF553B",
           "#EF553B",
           "#636efa",
           "#636efa",
           "#ab63fa",
           "#EF553B",
           "#636efa",
           "#636efa",
           "#00cc96",
           "#FFA15A",
           "#EF553B",
           "#ab63fa",
           "#636efa",
           "#00cc96",
           "#636efa",
           "#00cc96",
           "#ab63fa",
           "#00cc96",
           "#636efa",
           "#636efa",
           "#636efa",
           "#636efa",
           "#00cc96",
           "#636efa",
           "#ab63fa",
           "#ab63fa",
           "#EF553B",
           "#00cc96",
           "#EF553B",
           "#ab63fa",
           "#EF553B",
           "#ab63fa",
           "#ab63fa",
           "#ab63fa",
           "#ab63fa",
           "#EF553B",
           "#EF553B",
           "#ab63fa",
           "#00cc96",
           "#00cc96",
           "#636efa",
           "#636efa",
           "#00cc96",
           "#EF553B",
           "#636efa",
           "#EF553B",
           "#636efa",
           "#636efa",
           "#636efa",
           "#EF553B",
           "#EF553B",
           "#FFA15A",
           "#636efa",
           "#ab63fa",
           "#ab63fa",
           "#636efa",
           "#00cc96",
           "#636efa",
           "#EF553B",
           "#636efa",
           "#636efa",
           "#636efa",
           "#636efa",
           "#ab63fa",
           "#EF553B",
           "#636efa",
           "#636efa",
           "#EF553B",
           "#EF553B",
           "#ab63fa",
           "#636efa",
           "#EF553B",
           "#00cc96",
           "#636efa",
           "#ab63fa",
           "#636efa",
           "#EF553B",
           "#ab63fa",
           "#ab63fa",
           "#EF553B",
           "#ab63fa",
           "#636efa",
           "#00cc96",
           "#636efa",
           "#ab63fa",
           "#EF553B",
           "#ab63fa",
           "#ab63fa",
           "#ab63fa",
           "#EF553B",
           "#EF553B",
           "#636efa",
           "#EF553B",
           "#FFA15A",
           "#00cc96",
           "#636efa",
           "#636efa",
           "#ab63fa",
           "#ab63fa",
           "#ab63fa",
           "#ab63fa",
           "#636efa",
           "#636efa",
           "#EF553B",
           "#636efa",
           "#EF553B",
           "#EF553B",
           "#ab63fa",
           "#00cc96",
           "#ab63fa",
           "#00cc96",
           "#ab63fa",
           "#ab63fa",
           "#636efa",
           "#ab63fa",
           "#ab63fa",
           "#00cc96",
           "#EF553B",
           "#ab63fa",
           "#EF553B",
           "#00cc96",
           "#00cc96",
           "#ab63fa",
           "#EF553B",
           "#636efa",
           "#636efa",
           "#00cc96",
           "#FFA15A",
           "#EF553B",
           "#ab63fa",
           "#ab63fa",
           "#EF553B",
           "#636efa",
           "#00cc96",
           "#EF553B",
           "#636efa",
           "#00cc96",
           "#EF553B",
           "#636efa",
           "#636efa",
           "#ab63fa",
           "#636efa",
           "#00cc96",
           "#636efa",
           "#636efa",
           "#00cc96",
           "#ab63fa",
           "#00cc96",
           "#636efa",
           "#636efa",
           "#636efa",
           "#00cc96",
           "#636efa",
           "#EF553B",
           "#00cc96",
           "#EF553B",
           "#EF553B",
           "#636efa",
           "#00cc96",
           "#00cc96",
           "#636efa",
           "#00cc96",
           "#636efa",
           "#636efa",
           "#636efa",
           "#EF553B",
           "#EF553B",
           "#636efa",
           "#636efa",
           "#EF553B",
           "#636efa",
           "#EF553B",
           "#00cc96",
           "#636efa",
           "#636efa",
           "#00cc96",
           "#00cc96",
           "#ab63fa",
           "#EF553B",
           "#EF553B",
           "#ab63fa",
           "#ab63fa",
           "#ab63fa",
           "#ab63fa",
           "#EF553B",
           "#ab63fa",
           "#EF553B",
           "#00cc96",
           "#ab63fa",
           "#ab63fa",
           "#636efa",
           "#ab63fa",
           "#ab63fa",
           "#ab63fa",
           "#ab63fa",
           "#636efa",
           "#636efa",
           "#636efa",
           "#636efa",
           "#636efa",
           "#ab63fa",
           "#636efa",
           "#636efa",
           "#636efa",
           "#00cc96",
           "#ab63fa",
           "#EF553B",
           "#636efa",
           "#636efa",
           "#ab63fa",
           "#636efa",
           "#ab63fa",
           "#EF553B",
           "#FFA15A",
           "#00cc96",
           "#636efa",
           "#636efa",
           "#EF553B",
           "#ab63fa",
           "#ab63fa",
           "#00cc96",
           "#00cc96",
           "#00cc96",
           "#ab63fa",
           "#EF553B",
           "#EF553B",
           "#00cc96",
           "#636efa",
           "#EF553B",
           "#636efa",
           "#636efa",
           "#ab63fa",
           "#636efa",
           "#EF553B",
           "#636efa",
           "#ab63fa",
           "#EF553B",
           "#EF553B",
           "#636efa",
           "#636efa",
           "#EF553B",
           "#ab63fa",
           "#636efa",
           "#636efa",
           "#EF553B",
           "#EF553B",
           "#ab63fa",
           "#ab63fa",
           "#636efa",
           "#ab63fa",
           "#636efa",
           "#00cc96",
           "#636efa",
           "#EF553B",
           "#636efa",
           "#EF553B",
           "#00cc96",
           "#00cc96",
           "#00cc96",
           "#ab63fa",
           "#ab63fa",
           "#ab63fa",
           "#636efa",
           "#636efa",
           "#636efa",
           "#00cc96",
           "#ab63fa",
           "#EF553B",
           "#FFA15A"
          ]
         },
         "name": "",
         "parents": [
          "Africa/Zimbabwe",
          "Africa/Congo, Rep.",
          "Africa/Cote d'Ivoire",
          "Europe/Croatia",
          "Americas/Cuba",
          "Europe/Czech Republic",
          "Europe/Denmark",
          "Africa/Djibouti",
          "Americas/Dominican Republic",
          "Americas/Ecuador",
          "Africa/Egypt",
          "Americas/El Salvador",
          "Africa/Equatorial Guinea",
          "Africa/Eritrea",
          "Americas/Costa Rica",
          "Africa/Sierra Leone",
          "Asia/Singapore",
          "Europe/Slovak Republic",
          "Africa/Congo, Dem. Rep.",
          "Europe/Slovenia",
          "Africa/Comoros",
          "Asia/China",
          "Asia/Bahrain",
          "Asia/Bangladesh",
          "Europe/Belgium",
          "Africa/Benin",
          "Americas/Bolivia",
          "Europe/Bosnia and Herzegovina",
          "Africa/Botswana",
          "Americas/Brazil",
          "Europe/Bulgaria",
          "Africa/Burkina Faso",
          "Africa/Burundi",
          "Asia/Cambodia",
          "Africa/Cameroon",
          "Americas/Canada",
          "Africa/Central African Republic",
          "Africa/Chad",
          "Americas/Chile",
          "Americas/Colombia",
          "Europe/Austria",
          "Africa/Somalia",
          "Europe/Spain",
          "Asia/Kuwait",
          "Asia/Lebanon",
          "Africa/Lesotho",
          "Africa/Liberia",
          "Africa/Libya",
          "Africa/Madagascar",
          "Africa/Malawi",
          "Asia/Malaysia",
          "Africa/Mali",
          "Africa/Mauritania",
          "Africa/Mauritius",
          "Americas/Mexico",
          "Asia/Mongolia",
          "Europe/Montenegro",
          "Africa/Morocco",
          "Africa/Mozambique",
          "Asia/Myanmar",
          "Asia/Korea, Rep.",
          "Africa/South Africa",
          "Asia/Korea, Dem. Rep.",
          "Asia/Jordan",
          "Asia/Sri Lanka",
          "Africa/Sudan",
          "Africa/Swaziland",
          "Europe/Sweden",
          "Americas/Honduras",
          "Asia/Hong Kong, China",
          "Europe/Hungary",
          "Europe/Iceland",
          "Asia/India",
          "Asia/Indonesia",
          "Asia/Iran",
          "Asia/Iraq",
          "Europe/Ireland",
          "Asia/Israel",
          "Europe/Italy",
          "Americas/Jamaica",
          "Asia/Japan",
          "Africa/Kenya",
          "Africa/Namibia",
          "Americas/Uruguay",
          "Americas/Argentina",
          "Africa/Mozambique",
          "Asia/Myanmar",
          "Africa/Tanzania",
          "Asia/Taiwan",
          "Asia/Syria",
          "Europe/Switzerland",
          "Europe/Sweden",
          "Africa/Swaziland",
          "Africa/Sudan",
          "Asia/Sri Lanka",
          "Europe/Spain",
          "Africa/South Africa",
          "Africa/Somalia",
          "Africa/Eritrea",
          "Asia/Syria",
          "Asia/Taiwan",
          "Africa/Tanzania",
          "Africa/Morocco",
          "Asia/Thailand",
          "Europe/Montenegro",
          "Americas/Mexico",
          "Americas/Haiti",
          "Americas/Honduras",
          "Asia/Hong Kong, China",
          "Europe/Hungary",
          "Europe/Iceland",
          "Asia/India",
          "Europe/Sweden",
          "Asia/Iran",
          "Asia/Iraq",
          "Europe/Ireland",
          "Asia/Israel",
          "Africa/Madagascar",
          "Africa/Malawi",
          "Asia/Malaysia",
          "Africa/Mali",
          "Africa/Mauritania",
          "Africa/Mauritius",
          "Asia/Mongolia",
          "Oceania/Australia",
          "Africa/Togo",
          "Africa/Tunisia",
          "Asia/Pakistan",
          "Asia/Oman",
          "Europe/Norway",
          "Africa/Nigeria",
          "Africa/Niger",
          "Americas/Nicaragua",
          "Americas/Costa Rica",
          "Americas/Venezuela",
          "Asia/Vietnam",
          "Asia/West Bank and Gaza",
          "Asia/Yemen, Rep.",
          "Africa/Zambia",
          "Africa/Zimbabwe",
          "Asia/Afghanistan",
          "Europe/Albania",
          "Africa/Algeria",
          "Africa/Angola",
          "Americas/Panama",
          "Americas/Trinidad and Tobago",
          "Americas/Paraguay",
          "Asia/Philippines",
          "Europe/Turkey",
          "Africa/Uganda",
          "Europe/United Kingdom",
          "Americas/United States",
          "Africa/Equatorial Guinea",
          "Americas/El Salvador",
          "Africa/Egypt",
          "Americas/Ecuador",
          "Americas/Dominican Republic",
          "Africa/Djibouti",
          "Europe/Denmark",
          "Europe/Czech Republic",
          "Americas/Cuba",
          "Europe/Croatia",
          "Africa/Cote d'Ivoire",
          "Europe/Portugal",
          "Europe/Poland",
          "Americas/Peru",
          "Africa/Guinea-Bissau",
          "Asia/Nepal",
          "Africa/Congo, Dem. Rep.",
          "Asia/Hong Kong, China",
          "Europe/Hungary",
          "Europe/Iceland",
          "Asia/India",
          "Asia/Indonesia",
          "Asia/Iran",
          "Asia/Iraq",
          "Europe/Ireland",
          "Asia/Israel",
          "Europe/Italy",
          "Americas/Jamaica",
          "Asia/Japan",
          "Asia/Jordan",
          "Americas/Haiti",
          "Asia/Japan",
          "Asia/Jordan",
          "Africa/Kenya",
          "Americas/Honduras",
          "Asia/Korea, Dem. Rep.",
          "Americas/Haiti",
          "Africa/Guinea",
          "Europe/Finland",
          "Europe/France",
          "Africa/Gabon",
          "Africa/Gambia",
          "Europe/Germany",
          "Africa/Ghana",
          "Europe/Greece",
          "Americas/Guatemala",
          "Africa/Guinea",
          "Africa/Guinea-Bissau",
          "Europe/France",
          "Africa/Gabon",
          "Africa/Gambia",
          "Europe/Germany",
          "Africa/Ghana",
          "Europe/Greece",
          "Americas/Guatemala",
          "Africa/Guinea-Bissau",
          "Africa/Ethiopia",
          "Asia/Korea, Rep.",
          "Asia/Lebanon",
          "Asia/Sri Lanka",
          "Africa/Sudan",
          "Asia/Vietnam",
          "Americas/Venezuela",
          "Americas/Uruguay",
          "Americas/United States",
          "Europe/United Kingdom",
          "Africa/Uganda",
          "Europe/Turkey",
          "Africa/Tunisia",
          "Americas/Trinidad and Tobago",
          "Africa/Togo",
          "Asia/Thailand",
          "Africa/Tanzania",
          "Asia/Taiwan",
          "Asia/Syria",
          "Europe/Switzerland",
          "Europe/Spain",
          "Asia/Kuwait",
          "Africa/South Africa",
          "Europe/Slovenia",
          "Africa/Lesotho",
          "Africa/Liberia",
          "Africa/Libya",
          "Africa/Madagascar",
          "Africa/Malawi",
          "Asia/Syria",
          "Asia/Taiwan",
          "Africa/Tanzania",
          "Asia/Thailand",
          "Africa/Togo",
          "Americas/Trinidad and Tobago",
          "Africa/Tunisia",
          "Europe/Turkey",
          "Europe/Albania",
          "Africa/Algeria",
          "Africa/Angola",
          "Europe/Slovak Republic",
          "Africa/Somalia",
          "Africa/Congo, Rep.",
          "Europe/Switzerland",
          "Americas/Canada",
          "Europe/Finland",
          "Europe/Slovak Republic",
          "Europe/Slovenia",
          "Africa/Somalia",
          "Africa/South Africa",
          "Europe/Spain",
          "Asia/Sri Lanka",
          "Africa/Sudan",
          "Africa/Swaziland",
          "Europe/Sweden",
          "Europe/Switzerland",
          "Asia/Syria",
          "Asia/Taiwan",
          "Africa/Tanzania",
          "Asia/Thailand",
          "Africa/Togo",
          "Americas/Trinidad and Tobago",
          "Africa/Zimbabwe",
          "Africa/Tunisia",
          "Africa/Zambia",
          "Asia/West Bank and Gaza",
          "Africa/Comoros",
          "Europe/Sweden",
          "Europe/Switzerland",
          "Asia/Syria",
          "Asia/Taiwan",
          "Africa/Tanzania",
          "Asia/Thailand",
          "Africa/Togo",
          "Americas/Trinidad and Tobago",
          "Africa/Tunisia",
          "Europe/Turkey",
          "Africa/Uganda",
          "Europe/United Kingdom",
          "Americas/United States",
          "Americas/Uruguay",
          "Americas/Venezuela",
          "Asia/Vietnam",
          "Asia/Yemen, Rep.",
          "Asia/Afghanistan",
          "Europe/Turkey",
          "Europe/United Kingdom",
          "Africa/Botswana",
          "Americas/Brazil",
          "Europe/Bulgaria",
          "Africa/Burkina Faso",
          "Africa/Burundi",
          "Asia/Cambodia",
          "Africa/Cameroon",
          "Africa/Cote d'Ivoire",
          "Americas/Costa Rica",
          "Africa/Congo, Rep.",
          "Africa/Congo, Dem. Rep.",
          "Africa/Comoros",
          "Americas/Colombia",
          "Asia/China",
          "Americas/Chile",
          "Africa/Chad",
          "Africa/Central African Republic",
          "Europe/Bosnia and Herzegovina",
          "Africa/Uganda",
          "Americas/Bolivia",
          "Europe/Belgium",
          "Americas/United States",
          "Americas/Uruguay",
          "Americas/Venezuela",
          "Asia/Vietnam",
          "Africa/Ethiopia",
          "Africa/Eritrea",
          "Africa/Equatorial Guinea",
          "Americas/El Salvador",
          "Africa/Egypt",
          "Americas/Ecuador",
          "Americas/Dominican Republic",
          "Africa/Djibouti",
          "Europe/Denmark",
          "Europe/Czech Republic",
          "Americas/Cuba",
          "Europe/Croatia",
          "Asia/Bangladesh",
          "Africa/Benin",
          "Africa/Guinea",
          "Asia/Indonesia",
          "Europe/Greece",
          "Europe/Germany",
          "Africa/Gambia",
          "Africa/Gabon",
          "Europe/France",
          "Europe/Finland",
          "Africa/Ethiopia",
          "Africa/Eritrea",
          "Africa/Ghana",
          "Africa/Equatorial Guinea",
          "Africa/Egypt",
          "Americas/Ecuador",
          "Americas/Dominican Republic",
          "Africa/Djibouti",
          "Europe/Denmark",
          "Europe/Czech Republic",
          "Americas/Cuba",
          "Americas/El Salvador",
          "Europe/Croatia",
          "Europe/Greece",
          "Africa/Guinea",
          "Asia/Indonesia",
          "Asia/India",
          "Europe/Iceland",
          "Europe/Hungary",
          "Europe/Greece",
          "Africa/Ghana",
          "Europe/Germany",
          "Americas/Guatemala",
          "Africa/Gambia",
          "Europe/France",
          "Europe/Finland",
          "Africa/Ethiopia",
          "Asia/Hong Kong, China",
          "Americas/Honduras",
          "Americas/Haiti",
          "Africa/Guinea-Bissau",
          "Africa/Gabon",
          "Africa/Sudan",
          "Africa/Swaziland",
          "Europe/Sweden",
          "Americas/Brazil",
          "Europe/Bulgaria",
          "Africa/Burkina Faso",
          "Africa/Burundi",
          "Asia/Cambodia",
          "Africa/Cameroon",
          "Americas/Canada",
          "Europe/Czech Republic",
          "Africa/Central African Republic",
          "Americas/Chile",
          "Asia/China",
          "Americas/Colombia",
          "Africa/Zambia",
          "Americas/Guatemala",
          "Americas/Cuba",
          "Europe/Croatia",
          "Africa/Chad",
          "Americas/Paraguay",
          "Americas/Panama",
          "Asia/Pakistan",
          "Europe/Switzerland",
          "Asia/Syria",
          "Asia/Taiwan",
          "Africa/Tanzania",
          "Asia/Thailand",
          "Africa/Togo",
          "Americas/Trinidad and Tobago",
          "Africa/Tunisia",
          "Europe/Turkey",
          "Africa/Cote d'Ivoire",
          "Americas/Costa Rica",
          "Africa/Congo, Rep.",
          "Africa/Congo, Dem. Rep.",
          "Africa/Comoros",
          "Americas/Colombia",
          "Asia/China",
          "Asia/Oman",
          "Asia/Iran",
          "Asia/Iraq",
          "Europe/Ireland",
          "Asia/Israel",
          "Europe/Spain",
          "Asia/Mongolia",
          "Asia/China",
          "Americas/Colombia",
          "Africa/Comoros",
          "Africa/Congo, Dem. Rep.",
          "Africa/Congo, Rep.",
          "Asia/Sri Lanka",
          "Americas/Costa Rica",
          "Europe/Croatia",
          "Americas/Cuba",
          "Europe/Czech Republic",
          "Europe/Denmark",
          "Africa/Djibouti",
          "Americas/Dominican Republic",
          "Americas/Ecuador",
          "Africa/Cote d'Ivoire",
          "Africa/Sudan",
          "Africa/Swaziland",
          "Europe/Sweden",
          "Asia/Yemen, Rep.",
          "Asia/West Bank and Gaza",
          "Asia/Vietnam",
          "Americas/Venezuela",
          "Americas/Uruguay",
          "Americas/United States",
          "Europe/United Kingdom",
          "Africa/Uganda",
          "Europe/Turkey",
          "Africa/Tunisia",
          "Americas/Trinidad and Tobago",
          "Africa/Togo",
          "Asia/Thailand",
          "Africa/Tanzania",
          "Asia/Taiwan",
          "Asia/Syria",
          "Europe/Switzerland",
          "Africa/Egypt",
          "Africa/Cote d'Ivoire",
          "Americas/El Salvador",
          "Africa/Eritrea",
          "Africa/Lesotho",
          "Asia/Lebanon",
          "Asia/Kuwait",
          "Asia/Korea, Rep.",
          "Asia/Korea, Dem. Rep.",
          "Africa/Kenya",
          "Asia/Jordan",
          "Africa/Kenya",
          "Asia/Japan",
          "Europe/Italy",
          "Asia/Israel",
          "Europe/Ireland",
          "Asia/Jordan",
          "Asia/Japan",
          "Americas/Jamaica",
          "Europe/Italy",
          "Americas/Jamaica",
          "Asia/Korea, Dem. Rep.",
          "Asia/Korea, Rep.",
          "Asia/Kuwait",
          "Africa/Ethiopia",
          "Europe/Finland",
          "Europe/France",
          "Africa/Gabon",
          "Africa/Gambia",
          "Europe/Germany",
          "Americas/Mexico",
          "Africa/Mauritius",
          "Africa/Mauritania",
          "Africa/Mali",
          "Asia/Malaysia",
          "Africa/Malawi",
          "Africa/Madagascar",
          "Africa/Libya",
          "Africa/Liberia",
          "Africa/Lesotho",
          "Asia/Lebanon",
          "Africa/Equatorial Guinea",
          "Americas/Costa Rica",
          "Africa/Swaziland",
          "Africa/Congo, Dem. Rep.",
          "Asia/Thailand",
          "Africa/Togo",
          "Americas/Trinidad and Tobago",
          "Africa/Tunisia",
          "Europe/Turkey",
          "Africa/Uganda",
          "Africa/Tanzania",
          "Europe/United Kingdom",
          "Europe/Slovenia",
          "Europe/Slovak Republic",
          "Asia/Singapore",
          "Africa/Sierra Leone",
          "Europe/Serbia",
          "Africa/Senegal",
          "Africa/Somalia",
          "Asia/Taiwan",
          "Asia/Syria",
          "Europe/Switzerland",
          "Asia/Pakistan",
          "Africa/South Africa",
          "Africa/Senegal",
          "Europe/Serbia",
          "Africa/Sierra Leone",
          "Asia/Singapore",
          "Europe/Slovak Republic",
          "Africa/Congo, Rep.",
          "Africa/Somalia",
          "Africa/South Africa",
          "Europe/Spain",
          "Asia/Sri Lanka",
          "Africa/Sudan",
          "Africa/Swaziland",
          "Europe/Sweden",
          "Asia/Saudi Arabia",
          "Africa/Sao Tome and Principe",
          "Africa/Rwanda",
          "Europe/Romania",
          "Europe/Denmark",
          "Africa/Djibouti",
          "Americas/Dominican Republic",
          "Americas/Ecuador",
          "Africa/Egypt",
          "Americas/El Salvador",
          "Africa/Equatorial Guinea",
          "Africa/Eritrea",
          "Africa/Ethiopia",
          "Europe/Finland",
          "Europe/France",
          "Africa/Gabon",
          "Africa/Gambia",
          "Europe/Germany",
          "Africa/Ghana",
          "Europe/Czech Republic",
          "Asia/Oman",
          "Americas/Cuba",
          "Africa/Cote d'Ivoire",
          "Americas/Peru",
          "Asia/Philippines",
          "Europe/Poland",
          "Europe/Portugal",
          "Americas/Puerto Rico",
          "Africa/Reunion",
          "Europe/Romania",
          "Africa/Rwanda",
          "Africa/Sao Tome and Principe",
          "Asia/Saudi Arabia",
          "Africa/Senegal",
          "Asia/Thailand",
          "Europe/Serbia",
          "Africa/Congo, Rep.",
          "Americas/Costa Rica",
          "Europe/Croatia",
          "Europe/Norway",
          "Europe/Slovenia",
          "Africa/Niger",
          "Asia/Kuwait",
          "Asia/Korea, Rep.",
          "Asia/Korea, Dem. Rep.",
          "Africa/Kenya",
          "Asia/Jordan",
          "Asia/Japan",
          "Americas/Jamaica",
          "Europe/Italy",
          "Asia/Israel",
          "Europe/Ireland",
          "Africa/Nigeria",
          "Asia/Iran",
          "Asia/Indonesia",
          "Asia/Lebanon",
          "Asia/India",
          "Europe/Hungary",
          "Asia/Hong Kong, China",
          "Americas/Honduras",
          "Americas/Haiti",
          "Africa/Guinea-Bissau",
          "Africa/Guinea",
          "Americas/Guatemala",
          "Europe/Belgium",
          "Africa/Chad",
          "Americas/Chile",
          "Asia/China",
          "Americas/Colombia",
          "Africa/Comoros",
          "Europe/Iceland",
          "Africa/Lesotho",
          "Asia/Iraq",
          "Asia/Bahrain",
          "Asia/Nepal",
          "Africa/Namibia",
          "Asia/Myanmar",
          "Africa/Mozambique",
          "Asia/Bangladesh",
          "Europe/Netherlands",
          "Americas/Nicaragua",
          "Africa/Zambia",
          "Oceania/New Zealand",
          "Asia/Afghanistan",
          "Europe/Austria",
          "Oceania/Australia",
          "Americas/Argentina",
          "Europe/Albania",
          "Africa/Algeria",
          "Africa/Angola",
          "Africa/Zimbabwe",
          "Africa/Madagascar",
          "Africa/Libya",
          "Africa/Liberia",
          "Asia/Lebanon",
          "Asia/Kuwait",
          "Americas/Uruguay",
          "Asia/Korea, Rep.",
          "Americas/Haiti",
          "Americas/United States",
          "Europe/United Kingdom",
          "Africa/Uganda",
          "Africa/Lesotho",
          "Asia/Japan",
          "Africa/Mali",
          "Asia/Malaysia",
          "Africa/Guinea-Bissau",
          "Africa/Mauritania",
          "Africa/Mauritius",
          "Asia/Hong Kong, China",
          "Europe/Hungary",
          "Europe/Iceland",
          "Asia/India",
          "Asia/Indonesia",
          "Asia/Iran",
          "Asia/Iraq",
          "Europe/Ireland",
          "Americas/Jamaica",
          "Europe/Italy",
          "Africa/Malawi",
          "Asia/Jordan",
          "Africa/Sudan",
          "Asia/Korea, Dem. Rep.",
          "Asia/Israel",
          "Africa/Equatorial Guinea",
          "Africa/Eritrea",
          "Africa/Ethiopia",
          "Europe/Finland",
          "Europe/France",
          "Africa/Gabon",
          "Africa/Libya",
          "Africa/Gambia",
          "Europe/Germany",
          "Africa/Ghana",
          "Europe/Greece",
          "Americas/Guatemala",
          "Africa/Guinea",
          "Africa/Kenya",
          "Europe/Switzerland",
          "Africa/Sierra Leone",
          "Asia/Singapore",
          "Europe/Slovak Republic",
          "Europe/Slovenia",
          "Africa/Somalia",
          "Africa/South Africa",
          "Europe/Spain",
          "Asia/Sri Lanka",
          "Africa/Swaziland",
          "Europe/Sweden",
          "Africa/Lesotho",
          "Asia/Lebanon",
          "Asia/Kuwait",
          "Asia/Korea, Rep.",
          "Africa/Liberia",
          "Americas/Honduras",
          "Africa/Ethiopia",
          "Asia/Vietnam",
          "Asia/Yemen, Rep.",
          "Americas/Ecuador",
          "Americas/Dominican Republic",
          "Africa/Djibouti",
          "Europe/Denmark",
          "Europe/Czech Republic",
          "Americas/Cuba",
          "Europe/Croatia",
          "Africa/Cote d'Ivoire",
          "Americas/Costa Rica",
          "Africa/Congo, Rep.",
          "Africa/Congo, Dem. Rep.",
          "Africa/Comoros",
          "Africa/Gambia",
          "Europe/Germany",
          "Africa/Ghana",
          "Europe/Greece",
          "Americas/Guatemala",
          "Africa/Guinea",
          "Africa/Guinea-Bissau",
          "Americas/Haiti",
          "Americas/Honduras",
          "Asia/Hong Kong, China",
          "Europe/Hungary",
          "Europe/Albania",
          "Americas/Panama",
          "Americas/Paraguay",
          "Americas/Peru",
          "Asia/Philippines",
          "Europe/United Kingdom",
          "Americas/United States",
          "Americas/Uruguay",
          "Americas/Venezuela",
          "Americas/Venezuela",
          "Asia/West Bank and Gaza",
          "Africa/Angola",
          "Africa/Algeria",
          "Europe/Albania",
          "Asia/Afghanistan",
          "Africa/Zimbabwe",
          "Africa/Zambia",
          "Asia/Afghanistan",
          "Asia/Yemen, Rep.",
          "Asia/Vietnam",
          "Americas/Venezuela",
          "Americas/Uruguay",
          "Americas/United States",
          "Asia/Saudi Arabia",
          "Africa/Sao Tome and Principe",
          "Africa/Rwanda",
          "Europe/Romania",
          "Africa/Reunion",
          "Americas/Puerto Rico",
          "Europe/Portugal",
          "Europe/Poland",
          "Asia/West Bank and Gaza",
          "Africa/Zimbabwe",
          "Africa/Zambia",
          "Asia/Yemen, Rep.",
          "Africa/Mauritania",
          "Africa/Mauritius",
          "Africa/Swaziland",
          "Africa/Sudan",
          "Asia/Sri Lanka",
          "Europe/Spain",
          "Africa/South Africa",
          "Africa/Somalia",
          "Europe/Slovenia",
          "Europe/Slovak Republic",
          "Asia/Singapore",
          "Africa/Sierra Leone",
          "Africa/Mali",
          "Europe/Serbia",
          "Asia/Indonesia",
          "Asia/India",
          "Europe/Iceland",
          "Europe/Hungary",
          "Asia/Hong Kong, China",
          "Americas/Honduras",
          "Americas/Haiti",
          "Africa/Guinea-Bissau",
          "Africa/Guinea",
          "Americas/Guatemala",
          "Europe/Greece",
          "Africa/Ghana",
          "Africa/Senegal",
          "Africa/Uganda",
          "Asia/Malaysia",
          "Africa/Madagascar",
          "Asia/West Bank and Gaza",
          "Asia/Vietnam",
          "Americas/Venezuela",
          "Americas/Uruguay",
          "Americas/United States",
          "Europe/United Kingdom",
          "Africa/Uganda",
          "Europe/Iceland",
          "Asia/India",
          "Asia/Indonesia",
          "Asia/Iran",
          "Asia/Iraq",
          "Africa/Malawi",
          "Europe/Ireland",
          "Europe/Italy",
          "Americas/Jamaica",
          "Asia/Japan",
          "Asia/Jordan",
          "Africa/Kenya",
          "Asia/Korea, Dem. Rep.",
          "Asia/Korea, Rep.",
          "Asia/Kuwait",
          "Asia/Lebanon",
          "Africa/Lesotho",
          "Africa/Liberia",
          "Africa/Libya",
          "Asia/Israel",
          "Europe/Turkey",
          "Asia/Vietnam",
          "Americas/Trinidad and Tobago",
          "Africa/Djibouti",
          "Europe/Denmark",
          "Europe/Czech Republic",
          "Americas/Cuba",
          "Americas/Haiti",
          "Africa/Guinea-Bissau",
          "Africa/Guinea",
          "Americas/Guatemala",
          "Europe/Greece",
          "Africa/Ghana",
          "Europe/Germany",
          "Africa/Gambia",
          "Africa/Gabon",
          "Europe/France",
          "Europe/Finland",
          "Oceania/New Zealand",
          "Americas/Costa Rica",
          "Africa/Congo, Rep.",
          "Europe/Albania",
          "Asia/Afghanistan",
          "Africa/Zimbabwe",
          "Africa/Tunisia",
          "Africa/Zambia",
          "Asia/Yemen, Rep.",
          "Asia/West Bank and Gaza",
          "Americas/Dominican Republic",
          "Africa/Congo, Dem. Rep.",
          "Americas/Ecuador",
          "Americas/El Salvador",
          "Africa/Namibia",
          "Asia/Nepal",
          "Europe/Netherlands",
          "Africa/Morocco",
          "Europe/Montenegro",
          "Asia/Mongolia",
          "Americas/Mexico",
          "Africa/Mauritius",
          "Africa/Mauritania",
          "Africa/Mali",
          "Asia/Malaysia",
          "Africa/Malawi",
          "Africa/Madagascar",
          "Africa/Libya",
          "Africa/Liberia",
          "Africa/Lesotho",
          "Asia/Lebanon",
          "Asia/Kuwait",
          "Asia/Korea, Rep.",
          "Asia/Korea, Dem. Rep.",
          "Africa/Kenya",
          "Europe/Finland",
          "Africa/Ethiopia",
          "Africa/Eritrea",
          "Africa/Equatorial Guinea",
          "Africa/Egypt",
          "Africa/Mozambique",
          "Africa/Comoros",
          "Asia/China",
          "Americas/Peru",
          "Africa/Libya",
          "Africa/Liberia",
          "Africa/Lesotho",
          "Asia/Lebanon",
          "Asia/Kuwait",
          "Asia/Korea, Rep.",
          "Asia/Korea, Dem. Rep.",
          "Africa/Kenya",
          "Asia/Jordan",
          "Asia/Japan",
          "Americas/Jamaica",
          "Asia/Philippines",
          "Europe/Italy",
          "Africa/Comoros",
          "Americas/Colombia",
          "Asia/China",
          "Americas/Chile",
          "Africa/Chad",
          "Africa/Central African Republic",
          "Americas/Canada",
          "Africa/Cameroon",
          "Asia/Cambodia",
          "Africa/Burundi",
          "Africa/Burkina Faso",
          "Africa/Togo",
          "Africa/Congo, Dem. Rep.",
          "Americas/Colombia",
          "Europe/Poland",
          "Americas/Puerto Rico",
          "Americas/Chile",
          "Africa/Chad",
          "Africa/Central African Republic",
          "Americas/Canada",
          "Africa/Cameroon",
          "Asia/Cambodia",
          "Africa/Burundi",
          "Africa/Burkina Faso",
          "Europe/Bulgaria",
          "Americas/Brazil",
          "Africa/Botswana",
          "Europe/Portugal",
          "Europe/Bosnia and Herzegovina",
          "Africa/Benin",
          "Europe/Belgium",
          "Asia/Bangladesh",
          "Asia/Bahrain",
          "Europe/Austria",
          "Europe/Serbia",
          "Africa/Senegal",
          "Asia/Saudi Arabia",
          "Africa/Sao Tome and Principe",
          "Africa/Rwanda",
          "Europe/Romania",
          "Africa/Reunion",
          "Americas/Bolivia",
          "Asia/Myanmar",
          "Americas/Mexico",
          "Americas/Canada",
          "Europe/Montenegro",
          "Africa/Morocco",
          "Asia/China",
          "Americas/Chile",
          "Africa/Chad",
          "Africa/Central African Republic",
          "Africa/Cameroon",
          "Asia/Cambodia",
          "Africa/Burundi",
          "Africa/Burkina Faso",
          "Asia/Mongolia",
          "Americas/Colombia",
          "Asia/Korea, Rep.",
          "Africa/Congo, Dem. Rep.",
          "Asia/Mongolia",
          "Americas/Mexico",
          "Europe/Slovenia",
          "Europe/Slovak Republic",
          "Asia/Singapore",
          "Africa/Sierra Leone",
          "Europe/Serbia",
          "Africa/Senegal",
          "Asia/Saudi Arabia",
          "Africa/Sao Tome and Principe",
          "Africa/Rwanda",
          "Europe/Romania",
          "Africa/Reunion",
          "Americas/Puerto Rico",
          "Europe/Montenegro",
          "Oceania/New Zealand",
          "Asia/Nepal",
          "Africa/Namibia",
          "Asia/Myanmar",
          "Africa/Mozambique",
          "Africa/Morocco",
          "Europe/Montenegro",
          "Asia/Mongolia",
          "Americas/Mexico",
          "Africa/Mauritius",
          "Africa/Mauritania",
          "Africa/Mali",
          "Asia/Malaysia",
          "Africa/Malawi",
          "Africa/Madagascar",
          "Europe/Netherlands",
          "Africa/Libya",
          "Africa/Morocco",
          "Asia/Myanmar",
          "Africa/South Africa",
          "Africa/Somalia",
          "Europe/Slovenia",
          "Europe/Slovak Republic",
          "Asia/Singapore",
          "Africa/Sierra Leone",
          "Europe/Serbia",
          "Africa/Senegal",
          "Asia/Saudi Arabia",
          "Africa/Sao Tome and Principe",
          "Africa/Rwanda",
          "Europe/Romania",
          "Africa/Reunion",
          "Americas/Puerto Rico",
          "Africa/Mozambique",
          "Europe/Portugal",
          "Asia/Philippines",
          "Americas/Peru",
          "Americas/Paraguay",
          "Americas/Panama",
          "Asia/Pakistan",
          "Asia/Oman",
          "Europe/Norway",
          "Africa/Nigeria",
          "Africa/Niger",
          "Americas/Nicaragua",
          "Oceania/New Zealand",
          "Europe/Netherlands",
          "Asia/Nepal",
          "Africa/Namibia",
          "Europe/Poland",
          "Africa/Comoros",
          "Africa/Liberia",
          "Asia/Lebanon",
          "Africa/Djibouti",
          "Europe/Denmark",
          "Europe/Czech Republic",
          "Americas/Cuba",
          "Europe/Croatia",
          "Africa/Cote d'Ivoire",
          "Asia/Myanmar",
          "Africa/Mozambique",
          "Africa/Morocco",
          "Europe/Montenegro",
          "Asia/Mongolia",
          "Americas/Mexico",
          "Africa/Mauritius",
          "Africa/Mauritania",
          "Americas/Dominican Republic",
          "Africa/Mali",
          "Africa/Malawi",
          "Africa/Madagascar",
          "Americas/El Salvador",
          "Africa/Egypt",
          "Americas/Ecuador",
          "Americas/Dominican Republic",
          "Africa/Djibouti",
          "Europe/Denmark",
          "Europe/Czech Republic",
          "Americas/Cuba",
          "Europe/Croatia",
          "Africa/Cote d'Ivoire",
          "Americas/Costa Rica",
          "Africa/Congo, Rep.",
          "Asia/Malaysia",
          "Africa/Lesotho",
          "Americas/Ecuador",
          "Americas/El Salvador",
          "Asia/Kuwait",
          "Africa/Mauritius",
          "Asia/Korea, Dem. Rep.",
          "Africa/Kenya",
          "Africa/Cameroon",
          "Asia/Cambodia",
          "Africa/Burundi",
          "Africa/Burkina Faso",
          "Europe/Bulgaria",
          "Americas/Brazil",
          "Africa/Botswana",
          "Europe/Bosnia and Herzegovina",
          "Americas/Bolivia",
          "Africa/Benin",
          "Africa/Egypt",
          "Europe/Belgium",
          "Asia/Nepal",
          "Africa/Namibia",
          "Asia/Myanmar",
          "Africa/Mozambique",
          "Africa/Morocco",
          "Europe/Montenegro",
          "Asia/Mongolia",
          "Americas/Mexico",
          "Africa/Mauritius",
          "Africa/Mauritania",
          "Africa/Mali",
          "Asia/Malaysia",
          "Africa/Eritrea",
          "Africa/Equatorial Guinea",
          "Asia/Bangladesh",
          "Africa/Mauritania",
          "Asia/Afghanistan",
          "Asia/Malaysia",
          "Europe/Austria",
          "Asia/Bahrain",
          "Asia/Bangladesh",
          "Europe/Belgium",
          "Africa/Benin",
          "Americas/Bolivia",
          "Oceania/Australia",
          "Europe/Bosnia and Herzegovina",
          "Americas/Brazil",
          "Europe/Bulgaria",
          "Africa/Burkina Faso",
          "Africa/Burundi",
          "Asia/Cambodia",
          "Africa/Cameroon",
          "Africa/Botswana",
          "Americas/Canada",
          "Americas/Argentina",
          "Africa/Algeria",
          "Africa/Tunisia",
          "Europe/Turkey",
          "Africa/Uganda",
          "Europe/United Kingdom",
          "Americas/United States",
          "Americas/Uruguay",
          "Africa/Angola",
          "Americas/Venezuela",
          "Asia/West Bank and Gaza",
          "Asia/Yemen, Rep.",
          "Africa/Zambia",
          "Africa/Zimbabwe",
          "Asia/Afghanistan",
          "Europe/Albania",
          "Asia/Vietnam",
          "Africa/Central African Republic",
          "Africa/Chad",
          "Americas/Chile",
          "Asia/Hong Kong, China",
          "Europe/Hungary",
          "Europe/Iceland",
          "Americas/Mexico",
          "Asia/Mongolia",
          "Europe/Montenegro",
          "Americas/Honduras",
          "Africa/Morocco",
          "Asia/Myanmar",
          "Africa/Namibia",
          "Asia/Nepal",
          "Europe/Netherlands",
          "Oceania/New Zealand",
          "Americas/Nicaragua",
          "Africa/Mozambique",
          "Americas/Haiti",
          "Africa/Guinea-Bissau",
          "Africa/Guinea",
          "Asia/China",
          "Americas/Colombia",
          "Africa/Comoros",
          "Africa/Congo, Dem. Rep.",
          "Africa/Congo, Rep.",
          "Americas/Costa Rica",
          "Africa/Cote d'Ivoire",
          "Europe/Croatia",
          "Americas/Cuba",
          "Europe/Czech Republic",
          "Africa/Gambia",
          "Europe/Germany",
          "Africa/Ghana",
          "Europe/Greece",
          "Americas/Guatemala",
          "Americas/Trinidad and Tobago",
          "Africa/Togo",
          "Africa/Mali",
          "Europe/Portugal",
          "Americas/Nicaragua",
          "Africa/Niger",
          "Africa/Nigeria",
          "Europe/Norway",
          "Asia/Oman",
          "Asia/Pakistan",
          "Oceania/New Zealand",
          "Americas/Panama",
          "Americas/Peru",
          "Asia/Philippines",
          "Europe/Poland",
          "Europe/Portugal",
          "Americas/Puerto Rico",
          "Africa/Reunion",
          "Americas/Paraguay",
          "Europe/Netherlands",
          "Asia/Nepal",
          "Africa/Namibia",
          "Europe/Albania",
          "Africa/Algeria",
          "Africa/Angola",
          "Americas/Argentina",
          "Oceania/Australia",
          "Europe/Austria",
          "Asia/Bahrain",
          "Asia/Bangladesh",
          "Europe/Belgium",
          "Africa/Benin",
          "Americas/Bolivia",
          "Europe/Montenegro",
          "Africa/Morocco",
          "Africa/Mozambique",
          "Asia/Myanmar",
          "Europe/Romania",
          "Africa/Niger",
          "Africa/Rwanda",
          "Africa/Libya",
          "Africa/Botswana",
          "Americas/Brazil",
          "Europe/Bulgaria",
          "Americas/Nicaragua",
          "Africa/Niger",
          "Africa/Nigeria",
          "Europe/Bosnia and Herzegovina",
          "Europe/Norway",
          "Asia/Pakistan",
          "Americas/Panama",
          "Americas/Paraguay",
          "Americas/Peru",
          "Asia/Philippines",
          "Europe/Poland",
          "Asia/Oman",
          "Americas/Bolivia",
          "Africa/Benin",
          "Europe/Belgium",
          "Africa/Madagascar",
          "Africa/Malawi",
          "Asia/Malaysia",
          "Africa/Mali",
          "Africa/Mauritania",
          "Africa/Mauritius",
          "Americas/Mexico",
          "Asia/Mongolia",
          "Europe/Montenegro",
          "Africa/Morocco",
          "Americas/Argentina",
          "Oceania/Australia",
          "Europe/Austria",
          "Asia/Bahrain",
          "Asia/Bangladesh",
          "Africa/Liberia",
          "Africa/Nigeria",
          "Africa/Zimbabwe",
          "Asia/Oman",
          "Asia/Cambodia",
          "Africa/Burundi",
          "Africa/Burkina Faso",
          "Europe/Bulgaria",
          "Americas/Brazil",
          "Africa/Botswana",
          "Europe/Bosnia and Herzegovina",
          "Americas/Bolivia",
          "Africa/Benin",
          "Europe/Belgium",
          "Asia/Bangladesh",
          "Asia/Bahrain",
          "Europe/Austria",
          "Oceania/Australia",
          "Africa/Cameroon",
          "Americas/Argentina",
          "Africa/Algeria",
          "Europe/Albania",
          "Asia/Afghanistan",
          "Africa/Zambia",
          "Asia/Yemen, Rep.",
          "Asia/West Bank and Gaza",
          "Asia/Vietnam",
          "Americas/Venezuela",
          "Americas/Uruguay",
          "Americas/United States",
          "Europe/United Kingdom",
          "Africa/Uganda",
          "Europe/Turkey",
          "Africa/Tunisia",
          "Africa/Angola",
          "Americas/Trinidad and Tobago",
          "Americas/Canada",
          "Africa/Chad",
          "Europe/Norway",
          "Europe/Austria",
          "Oceania/Australia",
          "Americas/Argentina",
          "Africa/Angola",
          "Africa/Algeria",
          "Asia/Bahrain",
          "Asia/Bangladesh",
          "Europe/Belgium",
          "Africa/Benin",
          "Americas/Bolivia",
          "Europe/Bosnia and Herzegovina",
          "Africa/Botswana",
          "Americas/Guatemala",
          "Africa/Central African Republic",
          "Africa/Guinea",
          "Americas/Haiti",
          "Americas/Honduras",
          "Europe/Norway",
          "Africa/Nigeria",
          "Africa/Niger",
          "Americas/Nicaragua",
          "Oceania/New Zealand",
          "Europe/Netherlands",
          "Asia/Nepal",
          "Africa/Namibia",
          "Africa/Mozambique",
          "Africa/Morocco",
          "Europe/Montenegro",
          "Americas/Chile",
          "Africa/Guinea-Bissau",
          "Africa/Togo",
          "Asia/Myanmar",
          "Africa/Tanzania",
          "Asia/Iraq",
          "Africa/Swaziland",
          "Asia/Pakistan",
          "Asia/Sri Lanka",
          "Europe/Spain",
          "Africa/Reunion",
          "Americas/Puerto Rico",
          "Europe/Portugal",
          "Asia/Iran",
          "Europe/Poland",
          "Americas/Peru",
          "Americas/Paraguay",
          "Americas/Panama",
          "Africa/Malawi",
          "Africa/Madagascar",
          "Africa/Libya",
          "Africa/Liberia",
          "Asia/Thailand",
          "Asia/Philippines",
          "Asia/Indonesia",
          "Africa/Sudan",
          "Europe/Iceland",
          "Europe/Hungary",
          "Asia/Hong Kong, China",
          "Europe/Sweden",
          "Europe/Switzerland",
          "Asia/Syria",
          "Asia/India",
          "Asia/Taiwan",
          "Asia/Nepal",
          "Europe/Netherlands",
          "Oceania/New Zealand",
          "Americas/Nicaragua",
          "Africa/Niger",
          "Africa/Nigeria",
          "Europe/Norway",
          "Americas/Panama",
          "Asia/Pakistan",
          "Americas/Paraguay",
          "Africa/Mozambique",
          "Africa/Senegal",
          "Africa/Sierra Leone",
          "Asia/Singapore",
          "Asia/Oman",
          "Africa/Namibia",
          "Africa/Namibia",
          "Asia/Nepal",
          "Africa/Botswana",
          "Americas/Colombia",
          "Asia/China",
          "Americas/Chile",
          "Africa/Chad",
          "Africa/Central African Republic",
          "Americas/Canada",
          "Africa/Cameroon",
          "Asia/Cambodia",
          "Africa/Burundi",
          "Africa/Burkina Faso",
          "Europe/Bulgaria",
          "Americas/Brazil",
          "Europe/Bosnia and Herzegovina",
          "Americas/Nicaragua",
          "Oceania/New Zealand",
          "Europe/Netherlands",
          "Asia/Myanmar",
          "Europe/Slovak Republic",
          "Asia/Saudi Arabia",
          "Africa/Somalia",
          "Americas/Trinidad and Tobago",
          "Africa/Tunisia",
          "Europe/Turkey",
          "Africa/Uganda",
          "Europe/United Kingdom",
          "Americas/United States",
          "Americas/Paraguay",
          "Americas/Uruguay",
          "Europe/Netherlands",
          "Oceania/New Zealand",
          "Americas/Nicaragua",
          "Africa/Niger",
          "Americas/Panama",
          "Africa/Nigeria",
          "Europe/Norway",
          "Asia/Oman",
          "Asia/Pakistan",
          "Africa/Togo",
          "Asia/Thailand",
          "Africa/Tanzania",
          "Asia/Taiwan",
          "Africa/Sao Tome and Principe",
          "Africa/Rwanda",
          "Europe/Romania",
          "Africa/Reunion",
          "Americas/Puerto Rico",
          "Europe/Portugal",
          "Europe/Poland",
          "Asia/Philippines",
          "Europe/Slovenia",
          "Americas/Peru",
          "Africa/South Africa",
          "Europe/Spain",
          "Asia/Sri Lanka",
          "Africa/Sudan",
          "Africa/Swaziland",
          "Europe/Sweden",
          "Europe/Switzerland",
          "Asia/Syria",
          "Americas/Brazil",
          "Europe/Bulgaria",
          "Asia/Cambodia",
          "Africa/Burundi",
          "Africa/Mali",
          "Asia/Malaysia",
          "Africa/Malawi",
          "Africa/Madagascar",
          "Africa/Libya",
          "Africa/Liberia",
          "Africa/Lesotho",
          "Africa/Angola",
          "Americas/Argentina",
          "Oceania/Australia",
          "Europe/Austria",
          "Asia/Bahrain",
          "Asia/Bangladesh",
          "Europe/Belgium",
          "Africa/Benin",
          "Americas/Bolivia",
          "Europe/Bosnia and Herzegovina",
          "Africa/Mauritania",
          "Africa/Mauritius",
          "Americas/Mexico",
          "Asia/Mongolia",
          "Asia/Saudi Arabia",
          "Africa/Senegal",
          "Europe/Serbia",
          "Africa/Sierra Leone",
          "Asia/Singapore",
          "Europe/Slovak Republic",
          "Europe/Slovenia",
          "Africa/Somalia",
          "Africa/Gabon",
          "Africa/South Africa",
          "Asia/Sri Lanka",
          "Africa/Algeria",
          "Africa/Sao Tome and Principe",
          "Asia/Pakistan",
          "Asia/Oman",
          "Europe/Norway",
          "Africa/Nigeria",
          "Africa/Niger",
          "Europe/Spain",
          "Europe/France",
          "Europe/Serbia",
          "Asia/Lebanon",
          "Europe/Finland",
          "Europe/France",
          "Africa/Gabon",
          "Africa/Gambia",
          "Europe/Germany",
          "Africa/Ghana",
          "Africa/Central African Republic",
          "Americas/Canada",
          "Africa/Ethiopia",
          "Africa/Cameroon",
          "Africa/Burkina Faso",
          "Europe/Bulgaria",
          "Americas/Brazil",
          "Africa/Botswana",
          "Europe/Bosnia and Herzegovina",
          "Americas/Bolivia",
          "Africa/Benin",
          "Europe/Greece",
          "Africa/Burundi",
          "Africa/Burkina Faso",
          "Africa/Eritrea",
          "Americas/El Salvador",
          "Americas/Chile",
          "Africa/Chad",
          "Africa/Central African Republic",
          "Americas/Canada",
          "Africa/Cameroon",
          "Asia/Cambodia",
          "Europe/Finland",
          "Africa/Ethiopia",
          "Africa/Equatorial Guinea",
          "Africa/Eritrea",
          "Americas/El Salvador",
          "Africa/Egypt",
          "Americas/Ecuador",
          "Americas/Dominican Republic",
          "Africa/Djibouti",
          "Europe/Denmark",
          "Africa/Botswana",
          "Africa/Egypt",
          "Africa/Equatorial Guinea",
          "Africa/Sierra Leone",
          "Asia/West Bank and Gaza",
          "Asia/Japan",
          "Asia/Iraq",
          "Asia/Iran",
          "Asia/Indonesia",
          "Asia/India",
          "Europe/Iceland",
          "Europe/Hungary",
          "Asia/Hong Kong, China",
          "Americas/Honduras",
          "Europe/Denmark",
          "Europe/Ireland",
          "Africa/Djibouti",
          "Americas/Ecuador",
          "Africa/Egypt",
          "Americas/El Salvador",
          "Africa/Equatorial Guinea",
          "Africa/Eritrea",
          "Africa/Ethiopia",
          "Europe/Finland",
          "Europe/France",
          "Africa/Gabon",
          "Americas/Dominican Republic",
          "Oceania/Australia",
          "Asia/Israel",
          "Americas/Jamaica",
          "Americas/Puerto Rico",
          "Europe/Portugal",
          "Europe/Poland",
          "Asia/Philippines",
          "Americas/Peru",
          "Americas/Paraguay",
          "Americas/Panama",
          "Asia/Pakistan",
          "Asia/Oman",
          "Europe/Italy",
          "Asia/Jordan",
          "Africa/Niger",
          "Americas/Nicaragua",
          "Oceania/New Zealand",
          "Europe/Netherlands",
          "Asia/Thailand",
          "Europe/Bosnia and Herzegovina",
          "Africa/Botswana",
          "Americas/Brazil",
          "Europe/Bulgaria",
          "Africa/Nigeria",
          "Africa/Reunion",
          "Americas/Argentina",
          "Africa/Algeria",
          "Africa/Rwanda",
          "Europe/Romania",
          "Africa/Reunion",
          "Americas/Puerto Rico",
          "Europe/Portugal",
          "Europe/Poland",
          "Asia/Philippines",
          "Americas/Peru",
          "Americas/Paraguay",
          "Africa/Sao Tome and Principe",
          "Americas/Panama",
          "Asia/Oman",
          "Europe/Norway",
          "Africa/Nigeria",
          "Africa/Niger",
          "Americas/Nicaragua",
          "Oceania/New Zealand",
          "Europe/Netherlands",
          "Asia/Nepal",
          "Africa/Namibia",
          "Asia/Pakistan",
          "Africa/Angola",
          "Asia/Saudi Arabia",
          "Europe/Serbia",
          "Europe/Albania",
          "Asia/Afghanistan",
          "Africa/Zimbabwe",
          "Africa/Zambia",
          "Asia/Yemen, Rep.",
          "Asia/West Bank and Gaza",
          "Asia/Vietnam",
          "Americas/Venezuela",
          "Asia/India",
          "Africa/Senegal",
          "Asia/Indonesia",
          "Asia/Iraq",
          "Europe/Ireland",
          "Asia/Israel",
          "Europe/Italy",
          "Americas/Jamaica",
          "Asia/Japan",
          "Asia/Jordan",
          "Africa/Kenya",
          "Asia/Korea, Dem. Rep.",
          "Asia/Iran",
          "Europe/Romania",
          "Europe/Norway",
          "Africa/Sao Tome and Principe",
          "Africa/Zimbabwe",
          "Asia/Afghanistan",
          "Europe/Albania",
          "Africa/Algeria",
          "Africa/Angola",
          "Americas/Argentina",
          "Oceania/Australia",
          "Europe/Austria",
          "Asia/Bahrain",
          "Africa/Zambia",
          "Americas/Canada",
          "Africa/Chad",
          "Americas/Chile",
          "Asia/China",
          "Americas/Colombia",
          "Africa/Rwanda",
          "Africa/Comoros",
          "Africa/Congo, Dem. Rep.",
          "Africa/Congo, Rep.",
          "Americas/Costa Rica",
          "Africa/Central African Republic",
          "Asia/Yemen, Rep.",
          "Asia/Singapore",
          "Europe/France",
          "Americas/Jamaica",
          "Europe/Italy",
          "Asia/Israel",
          "Europe/Ireland",
          "Asia/Iraq",
          "Asia/Iran",
          "Asia/Indonesia",
          "Asia/India",
          "Europe/Iceland",
          "Europe/Hungary",
          "Asia/Hong Kong, China",
          "Americas/Honduras",
          "Americas/Haiti",
          "Africa/Guinea-Bissau",
          "Africa/Guinea",
          "Americas/Guatemala",
          "Europe/Greece",
          "Africa/Ghana",
          "Europe/Germany",
          "Africa/Gambia",
          "Africa/Gabon",
          "Africa/Cote d'Ivoire",
          "Europe/Croatia",
          "Europe/Serbia",
          "Oceania/Australia",
          "Africa/Zambia",
          "Asia/Yemen, Rep.",
          "Asia/West Bank and Gaza",
          "Africa/Benin",
          "Americas/Puerto Rico",
          "Africa/Reunion",
          "Europe/Romania",
          "Africa/Rwanda",
          "Africa/Sao Tome and Principe",
          "Africa/Zimbabwe",
          "Africa/Sudan",
          "Asia/Sri Lanka",
          "Europe/Spain",
          "Africa/South Africa",
          "Africa/Somalia",
          "Europe/Slovenia",
          "Europe/Slovak Republic",
          "Asia/Singapore",
          "Africa/Sierra Leone",
          "Europe/Serbia",
          "Americas/Argentina",
          "Africa/Senegal",
          "Asia/Afghanistan",
          "Africa/Algeria",
          "Europe/Austria",
          "Asia/Bahrain",
          "Asia/Bangladesh",
          "Europe/Belgium",
          "Asia/Saudi Arabia",
          "Africa/Senegal",
          "Americas/Bolivia",
          "Africa/Sierra Leone",
          "Asia/Singapore",
          "Europe/Albania",
          "Asia/Bahrain",
          "Asia/Taiwan",
          "Asia/Syria",
          "Europe/Switzerland",
          "Europe/Sweden",
          "Africa/Swaziland",
          "Europe/Austria",
          "Oceania/Australia",
          "Americas/Argentina",
          "Africa/Angola",
          "Africa/Tanzania",
          "Asia/Saudi Arabia",
          "Asia/Korea, Rep.",
          "Asia/Iraq",
          "Asia/Saudi Arabia",
          "Africa/Sao Tome and Principe",
          "Africa/Rwanda",
          "Europe/Romania",
          "Africa/Reunion",
          "Europe/Portugal",
          "Europe/Poland",
          "Asia/Philippines",
          "Americas/Peru",
          "Asia/Iran",
          "Americas/Paraguay",
          "Asia/Kuwait",
          "Asia/Korea, Dem. Rep.",
          "Africa/Kenya",
          "Asia/Jordan",
          "Asia/Japan",
          "Americas/Jamaica",
          "Europe/Italy",
          "Asia/Israel",
          "Europe/Ireland",
          "Americas/Panama",
          "Americas/Puerto Rico",
          "Asia",
          "Europe",
          "Africa",
          "Africa",
          "Americas",
          "Oceania",
          "Europe",
          "Asia",
          "Asia",
          "Europe",
          "Africa",
          "Americas",
          "Europe",
          "Africa",
          "Americas",
          "Europe",
          "Africa",
          "Africa",
          "Asia",
          "Africa",
          "Americas",
          "Africa",
          "Africa",
          "Americas",
          "Asia",
          "Americas",
          "Africa",
          "Africa",
          "Africa",
          "Americas",
          "Africa",
          "Europe",
          "Americas",
          "Europe",
          "Europe",
          "Africa",
          "Americas",
          "Americas",
          "Africa",
          "Americas",
          "Africa",
          "Africa",
          "Africa",
          "Europe",
          "Europe",
          "Africa",
          "Africa",
          "Europe",
          "Africa",
          "Europe",
          "Americas",
          "Africa",
          "Africa",
          "Americas",
          "Americas",
          "Asia",
          "Europe",
          "Europe",
          "Asia",
          "Asia",
          "Asia",
          "Asia",
          "Europe",
          "Asia",
          "Europe",
          "Americas",
          "Asia",
          "Asia",
          "Africa",
          "Asia",
          "Asia",
          "Asia",
          "Asia",
          "Africa",
          "Africa",
          "Africa",
          "Africa",
          "Africa",
          "Asia",
          "Africa",
          "Africa",
          "Africa",
          "Americas",
          "Asia",
          "Europe",
          "Africa",
          "Africa",
          "Asia",
          "Africa",
          "Asia",
          "Europe",
          "Oceania",
          "Americas",
          "Africa",
          "Africa",
          "Europe",
          "Asia",
          "Asia",
          "Americas",
          "Americas",
          "Americas",
          "Asia",
          "Europe",
          "Europe",
          "Americas",
          "Africa",
          "Europe",
          "Africa",
          "Africa",
          "Asia",
          "Africa",
          "Europe",
          "Africa",
          "Asia",
          "Europe",
          "Europe",
          "Africa",
          "Africa",
          "Europe",
          "Asia",
          "Africa",
          "Africa",
          "Europe",
          "Europe",
          "Asia",
          "Asia",
          "Africa",
          "Asia",
          "Africa",
          "Americas",
          "Africa",
          "Europe",
          "Africa",
          "Europe",
          "Americas",
          "Americas",
          "Americas",
          "Asia",
          "Asia",
          "Asia",
          "Africa",
          "Africa",
          "",
          "",
          "",
          "",
          ""
         ],
         "type": "sunburst",
         "values": [
          12311143,
          2800947,
          4744870,
          4174366,
          8139332,
          9835109,
          4838800,
          127617,
          4049146,
          5432424,
          31681188,
          3232927,
          259864,
          1820319,
          3518107,
          3464522,
          2651869,
          5048043,
          47798986,
          1861252,
          527982,
          1230075000,
          598561,
          123315288,
          10199787,
          6066080,
          7693188,
          3607000,
          1536536,
          168546719,
          8066057,
          10352843,
          6121610,
          11782962,
          14195809,
          30305843,
          3696513,
          7562011,
          14599929,
          37657830,
          8069876,
          5828892,
          37983310,
          575003,
          2186894,
          996380,
          1279406,
          1759224,
          6334556,
          4147252,
          10154878,
          5212416,
          1230542,
          789309,
          47995559,
          1149500,
          501035,
          14770296,
          8680909,
          25870271,
          30131000,
          31140029,
          12617009,
          1255058,
          15410151,
          20367053,
          649901,
          8325260,
          2500689,
          3722800,
          10223422,
          198676,
          506000000,
          109343000,
          26538000,
          8519282,
          2900100,
          2693585,
          52667100,
          1861096,
          100825279,
          10191512,
          706640,
          3149262,
          22934225,
          7788944,
          23634436,
          34593779,
          22454239,
          17155814,
          7361757,
          8954175,
          1130269,
          37090298,
          19576783,
          40152517,
          44433622,
          7753310,
          2915959,
          13219062,
          20686918,
          26605473,
          13056604,
          56667095,
          474528,
          41121485,
          3880130,
          2090162,
          3305200,
          10063000,
          182053,
          454000000,
          8897619,
          22874000,
          7240260,
          2830000,
          2310904,
          5703324,
          3628608,
          8906385,
          4690372,
          1146757,
          701016,
          1010280,
          11872264,
          3747553,
          8523077,
          153403524,
          2713462,
          4535591,
          119901274,
          11140655,
          5146848,
          2799811,
          8143375,
          33796140,
          1133134,
          6120081,
          3421000,
          4277736,
          11537966,
          1984060,
          12760499,
          5247469,
          2990875,
          1183669,
          5884491,
          82995088,
          58179144,
          18252190,
          57866349,
          256894189,
          341244,
          4842194,
          52799062,
          9545158,
          6655297,
          311025,
          5127024,
          10311597,
          10239839,
          4484310,
          10761098,
          10433867,
          38625976,
          26769436,
          627820,
          11261690,
          35481645,
          4115700,
          10394091,
          209275,
          567000000,
          121282000,
          30614000,
          10061506,
          3024400,
          3095893,
          54365564,
          1997616,
          107188273,
          1613551,
          6913545,
          125956499,
          4526235,
          28263827,
          2965146,
          21585105,
          4698301,
          3811387,
          5134406,
          58623428,
          1126189,
          1235767,
          82011073,
          18418288,
          10502372,
          9803875,
          8048834,
          1193708,
          51732000,
          537977,
          517101,
          78717088,
          9354120,
          8888628,
          5149581,
          625361,
          59861301,
          46173816,
          3430388,
          18698655,
          32160729,
          76048996,
          22374398,
          3262838,
          272911760,
          58808266,
          21210254,
          63047647,
          9231669,
          1138101,
          4320890,
          60216677,
          30686889,
          21628605,
          15081016,
          7193761,
          39855442,
          1765345,
          42835005,
          2011612,
          1982823,
          2200725,
          4759670,
          14165114,
          10419991,
          9410494,
          18501390,
          19844382,
          48827160,
          2644765,
          1116479,
          6734098,
          47328791,
          3326498,
          26298373,
          8735988,
          5383010,
          6633514,
          2064095,
          6468126,
          31902268,
          5193039,
          4442238,
          1646912,
          3428839,
          20997321,
          32850275,
          11737396,
          12716129,
          420690,
          7867931,
          6063000,
          5680812,
          13648692,
          12607312,
          34024249,
          1735550,
          960155,
          9216418,
          4786986,
          7272406,
          1691210,
          395114,
          8421403,
          6649942,
          11242847,
          19757799,
          23040630,
          52910342,
          3154264,
          1191336,
          7724976,
          52881328,
          15283050,
          56981620,
          242803533,
          3045153,
          17910182,
          62826491,
          11219340,
          16317921,
          33411317,
          54959000,
          619351,
          100840058,
          8576200,
          5433886,
          3529983,
          7450606,
          7021028,
          16252726,
          3834934,
          3328795,
          55379852,
          614382,
          41008227,
          1280400000,
          15497046,
          8835739,
          4048013,
          3819000,
          8900294,
          4565872,
          9709100,
          198712000,
          2748579,
          9709552,
          39463910,
          67946797,
          4414865,
          495627,
          6353681,
          73312559,
          12921234,
          8650322,
          447416,
          5374693,
          10256295,
          11226999,
          4481020,
          70759295,
          2761407,
          3140003,
          99028000,
          8448233,
          78335266,
          715523,
          753874,
          54433565,
          4826933,
          38111756,
          2637297,
          11400338,
          285483,
          45681811,
          8365850,
          5968349,
          305991,
          5117810,
          10303704,
          9789224,
          4474873,
          4413368,
          9786480,
          4710497,
          153343000,
          708000000,
          233997,
          10705535,
          9974490,
          14168101,
          77718298,
          6395630,
          848406,
          55630100,
          4931729,
          42999530,
          5264500,
          3669448,
          5198399,
          825987,
          880397,
          8504667,
          290243,
          7124673,
          65551171,
          7651254,
          4713416,
          2667518,
          5322536,
          5359923,
          17010154,
          10228744,
          1392284,
          7048426,
          637408000,
          14485993,
          11746035,
          4208858,
          11416987,
          4493312,
          2894855,
          3366439,
          2036305,
          91462088,
          4815000,
          3661549,
          8550362,
          8322925,
          21289402,
          1219113,
          662850,
          3647735,
          22235677,
          9025951,
          2424367,
          1774735,
          30646495,
          348643,
          27764644,
          1000281000,
          1301048,
          43072751,
          14173318,
          3480000,
          3858421,
          40448191,
          1756032,
          556263527,
          12350771,
          153936,
          14100005,
          854885,
          20378239,
          926317,
          3882229,
          6007797,
          9125183,
          4334000,
          63149,
          2491346,
          3548753,
          2977019,
          42292929,
          1133066,
          9031088,
          22211743,
          4018332,
          85262356,
          26084662,
          3447496,
          301139947,
          60776238,
          29170398,
          71158647,
          10276158,
          1056608,
          5701579,
          65068149,
          38139640,
          23174294,
          19314747,
          7554661,
          22223309,
          18013409,
          2042865,
          1438760,
          1599200,
          3089353,
          1891487,
          41622000,
          19067554,
          21198082,
          2820042,
          17661452,
          122091325,
          56729703,
          4203148,
          3539900,
          2347031,
          118454974,
          2298309,
          56535636,
          2326606,
          17647518,
          39326000,
          1497494,
          20860941,
          4090500,
          42459667,
          420702,
          284320,
          69145952,
          71640904,
          992040,
          1622136,
          6998256,
          14441916,
          6502825,
          9171477,
          3344074,
          1956875,
          1411807,
          3086876,
          216964,
          4133884,
          1054486,
          64606759,
          25041917,
          1357445,
          764900,
          3950849,
          25670939,
          6675501,
          9452826,
          51430000,
          1746919,
          4827803,
          2325300,
          3140897,
          8686367,
          5260855,
          4353666,
          10164215,
          4149908,
          5126000,
          46679944,
          27129932,
          3054547,
          7271135,
          2295678,
          1445929,
          3844277,
          3800610,
          2780415,
          16151549,
          29841614,
          9128546,
          9753392,
          326741,
          7363802,
          8128505,
          86796,
          4657072,
          21658597,
          4646899,
          89898,
          3453434,
          4681707,
          28173309,
          2747687,
          249220,
          1666618,
          25145372,
          4491443,
          47124000,
          455661,
          374020,
          73739117,
          7355248,
          9620282,
          561977,
          7254373,
          3832408,
          18125129,
          53456774,
          36227381,
          9859650,
          3279001,
          517810,
          22356726,
          5507565,
          98593,
          11254672,
          6147783,
          62806748,
          9032824,
          1047924,
          1345187,
          4076557,
          3491938,
          1533070,
          3692184,
          212846,
          22611552,
          9411381,
          7454779,
          746559,
          91563009,
          1535090,
          49182000,
          1944401,
          2878220,
          37173340,
          19792000,
          90124000,
          1647412,
          409000000,
          9839000,
          2736300,
          1770390,
          3507701,
          601095,
          2876726,
          3640876,
          10392226,
          10238807,
          16284741,
          1318683096,
          44227550,
          710960,
          165110,
          813338,
          6248643,
          708573,
          9682338,
          548080,
          21731844,
          7038035,
          150448339,
          11026383,
          1358828,
          10595811,
          2229407,
          31889923,
          8199783,
          20434176,
          40301927,
          3600523,
          33333216,
          12420476,
          11926563,
          8007166,
          2721783,
          1703617,
          3115787,
          1140357,
          2953997,
          36436000,
          6326682,
          232187835,
          56339704,
          12939400,
          1251524,
          124329269,
          6491649,
          12845381,
          1050938,
          1456688,
          913025,
          5829696,
          10348684,
          259012,
          872000000,
          184816000,
          60397973,
          17861905,
          3557761,
          2378618,
          56840847,
          5637246,
          3867409,
          28227588,
          20711375,
          4936550,
          387838,
          3668440,
          52088559,
          5041039,
          57374179,
          985739,
          4364501,
          1025384,
          80597764,
          16278738,
          10325429,
          8486949,
          6990574,
          25020539,
          6995447,
          4260884,
          3235865,
          5302888,
          1999210,
          6099799,
          39964159,
          39549438,
          17587060,
          962344,
          8718867,
          1803195,
          3219994,
          1418095,
          43805450,
          1912974,
          5077347,
          27860297,
          56142181,
          18701257,
          4058385,
          2923186,
          71851,
          4487831,
          9513758,
          6640752,
          3991242,
          3300000,
          1112300,
          940458,
          15577932,
          170928,
          1688359,
          82400996,
          22873338,
          10706290,
          12572928,
          9947814,
          1472041,
          8502814,
          7483763,
          6980412,
          9956108,
          1476505,
          1063506,
          1770902,
          9146100,
          26072194,
          59912431,
          287675526,
          3363085,
          24287670,
          15620766,
          3389578,
          4826015,
          11000948,
          1728137,
          10267083,
          3646340,
          3016000,
          9240934,
          5498090,
          28998543,
          6702668,
          2424959,
          171984000,
          4419650,
          61325,
          2822082,
          17829327,
          308700,
          2260000,
          8817650,
          28235346,
          1070439,
          3080907,
          2672000,
          4963829,
          3270065,
          1250882,
          779348,
          24725960,
          16495304,
          38880702,
          35933379,
          6921858,
          1945870,
          5199318,
          2794552,
          3868905,
          12031795,
          9230783,
          82052000,
          372000000,
          147962,
          9504000,
          2125900,
          1517453,
          3201488,
          580653,
          2664249,
          3146381,
          7733250,
          5581001,
          7171347,
          24739869,
          24821286,
          19167654,
          1030585,
          26246839,
          5439568,
          2252965,
          157553000,
          50430000,
          5824797,
          301931,
          1110396331,
          223547000,
          69453570,
          27499638,
          13327079,
          4109086,
          58147733,
          2780132,
          127467972,
          6053193,
          35610177,
          23301725,
          49044790,
          2505559,
          3921278,
          2012649,
          3193942,
          6036914,
          6426679,
          67308928,
          80908147,
          1101832,
          178848,
          4991596,
          9862158,
          8831348,
          4318137,
          601287,
          3451418,
          4690773,
          8716441,
          8490213,
          76368453,
          439593,
          489004,
          49569000,
          4605744,
          2929100,
          1588717,
          1179760,
          3075321,
          13867957,
          7636524,
          9770575,
          6100407,
          9657618,
          1425876,
          4671329,
          19941073,
          6298651,
          3790903,
          821782,
          12412593,
          13329874,
          16660670,
          527678,
          1320500,
          55984294,
          851334,
          1332786,
          5828158,
          11441462,
          4730997,
          7082430,
          2183877,
          1482628,
          1116779,
          2680018,
          841934,
          33505000,
          14781241,
          12044785,
          4639657,
          30770372,
          2260187,
          277603,
          34807417,
          9809596,
          217378,
          754550000,
          10516500,
          1441863,
          1112796,
          893143,
          1886848,
          358266,
          26420307,
          10917494,
          8678557,
          933559,
          95831757,
          1665128,
          30325264,
          50843200,
          191689,
          17009885,
          665770000,
          7961258,
          3150417,
          1523478,
          18985849,
          5793633,
          6083619,
          2961915,
          4919632,
          4977378,
          17486434,
          19764027,
          30329617,
          2448046,
          8858908,
          3495967,
          1733638,
          20819767,
          6335506,
          6960067,
          3330989,
          5127935,
          8310226,
          88049823,
          553541,
          9019800,
          3585000,
          2427334,
          9556500,
          62821884,
          202182,
          7376998,
          7616060,
          3430243,
          4943029,
          65345,
          3051242,
          18680721,
          358900,
          4040665,
          28466390,
          80122492,
          28523502,
          569473,
          22987397,
          1164970000,
          13572994,
          6429417,
          3265124,
          12467171,
          10150094,
          5809236,
          8878303,
          2015133,
          34202721,
          47969150,
          41672143,
          2874127,
          108700891,
          2011497,
          5410052,
          4197776,
          5359092,
          10111559,
          10870037,
          24501530,
          170372,
          7852401,
          22404337,
          743981,
          3859606,
          684736,
          3908037,
          25873917,
          1972153,
          45598081,
          18473780,
          31167783,
          720230,
          2674234,
          102479927,
          1200206,
          2828858,
          10580176,
          22662365,
          11824495,
          16473477,
          16122830,
          5368585,
          33757175,
          47761980,
          43997828,
          9118773,
          2009245,
          5447502,
          4553009,
          6144562,
          10150265,
          12267493,
          27601038,
          199579,
          8860588,
          22276056,
          798094,
          3942491,
          19951656,
          10642836,
          91077287,
          28674757,
          6667147,
          3242173,
          169270617,
          3204897,
          4627926,
          135031164,
          12894865,
          5675356,
          4115771,
          16570613,
          28901790,
          2055080,
          38518241,
          454429,
          2814651,
          3677780,
          417908,
          5283663,
          10300707,
          10983007,
          4444595,
          14625967,
          40546538,
          13160731,
          25798239,
          621621,
          2312802,
          88111030,
          1096202,
          2119465,
          7992357,
          8416215,
          10014249,
          12210395,
          5274649,
          59402198,
          10748394,
          7351181,
          384156,
          5171393,
          10315702,
          10723260,
          4494013,
          12772596,
          3173216,
          2409073,
          18319502,
          2046772,
          11911819,
          5783439,
          2111561,
          1042663,
          22215365,
          31386842,
          15929988,
          12926707,
          7021078,
          12251209,
          7661799,
          179914212,
          1630347,
          4165416,
          8445134,
          7026113,
          66134291,
          10311970,
          23001113,
          1774766,
          43247867,
          16603334,
          28529501,
          692651,
          2494803,
          95895146,
          1149818,
          2444741,
          9384984,
          20476091,
          4058319,
          439971,
          135656790,
          1841240,
          8425333,
          16331785,
          7568430,
          297410,
          80428306,
          9821800,
          3168267,
          5079716,
          14074100,
          4086000,
          114313951,
          8797022,
          5889574,
          3834415,
          6978607,
          7959865,
          781472,
          23796400,
          26983828,
          17152804,
          5303507,
          37492953,
          10190285,
          56079000,
          209896000,
          2829526,
          6162675,
          11515649,
          1089572,
          7407075,
          4506497,
          5861135,
          14880372,
          2509048,
          44655014,
          2167533,
          4388260,
          10599793,
          4583700,
          10637171,
          221823,
          63759976,
          1528000,
          560073,
          3055235,
          18396941,
          31528087,
          977026,
          13933198,
          13852989,
          3164900,
          2554598,
          11127868,
          4908554,
          745228,
          4227026,
          943455000,
          25094412,
          304739,
          26480870,
          1536769,
          2108457,
          7459574,
          4318673,
          9537988,
          10161915,
          608274,
          78160773,
          10538093,
          9308479,
          5703430,
          975199,
          2056351,
          7634008,
          8970450,
          1165790,
          3379468,
          33119096,
          3327728,
          507833,
          41346560,
          1994794,
          940080,
          8025700,
          22438691,
          25730551,
          8526050,
          2227000,
          257700,
          1555876,
          10381988,
          9182536,
          485831,
          1282697,
          9279525,
          4232095,
          17876956,
          8691212,
          6927772,
          120447,
          46886859,
          8730405,
          1738315,
          2883315,
          413834,
          9939217,
          6446316,
          20092996,
          16630000,
          5682086,
          2534927,
          1201578,
          512764,
          76039390,
          8012946,
          2182908,
          5060262,
          53740085,
          3349000,
          3933004,
          69325921,
          1616384,
          2614104,
          13954700,
          40850141,
          33039545,
          829050,
          3593918,
          2151895,
          9218400,
          5181679,
          3221238,
          7739235,
          4241884,
          1076852,
          609816,
          35015548,
          882134,
          442829,
          11406350,
          21283783,
          10794968,
          7129864,
          171863,
          56839289,
          975950,
          62209173,
          6642107,
          1004533,
          7272485,
          4580410,
          6634596,
          8892098,
          128962939,
          970347,
          4172693,
          5642224,
          3641603,
          9856303,
          93074406,
          377967,
          7574613,
          15184200,
          9250831,
          29341374,
          20033753,
          2780097,
          12881816,
          5216550,
          8403990,
          1261091,
          50533506,
          13503563,
          2873520,
          220239000,
          56179000,
          11457758,
          42404033,
          6005061,
          7016384,
          1039009,
          25201900,
          4875118,
          4043205,
          7578903,
          16257249,
          31620918,
          7874230,
          23254956,
          454612,
          103764241,
          9870200,
          4243788,
          6156369,
          4338977,
          1151184,
          7326406,
          2476971,
          5650262,
          5756203,
          4372203,
          4114787,
          73039376,
          6437188,
          2979423,
          3210650,
          14310401,
          15796314,
          1099010,
          12587223,
          20198730,
          562548,
          11487112,
          927524,
          2308582,
          34680442,
          17129565,
          16543189,
          551425,
          78152686,
          14116836,
          36439000,
          492095,
          3080828,
          9662600,
          51889696,
          34621254,
          15990099,
          2984494,
          1839782,
          7824747,
          10568642,
          3799845,
          2269414,
          44148285,
          46850962,
          169276000,
          17104986,
          244676,
          10612740,
          5584510,
          8251648,
          6316424,
          7932503,
          788000000,
          16785196,
          10332057,
          11805689,
          2488550,
          1590597,
          4076008,
          41871351,
          3638919,
          1215725,
          53100671,
          2009813,
          12891952,
          3965841,
          2467895,
          1750200,
          628164,
          621392,
          1278184,
          17917180,
          442308,
          30964245,
          1084035000,
          12463354,
          5498955,
          2840009,
          26549700,
          10780667,
          8371791,
          5126023,
          7586551,
          8971958,
          142938076,
          2791000,
          3344353,
          3317166,
          14665278,
          38028578,
          4237384,
          5618198,
          3080153,
          887498,
          4286552,
          29788695,
          7688797,
          53292000,
          186538000,
          2287985,
          2598466,
          12596822,
          2728150,
          1865490,
          4534062,
          1405486,
          47287752,
          3786019,
          714775,
          60641899,
          1528098,
          29263397,
          10863958,
          11918938,
          70787,
          3451079,
          19284814,
          414024,
          2648961,
          9103000,
          31785378,
          35356600,
          1582962,
          12132200,
          18356657,
          31158061,
          10421936,
          11183227,
          370006,
          7561588,
          5666000,
          4834621,
          56602560,
          7274900,
          14131858,
          2445618,
          3838168,
          6748378,
          2917802,
          4762912,
          1019729,
          863308,
          748747,
          4561361,
          19610538,
          9712569,
          6965860,
          138655,
          51365468,
          8989111,
          1925173,
          3211738,
          3076000,
          1022556,
          516556,
          30144317,
          800663,
          4005677,
          2755589,
          6860147,
          2143249,
          1127000,
          3558137,
          1489518,
          2526994,
          1454867,
          14264935,
          7982342,
          10270856,
          60011,
          105186881,
          1593882,
          4186147,
          81551520,
          7332638,
          28549870,
          61083916,
          7971222,
          1439529,
          4324000,
          44310863,
          434904,
          323150,
          71019069,
          6391288,
          4369038,
          33390141,
          22815614,
          17696293,
          14326203,
          7322858,
          190010647,
          1639131,
          4552198,
          9119152,
          8078314,
          8096218,
          8390505,
          4469979,
          1542611,
          2355805,
          6377619,
          2682462,
          1291695,
          14785584,
          5009067,
          4693836,
          5238460,
          76511887,
          232922,
          4906585,
          6939688,
          80264543,
          13755680,
          9319622,
          496374,
          5468120,
          474639,
          25009741,
          551201,
          2662190,
          1142636,
          127065841,
          20775703,
          63327987,
          199278000,
          959000000,
          271192,
          10244684,
          6495918,
          5867957,
          5088419,
          3667233,
          228694,
          7278866,
          38783863,
          4282586,
          192675,
          2512642,
          34617799,
          4738902,
          53165019,
          706367,
          5302800,
          18565243,
          5531387,
          2531311,
          3759430,
          10156415,
          38654957,
          75012988,
          24748122,
          5154123,
          2734531,
          135564834,
          2283635,
          57479469,
          5307470,
          9666252,
          4609572,
          3676187,
          15604464,
          39276153,
          4256013,
          1342614,
          155975974,
          8658506,
          106207839,
          684810,
          36203463,
          29072015,
          7290203,
          22797027,
          622191,
          3585176,
          9927680,
          38370697,
          67185766,
          22430449,
          4483945,
          125911,
          2484997,
          1915208,
          4286357,
          93364244,
          8392818,
          4017939,
          3437674,
          15174244,
          20326209,
          1554253,
          120065004,
          9875024,
          16945857,
          9826397,
          3428038,
          22227415,
          10704340,
          8381163,
          13367997,
          2104779,
          69940728,
          20265563,
          634000000,
          8307920,
          136725000,
          11882916,
          3271900,
          3495918,
          56059245,
          2156814,
          113872473,
          1937652,
          14500404,
          16325320,
          35480679,
          22562458,
          4405672,
          145608,
          4995432,
          13079460,
          2263554,
          14760787,
          5894858,
          24779799,
          13177000,
          7544201,
          230800,
          3900000,
          22284500,
          3899068,
          9717524,
          862030000,
          22542890,
          7212583,
          250027,
          23007669,
          1340458,
          1834796,
          1927260,
          6740785,
          1977600,
          59925035,
          2664659,
          57926999,
          6029529,
          3879155,
          24001816,
          66907826,
          211060000,
          1034172547,
          288030,
          10083313,
          6762476,
          6677328,
          7607651,
          1332459,
          8807818,
          11178650,
          10603863,
          20550751,
          82350671,
          1457766,
          1299304,
          6071696,
          4225310,
          10336594,
          17481977,
          9417789,
          15826497,
          2826046,
          4981671,
          2847132,
          461633,
          20662648,
          3992121,
          76595,
          11404948,
          14597019,
          13016733,
          34513161,
          23935810,
          3840161,
          1694510,
          4593433,
          2152400,
          2879013,
          8313288,
          33958947,
          4588696,
          25268405,
          31287142,
          7914969,
          529491,
          113704579,
          10045622,
          21229759,
          9535314,
          6893451,
          4578212,
          3802309,
          3508512,
          656397,
          15226039,
          6701172,
          6401400,
          8122293,
          480105,
          8148312,
          19546792,
          38331121,
          10866106,
          14706593,
          6472756,
          20947571,
          5441766,
          14619745,
          110812,
          6349365,
          22686371,
          562035,
          9915289,
          37740710,
          60017788,
          20195924,
          17272000,
          3886512,
          160000,
          8865488,
          6464046,
          607914,
          86459025,
          1426095,
          47666000,
          1620914,
          2952156,
          2253639,
          3444468,
          189884585,
          30962990,
          238504874,
          87712681,
          343226879,
          175791750,
          90999581,
          4486958,
          1089064744,
          116701424,
          48209960,
          67324742,
          45798297,
          11654234,
          1467745520,
          98195824,
          90584127,
          55819300,
          102125168,
          117799781,
          293555608,
          30731556,
          63951076,
          134468704,
          11497920623,
          327073195,
          4340207,
          392179863,
          23078509,
          28800093,
          109837314,
          51478995,
          110790906,
          119835154,
          59930248,
          3122927,
          68828369,
          98546921,
          558273291,
          52121297,
          3930612,
          33842602,
          499590225,
          57255852,
          635430772,
          9544985,
          9517663,
          930564520,
          151399517,
          113090173,
          82304337,
          64326608,
          10584101,
          64819605,
          47047121,
          57507112,
          122611748,
          2723737,
          8413568878,
          1779874000,
          507620482,
          170249942,
          40089911,
          46147329,
          654443496,
          25621474,
          1341105696,
          32015673,
          218475002,
          197446575,
          437992636,
          14477947,
          33382157,
          16676357,
          21766286,
          38001643,
          118828826,
          84196529,
          174888664,
          85348081,
          21392686,
          11112867,
          820971569,
          20818208,
          6771236,
          246668903,
          144560344,
          401187510,
          13894197,
          198620935,
          165441575,
          37200386,
          36491702,
          82288486,
          884496214,
          48377293,
          17258464,
          1124200629,
          23823483,
          42665831,
          210709116,
          631639543,
          411879653,
          115035287,
          37382139,
          6221973,
          249829082,
          63581228,
          1271734,
          149740416,
          77355665,
          105406641,
          43265099,
          32013809,
          57294085,
          21532577,
          62366374,
          359140226,
          430221581,
          174549981,
          258723977,
          8148624,
          98640347,
          76611518,
          118384545,
          202496687,
          245993972,
          539539574,
          34751568,
          12077636,
          80241243,
          550908099,
          172332593,
          673053608,
          2738534790,
          34949846,
          181557616,
          654822851,
          22183278,
          130118302,
          76245658,
          91703593,
          6187585961,
          7351438499,
          30507333901,
          6181115304,
          212992136
         ]
        }
       ],
       "layout": {
        "legend": {
         "tracegroupgap": 0
        },
        "margin": {
         "t": 60
        },
        "template": {
         "data": {
          "bar": [
           {
            "error_x": {
             "color": "#2a3f5f"
            },
            "error_y": {
             "color": "#2a3f5f"
            },
            "marker": {
             "line": {
              "color": "#E5ECF6",
              "width": 0.5
             },
             "pattern": {
              "fillmode": "overlay",
              "size": 10,
              "solidity": 0.2
             }
            },
            "type": "bar"
           }
          ],
          "barpolar": [
           {
            "marker": {
             "line": {
              "color": "#E5ECF6",
              "width": 0.5
             },
             "pattern": {
              "fillmode": "overlay",
              "size": 10,
              "solidity": 0.2
             }
            },
            "type": "barpolar"
           }
          ],
          "carpet": [
           {
            "aaxis": {
             "endlinecolor": "#2a3f5f",
             "gridcolor": "white",
             "linecolor": "white",
             "minorgridcolor": "white",
             "startlinecolor": "#2a3f5f"
            },
            "baxis": {
             "endlinecolor": "#2a3f5f",
             "gridcolor": "white",
             "linecolor": "white",
             "minorgridcolor": "white",
             "startlinecolor": "#2a3f5f"
            },
            "type": "carpet"
           }
          ],
          "choropleth": [
           {
            "colorbar": {
             "outlinewidth": 0,
             "ticks": ""
            },
            "type": "choropleth"
           }
          ],
          "contour": [
           {
            "colorbar": {
             "outlinewidth": 0,
             "ticks": ""
            },
            "colorscale": [
             [
              0,
              "#0d0887"
             ],
             [
              0.1111111111111111,
              "#46039f"
             ],
             [
              0.2222222222222222,
              "#7201a8"
             ],
             [
              0.3333333333333333,
              "#9c179e"
             ],
             [
              0.4444444444444444,
              "#bd3786"
             ],
             [
              0.5555555555555556,
              "#d8576b"
             ],
             [
              0.6666666666666666,
              "#ed7953"
             ],
             [
              0.7777777777777778,
              "#fb9f3a"
             ],
             [
              0.8888888888888888,
              "#fdca26"
             ],
             [
              1,
              "#f0f921"
             ]
            ],
            "type": "contour"
           }
          ],
          "contourcarpet": [
           {
            "colorbar": {
             "outlinewidth": 0,
             "ticks": ""
            },
            "type": "contourcarpet"
           }
          ],
          "heatmap": [
           {
            "colorbar": {
             "outlinewidth": 0,
             "ticks": ""
            },
            "colorscale": [
             [
              0,
              "#0d0887"
             ],
             [
              0.1111111111111111,
              "#46039f"
             ],
             [
              0.2222222222222222,
              "#7201a8"
             ],
             [
              0.3333333333333333,
              "#9c179e"
             ],
             [
              0.4444444444444444,
              "#bd3786"
             ],
             [
              0.5555555555555556,
              "#d8576b"
             ],
             [
              0.6666666666666666,
              "#ed7953"
             ],
             [
              0.7777777777777778,
              "#fb9f3a"
             ],
             [
              0.8888888888888888,
              "#fdca26"
             ],
             [
              1,
              "#f0f921"
             ]
            ],
            "type": "heatmap"
           }
          ],
          "heatmapgl": [
           {
            "colorbar": {
             "outlinewidth": 0,
             "ticks": ""
            },
            "colorscale": [
             [
              0,
              "#0d0887"
             ],
             [
              0.1111111111111111,
              "#46039f"
             ],
             [
              0.2222222222222222,
              "#7201a8"
             ],
             [
              0.3333333333333333,
              "#9c179e"
             ],
             [
              0.4444444444444444,
              "#bd3786"
             ],
             [
              0.5555555555555556,
              "#d8576b"
             ],
             [
              0.6666666666666666,
              "#ed7953"
             ],
             [
              0.7777777777777778,
              "#fb9f3a"
             ],
             [
              0.8888888888888888,
              "#fdca26"
             ],
             [
              1,
              "#f0f921"
             ]
            ],
            "type": "heatmapgl"
           }
          ],
          "histogram": [
           {
            "marker": {
             "pattern": {
              "fillmode": "overlay",
              "size": 10,
              "solidity": 0.2
             }
            },
            "type": "histogram"
           }
          ],
          "histogram2d": [
           {
            "colorbar": {
             "outlinewidth": 0,
             "ticks": ""
            },
            "colorscale": [
             [
              0,
              "#0d0887"
             ],
             [
              0.1111111111111111,
              "#46039f"
             ],
             [
              0.2222222222222222,
              "#7201a8"
             ],
             [
              0.3333333333333333,
              "#9c179e"
             ],
             [
              0.4444444444444444,
              "#bd3786"
             ],
             [
              0.5555555555555556,
              "#d8576b"
             ],
             [
              0.6666666666666666,
              "#ed7953"
             ],
             [
              0.7777777777777778,
              "#fb9f3a"
             ],
             [
              0.8888888888888888,
              "#fdca26"
             ],
             [
              1,
              "#f0f921"
             ]
            ],
            "type": "histogram2d"
           }
          ],
          "histogram2dcontour": [
           {
            "colorbar": {
             "outlinewidth": 0,
             "ticks": ""
            },
            "colorscale": [
             [
              0,
              "#0d0887"
             ],
             [
              0.1111111111111111,
              "#46039f"
             ],
             [
              0.2222222222222222,
              "#7201a8"
             ],
             [
              0.3333333333333333,
              "#9c179e"
             ],
             [
              0.4444444444444444,
              "#bd3786"
             ],
             [
              0.5555555555555556,
              "#d8576b"
             ],
             [
              0.6666666666666666,
              "#ed7953"
             ],
             [
              0.7777777777777778,
              "#fb9f3a"
             ],
             [
              0.8888888888888888,
              "#fdca26"
             ],
             [
              1,
              "#f0f921"
             ]
            ],
            "type": "histogram2dcontour"
           }
          ],
          "mesh3d": [
           {
            "colorbar": {
             "outlinewidth": 0,
             "ticks": ""
            },
            "type": "mesh3d"
           }
          ],
          "parcoords": [
           {
            "line": {
             "colorbar": {
              "outlinewidth": 0,
              "ticks": ""
             }
            },
            "type": "parcoords"
           }
          ],
          "pie": [
           {
            "automargin": true,
            "type": "pie"
           }
          ],
          "scatter": [
           {
            "fillpattern": {
             "fillmode": "overlay",
             "size": 10,
             "solidity": 0.2
            },
            "type": "scatter"
           }
          ],
          "scatter3d": [
           {
            "line": {
             "colorbar": {
              "outlinewidth": 0,
              "ticks": ""
             }
            },
            "marker": {
             "colorbar": {
              "outlinewidth": 0,
              "ticks": ""
             }
            },
            "type": "scatter3d"
           }
          ],
          "scattercarpet": [
           {
            "marker": {
             "colorbar": {
              "outlinewidth": 0,
              "ticks": ""
             }
            },
            "type": "scattercarpet"
           }
          ],
          "scattergeo": [
           {
            "marker": {
             "colorbar": {
              "outlinewidth": 0,
              "ticks": ""
             }
            },
            "type": "scattergeo"
           }
          ],
          "scattergl": [
           {
            "marker": {
             "colorbar": {
              "outlinewidth": 0,
              "ticks": ""
             }
            },
            "type": "scattergl"
           }
          ],
          "scattermapbox": [
           {
            "marker": {
             "colorbar": {
              "outlinewidth": 0,
              "ticks": ""
             }
            },
            "type": "scattermapbox"
           }
          ],
          "scatterpolar": [
           {
            "marker": {
             "colorbar": {
              "outlinewidth": 0,
              "ticks": ""
             }
            },
            "type": "scatterpolar"
           }
          ],
          "scatterpolargl": [
           {
            "marker": {
             "colorbar": {
              "outlinewidth": 0,
              "ticks": ""
             }
            },
            "type": "scatterpolargl"
           }
          ],
          "scatterternary": [
           {
            "marker": {
             "colorbar": {
              "outlinewidth": 0,
              "ticks": ""
             }
            },
            "type": "scatterternary"
           }
          ],
          "surface": [
           {
            "colorbar": {
             "outlinewidth": 0,
             "ticks": ""
            },
            "colorscale": [
             [
              0,
              "#0d0887"
             ],
             [
              0.1111111111111111,
              "#46039f"
             ],
             [
              0.2222222222222222,
              "#7201a8"
             ],
             [
              0.3333333333333333,
              "#9c179e"
             ],
             [
              0.4444444444444444,
              "#bd3786"
             ],
             [
              0.5555555555555556,
              "#d8576b"
             ],
             [
              0.6666666666666666,
              "#ed7953"
             ],
             [
              0.7777777777777778,
              "#fb9f3a"
             ],
             [
              0.8888888888888888,
              "#fdca26"
             ],
             [
              1,
              "#f0f921"
             ]
            ],
            "type": "surface"
           }
          ],
          "table": [
           {
            "cells": {
             "fill": {
              "color": "#EBF0F8"
             },
             "line": {
              "color": "white"
             }
            },
            "header": {
             "fill": {
              "color": "#C8D4E3"
             },
             "line": {
              "color": "white"
             }
            },
            "type": "table"
           }
          ]
         },
         "layout": {
          "annotationdefaults": {
           "arrowcolor": "#2a3f5f",
           "arrowhead": 0,
           "arrowwidth": 1
          },
          "autotypenumbers": "strict",
          "coloraxis": {
           "colorbar": {
            "outlinewidth": 0,
            "ticks": ""
           }
          },
          "colorscale": {
           "diverging": [
            [
             0,
             "#8e0152"
            ],
            [
             0.1,
             "#c51b7d"
            ],
            [
             0.2,
             "#de77ae"
            ],
            [
             0.3,
             "#f1b6da"
            ],
            [
             0.4,
             "#fde0ef"
            ],
            [
             0.5,
             "#f7f7f7"
            ],
            [
             0.6,
             "#e6f5d0"
            ],
            [
             0.7,
             "#b8e186"
            ],
            [
             0.8,
             "#7fbc41"
            ],
            [
             0.9,
             "#4d9221"
            ],
            [
             1,
             "#276419"
            ]
           ],
           "sequential": [
            [
             0,
             "#0d0887"
            ],
            [
             0.1111111111111111,
             "#46039f"
            ],
            [
             0.2222222222222222,
             "#7201a8"
            ],
            [
             0.3333333333333333,
             "#9c179e"
            ],
            [
             0.4444444444444444,
             "#bd3786"
            ],
            [
             0.5555555555555556,
             "#d8576b"
            ],
            [
             0.6666666666666666,
             "#ed7953"
            ],
            [
             0.7777777777777778,
             "#fb9f3a"
            ],
            [
             0.8888888888888888,
             "#fdca26"
            ],
            [
             1,
             "#f0f921"
            ]
           ],
           "sequentialminus": [
            [
             0,
             "#0d0887"
            ],
            [
             0.1111111111111111,
             "#46039f"
            ],
            [
             0.2222222222222222,
             "#7201a8"
            ],
            [
             0.3333333333333333,
             "#9c179e"
            ],
            [
             0.4444444444444444,
             "#bd3786"
            ],
            [
             0.5555555555555556,
             "#d8576b"
            ],
            [
             0.6666666666666666,
             "#ed7953"
            ],
            [
             0.7777777777777778,
             "#fb9f3a"
            ],
            [
             0.8888888888888888,
             "#fdca26"
            ],
            [
             1,
             "#f0f921"
            ]
           ]
          },
          "colorway": [
           "#636efa",
           "#EF553B",
           "#00cc96",
           "#ab63fa",
           "#FFA15A",
           "#19d3f3",
           "#FF6692",
           "#B6E880",
           "#FF97FF",
           "#FECB52"
          ],
          "font": {
           "color": "#2a3f5f"
          },
          "geo": {
           "bgcolor": "white",
           "lakecolor": "white",
           "landcolor": "#E5ECF6",
           "showlakes": true,
           "showland": true,
           "subunitcolor": "white"
          },
          "hoverlabel": {
           "align": "left"
          },
          "hovermode": "closest",
          "mapbox": {
           "style": "light"
          },
          "paper_bgcolor": "white",
          "plot_bgcolor": "#E5ECF6",
          "polar": {
           "angularaxis": {
            "gridcolor": "white",
            "linecolor": "white",
            "ticks": ""
           },
           "bgcolor": "#E5ECF6",
           "radialaxis": {
            "gridcolor": "white",
            "linecolor": "white",
            "ticks": ""
           }
          },
          "scene": {
           "xaxis": {
            "backgroundcolor": "#E5ECF6",
            "gridcolor": "white",
            "gridwidth": 2,
            "linecolor": "white",
            "showbackground": true,
            "ticks": "",
            "zerolinecolor": "white"
           },
           "yaxis": {
            "backgroundcolor": "#E5ECF6",
            "gridcolor": "white",
            "gridwidth": 2,
            "linecolor": "white",
            "showbackground": true,
            "ticks": "",
            "zerolinecolor": "white"
           },
           "zaxis": {
            "backgroundcolor": "#E5ECF6",
            "gridcolor": "white",
            "gridwidth": 2,
            "linecolor": "white",
            "showbackground": true,
            "ticks": "",
            "zerolinecolor": "white"
           }
          },
          "shapedefaults": {
           "line": {
            "color": "#2a3f5f"
           }
          },
          "ternary": {
           "aaxis": {
            "gridcolor": "white",
            "linecolor": "white",
            "ticks": ""
           },
           "baxis": {
            "gridcolor": "white",
            "linecolor": "white",
            "ticks": ""
           },
           "bgcolor": "#E5ECF6",
           "caxis": {
            "gridcolor": "white",
            "linecolor": "white",
            "ticks": ""
           }
          },
          "title": {
           "x": 0.05
          },
          "xaxis": {
           "automargin": true,
           "gridcolor": "white",
           "linecolor": "white",
           "ticks": "",
           "title": {
            "standoff": 15
           },
           "zerolinecolor": "white",
           "zerolinewidth": 2
          },
          "yaxis": {
           "automargin": true,
           "gridcolor": "white",
           "linecolor": "white",
           "ticks": "",
           "title": {
            "standoff": 15
           },
           "zerolinecolor": "white",
           "zerolinewidth": 2
          }
         }
        }
       }
      }
     },
     "metadata": {},
     "output_type": "display_data"
    }
   ],
   "source": [
    "fig = px.sunburst(df, \n",
    "                  path=['continent','country', 'year'], \n",
    "                  values='pop' , color='continent')\n",
    "# Show the plot\n",
    "fig.show()"
   ]
  },
  {
   "cell_type": "code",
   "execution_count": 30,
   "metadata": {},
   "outputs": [
    {
     "data": {
      "application/vnd.plotly.v1+json": {
       "config": {
        "plotlyServerURL": "https://plot.ly"
       },
       "data": [
        {
         "hovertemplate": "continent=Asia<br>year=1952<br>gdpPercap=%{x}<br>lifeExp=%{y}<br>pop=%{marker.size}<extra></extra>",
         "ids": [
          "Afghanistan",
          "Bahrain",
          "Bangladesh",
          "Cambodia",
          "China",
          "Hong Kong, China",
          "India",
          "Indonesia",
          "Iran",
          "Iraq",
          "Israel",
          "Japan",
          "Jordan",
          "Korea, Dem. Rep.",
          "Korea, Rep.",
          "Kuwait",
          "Lebanon",
          "Malaysia",
          "Mongolia",
          "Myanmar",
          "Nepal",
          "Oman",
          "Pakistan",
          "Philippines",
          "Saudi Arabia",
          "Singapore",
          "Sri Lanka",
          "Syria",
          "Taiwan",
          "Thailand",
          "Vietnam",
          "West Bank and Gaza",
          "Yemen, Rep."
         ],
         "legendgroup": "Asia",
         "marker": {
          "color": "#636efa",
          "size": [
           8425333,
           120447,
           46886859,
           4693836,
           556263527,
           2125900,
           372000000,
           82052000,
           17272000,
           5441766,
           1620914,
           86459025,
           607914,
           8865488,
           20947571,
           160000,
           1439529,
           6748378,
           800663,
           20092996,
           9182536,
           507833,
           41346560,
           22438691,
           4005677,
           1127000,
           7982342,
           3661549,
           8550362,
           21289402,
           26246839,
           1030585,
           4963829
          ],
          "sizemode": "area",
          "sizeref": 435928.2961983471,
          "symbol": "circle"
         },
         "mode": "markers",
         "name": "Asia",
         "orientation": "v",
         "showlegend": true,
         "type": "scatter",
         "x": [
          779.4453145,
          9867.084765,
          684.2441716,
          368.4692856,
          400.448611,
          3054.421209,
          546.5657493,
          749.6816546,
          3035.326002,
          4129.766056,
          4086.522128,
          3216.956347,
          1546.907807,
          1088.277758,
          1030.592226,
          108382.3529,
          4834.804067,
          1831.132894,
          786.5668575,
          331,
          545.8657228999998,
          1828.230307,
          684.5971437999998,
          1272.880995,
          6459.554823,
          2315.138227,
          1083.53203,
          1643.485354,
          1206.947913,
          757.7974177,
          605.0664917,
          1515.5923289999996,
          781.7175761
         ],
         "xaxis": "x",
         "y": [
          28.801,
          50.93899999999999,
          37.484,
          39.417,
          44,
          60.96,
          37.37300000000001,
          37.468,
          44.869,
          45.32,
          65.39,
          63.03,
          43.158,
          50.056,
          47.453,
          55.565,
          55.928,
          48.463,
          42.244,
          36.319,
          36.157,
          37.578,
          43.43600000000001,
          47.752,
          39.875,
          60.396,
          57.593,
          45.883,
          58.5,
          50.848,
          40.412,
          43.16,
          32.548
         ],
         "yaxis": "y"
        },
        {
         "hovertemplate": "continent=Europe<br>year=1952<br>gdpPercap=%{x}<br>lifeExp=%{y}<br>pop=%{marker.size}<extra></extra>",
         "ids": [
          "Albania",
          "Austria",
          "Belgium",
          "Bosnia and Herzegovina",
          "Bulgaria",
          "Croatia",
          "Czech Republic",
          "Denmark",
          "Finland",
          "France",
          "Germany",
          "Greece",
          "Hungary",
          "Iceland",
          "Ireland",
          "Italy",
          "Montenegro",
          "Netherlands",
          "Norway",
          "Poland",
          "Portugal",
          "Romania",
          "Serbia",
          "Slovak Republic",
          "Slovenia",
          "Spain",
          "Sweden",
          "Switzerland",
          "Turkey",
          "United Kingdom"
         ],
         "legendgroup": "Europe",
         "marker": {
          "color": "#EF553B",
          "size": [
           1282697,
           6927772,
           8730405,
           2791000,
           7274900,
           3882229,
           9125183,
           4334000,
           4090500,
           42459667,
           69145952,
           7733250,
           9504000,
           147962,
           2952156,
           47666000,
           413834,
           10381988,
           3327728,
           25730551,
           8526050,
           16630000,
           6860147,
           3558137,
           1489518,
           28549870,
           7124673,
           4815000,
           22235677,
           50430000
          ],
          "sizemode": "area",
          "sizeref": 435928.2961983471,
          "symbol": "circle"
         },
         "mode": "markers",
         "name": "Europe",
         "orientation": "v",
         "showlegend": true,
         "type": "scatter",
         "x": [
          1601.056136,
          6137.076492,
          8343.105126999999,
          973.5331948,
          2444.286648,
          3119.23652,
          6876.14025,
          9692.385245,
          6424.519071,
          7029.809327,
          7144.114393000002,
          3530.690067,
          5263.673816,
          7267.688428,
          5210.280328,
          4931.404154999998,
          2647.585601,
          8941.571858,
          10095.42172,
          4029.329699,
          3068.319867,
          3144.613186,
          3581.459448,
          5074.659104,
          4215.041741,
          3834.034742,
          8527.844662000001,
          14734.23275,
          1969.10098,
          9979.508487
         ],
         "xaxis": "x",
         "y": [
          55.23,
          66.8,
          68,
          53.82,
          59.6,
          61.21,
          66.87,
          70.78,
          66.55,
          67.41,
          67.5,
          65.86,
          64.03,
          72.49,
          66.91,
          65.94,
          59.164,
          72.13,
          72.67,
          61.31,
          59.82,
          61.05,
          57.996,
          64.36,
          65.57,
          64.94,
          71.86,
          69.62,
          43.585,
          69.18
         ],
         "yaxis": "y"
        },
        {
         "hovertemplate": "continent=Africa<br>year=1952<br>gdpPercap=%{x}<br>lifeExp=%{y}<br>pop=%{marker.size}<extra></extra>",
         "ids": [
          "Algeria",
          "Angola",
          "Benin",
          "Botswana",
          "Burkina Faso",
          "Burundi",
          "Cameroon",
          "Central African Republic",
          "Chad",
          "Comoros",
          "Congo, Dem. Rep.",
          "Congo, Rep.",
          "Cote d'Ivoire",
          "Djibouti",
          "Egypt",
          "Equatorial Guinea",
          "Eritrea",
          "Ethiopia",
          "Gabon",
          "Gambia",
          "Ghana",
          "Guinea",
          "Guinea-Bissau",
          "Kenya",
          "Lesotho",
          "Liberia",
          "Libya",
          "Madagascar",
          "Malawi",
          "Mali",
          "Mauritania",
          "Mauritius",
          "Morocco",
          "Mozambique",
          "Namibia",
          "Niger",
          "Nigeria",
          "Reunion",
          "Rwanda",
          "Sao Tome and Principe",
          "Senegal",
          "Sierra Leone",
          "Somalia",
          "South Africa",
          "Sudan",
          "Swaziland",
          "Tanzania",
          "Togo",
          "Tunisia",
          "Uganda",
          "Zambia",
          "Zimbabwe"
         ],
         "legendgroup": "Africa",
         "marker": {
          "color": "#00cc96",
          "size": [
           9279525,
           4232095,
           1738315,
           442308,
           4469979,
           2445618,
           5009067,
           1291695,
           2682462,
           153936,
           14100005,
           854885,
           2977019,
           63149,
           22223309,
           216964,
           1438760,
           20860941,
           420702,
           284320,
           5581001,
           2664249,
           580653,
           6464046,
           748747,
           863308,
           1019729,
           4762912,
           2917802,
           3838168,
           1022556,
           516556,
           9939217,
           6446316,
           485831,
           3379468,
           33119096,
           257700,
           2534927,
           60011,
           2755589,
           2143249,
           2526994,
           14264935,
           8504667,
           290243,
           8322925,
           1219113,
           3647735,
           5824797,
           2672000,
           3080907
          ],
          "sizemode": "area",
          "sizeref": 435928.2961983471,
          "symbol": "circle"
         },
         "mode": "markers",
         "name": "Africa",
         "orientation": "v",
         "showlegend": true,
         "type": "scatter",
         "x": [
          2449.008185,
          3520.610273,
          1062.7522,
          851.2411407,
          543.2552413,
          339.2964587,
          1172.667655,
          1071.310713,
          1178.665927,
          1102.990936,
          780.5423257,
          2125.621418,
          1388.594732,
          2669.529475,
          1418.822445,
          375.6431231,
          328.9405571000001,
          362.1462796,
          4293.476475,
          485.2306591,
          911.2989371,
          510.1964923000001,
          299.850319,
          853.5409189999998,
          298.8462121,
          575.5729961000002,
          2387.54806,
          1443.011715,
          369.1650802,
          452.3369807,
          743.1159097,
          1967.955707,
          1688.20357,
          468.5260381,
          2423.780443,
          761.879376,
          1077.281856,
          2718.885295,
          493.3238752,
          879.5835855,
          1450.356983,
          879.7877358,
          1135.749842,
          4725.295531000002,
          1615.991129,
          1148.376626,
          716.6500721,
          859.8086567,
          1468.475631,
          734.753484,
          1147.388831,
          406.8841148
         ],
         "xaxis": "x",
         "y": [
          43.077,
          30.015,
          38.223,
          47.622,
          31.975,
          39.031,
          38.523,
          35.463,
          38.092,
          40.715,
          39.143,
          42.111,
          40.477,
          34.812,
          41.893,
          34.482,
          35.92800000000001,
          34.078,
          37.003,
          30,
          43.149,
          33.609,
          32.5,
          42.27,
          42.13800000000001,
          38.48,
          42.723,
          36.681,
          36.256,
          33.685,
          40.543,
          50.986,
          42.87300000000001,
          31.286,
          41.725,
          37.444,
          36.324,
          52.724,
          40,
          46.471,
          37.278,
          30.331,
          32.978,
          45.00899999999999,
          38.635,
          41.407,
          41.215,
          38.596,
          44.6,
          39.978,
          42.038,
          48.451
         ],
         "yaxis": "y"
        },
        {
         "hovertemplate": "continent=Americas<br>year=1952<br>gdpPercap=%{x}<br>lifeExp=%{y}<br>pop=%{marker.size}<extra></extra>",
         "ids": [
          "Argentina",
          "Bolivia",
          "Brazil",
          "Canada",
          "Chile",
          "Colombia",
          "Costa Rica",
          "Cuba",
          "Dominican Republic",
          "Ecuador",
          "El Salvador",
          "Guatemala",
          "Haiti",
          "Honduras",
          "Jamaica",
          "Mexico",
          "Nicaragua",
          "Panama",
          "Paraguay",
          "Peru",
          "Puerto Rico",
          "Trinidad and Tobago",
          "United States",
          "Uruguay",
          "Venezuela"
         ],
         "legendgroup": "Americas",
         "marker": {
          "color": "#ab63fa",
          "size": [
           17876956,
           2883315,
           56602560,
           14785584,
           6377619,
           12350771,
           926317,
           6007797,
           2491346,
           3548753,
           2042865,
           3146381,
           3201488,
           1517453,
           1426095,
           30144317,
           1165790,
           940080,
           1555876,
           8025700,
           2227000,
           662850,
           157553000,
           2252965,
           5439568
          ],
          "sizemode": "area",
          "sizeref": 435928.2961983471,
          "symbol": "circle"
         },
         "mode": "markers",
         "name": "Americas",
         "orientation": "v",
         "showlegend": true,
         "type": "scatter",
         "x": [
          5911.315053,
          2677.326347,
          2108.944355,
          11367.16112,
          3939.978789,
          2144.115096,
          2627.0094710000008,
          5586.53878,
          1397.717137,
          3522.110717,
          3048.3029,
          2428.2377690000008,
          1840.366939,
          2194.926204,
          2898.530881,
          3478.125529,
          3112.363948,
          2480.380334,
          1952.308701,
          3758.523437,
          3081.959785,
          3023.271928,
          13990.482080000002,
          5716.766744,
          7689.799761
         ],
         "xaxis": "x",
         "y": [
          62.485,
          40.414,
          50.917,
          68.75,
          54.745,
          50.643,
          57.206,
          59.42100000000001,
          45.928,
          48.357,
          45.262,
          42.023,
          37.579,
          41.912,
          58.53,
          50.789,
          42.31399999999999,
          55.191,
          62.649,
          43.902,
          64.28,
          59.1,
          68.44,
          66.071,
          55.088
         ],
         "yaxis": "y"
        },
        {
         "hovertemplate": "continent=Oceania<br>year=1952<br>gdpPercap=%{x}<br>lifeExp=%{y}<br>pop=%{marker.size}<extra></extra>",
         "ids": [
          "Australia",
          "New Zealand"
         ],
         "legendgroup": "Oceania",
         "marker": {
          "color": "#FFA15A",
          "size": [
           8691212,
           1994794
          ],
          "sizemode": "area",
          "sizeref": 435928.2961983471,
          "symbol": "circle"
         },
         "mode": "markers",
         "name": "Oceania",
         "orientation": "v",
         "showlegend": true,
         "type": "scatter",
         "x": [
          10039.59564,
          10556.57566
         ],
         "xaxis": "x",
         "y": [
          69.12,
          69.39
         ],
         "yaxis": "y"
        }
       ],
       "frames": [
        {
         "data": [
          {
           "hovertemplate": "continent=Asia<br>year=1952<br>gdpPercap=%{x}<br>lifeExp=%{y}<br>pop=%{marker.size}<extra></extra>",
           "ids": [
            "Afghanistan",
            "Bahrain",
            "Bangladesh",
            "Cambodia",
            "China",
            "Hong Kong, China",
            "India",
            "Indonesia",
            "Iran",
            "Iraq",
            "Israel",
            "Japan",
            "Jordan",
            "Korea, Dem. Rep.",
            "Korea, Rep.",
            "Kuwait",
            "Lebanon",
            "Malaysia",
            "Mongolia",
            "Myanmar",
            "Nepal",
            "Oman",
            "Pakistan",
            "Philippines",
            "Saudi Arabia",
            "Singapore",
            "Sri Lanka",
            "Syria",
            "Taiwan",
            "Thailand",
            "Vietnam",
            "West Bank and Gaza",
            "Yemen, Rep."
           ],
           "legendgroup": "Asia",
           "marker": {
            "color": "#636efa",
            "size": [
             8425333,
             120447,
             46886859,
             4693836,
             556263527,
             2125900,
             372000000,
             82052000,
             17272000,
             5441766,
             1620914,
             86459025,
             607914,
             8865488,
             20947571,
             160000,
             1439529,
             6748378,
             800663,
             20092996,
             9182536,
             507833,
             41346560,
             22438691,
             4005677,
             1127000,
             7982342,
             3661549,
             8550362,
             21289402,
             26246839,
             1030585,
             4963829
            ],
            "sizemode": "area",
            "sizeref": 435928.2961983471,
            "symbol": "circle"
           },
           "mode": "markers",
           "name": "Asia",
           "orientation": "v",
           "showlegend": true,
           "type": "scatter",
           "x": [
            779.4453145,
            9867.084765,
            684.2441716,
            368.4692856,
            400.448611,
            3054.421209,
            546.5657493,
            749.6816546,
            3035.326002,
            4129.766056,
            4086.522128,
            3216.956347,
            1546.907807,
            1088.277758,
            1030.592226,
            108382.3529,
            4834.804067,
            1831.132894,
            786.5668575,
            331,
            545.8657228999998,
            1828.230307,
            684.5971437999998,
            1272.880995,
            6459.554823,
            2315.138227,
            1083.53203,
            1643.485354,
            1206.947913,
            757.7974177,
            605.0664917,
            1515.5923289999996,
            781.7175761
           ],
           "xaxis": "x",
           "y": [
            28.801,
            50.93899999999999,
            37.484,
            39.417,
            44,
            60.96,
            37.37300000000001,
            37.468,
            44.869,
            45.32,
            65.39,
            63.03,
            43.158,
            50.056,
            47.453,
            55.565,
            55.928,
            48.463,
            42.244,
            36.319,
            36.157,
            37.578,
            43.43600000000001,
            47.752,
            39.875,
            60.396,
            57.593,
            45.883,
            58.5,
            50.848,
            40.412,
            43.16,
            32.548
           ],
           "yaxis": "y"
          },
          {
           "hovertemplate": "continent=Europe<br>year=1952<br>gdpPercap=%{x}<br>lifeExp=%{y}<br>pop=%{marker.size}<extra></extra>",
           "ids": [
            "Albania",
            "Austria",
            "Belgium",
            "Bosnia and Herzegovina",
            "Bulgaria",
            "Croatia",
            "Czech Republic",
            "Denmark",
            "Finland",
            "France",
            "Germany",
            "Greece",
            "Hungary",
            "Iceland",
            "Ireland",
            "Italy",
            "Montenegro",
            "Netherlands",
            "Norway",
            "Poland",
            "Portugal",
            "Romania",
            "Serbia",
            "Slovak Republic",
            "Slovenia",
            "Spain",
            "Sweden",
            "Switzerland",
            "Turkey",
            "United Kingdom"
           ],
           "legendgroup": "Europe",
           "marker": {
            "color": "#EF553B",
            "size": [
             1282697,
             6927772,
             8730405,
             2791000,
             7274900,
             3882229,
             9125183,
             4334000,
             4090500,
             42459667,
             69145952,
             7733250,
             9504000,
             147962,
             2952156,
             47666000,
             413834,
             10381988,
             3327728,
             25730551,
             8526050,
             16630000,
             6860147,
             3558137,
             1489518,
             28549870,
             7124673,
             4815000,
             22235677,
             50430000
            ],
            "sizemode": "area",
            "sizeref": 435928.2961983471,
            "symbol": "circle"
           },
           "mode": "markers",
           "name": "Europe",
           "orientation": "v",
           "showlegend": true,
           "type": "scatter",
           "x": [
            1601.056136,
            6137.076492,
            8343.105126999999,
            973.5331948,
            2444.286648,
            3119.23652,
            6876.14025,
            9692.385245,
            6424.519071,
            7029.809327,
            7144.114393000002,
            3530.690067,
            5263.673816,
            7267.688428,
            5210.280328,
            4931.404154999998,
            2647.585601,
            8941.571858,
            10095.42172,
            4029.329699,
            3068.319867,
            3144.613186,
            3581.459448,
            5074.659104,
            4215.041741,
            3834.034742,
            8527.844662000001,
            14734.23275,
            1969.10098,
            9979.508487
           ],
           "xaxis": "x",
           "y": [
            55.23,
            66.8,
            68,
            53.82,
            59.6,
            61.21,
            66.87,
            70.78,
            66.55,
            67.41,
            67.5,
            65.86,
            64.03,
            72.49,
            66.91,
            65.94,
            59.164,
            72.13,
            72.67,
            61.31,
            59.82,
            61.05,
            57.996,
            64.36,
            65.57,
            64.94,
            71.86,
            69.62,
            43.585,
            69.18
           ],
           "yaxis": "y"
          },
          {
           "hovertemplate": "continent=Africa<br>year=1952<br>gdpPercap=%{x}<br>lifeExp=%{y}<br>pop=%{marker.size}<extra></extra>",
           "ids": [
            "Algeria",
            "Angola",
            "Benin",
            "Botswana",
            "Burkina Faso",
            "Burundi",
            "Cameroon",
            "Central African Republic",
            "Chad",
            "Comoros",
            "Congo, Dem. Rep.",
            "Congo, Rep.",
            "Cote d'Ivoire",
            "Djibouti",
            "Egypt",
            "Equatorial Guinea",
            "Eritrea",
            "Ethiopia",
            "Gabon",
            "Gambia",
            "Ghana",
            "Guinea",
            "Guinea-Bissau",
            "Kenya",
            "Lesotho",
            "Liberia",
            "Libya",
            "Madagascar",
            "Malawi",
            "Mali",
            "Mauritania",
            "Mauritius",
            "Morocco",
            "Mozambique",
            "Namibia",
            "Niger",
            "Nigeria",
            "Reunion",
            "Rwanda",
            "Sao Tome and Principe",
            "Senegal",
            "Sierra Leone",
            "Somalia",
            "South Africa",
            "Sudan",
            "Swaziland",
            "Tanzania",
            "Togo",
            "Tunisia",
            "Uganda",
            "Zambia",
            "Zimbabwe"
           ],
           "legendgroup": "Africa",
           "marker": {
            "color": "#00cc96",
            "size": [
             9279525,
             4232095,
             1738315,
             442308,
             4469979,
             2445618,
             5009067,
             1291695,
             2682462,
             153936,
             14100005,
             854885,
             2977019,
             63149,
             22223309,
             216964,
             1438760,
             20860941,
             420702,
             284320,
             5581001,
             2664249,
             580653,
             6464046,
             748747,
             863308,
             1019729,
             4762912,
             2917802,
             3838168,
             1022556,
             516556,
             9939217,
             6446316,
             485831,
             3379468,
             33119096,
             257700,
             2534927,
             60011,
             2755589,
             2143249,
             2526994,
             14264935,
             8504667,
             290243,
             8322925,
             1219113,
             3647735,
             5824797,
             2672000,
             3080907
            ],
            "sizemode": "area",
            "sizeref": 435928.2961983471,
            "symbol": "circle"
           },
           "mode": "markers",
           "name": "Africa",
           "orientation": "v",
           "showlegend": true,
           "type": "scatter",
           "x": [
            2449.008185,
            3520.610273,
            1062.7522,
            851.2411407,
            543.2552413,
            339.2964587,
            1172.667655,
            1071.310713,
            1178.665927,
            1102.990936,
            780.5423257,
            2125.621418,
            1388.594732,
            2669.529475,
            1418.822445,
            375.6431231,
            328.9405571000001,
            362.1462796,
            4293.476475,
            485.2306591,
            911.2989371,
            510.1964923000001,
            299.850319,
            853.5409189999998,
            298.8462121,
            575.5729961000002,
            2387.54806,
            1443.011715,
            369.1650802,
            452.3369807,
            743.1159097,
            1967.955707,
            1688.20357,
            468.5260381,
            2423.780443,
            761.879376,
            1077.281856,
            2718.885295,
            493.3238752,
            879.5835855,
            1450.356983,
            879.7877358,
            1135.749842,
            4725.295531000002,
            1615.991129,
            1148.376626,
            716.6500721,
            859.8086567,
            1468.475631,
            734.753484,
            1147.388831,
            406.8841148
           ],
           "xaxis": "x",
           "y": [
            43.077,
            30.015,
            38.223,
            47.622,
            31.975,
            39.031,
            38.523,
            35.463,
            38.092,
            40.715,
            39.143,
            42.111,
            40.477,
            34.812,
            41.893,
            34.482,
            35.92800000000001,
            34.078,
            37.003,
            30,
            43.149,
            33.609,
            32.5,
            42.27,
            42.13800000000001,
            38.48,
            42.723,
            36.681,
            36.256,
            33.685,
            40.543,
            50.986,
            42.87300000000001,
            31.286,
            41.725,
            37.444,
            36.324,
            52.724,
            40,
            46.471,
            37.278,
            30.331,
            32.978,
            45.00899999999999,
            38.635,
            41.407,
            41.215,
            38.596,
            44.6,
            39.978,
            42.038,
            48.451
           ],
           "yaxis": "y"
          },
          {
           "hovertemplate": "continent=Americas<br>year=1952<br>gdpPercap=%{x}<br>lifeExp=%{y}<br>pop=%{marker.size}<extra></extra>",
           "ids": [
            "Argentina",
            "Bolivia",
            "Brazil",
            "Canada",
            "Chile",
            "Colombia",
            "Costa Rica",
            "Cuba",
            "Dominican Republic",
            "Ecuador",
            "El Salvador",
            "Guatemala",
            "Haiti",
            "Honduras",
            "Jamaica",
            "Mexico",
            "Nicaragua",
            "Panama",
            "Paraguay",
            "Peru",
            "Puerto Rico",
            "Trinidad and Tobago",
            "United States",
            "Uruguay",
            "Venezuela"
           ],
           "legendgroup": "Americas",
           "marker": {
            "color": "#ab63fa",
            "size": [
             17876956,
             2883315,
             56602560,
             14785584,
             6377619,
             12350771,
             926317,
             6007797,
             2491346,
             3548753,
             2042865,
             3146381,
             3201488,
             1517453,
             1426095,
             30144317,
             1165790,
             940080,
             1555876,
             8025700,
             2227000,
             662850,
             157553000,
             2252965,
             5439568
            ],
            "sizemode": "area",
            "sizeref": 435928.2961983471,
            "symbol": "circle"
           },
           "mode": "markers",
           "name": "Americas",
           "orientation": "v",
           "showlegend": true,
           "type": "scatter",
           "x": [
            5911.315053,
            2677.326347,
            2108.944355,
            11367.16112,
            3939.978789,
            2144.115096,
            2627.0094710000008,
            5586.53878,
            1397.717137,
            3522.110717,
            3048.3029,
            2428.2377690000008,
            1840.366939,
            2194.926204,
            2898.530881,
            3478.125529,
            3112.363948,
            2480.380334,
            1952.308701,
            3758.523437,
            3081.959785,
            3023.271928,
            13990.482080000002,
            5716.766744,
            7689.799761
           ],
           "xaxis": "x",
           "y": [
            62.485,
            40.414,
            50.917,
            68.75,
            54.745,
            50.643,
            57.206,
            59.42100000000001,
            45.928,
            48.357,
            45.262,
            42.023,
            37.579,
            41.912,
            58.53,
            50.789,
            42.31399999999999,
            55.191,
            62.649,
            43.902,
            64.28,
            59.1,
            68.44,
            66.071,
            55.088
           ],
           "yaxis": "y"
          },
          {
           "hovertemplate": "continent=Oceania<br>year=1952<br>gdpPercap=%{x}<br>lifeExp=%{y}<br>pop=%{marker.size}<extra></extra>",
           "ids": [
            "Australia",
            "New Zealand"
           ],
           "legendgroup": "Oceania",
           "marker": {
            "color": "#FFA15A",
            "size": [
             8691212,
             1994794
            ],
            "sizemode": "area",
            "sizeref": 435928.2961983471,
            "symbol": "circle"
           },
           "mode": "markers",
           "name": "Oceania",
           "orientation": "v",
           "showlegend": true,
           "type": "scatter",
           "x": [
            10039.59564,
            10556.57566
           ],
           "xaxis": "x",
           "y": [
            69.12,
            69.39
           ],
           "yaxis": "y"
          }
         ],
         "name": "1952"
        },
        {
         "data": [
          {
           "hovertemplate": "continent=Asia<br>year=1957<br>gdpPercap=%{x}<br>lifeExp=%{y}<br>pop=%{marker.size}<extra></extra>",
           "ids": [
            "Afghanistan",
            "Bahrain",
            "Bangladesh",
            "Cambodia",
            "China",
            "Hong Kong, China",
            "India",
            "Indonesia",
            "Iran",
            "Iraq",
            "Israel",
            "Japan",
            "Jordan",
            "Korea, Dem. Rep.",
            "Korea, Rep.",
            "Kuwait",
            "Lebanon",
            "Malaysia",
            "Mongolia",
            "Myanmar",
            "Nepal",
            "Oman",
            "Pakistan",
            "Philippines",
            "Saudi Arabia",
            "Singapore",
            "Sri Lanka",
            "Syria",
            "Taiwan",
            "Thailand",
            "Vietnam",
            "West Bank and Gaza",
            "Yemen, Rep."
           ],
           "legendgroup": "Asia",
           "marker": {
            "color": "#636efa",
            "size": [
             9240934,
             138655,
             51365468,
             5322536,
             637408000,
             2736300,
             409000000,
             90124000,
             19792000,
             6248643,
             1944401,
             91563009,
             746559,
             9411381,
             22611552,
             212846,
             1647412,
             7739235,
             882134,
             21731844,
             9682338,
             561977,
             46679944,
             26072194,
             4419650,
             1445929,
             9128546,
             4149908,
             10164215,
             25041917,
             28998543,
             1070439,
             5498090
            ],
            "sizemode": "area",
            "sizeref": 435928.2961983471,
            "symbol": "circle"
           },
           "mode": "markers",
           "name": "Asia",
           "orientation": "v",
           "showlegend": true,
           "type": "scatter",
           "x": [
            820.8530296,
            11635.79945,
            661.6374577,
            434.0383364,
            575.9870009,
            3629.076457,
            590.061996,
            858.9002707000002,
            3290.257643,
            6229.333562,
            5385.278451,
            4317.694365,
            1886.080591,
            1571.134655,
            1487.593537,
            113523.1329,
            6089.786934000002,
            1810.0669920000007,
            912.6626085,
            350,
            597.9363557999999,
            2242.746551,
            747.0835292,
            1547.944844,
            8157.5912480000015,
            2843.104409,
            1072.546602,
            2117.234893,
            1507.86129,
            793.5774147999998,
            676.2854477999998,
            1827.067742,
            804.8304547
           ],
           "xaxis": "x",
           "y": [
            30.332,
            53.832,
            39.348,
            41.36600000000001,
            50.54896,
            64.75,
            40.249,
            39.918,
            47.181,
            48.437,
            67.84,
            65.5,
            45.669,
            54.081,
            52.681,
            58.033,
            59.489,
            52.102,
            45.24800000000001,
            41.905,
            37.686,
            40.08,
            45.557,
            51.334,
            42.868,
            63.179,
            61.456,
            48.284,
            62.4,
            53.63,
            42.887,
            45.67100000000001,
            33.97
           ],
           "yaxis": "y"
          },
          {
           "hovertemplate": "continent=Europe<br>year=1957<br>gdpPercap=%{x}<br>lifeExp=%{y}<br>pop=%{marker.size}<extra></extra>",
           "ids": [
            "Albania",
            "Austria",
            "Belgium",
            "Bosnia and Herzegovina",
            "Bulgaria",
            "Croatia",
            "Czech Republic",
            "Denmark",
            "Finland",
            "France",
            "Germany",
            "Greece",
            "Hungary",
            "Iceland",
            "Ireland",
            "Italy",
            "Montenegro",
            "Netherlands",
            "Norway",
            "Poland",
            "Portugal",
            "Romania",
            "Serbia",
            "Slovak Republic",
            "Slovenia",
            "Spain",
            "Sweden",
            "Switzerland",
            "Turkey",
            "United Kingdom"
           ],
           "legendgroup": "Europe",
           "marker": {
            "color": "#EF553B",
            "size": [
             1476505,
             6965860,
             8989111,
             3076000,
             7651254,
             3991242,
             9513758,
             4487831,
             4324000,
             44310863,
             71019069,
             8096218,
             9839000,
             165110,
             2878220,
             49182000,
             442829,
             11026383,
             3491938,
             28235346,
             8817650,
             17829327,
             7271135,
             3844277,
             1533070,
             29841614,
             7363802,
             5126000,
             25670939,
             51430000
            ],
            "sizemode": "area",
            "sizeref": 435928.2961983471,
            "symbol": "circle"
           },
           "mode": "markers",
           "name": "Europe",
           "orientation": "v",
           "showlegend": true,
           "type": "scatter",
           "x": [
            1942.284244,
            8842.59803,
            9714.960623,
            1353.989176,
            3008.670727,
            4338.231617,
            8256.343918,
            11099.65935,
            7545.415386,
            8662.834898000001,
            10187.82665,
            4916.299889,
            6040.180011,
            9244.001412,
            5599.077872,
            6248.656232,
            3682.259903,
            11276.19344,
            11653.97304,
            4734.253019,
            3774.571743,
            3943.370225,
            4981.090891,
            6093.26298,
            5862.276629,
            4564.80241,
            9911.878226,
            17909.48973,
            2218.754257,
            11283.17795
           ],
           "xaxis": "x",
           "y": [
            59.28,
            67.48,
            69.24,
            58.45,
            66.61,
            64.77,
            69.03,
            71.81,
            67.49,
            68.93,
            69.1,
            67.86,
            66.41,
            73.47,
            68.9,
            67.81,
            61.448,
            72.99,
            73.44,
            65.77,
            61.51,
            64.1,
            61.685,
            67.45,
            67.85,
            66.66,
            72.49,
            70.56,
            48.07899999999999,
            70.42
           ],
           "yaxis": "y"
          },
          {
           "hovertemplate": "continent=Africa<br>year=1957<br>gdpPercap=%{x}<br>lifeExp=%{y}<br>pop=%{marker.size}<extra></extra>",
           "ids": [
            "Algeria",
            "Angola",
            "Benin",
            "Botswana",
            "Burkina Faso",
            "Burundi",
            "Cameroon",
            "Central African Republic",
            "Chad",
            "Comoros",
            "Congo, Dem. Rep.",
            "Congo, Rep.",
            "Cote d'Ivoire",
            "Djibouti",
            "Egypt",
            "Equatorial Guinea",
            "Eritrea",
            "Ethiopia",
            "Gabon",
            "Gambia",
            "Ghana",
            "Guinea",
            "Guinea-Bissau",
            "Kenya",
            "Lesotho",
            "Liberia",
            "Libya",
            "Madagascar",
            "Malawi",
            "Mali",
            "Mauritania",
            "Mauritius",
            "Morocco",
            "Mozambique",
            "Namibia",
            "Niger",
            "Nigeria",
            "Reunion",
            "Rwanda",
            "Sao Tome and Principe",
            "Senegal",
            "Sierra Leone",
            "Somalia",
            "South Africa",
            "Sudan",
            "Swaziland",
            "Tanzania",
            "Togo",
            "Tunisia",
            "Uganda",
            "Zambia",
            "Zimbabwe"
           ],
           "legendgroup": "Africa",
           "marker": {
            "color": "#00cc96",
            "size": [
             10270856,
             4561361,
             1925173,
             474639,
             4713416,
             2667518,
             5359923,
             1392284,
             2894855,
             170928,
             15577932,
             940458,
             3300000,
             71851,
             25009741,
             232922,
             1542611,
             22815614,
             434904,
             323150,
             6391288,
             2876726,
             601095,
             7454779,
             813338,
             975950,
             1201578,
             5181679,
             3221238,
             4241884,
             1076852,
             609816,
             11406350,
             7038035,
             548080,
             3692184,
             37173340,
             308700,
             2822082,
             61325,
             3054547,
             2295678,
             2780415,
             16151549,
             9753392,
             326741,
             9452826,
             1357445,
             3950849,
             6675501,
             3016000,
             3646340
            ],
            "sizemode": "area",
            "sizeref": 435928.2961983471,
            "symbol": "circle"
           },
           "mode": "markers",
           "name": "Africa",
           "orientation": "v",
           "showlegend": true,
           "type": "scatter",
           "x": [
            3013.976023,
            3827.940465,
            959.6010805,
            918.2325349,
            617.1834647999998,
            379.5646281000001,
            1313.048099,
            1190.844328,
            1308.495577,
            1211.148548,
            905.8602303,
            2315.056572,
            1500.895925,
            2864.9690760000008,
            1458.915272,
            426.0964081,
            344.1618859,
            378.9041632,
            4976.198099,
            520.9267111,
            1043.5615369999996,
            576.2670245,
            431.79045660000014,
            944.4383152,
            335.9971151000001,
            620.9699901,
            3448.284395,
            1589.20275,
            416.3698064,
            490.3821867,
            846.1202613,
            2034.037981,
            1642.002314,
            495.58683330000014,
            2621.448058,
            835.5234025000002,
            1100.5925630000004,
            2769.451844,
            540.2893982999999,
            860.7369026,
            1567.653006,
            1004.484437,
            1258.147413,
            5487.104219,
            1770.3370739999998,
            1244.708364,
            698.5356073,
            925.9083202,
            1395.232468,
            774.3710692000002,
            1311.956766,
            518.7642681
           ],
           "xaxis": "x",
           "y": [
            45.685,
            31.999,
            40.358,
            49.618,
            34.906,
            40.533,
            40.428,
            37.464,
            39.881,
            42.46,
            40.652,
            45.053,
            42.469,
            37.328,
            44.444,
            35.98300000000001,
            38.047,
            36.667,
            38.999,
            32.065,
            44.779,
            34.558,
            33.489000000000004,
            44.68600000000001,
            45.047,
            39.486,
            45.289,
            38.865,
            37.207,
            35.30699999999999,
            42.338,
            58.089,
            45.423,
            33.779,
            45.226000000000006,
            38.598,
            37.802,
            55.09,
            41.5,
            48.945,
            39.329,
            31.57,
            34.977,
            47.985,
            39.624,
            43.424,
            42.974,
            41.208,
            47.1,
            42.57100000000001,
            44.077,
            50.469
           ],
           "yaxis": "y"
          },
          {
           "hovertemplate": "continent=Americas<br>year=1957<br>gdpPercap=%{x}<br>lifeExp=%{y}<br>pop=%{marker.size}<extra></extra>",
           "ids": [
            "Argentina",
            "Bolivia",
            "Brazil",
            "Canada",
            "Chile",
            "Colombia",
            "Costa Rica",
            "Cuba",
            "Dominican Republic",
            "Ecuador",
            "El Salvador",
            "Guatemala",
            "Haiti",
            "Honduras",
            "Jamaica",
            "Mexico",
            "Nicaragua",
            "Panama",
            "Paraguay",
            "Peru",
            "Puerto Rico",
            "Trinidad and Tobago",
            "United States",
            "Uruguay",
            "Venezuela"
           ],
           "legendgroup": "Americas",
           "marker": {
            "color": "#ab63fa",
            "size": [
             19610538,
             3211738,
             65551171,
             17010154,
             7048426,
             14485993,
             1112300,
             6640752,
             2923186,
             4058385,
             2355805,
             3640876,
             3507701,
             1770390,
             1535090,
             35015548,
             1358828,
             1063506,
             1770902,
             9146100,
             2260000,
             764900,
             171984000,
             2424959,
             6702668
            ],
            "sizemode": "area",
            "sizeref": 435928.2961983471,
            "symbol": "circle"
           },
           "mode": "markers",
           "name": "Americas",
           "orientation": "v",
           "showlegend": true,
           "type": "scatter",
           "x": [
            6856.8562120000015,
            2127.686326,
            2487.365989,
            12489.95006,
            4315.622723,
            2323.805581,
            2990.010802,
            6092.1743590000015,
            1544.402995,
            3780.546651,
            3421.523218,
            2617.155967,
            1726.887882,
            2220.487682,
            4756.525781,
            4131.546641,
            3457.415947,
            2961.800905,
            2046.154706,
            4245.256697999999,
            3907.156189,
            4100.3934,
            14847.12712,
            6150.772969,
            9802.466526
           ],
           "xaxis": "x",
           "y": [
            64.399,
            41.89,
            53.285,
            69.96,
            56.074,
            55.118,
            60.026,
            62.325,
            49.828,
            51.356,
            48.57,
            44.142,
            40.696,
            44.665,
            62.61,
            55.19,
            45.432,
            59.201,
            63.19600000000001,
            46.26300000000001,
            68.54,
            61.8,
            69.49,
            67.044,
            57.907
           ],
           "yaxis": "y"
          },
          {
           "hovertemplate": "continent=Oceania<br>year=1957<br>gdpPercap=%{x}<br>lifeExp=%{y}<br>pop=%{marker.size}<extra></extra>",
           "ids": [
            "Australia",
            "New Zealand"
           ],
           "legendgroup": "Oceania",
           "marker": {
            "color": "#FFA15A",
            "size": [
             9712569,
             2229407
            ],
            "sizemode": "area",
            "sizeref": 435928.2961983471,
            "symbol": "circle"
           },
           "mode": "markers",
           "name": "Oceania",
           "orientation": "v",
           "showlegend": true,
           "type": "scatter",
           "x": [
            10949.64959,
            12247.39532
           ],
           "xaxis": "x",
           "y": [
            70.33,
            70.26
           ],
           "yaxis": "y"
          }
         ],
         "name": "1957"
        },
        {
         "data": [
          {
           "hovertemplate": "continent=Asia<br>year=1962<br>gdpPercap=%{x}<br>lifeExp=%{y}<br>pop=%{marker.size}<extra></extra>",
           "ids": [
            "Afghanistan",
            "Bahrain",
            "Bangladesh",
            "Cambodia",
            "China",
            "Hong Kong, China",
            "India",
            "Indonesia",
            "Iran",
            "Iraq",
            "Israel",
            "Japan",
            "Jordan",
            "Korea, Dem. Rep.",
            "Korea, Rep.",
            "Kuwait",
            "Lebanon",
            "Malaysia",
            "Mongolia",
            "Myanmar",
            "Nepal",
            "Oman",
            "Pakistan",
            "Philippines",
            "Saudi Arabia",
            "Singapore",
            "Sri Lanka",
            "Syria",
            "Taiwan",
            "Thailand",
            "Vietnam",
            "West Bank and Gaza",
            "Yemen, Rep."
           ],
           "legendgroup": "Asia",
           "marker": {
            "color": "#636efa",
            "size": [
             10267083,
             171863,
             56839289,
             6083619,
             665770000,
             3305200,
             454000000,
             99028000,
             22874000,
             7240260,
             2310904,
             95831757,
             933559,
             10917494,
             26420307,
             358266,
             1886848,
             8906385,
             1010280,
             23634436,
             10332057,
             628164,
             53100671,
             30325264,
             4943029,
             1750200,
             10421936,
             4834621,
             11918938,
             29263397,
             33796140,
             1133134,
             6120081
            ],
            "sizemode": "area",
            "sizeref": 435928.2961983471,
            "symbol": "circle"
           },
           "mode": "markers",
           "name": "Asia",
           "orientation": "v",
           "showlegend": true,
           "type": "scatter",
           "x": [
            853.1007099999998,
            12753.27514,
            686.3415537999998,
            496.9136476,
            487.6740183,
            4692.648271999999,
            658.3471509,
            849.2897700999998,
            4187.329802,
            8341.737815,
            7105.630706,
            6576.649461,
            2348.009158,
            1621.693598,
            1536.344387,
            95458.11176,
            5714.560611,
            2036.884944,
            1056.353958,
            388,
            652.3968593,
            2924.638113,
            803.3427418,
            1649.552153,
            11626.41975,
            3674.735572,
            1074.47196,
            2193.037133,
            1822.879028,
            1002.199172,
            772.0491602000002,
            2198.9563120000007,
            825.6232006
           ],
           "xaxis": "x",
           "y": [
            31.997,
            56.923,
            41.216,
            43.415,
            44.50136,
            67.65,
            43.605,
            42.518,
            49.325,
            51.457,
            69.39,
            68.73,
            48.12600000000001,
            56.65600000000001,
            55.292,
            60.47,
            62.094,
            55.737,
            48.25100000000001,
            45.108,
            39.393,
            43.165,
            47.67,
            54.757,
            45.914,
            65.798,
            62.192,
            50.305,
            65.2,
            56.06100000000001,
            45.363,
            48.127,
            35.18
           ],
           "yaxis": "y"
          },
          {
           "hovertemplate": "continent=Europe<br>year=1962<br>gdpPercap=%{x}<br>lifeExp=%{y}<br>pop=%{marker.size}<extra></extra>",
           "ids": [
            "Albania",
            "Austria",
            "Belgium",
            "Bosnia and Herzegovina",
            "Bulgaria",
            "Croatia",
            "Czech Republic",
            "Denmark",
            "Finland",
            "France",
            "Germany",
            "Greece",
            "Hungary",
            "Iceland",
            "Ireland",
            "Italy",
            "Montenegro",
            "Netherlands",
            "Norway",
            "Poland",
            "Portugal",
            "Romania",
            "Serbia",
            "Slovak Republic",
            "Slovenia",
            "Spain",
            "Sweden",
            "Switzerland",
            "Turkey",
            "United Kingdom"
           ],
           "legendgroup": "Europe",
           "marker": {
            "color": "#EF553B",
            "size": [
             1728137,
             7129864,
             9218400,
             3349000,
             8012946,
             4076557,
             9620282,
             4646899,
             4491443,
             47124000,
             73739117,
             8448233,
             10063000,
             182053,
             2830000,
             50843200,
             474528,
             11805689,
             3638919,
             30329617,
             9019800,
             18680721,
             7616060,
             4237384,
             1582962,
             31158061,
             7561588,
             5666000,
             29788695,
             53292000
            ],
            "sizemode": "area",
            "sizeref": 435928.2961983471,
            "symbol": "circle"
           },
           "mode": "markers",
           "name": "Europe",
           "orientation": "v",
           "showlegend": true,
           "type": "scatter",
           "x": [
            2312.888958,
            10750.72111,
            10991.20676,
            1709.683679,
            4254.337839,
            5477.890018,
            10136.86713,
            13583.31351,
            9371.842561,
            10560.48553,
            12902.46291,
            6017.190732999999,
            7550.359877,
            10350.15906,
            6631.597314,
            8243.58234,
            4649.593785,
            12790.84956,
            13450.40151,
            5338.752143,
            4727.954889,
            4734.997586,
            6289.629157,
            7481.107598,
            7402.303395,
            5693.843879,
            12329.44192,
            20431.0927,
            2322.869908,
            12477.17707
           ],
           "xaxis": "x",
           "y": [
            64.82,
            69.54,
            70.25,
            61.93,
            69.51,
            67.13,
            69.9,
            72.35,
            68.75,
            70.51,
            70.3,
            69.51,
            67.96,
            73.68,
            70.29,
            69.24,
            63.728,
            73.23,
            73.47,
            67.64,
            64.39,
            66.8,
            64.531,
            70.33,
            69.15,
            69.69,
            73.37,
            71.32,
            52.098,
            70.76
           ],
           "yaxis": "y"
          },
          {
           "hovertemplate": "continent=Africa<br>year=1962<br>gdpPercap=%{x}<br>lifeExp=%{y}<br>pop=%{marker.size}<extra></extra>",
           "ids": [
            "Algeria",
            "Angola",
            "Benin",
            "Botswana",
            "Burkina Faso",
            "Burundi",
            "Cameroon",
            "Central African Republic",
            "Chad",
            "Comoros",
            "Congo, Dem. Rep.",
            "Congo, Rep.",
            "Cote d'Ivoire",
            "Djibouti",
            "Egypt",
            "Equatorial Guinea",
            "Eritrea",
            "Ethiopia",
            "Gabon",
            "Gambia",
            "Ghana",
            "Guinea",
            "Guinea-Bissau",
            "Kenya",
            "Lesotho",
            "Liberia",
            "Libya",
            "Madagascar",
            "Malawi",
            "Mali",
            "Mauritania",
            "Mauritius",
            "Morocco",
            "Mozambique",
            "Namibia",
            "Niger",
            "Nigeria",
            "Reunion",
            "Rwanda",
            "Sao Tome and Principe",
            "Senegal",
            "Sierra Leone",
            "Somalia",
            "South Africa",
            "Sudan",
            "Swaziland",
            "Tanzania",
            "Togo",
            "Tunisia",
            "Uganda",
            "Zambia",
            "Zimbabwe"
           ],
           "legendgroup": "Africa",
           "marker": {
            "color": "#00cc96",
            "size": [
             11000948,
             4826015,
             2151895,
             512764,
             4919632,
             2961915,
             5793633,
             1523478,
             3150417,
             191689,
             17486434,
             1047924,
             3832408,
             89898,
             28173309,
             249220,
             1666618,
             25145372,
             455661,
             374020,
             7355248,
             3140003,
             627820,
             8678557,
             893143,
             1112796,
             1441863,
             5703324,
             3628608,
             4690372,
             1146757,
             701016,
             13056604,
             7788944,
             621392,
             4076008,
             41871351,
             358900,
             3051242,
             65345,
             3430243,
             2467895,
             3080153,
             18356657,
             11183227,
             370006,
             10863958,
             1528098,
             4286552,
             7688797,
             3421000,
             4277736
            ],
            "sizemode": "area",
            "sizeref": 435928.2961983471,
            "symbol": "circle"
           },
           "mode": "markers",
           "name": "Africa",
           "orientation": "v",
           "showlegend": true,
           "type": "scatter",
           "x": [
            2550.81688,
            4269.276742,
            949.4990641,
            983.6539764,
            722.5120206,
            355.2032273,
            1399.607441,
            1193.068753,
            1389.817618,
            1406.648278,
            896.3146335000001,
            2464.783157,
            1728.8694280000002,
            3020.989263,
            1693.335853,
            582.8419713999998,
            380.9958433000001,
            419.4564161,
            6631.459222,
            599.650276,
            1190.041118,
            686.3736739,
            522.0343725,
            896.9663732,
            411.8006266,
            634.1951625,
            6757.030816,
            1643.38711,
            427.9010856,
            496.1743428,
            1055.896036,
            2529.0674870000007,
            1566.353493,
            556.6863539,
            3173.215595,
            997.7661127,
            1150.9274779999996,
            3173.72334,
            597.4730727000001,
            1071.551119,
            1654.988723,
            1116.6398769999996,
            1369.488336,
            5768.729717,
            1959.593767,
            1856.182125,
            722.0038073,
            1067.53481,
            1660.30321,
            767.2717397999999,
            1452.725766,
            527.2721818
           ],
           "xaxis": "x",
           "y": [
            48.303,
            34,
            42.618,
            51.52,
            37.814,
            42.045,
            42.643,
            39.475,
            41.716,
            44.467,
            42.122,
            48.435,
            44.93,
            39.69300000000001,
            46.992,
            37.485,
            40.158,
            40.059,
            40.489,
            33.896,
            46.452,
            35.753,
            34.488,
            47.949,
            47.747,
            40.502,
            47.808,
            40.848,
            38.41,
            36.936,
            44.24800000000001,
            60.246,
            47.924,
            36.161,
            48.386,
            39.487,
            39.36,
            57.666,
            43,
            51.893,
            41.45399999999999,
            32.767,
            36.981,
            49.951,
            40.87,
            44.992,
            44.246,
            43.922,
            49.57899999999999,
            45.344,
            46.023,
            52.358
           ],
           "yaxis": "y"
          },
          {
           "hovertemplate": "continent=Americas<br>year=1962<br>gdpPercap=%{x}<br>lifeExp=%{y}<br>pop=%{marker.size}<extra></extra>",
           "ids": [
            "Argentina",
            "Bolivia",
            "Brazil",
            "Canada",
            "Chile",
            "Colombia",
            "Costa Rica",
            "Cuba",
            "Dominican Republic",
            "Ecuador",
            "El Salvador",
            "Guatemala",
            "Haiti",
            "Honduras",
            "Jamaica",
            "Mexico",
            "Nicaragua",
            "Panama",
            "Paraguay",
            "Peru",
            "Puerto Rico",
            "Trinidad and Tobago",
            "United States",
            "Uruguay",
            "Venezuela"
           ],
           "legendgroup": "Americas",
           "marker": {
            "color": "#ab63fa",
            "size": [
             21283783,
             3593918,
             76039390,
             18985849,
             7961258,
             17009885,
             1345187,
             7254373,
             3453434,
             4681707,
             2747687,
             4208858,
             3880130,
             2090162,
             1665128,
             41121485,
             1590597,
             1215725,
             2009813,
             10516500,
             2448046,
             887498,
             186538000,
             2598466,
             8143375
            ],
            "sizemode": "area",
            "sizeref": 435928.2961983471,
            "symbol": "circle"
           },
           "mode": "markers",
           "name": "Americas",
           "orientation": "v",
           "showlegend": true,
           "type": "scatter",
           "x": [
            7133.166023000002,
            2180.972546,
            3336.585802,
            13462.48555,
            4519.094331,
            2492.351109,
            3460.937025,
            5180.75591,
            1662.137359,
            4086.114078,
            3776.803627,
            2750.364446,
            1796.589032,
            2291.156835,
            5246.107524,
            4581.609385,
            3634.364406,
            3536.540301,
            2148.027146,
            4957.037982,
            5108.34463,
            4997.523971000001,
            16173.14586,
            5603.357717,
            8422.974165000001
           ],
           "xaxis": "x",
           "y": [
            65.142,
            43.428,
            55.665,
            71.3,
            57.924,
            57.863,
            62.842,
            65.24600000000001,
            53.459,
            54.64,
            52.307,
            46.95399999999999,
            43.59,
            48.041,
            65.61,
            58.299,
            48.632,
            61.817,
            64.361,
            49.096,
            69.62,
            64.9,
            70.21,
            68.253,
            60.77
           ],
           "yaxis": "y"
          },
          {
           "hovertemplate": "continent=Oceania<br>year=1962<br>gdpPercap=%{x}<br>lifeExp=%{y}<br>pop=%{marker.size}<extra></extra>",
           "ids": [
            "Australia",
            "New Zealand"
           ],
           "legendgroup": "Oceania",
           "marker": {
            "color": "#FFA15A",
            "size": [
             10794968,
             2488550
            ],
            "sizemode": "area",
            "sizeref": 435928.2961983471,
            "symbol": "circle"
           },
           "mode": "markers",
           "name": "Oceania",
           "orientation": "v",
           "showlegend": true,
           "type": "scatter",
           "x": [
            12217.22686,
            13175.678
           ],
           "xaxis": "x",
           "y": [
            70.93,
            71.24
           ],
           "yaxis": "y"
          }
         ],
         "name": "1962"
        },
        {
         "data": [
          {
           "hovertemplate": "continent=Asia<br>year=1967<br>gdpPercap=%{x}<br>lifeExp=%{y}<br>pop=%{marker.size}<extra></extra>",
           "ids": [
            "Afghanistan",
            "Bahrain",
            "Bangladesh",
            "Cambodia",
            "China",
            "Hong Kong, China",
            "India",
            "Indonesia",
            "Iran",
            "Iraq",
            "Israel",
            "Japan",
            "Jordan",
            "Korea, Dem. Rep.",
            "Korea, Rep.",
            "Kuwait",
            "Lebanon",
            "Malaysia",
            "Mongolia",
            "Myanmar",
            "Nepal",
            "Oman",
            "Pakistan",
            "Philippines",
            "Saudi Arabia",
            "Singapore",
            "Sri Lanka",
            "Syria",
            "Taiwan",
            "Thailand",
            "Vietnam",
            "West Bank and Gaza",
            "Yemen, Rep."
           ],
           "legendgroup": "Asia",
           "marker": {
            "color": "#636efa",
            "size": [
             11537966,
             202182,
             62821884,
             6960067,
             754550000,
             3722800,
             506000000,
             109343000,
             26538000,
             8519282,
             2693585,
             100825279,
             1255058,
             12617009,
             30131000,
             575003,
             2186894,
             10154878,
             1149500,
             25870271,
             11261690,
             714775,
             60641899,
             35356600,
             5618198,
             1977600,
             11737396,
             5680812,
             13648692,
             34024249,
             39463910,
             1142636,
             6740785
            ],
            "sizemode": "area",
            "sizeref": 435928.2961983471,
            "symbol": "circle"
           },
           "mode": "markers",
           "name": "Asia",
           "orientation": "v",
           "showlegend": true,
           "type": "scatter",
           "x": [
            836.1971382,
            14804.6727,
            721.1860862000002,
            523.4323142,
            612.7056934,
            6197.962814,
            700.7706107000001,
            762.4317721,
            5906.731804999999,
            8931.459811,
            8393.741404,
            9847.788607,
            2741.796252,
            2143.540609,
            2029.228142,
            80894.88326,
            6006.983042,
            2277.742396,
            1226.04113,
            349,
            676.4422254,
            4720.942687,
            942.4082588,
            1814.12743,
            16903.04886,
            4977.41854,
            1135.514326,
            1881.923632,
            2643.858681,
            1295.46066,
            637.1232887,
            2649.715007,
            862.4421463
           ],
           "xaxis": "x",
           "y": [
            34.02,
            59.923,
            43.453,
            45.415,
            58.38112,
            70,
            47.19300000000001,
            45.964,
            52.469,
            54.459,
            70.75,
            71.43,
            51.629,
            59.942,
            57.716,
            64.624,
            63.87,
            59.371,
            51.253,
            49.379,
            41.472,
            46.988,
            49.8,
            56.393,
            49.901,
            67.946,
            64.266,
            53.655,
            67.5,
            58.285,
            47.838,
            51.631,
            36.984
           ],
           "yaxis": "y"
          },
          {
           "hovertemplate": "continent=Europe<br>year=1967<br>gdpPercap=%{x}<br>lifeExp=%{y}<br>pop=%{marker.size}<extra></extra>",
           "ids": [
            "Albania",
            "Austria",
            "Belgium",
            "Bosnia and Herzegovina",
            "Bulgaria",
            "Croatia",
            "Czech Republic",
            "Denmark",
            "Finland",
            "France",
            "Germany",
            "Greece",
            "Hungary",
            "Iceland",
            "Ireland",
            "Italy",
            "Montenegro",
            "Netherlands",
            "Norway",
            "Poland",
            "Portugal",
            "Romania",
            "Serbia",
            "Slovak Republic",
            "Slovenia",
            "Spain",
            "Sweden",
            "Switzerland",
            "Turkey",
            "United Kingdom"
           ],
           "legendgroup": "Europe",
           "marker": {
            "color": "#EF553B",
            "size": [
             1984060,
             7376998,
             9556500,
             3585000,
             8310226,
             4174366,
             9835109,
             4838800,
             4605744,
             49569000,
             76368453,
             8716441,
             10223422,
             198676,
             2900100,
             52667100,
             501035,
             12596822,
             3786019,
             31785378,
             9103000,
             19284814,
             7971222,
             4442238,
             1646912,
             32850275,
             7867931,
             6063000,
             33411317,
             54959000
            ],
            "sizemode": "area",
            "sizeref": 435928.2961983471,
            "symbol": "circle"
           },
           "mode": "markers",
           "name": "Europe",
           "orientation": "v",
           "showlegend": true,
           "type": "scatter",
           "x": [
            2760.196931,
            12834.6024,
            13149.04119,
            2172.3524230000007,
            5577.0028,
            6960.297861,
            11399.44489,
            15937.21123,
            10921.63626,
            12999.91766,
            14745.62561,
            8513.097016,
            9326.64467,
            13319.89568,
            7655.568963,
            10022.40131,
            5907.850937,
            15363.25136,
            16361.87647,
            6557.152776,
            6361.517993,
            6470.866545,
            7991.707066,
            8412.902397,
            9405.489397,
            7993.512294,
            15258.29697,
            22966.14432,
            2826.3563870000007,
            14142.85089
           ],
           "xaxis": "x",
           "y": [
            66.22,
            70.14,
            70.94,
            64.79,
            70.42,
            68.5,
            70.38,
            72.96,
            69.83,
            71.55,
            70.8,
            71,
            69.5,
            73.73,
            71.08,
            71.06,
            67.178,
            73.82,
            74.08,
            69.61,
            66.6,
            66.8,
            66.914,
            70.98,
            69.18,
            71.44,
            74.16,
            72.77,
            54.33600000000001,
            71.36
           ],
           "yaxis": "y"
          },
          {
           "hovertemplate": "continent=Africa<br>year=1967<br>gdpPercap=%{x}<br>lifeExp=%{y}<br>pop=%{marker.size}<extra></extra>",
           "ids": [
            "Algeria",
            "Angola",
            "Benin",
            "Botswana",
            "Burkina Faso",
            "Burundi",
            "Cameroon",
            "Central African Republic",
            "Chad",
            "Comoros",
            "Congo, Dem. Rep.",
            "Congo, Rep.",
            "Cote d'Ivoire",
            "Djibouti",
            "Egypt",
            "Equatorial Guinea",
            "Eritrea",
            "Ethiopia",
            "Gabon",
            "Gambia",
            "Ghana",
            "Guinea",
            "Guinea-Bissau",
            "Kenya",
            "Lesotho",
            "Liberia",
            "Libya",
            "Madagascar",
            "Malawi",
            "Mali",
            "Mauritania",
            "Mauritius",
            "Morocco",
            "Mozambique",
            "Namibia",
            "Niger",
            "Nigeria",
            "Reunion",
            "Rwanda",
            "Sao Tome and Principe",
            "Senegal",
            "Sierra Leone",
            "Somalia",
            "South Africa",
            "Sudan",
            "Swaziland",
            "Tanzania",
            "Togo",
            "Tunisia",
            "Uganda",
            "Zambia",
            "Zimbabwe"
           ],
           "legendgroup": "Africa",
           "marker": {
            "color": "#00cc96",
            "size": [
             12760499,
             5247469,
             2427334,
             553541,
             5127935,
             3330989,
             6335506,
             1733638,
             3495967,
             217378,
             19941073,
             1179760,
             4744870,
             127617,
             31681188,
             259864,
             1820319,
             27860297,
             489004,
             439593,
             8490213,
             3451418,
             601287,
             10191512,
             996380,
             1279406,
             1759224,
             6334556,
             4147252,
             5212416,
             1230542,
             789309,
             14770296,
             8680909,
             706640,
             4534062,
             47287752,
             414024,
             3451079,
             70787,
             3965841,
             2662190,
             3428839,
             20997321,
             12716129,
             420690,
             12607312,
             1735550,
             4786986,
             8900294,
             3900000,
             4995432
            ],
            "sizemode": "area",
            "sizeref": 435928.2961983471,
            "symbol": "circle"
           },
           "mode": "markers",
           "name": "Africa",
           "orientation": "v",
           "showlegend": true,
           "type": "scatter",
           "x": [
            3246.991771,
            5522.776375,
            1035.831411,
            1214.709294,
            794.8265597,
            412.97751360000007,
            1508.453148,
            1136.056615,
            1196.810565,
            1876.029643,
            861.5932424,
            2677.9396420000007,
            2052.050473,
            3020.050513,
            1814.880728,
            915.5960025,
            468.7949699,
            516.1186438,
            8358.761987,
            734.7829124,
            1125.69716,
            708.7595409,
            715.5806402000002,
            1056.736457,
            498.6390265,
            713.6036482999998,
            18772.75169,
            1634.047282,
            495.5147806,
            545.0098873,
            1421.145193,
            2475.387562,
            1711.04477,
            566.6691539,
            3793.694753,
            1054.384891,
            1014.514104,
            4021.175739,
            510.9637142,
            1384.840593,
            1612.404632,
            1206.043465,
            1284.7331800000004,
            7114.477970999998,
            1687.997641,
            2613.101665,
            848.2186575,
            1477.59676,
            1932.3601670000005,
            908.9185217,
            1777.077318,
            569.7950712
           ],
           "xaxis": "x",
           "y": [
            51.407,
            35.985,
            44.885,
            53.298,
            40.697,
            43.548,
            44.799,
            41.478,
            43.601000000000006,
            46.472,
            44.056,
            52.04,
            47.35,
            42.074,
            49.293,
            38.987,
            42.18899999999999,
            42.115,
            44.598,
            35.857,
            48.072,
            37.197,
            35.492,
            50.654,
            48.492,
            41.536,
            50.227,
            42.881,
            39.487,
            38.487,
            46.289,
            61.557,
            50.335,
            38.113,
            51.159,
            40.118,
            41.04,
            60.542,
            44.1,
            54.425,
            43.563,
            34.113,
            38.977,
            51.927,
            42.858,
            46.633,
            45.757,
            46.769,
            52.053,
            48.051,
            47.768,
            53.995
           ],
           "yaxis": "y"
          },
          {
           "hovertemplate": "continent=Americas<br>year=1967<br>gdpPercap=%{x}<br>lifeExp=%{y}<br>pop=%{marker.size}<extra></extra>",
           "ids": [
            "Argentina",
            "Bolivia",
            "Brazil",
            "Canada",
            "Chile",
            "Colombia",
            "Costa Rica",
            "Cuba",
            "Dominican Republic",
            "Ecuador",
            "El Salvador",
            "Guatemala",
            "Haiti",
            "Honduras",
            "Jamaica",
            "Mexico",
            "Nicaragua",
            "Panama",
            "Paraguay",
            "Peru",
            "Puerto Rico",
            "Trinidad and Tobago",
            "United States",
            "Uruguay",
            "Venezuela"
           ],
           "legendgroup": "Americas",
           "marker": {
            "color": "#ab63fa",
            "size": [
             22934225,
             4040665,
             88049823,
             20819767,
             8858908,
             19764027,
             1588717,
             8139332,
             4049146,
             5432424,
             3232927,
             4690773,
             4318137,
             2500689,
             1861096,
             47995559,
             1865490,
             1405486,
             2287985,
             12132200,
             2648961,
             960155,
             198712000,
             2748579,
             9709552
            ],
            "sizemode": "area",
            "sizeref": 435928.2961983471,
            "symbol": "circle"
           },
           "mode": "markers",
           "name": "Americas",
           "orientation": "v",
           "showlegend": true,
           "type": "scatter",
           "x": [
            8052.953020999998,
            2586.886053,
            3429.864357,
            16076.58803,
            5106.654313,
            2678.729839,
            4161.727834,
            5690.268015,
            1653.7230029999996,
            4579.074215,
            4358.595393,
            3242.531147,
            1452.057666,
            2538.269358,
            6124.703450999999,
            5754.733883,
            4643.393534000002,
            4421.009084,
            2299.376311,
            5788.09333,
            6929.277714,
            5621.368472,
            19530.36557,
            5444.61962,
            9541.474188
           ],
           "xaxis": "x",
           "y": [
            65.634,
            45.032,
            57.632,
            72.13,
            60.523,
            59.963,
            65.42399999999999,
            68.29,
            56.75100000000001,
            56.678,
            55.855,
            50.01600000000001,
            46.243,
            50.924,
            67.51,
            60.11,
            51.88399999999999,
            64.071,
            64.95100000000001,
            51.445,
            71.1,
            65.4,
            70.76,
            68.468,
            63.479
           ],
           "yaxis": "y"
          },
          {
           "hovertemplate": "continent=Oceania<br>year=1967<br>gdpPercap=%{x}<br>lifeExp=%{y}<br>pop=%{marker.size}<extra></extra>",
           "ids": [
            "Australia",
            "New Zealand"
           ],
           "legendgroup": "Oceania",
           "marker": {
            "color": "#FFA15A",
            "size": [
             11872264,
             2728150
            ],
            "sizemode": "area",
            "sizeref": 435928.2961983471,
            "symbol": "circle"
           },
           "mode": "markers",
           "name": "Oceania",
           "orientation": "v",
           "showlegend": true,
           "type": "scatter",
           "x": [
            14526.12465,
            14463.918930000002
           ],
           "xaxis": "x",
           "y": [
            71.1,
            71.52
           ],
           "yaxis": "y"
          }
         ],
         "name": "1967"
        },
        {
         "data": [
          {
           "hovertemplate": "continent=Asia<br>year=1972<br>gdpPercap=%{x}<br>lifeExp=%{y}<br>pop=%{marker.size}<extra></extra>",
           "ids": [
            "Afghanistan",
            "Bahrain",
            "Bangladesh",
            "Cambodia",
            "China",
            "Hong Kong, China",
            "India",
            "Indonesia",
            "Iran",
            "Iraq",
            "Israel",
            "Japan",
            "Jordan",
            "Korea, Dem. Rep.",
            "Korea, Rep.",
            "Kuwait",
            "Lebanon",
            "Malaysia",
            "Mongolia",
            "Myanmar",
            "Nepal",
            "Oman",
            "Pakistan",
            "Philippines",
            "Saudi Arabia",
            "Singapore",
            "Sri Lanka",
            "Syria",
            "Taiwan",
            "Thailand",
            "Vietnam",
            "West Bank and Gaza",
            "Yemen, Rep."
           ],
           "legendgroup": "Asia",
           "marker": {
            "color": "#636efa",
            "size": [
             13079460,
             230800,
             70759295,
             7450606,
             862030000,
             4115700,
             567000000,
             121282000,
             30614000,
             10061506,
             3095893,
             107188273,
             1613551,
             14781241,
             33505000,
             841934,
             2680018,
             11441462,
             1320500,
             28466390,
             12412593,
             829050,
             69325921,
             40850141,
             6472756,
             2152400,
             13016733,
             6701172,
             15226039,
             39276153,
             44655014,
             1089572,
             7407075
            ],
            "sizemode": "area",
            "sizeref": 435928.2961983471,
            "symbol": "circle"
           },
           "mode": "markers",
           "name": "Asia",
           "orientation": "v",
           "showlegend": true,
           "type": "scatter",
           "x": [
            739.9811057999998,
            18268.65839,
            630.2336265,
            421.6240257,
            676.9000921,
            8315.928145,
            724.032527,
            1111.107907,
            9613.818607,
            9576.037596,
            12786.93223,
            14778.78636,
            2110.856309,
            3701.621503,
            3030.87665,
            109347.867,
            7486.384341,
            2849.09478,
            1421.741975,
            357,
            674.7881296,
            10618.03855,
            1049.938981,
            1989.37407,
            24837.42865,
            8597.756202,
            1213.39553,
            2571.423014,
            4062.523897,
            1524.358936,
            699.5016441,
            3133.409277,
            1265.047031
           ],
           "xaxis": "x",
           "y": [
            36.088,
            63.3,
            45.252,
            40.317,
            63.11888,
            72,
            50.651,
            49.203,
            55.234,
            56.95,
            71.63,
            73.42,
            56.528,
            63.983,
            62.612,
            67.712,
            65.421,
            63.01,
            53.754,
            53.07,
            43.971,
            52.143,
            51.929,
            58.065,
            53.886,
            69.521,
            65.042,
            57.29600000000001,
            69.39,
            60.405,
            50.254,
            56.532,
            39.848
           ],
           "yaxis": "y"
          },
          {
           "hovertemplate": "continent=Europe<br>year=1972<br>gdpPercap=%{x}<br>lifeExp=%{y}<br>pop=%{marker.size}<extra></extra>",
           "ids": [
            "Albania",
            "Austria",
            "Belgium",
            "Bosnia and Herzegovina",
            "Bulgaria",
            "Croatia",
            "Czech Republic",
            "Denmark",
            "Finland",
            "France",
            "Germany",
            "Greece",
            "Hungary",
            "Iceland",
            "Ireland",
            "Italy",
            "Montenegro",
            "Netherlands",
            "Norway",
            "Poland",
            "Portugal",
            "Romania",
            "Serbia",
            "Slovak Republic",
            "Slovenia",
            "Spain",
            "Sweden",
            "Switzerland",
            "Turkey",
            "United Kingdom"
           ],
           "legendgroup": "Europe",
           "marker": {
            "color": "#EF553B",
            "size": [
             2263554,
             7544201,
             9709100,
             3819000,
             8576200,
             4225310,
             9862158,
             4991596,
             4639657,
             51732000,
             78717088,
             8888628,
             10394091,
             209275,
             3024400,
             54365564,
             527678,
             13329874,
             3933004,
             33039545,
             8970450,
             20662648,
             8313288,
             4593433,
             1694510,
             34513161,
             8122293,
             6401400,
             37492953,
             56079000
            ],
            "sizemode": "area",
            "sizeref": 435928.2961983471,
            "symbol": "circle"
           },
           "mode": "markers",
           "name": "Europe",
           "orientation": "v",
           "showlegend": true,
           "type": "scatter",
           "x": [
            3313.422188,
            16661.6256,
            16672.14356,
            2860.16975,
            6597.494398,
            9164.090127,
            13108.4536,
            18866.20721,
            14358.8759,
            16107.19171,
            18016.18027,
            12724.82957,
            10168.65611,
            15798.06362,
            9530.772896,
            12269.27378,
            7778.414017,
            18794.74567,
            18965.05551,
            8006.506993000001,
            9022.247417,
            8011.4144019999985,
            10522.06749,
            9674.167626,
            12383.4862,
            10638.75131,
            17832.02464,
            27195.11304,
            3450.69638,
            15895.11641
           ],
           "xaxis": "x",
           "y": [
            67.69,
            70.63,
            71.44,
            67.45,
            70.9,
            69.61,
            70.29,
            73.47,
            70.87,
            72.38,
            71,
            72.34,
            69.76,
            74.46,
            71.28,
            72.19,
            70.63600000000002,
            73.75,
            74.34,
            70.85,
            69.26,
            69.21,
            68.7,
            70.35,
            69.82,
            73.06,
            74.72,
            73.78,
            57.005,
            72.01
           ],
           "yaxis": "y"
          },
          {
           "hovertemplate": "continent=Africa<br>year=1972<br>gdpPercap=%{x}<br>lifeExp=%{y}<br>pop=%{marker.size}<extra></extra>",
           "ids": [
            "Algeria",
            "Angola",
            "Benin",
            "Botswana",
            "Burkina Faso",
            "Burundi",
            "Cameroon",
            "Central African Republic",
            "Chad",
            "Comoros",
            "Congo, Dem. Rep.",
            "Congo, Rep.",
            "Cote d'Ivoire",
            "Djibouti",
            "Egypt",
            "Equatorial Guinea",
            "Eritrea",
            "Ethiopia",
            "Gabon",
            "Gambia",
            "Ghana",
            "Guinea",
            "Guinea-Bissau",
            "Kenya",
            "Lesotho",
            "Liberia",
            "Libya",
            "Madagascar",
            "Malawi",
            "Mali",
            "Mauritania",
            "Mauritius",
            "Morocco",
            "Mozambique",
            "Namibia",
            "Niger",
            "Nigeria",
            "Reunion",
            "Rwanda",
            "Sao Tome and Principe",
            "Senegal",
            "Sierra Leone",
            "Somalia",
            "South Africa",
            "Sudan",
            "Swaziland",
            "Tanzania",
            "Togo",
            "Tunisia",
            "Uganda",
            "Zambia",
            "Zimbabwe"
           ],
           "legendgroup": "Africa",
           "marker": {
            "color": "#00cc96",
            "size": [
             14760787,
             5894858,
             2761407,
             619351,
             5433886,
             3529983,
             7021028,
             1927260,
             3899068,
             250027,
             23007669,
             1340458,
             6071696,
             178848,
             34807417,
             277603,
             2260187,
             30770372,
             537977,
             517101,
             9354120,
             3811387,
             625361,
             12044785,
             1116779,
             1482628,
             2183877,
             7082430,
             4730997,
             5828158,
             1332786,
             851334,
             16660670,
             9809596,
             821782,
             5060262,
             53740085,
             461633,
             3992121,
             76595,
             4588696,
             2879013,
             3840161,
             23935810,
             14597019,
             480105,
             14706593,
             2056351,
             5303507,
             10190285,
             4506497,
             5861135
            ],
            "sizemode": "area",
            "sizeref": 435928.2961983471,
            "symbol": "circle"
           },
           "mode": "markers",
           "name": "Africa",
           "orientation": "v",
           "showlegend": true,
           "type": "scatter",
           "x": [
            4182.663766,
            5473.288004999999,
            1085.796879,
            2263.6111140000007,
            854.7359763000002,
            464.0995039,
            1684.1465280000002,
            1070.013275,
            1104.103987,
            1937.577675,
            904.8960685,
            3213.152683,
            2378.201111,
            3694.2123520000014,
            2024.008147,
            672.4122571,
            514.3242081999998,
            566.2439442000001,
            11401.94841,
            756.0868363,
            1178.223708,
            741.6662307,
            820.2245876000002,
            1222.359968,
            496.5815922000001,
            803.0054535,
            21011.49721,
            1748.562982,
            584.6219709,
            581.3688761,
            1586.851781,
            2575.484158,
            1930.194975,
            724.9178037,
            3746.080948,
            954.2092363,
            1698.388838,
            5047.658563,
            590.5806637999998,
            1532.985254,
            1597.712056,
            1353.759762,
            1254.576127,
            7765.962636,
            1659.652775,
            3364.836625,
            915.9850592,
            1649.660188,
            2753.2859940000008,
            950.735869,
            1773.498265,
            799.3621757999998
           ],
           "xaxis": "x",
           "y": [
            54.518,
            37.928,
            47.014,
            56.024,
            43.591,
            44.057,
            47.049,
            43.457,
            45.569,
            48.944,
            45.989,
            54.907,
            49.801,
            44.36600000000001,
            51.137,
            40.516,
            44.142,
            43.515,
            48.69,
            38.308,
            49.875,
            38.842,
            36.486,
            53.559,
            49.767,
            42.614,
            52.773,
            44.851000000000006,
            41.76600000000001,
            39.977,
            48.437,
            62.944,
            52.862,
            40.328,
            53.867,
            40.546,
            42.82100000000001,
            64.274,
            44.6,
            56.48,
            45.815,
            35.4,
            40.973,
            53.69600000000001,
            45.083,
            49.552,
            47.62,
            49.75899999999999,
            55.602,
            51.01600000000001,
            50.107,
            55.635
           ],
           "yaxis": "y"
          },
          {
           "hovertemplate": "continent=Americas<br>year=1972<br>gdpPercap=%{x}<br>lifeExp=%{y}<br>pop=%{marker.size}<extra></extra>",
           "ids": [
            "Argentina",
            "Bolivia",
            "Brazil",
            "Canada",
            "Chile",
            "Colombia",
            "Costa Rica",
            "Cuba",
            "Dominican Republic",
            "Ecuador",
            "El Salvador",
            "Guatemala",
            "Haiti",
            "Honduras",
            "Jamaica",
            "Mexico",
            "Nicaragua",
            "Panama",
            "Paraguay",
            "Peru",
            "Puerto Rico",
            "Trinidad and Tobago",
            "United States",
            "Uruguay",
            "Venezuela"
           ],
           "legendgroup": "Americas",
           "marker": {
            "color": "#ab63fa",
            "size": [
             24779799,
             4565872,
             100840058,
             22284500,
             9717524,
             22542890,
             1834796,
             8831348,
             4671329,
             6298651,
             3790903,
             5149581,
             4698301,
             2965146,
             1997616,
             55984294,
             2182908,
             1616384,
             2614104,
             13954700,
             2847132,
             975199,
             209896000,
             2829526,
             11515649
            ],
            "sizemode": "area",
            "sizeref": 435928.2961983471,
            "symbol": "circle"
           },
           "mode": "markers",
           "name": "Americas",
           "orientation": "v",
           "showlegend": true,
           "type": "scatter",
           "x": [
            9443.038526,
            2980.331339,
            4985.711467,
            18970.57086,
            5494.024437,
            3264.660041,
            5118.146939,
            5305.445256,
            2189.874499,
            5280.99471,
            4520.246008,
            4031.408271,
            1654.456946,
            2529.842345,
            7433.889293000001,
            6809.406690000002,
            4688.593267,
            5364.249663000001,
            2523.337977,
            5937.827283,
            9123.041742,
            6619.551418999999,
            21806.03594,
            5703.408898,
            10505.25966
           ],
           "xaxis": "x",
           "y": [
            67.065,
            46.714,
            59.504,
            72.88,
            63.441,
            61.62300000000001,
            67.84899999999999,
            70.723,
            59.631,
            58.79600000000001,
            58.207,
            53.738,
            48.042,
            53.88399999999999,
            69,
            62.361,
            55.151,
            66.21600000000001,
            65.815,
            55.448,
            72.16,
            65.9,
            71.34,
            68.673,
            65.712
           ],
           "yaxis": "y"
          },
          {
           "hovertemplate": "continent=Oceania<br>year=1972<br>gdpPercap=%{x}<br>lifeExp=%{y}<br>pop=%{marker.size}<extra></extra>",
           "ids": [
            "Australia",
            "New Zealand"
           ],
           "legendgroup": "Oceania",
           "marker": {
            "color": "#FFA15A",
            "size": [
             13177000,
             2929100
            ],
            "sizemode": "area",
            "sizeref": 435928.2961983471,
            "symbol": "circle"
           },
           "mode": "markers",
           "name": "Oceania",
           "orientation": "v",
           "showlegend": true,
           "type": "scatter",
           "x": [
            16788.62948,
            16046.03728
           ],
           "xaxis": "x",
           "y": [
            71.93,
            71.89
           ],
           "yaxis": "y"
          }
         ],
         "name": "1972"
        },
        {
         "data": [
          {
           "hovertemplate": "continent=Asia<br>year=1977<br>gdpPercap=%{x}<br>lifeExp=%{y}<br>pop=%{marker.size}<extra></extra>",
           "ids": [
            "Afghanistan",
            "Bahrain",
            "Bangladesh",
            "Cambodia",
            "China",
            "Hong Kong, China",
            "India",
            "Indonesia",
            "Iran",
            "Iraq",
            "Israel",
            "Japan",
            "Jordan",
            "Korea, Dem. Rep.",
            "Korea, Rep.",
            "Kuwait",
            "Lebanon",
            "Malaysia",
            "Mongolia",
            "Myanmar",
            "Nepal",
            "Oman",
            "Pakistan",
            "Philippines",
            "Saudi Arabia",
            "Singapore",
            "Sri Lanka",
            "Syria",
            "Taiwan",
            "Thailand",
            "Vietnam",
            "West Bank and Gaza",
            "Yemen, Rep."
           ],
           "legendgroup": "Asia",
           "marker": {
            "color": "#636efa",
            "size": [
             14880372,
             297410,
             80428306,
             6978607,
             943455000,
             4583700,
             634000000,
             136725000,
             35480679,
             11882916,
             3495918,
             113872473,
             1937652,
             16325320,
             36436000,
             1140357,
             3115787,
             12845381,
             1528000,
             31528087,
             13933198,
             1004533,
             78152686,
             46850962,
             8128505,
             2325300,
             14116836,
             7932503,
             16785196,
             44148285,
             50533506,
             1261091,
             8403990
            ],
            "sizemode": "area",
            "sizeref": 435928.2961983471,
            "symbol": "circle"
           },
           "mode": "markers",
           "name": "Asia",
           "orientation": "v",
           "showlegend": true,
           "type": "scatter",
           "x": [
            786.11336,
            19340.10196,
            659.8772322000002,
            524.9721831999999,
            741.2374699,
            11186.14125,
            813.3373230000002,
            1382.702056,
            11888.59508,
            14688.23507,
            13306.61921,
            16610.37701,
            2852.351568,
            4106.301249,
            4657.22102,
            59265.47714,
            8659.696836,
            3827.921571,
            1647.511665,
            371,
            694.1124398,
            11848.34392,
            1175.921193,
            2373.204287,
            34167.7626,
            11210.08948,
            1348.775651,
            3195.484582,
            5596.519826,
            1961.2246350000007,
            713.5371196000001,
            3682.831494,
            1829.765177
           ],
           "xaxis": "x",
           "y": [
            38.438,
            65.593,
            46.923,
            31.22,
            63.96736,
            73.6,
            54.208,
            52.702,
            57.702,
            60.413,
            73.06,
            75.38,
            61.13399999999999,
            67.15899999999999,
            64.766,
            69.343,
            66.09899999999999,
            65.256,
            55.49100000000001,
            56.059,
            46.74800000000001,
            57.367,
            54.043,
            60.06,
            58.69,
            70.795,
            65.949,
            61.195,
            70.59,
            62.494,
            55.764,
            60.765,
            44.175
           ],
           "yaxis": "y"
          },
          {
           "hovertemplate": "continent=Europe<br>year=1977<br>gdpPercap=%{x}<br>lifeExp=%{y}<br>pop=%{marker.size}<extra></extra>",
           "ids": [
            "Albania",
            "Austria",
            "Belgium",
            "Bosnia and Herzegovina",
            "Bulgaria",
            "Croatia",
            "Czech Republic",
            "Denmark",
            "Finland",
            "France",
            "Germany",
            "Greece",
            "Hungary",
            "Iceland",
            "Ireland",
            "Italy",
            "Montenegro",
            "Netherlands",
            "Norway",
            "Poland",
            "Portugal",
            "Romania",
            "Serbia",
            "Slovak Republic",
            "Slovenia",
            "Spain",
            "Sweden",
            "Switzerland",
            "Turkey",
            "United Kingdom"
           ],
           "legendgroup": "Europe",
           "marker": {
            "color": "#EF553B",
            "size": [
             2509048,
             7568430,
             9821800,
             4086000,
             8797022,
             4318673,
             10161915,
             5088419,
             4738902,
             53165019,
             78160773,
             9308479,
             10637171,
             221823,
             3271900,
             56059245,
             560073,
             13852989,
             4043205,
             34621254,
             9662600,
             21658597,
             8686367,
             4827803,
             1746919,
             36439000,
             8251648,
             6316424,
             42404033,
             56179000
            ],
            "sizemode": "area",
            "sizeref": 435928.2961983471,
            "symbol": "circle"
           },
           "mode": "markers",
           "name": "Europe",
           "orientation": "v",
           "showlegend": true,
           "type": "scatter",
           "x": [
            3533.003910000001,
            19749.4223,
            19117.97448,
            3528.481305,
            7612.240438,
            11305.38517,
            14800.16062,
            20422.9015,
            15605.42283,
            18292.63514,
            20512.92123,
            14195.52428,
            11674.83737,
            19654.96247,
            11150.98113,
            14255.98475,
            9595.929905,
            21209.0592,
            23311.34939,
            9508.141454,
            10172.48572,
            9356.39724,
            12980.66956,
            10922.66404,
            15277.030169999998,
            13236.92117,
            18855.72521,
            26982.29052,
            4269.122326,
            17428.74846
           ],
           "xaxis": "x",
           "y": [
            68.93,
            72.17,
            72.8,
            69.86,
            70.81,
            70.64,
            70.71,
            74.69,
            72.52,
            73.83,
            72.5,
            73.68,
            69.95,
            76.11,
            72.03,
            73.48,
            73.066,
            75.24,
            75.37,
            70.67,
            70.41,
            69.46,
            70.3,
            70.45,
            70.97,
            74.39,
            75.44,
            75.39,
            59.507,
            72.76
           ],
           "yaxis": "y"
          },
          {
           "hovertemplate": "continent=Africa<br>year=1977<br>gdpPercap=%{x}<br>lifeExp=%{y}<br>pop=%{marker.size}<extra></extra>",
           "ids": [
            "Algeria",
            "Angola",
            "Benin",
            "Botswana",
            "Burkina Faso",
            "Burundi",
            "Cameroon",
            "Central African Republic",
            "Chad",
            "Comoros",
            "Congo, Dem. Rep.",
            "Congo, Rep.",
            "Cote d'Ivoire",
            "Djibouti",
            "Egypt",
            "Equatorial Guinea",
            "Eritrea",
            "Ethiopia",
            "Gabon",
            "Gambia",
            "Ghana",
            "Guinea",
            "Guinea-Bissau",
            "Kenya",
            "Lesotho",
            "Liberia",
            "Libya",
            "Madagascar",
            "Malawi",
            "Mali",
            "Mauritania",
            "Mauritius",
            "Morocco",
            "Mozambique",
            "Namibia",
            "Niger",
            "Nigeria",
            "Reunion",
            "Rwanda",
            "Sao Tome and Principe",
            "Senegal",
            "Sierra Leone",
            "Somalia",
            "South Africa",
            "Sudan",
            "Swaziland",
            "Tanzania",
            "Togo",
            "Tunisia",
            "Uganda",
            "Zambia",
            "Zimbabwe"
           ],
           "legendgroup": "Africa",
           "marker": {
            "color": "#00cc96",
            "size": [
             17152804,
             6162675,
             3168267,
             781472,
             5889574,
             3834415,
             7959865,
             2167533,
             4388260,
             304739,
             26480870,
             1536769,
             7459574,
             228694,
             38783863,
             192675,
             2512642,
             34617799,
             706367,
             608274,
             10538093,
             4227026,
             745228,
             14500404,
             1251524,
             1703617,
             2721783,
             8007166,
             5637246,
             6491649,
             1456688,
             913025,
             18396941,
             11127868,
             977026,
             5682086,
             62209173,
             492095,
             4657072,
             86796,
             5260855,
             3140897,
             4353666,
             27129932,
             17104986,
             551425,
             17129565,
             2308582,
             6005061,
             11457758,
             5216550,
             6642107
            ],
            "sizemode": "area",
            "sizeref": 435928.2961983471,
            "symbol": "circle"
           },
           "mode": "markers",
           "name": "Africa",
           "orientation": "v",
           "showlegend": true,
           "type": "scatter",
           "x": [
            4910.416756000001,
            3008.647355,
            1029.161251,
            3214.857818,
            743.3870368,
            556.1032651,
            1783.432873,
            1109.374338,
            1133.98495,
            1172.603047,
            795.757282,
            3259.178978,
            2517.736547,
            3081.761022,
            2785.493582,
            958.5668124,
            505.7538077,
            556.8083834,
            21745.57328,
            884.7552507000001,
            993.2239571,
            874.6858642999998,
            764.7259627999998,
            1267.613204,
            745.3695408,
            640.3224382999998,
            21951.21176,
            1544.228586,
            663.2236766,
            686.3952693,
            1497.492223,
            3710.982963,
            2370.619976,
            502.3197334,
            3876.485958,
            808.8970727999998,
            1981.951806,
            4319.804067,
            670.0806011,
            1737.561657,
            1561.769116,
            1348.285159,
            1450.992513,
            8028.651439,
            2202.988423,
            3781.410618,
            962.4922932,
            1532.776998,
            3120.876811,
            843.7331372000001,
            1588.688299,
            685.5876821
           ],
           "xaxis": "x",
           "y": [
            58.014,
            39.483,
            49.19,
            59.319,
            46.137,
            45.91,
            49.355,
            46.775,
            47.383,
            50.93899999999999,
            47.804,
            55.625,
            52.374,
            46.519,
            53.319,
            42.024,
            44.535,
            44.51,
            52.79,
            41.842,
            51.756,
            40.762,
            37.465,
            56.155,
            52.208,
            43.764,
            57.442,
            46.881,
            43.767,
            41.714,
            50.852,
            64.93,
            55.73,
            42.495,
            56.437,
            41.291,
            44.514,
            67.064,
            45,
            58.55,
            48.879,
            36.788,
            41.974,
            55.527,
            47.8,
            52.537,
            49.919,
            52.887,
            59.837,
            50.35,
            51.386,
            57.674
           ],
           "yaxis": "y"
          },
          {
           "hovertemplate": "continent=Americas<br>year=1977<br>gdpPercap=%{x}<br>lifeExp=%{y}<br>pop=%{marker.size}<extra></extra>",
           "ids": [
            "Argentina",
            "Bolivia",
            "Brazil",
            "Canada",
            "Chile",
            "Colombia",
            "Costa Rica",
            "Cuba",
            "Dominican Republic",
            "Ecuador",
            "El Salvador",
            "Guatemala",
            "Haiti",
            "Honduras",
            "Jamaica",
            "Mexico",
            "Nicaragua",
            "Panama",
            "Paraguay",
            "Peru",
            "Puerto Rico",
            "Trinidad and Tobago",
            "United States",
            "Uruguay",
            "Venezuela"
           ],
           "legendgroup": "Americas",
           "marker": {
            "color": "#ab63fa",
            "size": [
             26983828,
             5079716,
             114313951,
             23796400,
             10599793,
             25094412,
             2108457,
             9537988,
             5302800,
             7278866,
             4282586,
             5703430,
             4908554,
             3055235,
             2156814,
             63759976,
             2554598,
             1839782,
             2984494,
             15990099,
             3080828,
             1039009,
             220239000,
             2873520,
             13503563
            ],
            "sizemode": "area",
            "sizeref": 435928.2961983471,
            "symbol": "circle"
           },
           "mode": "markers",
           "name": "Americas",
           "orientation": "v",
           "showlegend": true,
           "type": "scatter",
           "x": [
            10079.02674,
            3548.097832,
            6660.118654,
            22090.88306,
            4756.763836,
            3815.80787,
            5926.876967,
            6380.494965999998,
            2681.9889,
            6679.62326,
            5138.922374,
            4879.992748,
            1874.298931,
            3203.208066,
            6650.195573,
            7674.929108,
            5486.371089,
            5351.912144,
            3248.373311,
            6281.290854999998,
            9770.524921,
            7899.554209000001,
            24072.63213,
            6504.339663000002,
            13143.95095
           ],
           "xaxis": "x",
           "y": [
            68.48100000000001,
            50.023,
            61.489,
            74.21,
            67.05199999999999,
            63.837,
            70.75,
            72.649,
            61.788,
            61.31,
            56.69600000000001,
            56.029,
            49.923,
            57.402,
            70.11,
            65.032,
            57.47,
            68.681,
            66.35300000000001,
            58.447,
            73.44,
            68.3,
            73.38,
            69.48100000000001,
            67.456
           ],
           "yaxis": "y"
          },
          {
           "hovertemplate": "continent=Oceania<br>year=1977<br>gdpPercap=%{x}<br>lifeExp=%{y}<br>pop=%{marker.size}<extra></extra>",
           "ids": [
            "Australia",
            "New Zealand"
           ],
           "legendgroup": "Oceania",
           "marker": {
            "color": "#FFA15A",
            "size": [
             14074100,
             3164900
            ],
            "sizemode": "area",
            "sizeref": 435928.2961983471,
            "symbol": "circle"
           },
           "mode": "markers",
           "name": "Oceania",
           "orientation": "v",
           "showlegend": true,
           "type": "scatter",
           "x": [
            18334.19751,
            16233.7177
           ],
           "xaxis": "x",
           "y": [
            73.49,
            72.22
           ],
           "yaxis": "y"
          }
         ],
         "name": "1977"
        },
        {
         "data": [
          {
           "hovertemplate": "continent=Asia<br>year=1982<br>gdpPercap=%{x}<br>lifeExp=%{y}<br>pop=%{marker.size}<extra></extra>",
           "ids": [
            "Afghanistan",
            "Bahrain",
            "Bangladesh",
            "Cambodia",
            "China",
            "Hong Kong, China",
            "India",
            "Indonesia",
            "Iran",
            "Iraq",
            "Israel",
            "Japan",
            "Jordan",
            "Korea, Dem. Rep.",
            "Korea, Rep.",
            "Kuwait",
            "Lebanon",
            "Malaysia",
            "Mongolia",
            "Myanmar",
            "Nepal",
            "Oman",
            "Pakistan",
            "Philippines",
            "Saudi Arabia",
            "Singapore",
            "Sri Lanka",
            "Syria",
            "Taiwan",
            "Thailand",
            "Vietnam",
            "West Bank and Gaza",
            "Yemen, Rep."
           ],
           "legendgroup": "Asia",
           "marker": {
            "color": "#636efa",
            "size": [
             12881816,
             377967,
             93074406,
             7272485,
             1000281000,
             5264500,
             708000000,
             153343000,
             43072751,
             14173318,
             3858421,
             118454974,
             2347031,
             17647518,
             39326000,
             1497494,
             3086876,
             14441916,
             1756032,
             34680442,
             15796314,
             1301048,
             91462088,
             53456774,
             11254672,
             2651869,
             15410151,
             9410494,
             18501390,
             48827160,
             56142181,
             1425876,
             9657618
            ],
            "sizemode": "area",
            "sizeref": 435928.2961983471,
            "symbol": "circle"
           },
           "mode": "markers",
           "name": "Asia",
           "orientation": "v",
           "showlegend": true,
           "type": "scatter",
           "x": [
            978.0114388,
            19211.14731,
            676.9818656,
            624.4754784,
            962.4213805,
            14560.53051,
            855.7235377000002,
            1516.872988,
            7608.334602,
            14517.90711,
            15367.0292,
            19384.10571,
            4161.415959,
            4106.525293,
            5622.942464,
            31354.03573,
            7640.519520999998,
            4920.355951,
            2000.603139,
            424,
            718.3730947,
            12954.79101,
            1443.429832,
            2603.273765,
            33693.17525,
            15169.16112,
            1648.079789,
            3761.837715,
            7426.3547739999985,
            2393.219781,
            707.2357863,
            4336.032082,
            1977.55701
           ],
           "xaxis": "x",
           "y": [
            39.854,
            69.05199999999999,
            50.00899999999999,
            50.957,
            65.525,
            75.45,
            56.596,
            56.159,
            59.62,
            62.038,
            74.45,
            77.11,
            63.739,
            69.1,
            67.123,
            71.309,
            66.983,
            68,
            57.489,
            58.056,
            49.594,
            62.728,
            56.158,
            62.082,
            63.012,
            71.76,
            68.757,
            64.59,
            72.16,
            64.597,
            58.816,
            64.406,
            49.113
           ],
           "yaxis": "y"
          },
          {
           "hovertemplate": "continent=Europe<br>year=1982<br>gdpPercap=%{x}<br>lifeExp=%{y}<br>pop=%{marker.size}<extra></extra>",
           "ids": [
            "Albania",
            "Austria",
            "Belgium",
            "Bosnia and Herzegovina",
            "Bulgaria",
            "Croatia",
            "Czech Republic",
            "Denmark",
            "Finland",
            "France",
            "Germany",
            "Greece",
            "Hungary",
            "Iceland",
            "Ireland",
            "Italy",
            "Montenegro",
            "Netherlands",
            "Norway",
            "Poland",
            "Portugal",
            "Romania",
            "Serbia",
            "Slovak Republic",
            "Slovenia",
            "Spain",
            "Sweden",
            "Switzerland",
            "Turkey",
            "United Kingdom"
           ],
           "legendgroup": "Europe",
           "marker": {
            "color": "#EF553B",
            "size": [
             2780097,
             7574613,
             9856303,
             4172693,
             8892098,
             4413368,
             10303704,
             5117810,
             4826933,
             54433565,
             78335266,
             9786480,
             10705535,
             233997,
             3480000,
             56535636,
             562548,
             14310401,
             4114787,
             36227381,
             9859650,
             22356726,
             9032824,
             5048043,
             1861252,
             37983310,
             8325260,
             6468126,
             47328791,
             56339704
            ],
            "sizemode": "area",
            "sizeref": 435928.2961983471,
            "symbol": "circle"
           },
           "mode": "markers",
           "name": "Europe",
           "orientation": "v",
           "showlegend": true,
           "type": "scatter",
           "x": [
            3630.880722,
            21597.08362,
            20979.84589,
            4126.613157,
            8224.191647,
            13221.82184,
            15377.22855,
            21688.04048,
            18533.15761,
            20293.89746,
            22031.53274,
            15268.42089,
            12545.99066,
            23269.6075,
            12618.32141,
            16537.4835,
            11222.58762,
            21399.46046,
            26298.63531,
            8451.531004,
            11753.84291,
            9605.314053,
            15181.0927,
            11348.54585,
            17866.72175,
            13926.16997,
            20667.38125,
            28397.71512,
            4241.356344,
            18232.42452
           ],
           "xaxis": "x",
           "y": [
            70.42,
            73.18,
            73.93,
            70.69,
            71.08,
            70.46,
            70.96,
            74.63,
            74.55,
            74.89,
            73.8,
            75.24,
            69.39,
            76.99,
            73.1,
            74.98,
            74.101,
            76.05,
            75.97,
            71.32,
            72.77,
            69.66,
            70.16199999999999,
            70.8,
            71.063,
            76.3,
            76.42,
            76.21,
            61.036,
            74.04
           ],
           "yaxis": "y"
          },
          {
           "hovertemplate": "continent=Africa<br>year=1982<br>gdpPercap=%{x}<br>lifeExp=%{y}<br>pop=%{marker.size}<extra></extra>",
           "ids": [
            "Algeria",
            "Angola",
            "Benin",
            "Botswana",
            "Burkina Faso",
            "Burundi",
            "Cameroon",
            "Central African Republic",
            "Chad",
            "Comoros",
            "Congo, Dem. Rep.",
            "Congo, Rep.",
            "Cote d'Ivoire",
            "Djibouti",
            "Egypt",
            "Equatorial Guinea",
            "Eritrea",
            "Ethiopia",
            "Gabon",
            "Gambia",
            "Ghana",
            "Guinea",
            "Guinea-Bissau",
            "Kenya",
            "Lesotho",
            "Liberia",
            "Libya",
            "Madagascar",
            "Malawi",
            "Mali",
            "Mauritania",
            "Mauritius",
            "Morocco",
            "Mozambique",
            "Namibia",
            "Niger",
            "Nigeria",
            "Reunion",
            "Rwanda",
            "Sao Tome and Principe",
            "Senegal",
            "Sierra Leone",
            "Somalia",
            "South Africa",
            "Sudan",
            "Swaziland",
            "Tanzania",
            "Togo",
            "Tunisia",
            "Uganda",
            "Zambia",
            "Zimbabwe"
           ],
           "legendgroup": "Africa",
           "marker": {
            "color": "#00cc96",
            "size": [
             20033753,
             7016384,
             3641603,
             970347,
             6634596,
             4580410,
             9250831,
             2476971,
             4875118,
             348643,
             30646495,
             1774735,
             9025951,
             305991,
             45681811,
             285483,
             2637297,
             38111756,
             753874,
             715523,
             11400338,
             4710497,
             825987,
             17661452,
             1411807,
             1956875,
             3344074,
             9171477,
             6502825,
             6998256,
             1622136,
             992040,
             20198730,
             12587223,
             1099010,
             6437188,
             73039376,
             517810,
             5507565,
             98593,
             6147783,
             3464522,
             5828892,
             31140029,
             20367053,
             649901,
             19844382,
             2644765,
             6734098,
             12939400,
             6100407,
             7636524
            ],
            "sizemode": "area",
            "sizeref": 435928.2961983471,
            "symbol": "circle"
           },
           "mode": "markers",
           "name": "Africa",
           "orientation": "v",
           "showlegend": true,
           "type": "scatter",
           "x": [
            5745.160213,
            2756.953672,
            1277.897616,
            4551.14215,
            807.1985855,
            559.6032309999998,
            2367.983282,
            956.7529907,
            797.9081006,
            1267.100083,
            673.7478181,
            4879.507522,
            2602.710169,
            2879.468067,
            3503.729636,
            927.8253427,
            524.8758493,
            577.8607471,
            15113.36194,
            835.8096107999999,
            876.032569,
            857.2503577,
            838.1239671,
            1348.225791,
            797.2631074,
            572.1995694,
            17364.275380000006,
            1302.878658,
            632.8039209,
            618.0140640999998,
            1481.150189,
            3688.037739,
            2702.620356,
            462.2114149,
            4191.100511,
            909.7221354,
            1576.97375,
            5267.219353,
            881.5706467,
            1890.218117,
            1518.479984,
            1465.010784,
            1176.807031,
            8568.266228,
            1895.544073,
            3895.384018,
            874.2426069,
            1344.577953,
            3560.2331740000004,
            682.2662267999998,
            1408.678565,
            788.8550411
           ],
           "xaxis": "x",
           "y": [
            61.368,
            39.942,
            50.904,
            61.484,
            48.122,
            47.471,
            52.96100000000001,
            48.295,
            49.517,
            52.933,
            47.784,
            56.695,
            53.983,
            48.812,
            56.006,
            43.662,
            43.89,
            44.916,
            56.56399999999999,
            45.58,
            53.744,
            42.89100000000001,
            39.327,
            58.76600000000001,
            55.078,
            44.852,
            62.155,
            48.969,
            45.642,
            43.916,
            53.599,
            66.711,
            59.65,
            42.795,
            58.968,
            42.598,
            45.826,
            69.885,
            46.218,
            60.351000000000006,
            52.379,
            38.445,
            42.955,
            58.161,
            50.338,
            55.56100000000001,
            50.608,
            55.471,
            64.048,
            49.849,
            51.82100000000001,
            60.363
           ],
           "yaxis": "y"
          },
          {
           "hovertemplate": "continent=Americas<br>year=1982<br>gdpPercap=%{x}<br>lifeExp=%{y}<br>pop=%{marker.size}<extra></extra>",
           "ids": [
            "Argentina",
            "Bolivia",
            "Brazil",
            "Canada",
            "Chile",
            "Colombia",
            "Costa Rica",
            "Cuba",
            "Dominican Republic",
            "Ecuador",
            "El Salvador",
            "Guatemala",
            "Haiti",
            "Honduras",
            "Jamaica",
            "Mexico",
            "Nicaragua",
            "Panama",
            "Paraguay",
            "Peru",
            "Puerto Rico",
            "Trinidad and Tobago",
            "United States",
            "Uruguay",
            "Venezuela"
           ],
           "legendgroup": "Americas",
           "marker": {
            "color": "#ab63fa",
            "size": [
             29341374,
             5642224,
             128962939,
             25201900,
             11487112,
             27764644,
             2424367,
             9789224,
             5968349,
             8365850,
             4474873,
             6395630,
             5198399,
             3669448,
             2298309,
             71640904,
             2979423,
             2036305,
             3366439,
             18125129,
             3279001,
             1116479,
             232187835,
             2953997,
             15620766
            ],
            "sizemode": "area",
            "sizeref": 435928.2961983471,
            "symbol": "circle"
           },
           "mode": "markers",
           "name": "Americas",
           "orientation": "v",
           "showlegend": true,
           "type": "scatter",
           "x": [
            8997.897412,
            3156.510452,
            7030.835878,
            22898.79214,
            5095.6657380000015,
            4397.575659,
            5262.734751,
            7316.918106999998,
            2861.092386,
            7213.791267,
            4098.344175,
            4820.49479,
            2011.159549,
            3121.7607940000007,
            6068.05135,
            9611.147541,
            3470.3381560000007,
            7009.601598,
            4258.503604,
            6434.501797,
            10330.98915,
            9119.528607,
            25009.55914,
            6920.223051000001,
            11152.41011
           ],
           "xaxis": "x",
           "y": [
            69.942,
            53.859,
            63.33600000000001,
            75.76,
            70.565,
            66.653,
            73.45,
            73.717,
            63.727,
            64.342,
            56.604,
            58.137,
            51.46100000000001,
            60.909,
            71.21,
            67.405,
            59.298,
            70.472,
            66.874,
            61.40600000000001,
            73.75,
            68.832,
            74.65,
            70.805,
            68.557
           ],
           "yaxis": "y"
          },
          {
           "hovertemplate": "continent=Oceania<br>year=1982<br>gdpPercap=%{x}<br>lifeExp=%{y}<br>pop=%{marker.size}<extra></extra>",
           "ids": [
            "Australia",
            "New Zealand"
           ],
           "legendgroup": "Oceania",
           "marker": {
            "color": "#FFA15A",
            "size": [
             15184200,
             3210650
            ],
            "sizemode": "area",
            "sizeref": 435928.2961983471,
            "symbol": "circle"
           },
           "mode": "markers",
           "name": "Oceania",
           "orientation": "v",
           "showlegend": true,
           "type": "scatter",
           "x": [
            19477.00928,
            17632.4104
           ],
           "xaxis": "x",
           "y": [
            74.74,
            73.84
           ],
           "yaxis": "y"
          }
         ],
         "name": "1982"
        },
        {
         "data": [
          {
           "hovertemplate": "continent=Asia<br>year=1987<br>gdpPercap=%{x}<br>lifeExp=%{y}<br>pop=%{marker.size}<extra></extra>",
           "ids": [
            "Afghanistan",
            "Bahrain",
            "Bangladesh",
            "Cambodia",
            "China",
            "Hong Kong, China",
            "India",
            "Indonesia",
            "Iran",
            "Iraq",
            "Israel",
            "Japan",
            "Jordan",
            "Korea, Dem. Rep.",
            "Korea, Rep.",
            "Kuwait",
            "Lebanon",
            "Malaysia",
            "Mongolia",
            "Myanmar",
            "Nepal",
            "Oman",
            "Pakistan",
            "Philippines",
            "Saudi Arabia",
            "Singapore",
            "Sri Lanka",
            "Syria",
            "Taiwan",
            "Thailand",
            "Vietnam",
            "West Bank and Gaza",
            "Yemen, Rep."
           ],
           "legendgroup": "Asia",
           "marker": {
            "color": "#636efa",
            "size": [
             13867957,
             454612,
             103764241,
             8371791,
             1084035000,
             5584510,
             788000000,
             169276000,
             51889696,
             16543189,
             4203148,
             122091325,
             2820042,
             19067554,
             41622000,
             1891487,
             3089353,
             16331785,
             2015133,
             38028578,
             17917180,
             1593882,
             105186881,
             60017788,
             14619745,
             2794552,
             16495304,
             11242847,
             19757799,
             52910342,
             62826491,
             1691210,
             11219340
            ],
            "sizemode": "area",
            "sizeref": 435928.2961983471,
            "symbol": "circle"
           },
           "mode": "markers",
           "name": "Asia",
           "orientation": "v",
           "showlegend": true,
           "type": "scatter",
           "x": [
            852.3959447999998,
            18524.02406,
            751.9794035,
            683.8955732000002,
            1378.904018,
            20038.47269,
            976.5126756,
            1748.356961,
            6642.881371,
            11643.57268,
            17122.47986,
            22375.94189,
            4448.679912,
            4106.492315,
            8533.088805,
            28118.42998,
            5377.091329,
            5249.802653,
            2338.008304,
            385,
            775.6324501,
            18115.22313,
            1704.686583,
            2189.634995,
            21198.26136,
            18861.53081,
            1876.766827,
            3116.774285,
            11054.56175,
            2982.653773,
            820.7994449,
            5107.197384,
            1971.741538
           ],
           "xaxis": "x",
           "y": [
            40.822,
            70.75,
            52.819,
            53.914,
            67.274,
            76.2,
            58.553,
            60.137,
            63.04,
            65.044,
            75.6,
            78.67,
            65.869,
            70.64699999999998,
            69.81,
            74.17399999999998,
            67.926,
            69.5,
            60.222,
            58.339,
            52.537,
            67.734,
            58.245,
            64.15100000000001,
            66.295,
            73.56,
            69.01100000000001,
            66.97399999999999,
            73.4,
            66.084,
            62.82,
            67.046,
            52.922
           ],
           "yaxis": "y"
          },
          {
           "hovertemplate": "continent=Europe<br>year=1987<br>gdpPercap=%{x}<br>lifeExp=%{y}<br>pop=%{marker.size}<extra></extra>",
           "ids": [
            "Albania",
            "Austria",
            "Belgium",
            "Bosnia and Herzegovina",
            "Bulgaria",
            "Croatia",
            "Czech Republic",
            "Denmark",
            "Finland",
            "France",
            "Germany",
            "Greece",
            "Hungary",
            "Iceland",
            "Ireland",
            "Italy",
            "Montenegro",
            "Netherlands",
            "Norway",
            "Poland",
            "Portugal",
            "Romania",
            "Serbia",
            "Slovak Republic",
            "Slovenia",
            "Spain",
            "Sweden",
            "Switzerland",
            "Turkey",
            "United Kingdom"
           ],
           "legendgroup": "Europe",
           "marker": {
            "color": "#EF553B",
            "size": [
             3075321,
             7578903,
             9870200,
             4338977,
             8971958,
             4484310,
             10311597,
             5127024,
             4931729,
             55630100,
             77718298,
             9974490,
             10612740,
             244676,
             3539900,
             56729703,
             569473,
             14665278,
             4186147,
             37740710,
             9915289,
             22686371,
             9230783,
             5199318,
             1945870,
             38880702,
             8421403,
             6649942,
             52881328,
             56981620
            ],
            "sizemode": "area",
            "sizeref": 435928.2961983471,
            "symbol": "circle"
           },
           "mode": "markers",
           "name": "Europe",
           "orientation": "v",
           "showlegend": true,
           "type": "scatter",
           "x": [
            3738.932735,
            23687.82607,
            22525.56308,
            4314.114757,
            8239.854824,
            13822.58394,
            16310.4434,
            25116.17581,
            21141.01223,
            22066.44214,
            24639.18566,
            16120.52839,
            12986.47998,
            26923.20628,
            13872.86652,
            19207.23482,
            11732.51017,
            23651.32361,
            31540.9748,
            9082.351172,
            13039.30876,
            9696.273295,
            15870.87851,
            12037.26758,
            18678.53492,
            15764.98313,
            23586.92927,
            30281.70459,
            5089.043686,
            21664.78767
           ],
           "xaxis": "x",
           "y": [
            72,
            74.94,
            75.35,
            71.14,
            71.34,
            71.52,
            71.58,
            74.8,
            74.83,
            76.34,
            74.847,
            76.67,
            69.58,
            77.23,
            74.36,
            76.42,
            74.865,
            76.83,
            75.89,
            70.98,
            74.06,
            69.53,
            71.218,
            71.08,
            72.25,
            76.9,
            77.19,
            77.41,
            63.108,
            75.007
           ],
           "yaxis": "y"
          },
          {
           "hovertemplate": "continent=Africa<br>year=1987<br>gdpPercap=%{x}<br>lifeExp=%{y}<br>pop=%{marker.size}<extra></extra>",
           "ids": [
            "Algeria",
            "Angola",
            "Benin",
            "Botswana",
            "Burkina Faso",
            "Burundi",
            "Cameroon",
            "Central African Republic",
            "Chad",
            "Comoros",
            "Congo, Dem. Rep.",
            "Congo, Rep.",
            "Cote d'Ivoire",
            "Djibouti",
            "Egypt",
            "Equatorial Guinea",
            "Eritrea",
            "Ethiopia",
            "Gabon",
            "Gambia",
            "Ghana",
            "Guinea",
            "Guinea-Bissau",
            "Kenya",
            "Lesotho",
            "Liberia",
            "Libya",
            "Madagascar",
            "Malawi",
            "Mali",
            "Mauritania",
            "Mauritius",
            "Morocco",
            "Mozambique",
            "Namibia",
            "Niger",
            "Nigeria",
            "Reunion",
            "Rwanda",
            "Sao Tome and Principe",
            "Senegal",
            "Sierra Leone",
            "Somalia",
            "South Africa",
            "Sudan",
            "Swaziland",
            "Tanzania",
            "Togo",
            "Tunisia",
            "Uganda",
            "Zambia",
            "Zimbabwe"
           ],
           "legendgroup": "Africa",
           "marker": {
            "color": "#00cc96",
            "size": [
             23254956,
             7874230,
             4243788,
             1151184,
             7586551,
             5126023,
             10780667,
             2840009,
             5498955,
             395114,
             35481645,
             2064095,
             10761098,
             311025,
             52799062,
             341244,
             2915959,
             42999530,
             880397,
             848406,
             14168101,
             5650262,
             927524,
             21198082,
             1599200,
             2269414,
             3799845,
             10568642,
             7824747,
             7634008,
             1841240,
             1042663,
             22987397,
             12891952,
             1278184,
             7332638,
             81551520,
             562035,
             6349365,
             110812,
             7171347,
             3868905,
             6921858,
             35933379,
             24725960,
             779348,
             23040630,
             3154264,
             7724976,
             15283050,
             7272406,
             9216418
            ],
            "sizemode": "area",
            "sizeref": 435928.2961983471,
            "symbol": "circle"
           },
           "mode": "markers",
           "name": "Africa",
           "orientation": "v",
           "showlegend": true,
           "type": "scatter",
           "x": [
            5681.358539,
            2430.208311,
            1225.85601,
            6205.88385,
            912.0631417,
            621.8188188999999,
            2602.664206,
            844.8763504000002,
            952.386129,
            1315.980812,
            672.774812,
            4201.194936999998,
            2156.9560690000008,
            2880.102568,
            3885.46071,
            966.8968149,
            521.1341333,
            573.7413142000001,
            11864.40844,
            611.6588611000002,
            847.0061135,
            805.5724717999999,
            736.4153921,
            1361.936856,
            773.9932140999998,
            506.1138573,
            11770.5898,
            1155.441948,
            635.5173633999998,
            684.1715576,
            1421.603576,
            4783.586903,
            2755.046991,
            389.8761846,
            3693.731337,
            668.3000228,
            1385.029563,
            5303.377488,
            847.991217,
            1516.525457,
            1441.72072,
            1294.4477880000004,
            1093.244963,
            7825.823398,
            1507.819159,
            3984.839812,
            831.8220794,
            1202.201361,
            3810.419296,
            617.7244065,
            1213.315116,
            706.1573059
           ],
           "xaxis": "x",
           "y": [
            65.79899999999999,
            39.906,
            52.337,
            63.622,
            49.557,
            48.21100000000001,
            54.985,
            50.485,
            51.051,
            54.926,
            47.412,
            57.47,
            54.655,
            50.04,
            59.797,
            45.664,
            46.453,
            46.684,
            60.19,
            49.265,
            55.729,
            45.552,
            41.245,
            59.339,
            57.18,
            46.027,
            66.234,
            49.35,
            47.457,
            46.364,
            56.145,
            68.74,
            62.677,
            42.861,
            60.835,
            44.555,
            46.886,
            71.913,
            44.02,
            61.728,
            55.769,
            40.006,
            44.50100000000001,
            60.834,
            51.744,
            57.678,
            51.535,
            56.941,
            66.89399999999999,
            51.50899999999999,
            50.82100000000001,
            62.351000000000006
           ],
           "yaxis": "y"
          },
          {
           "hovertemplate": "continent=Americas<br>year=1987<br>gdpPercap=%{x}<br>lifeExp=%{y}<br>pop=%{marker.size}<extra></extra>",
           "ids": [
            "Argentina",
            "Bolivia",
            "Brazil",
            "Canada",
            "Chile",
            "Colombia",
            "Costa Rica",
            "Cuba",
            "Dominican Republic",
            "Ecuador",
            "El Salvador",
            "Guatemala",
            "Haiti",
            "Honduras",
            "Jamaica",
            "Mexico",
            "Nicaragua",
            "Panama",
            "Paraguay",
            "Peru",
            "Puerto Rico",
            "Trinidad and Tobago",
            "United States",
            "Uruguay",
            "Venezuela"
           ],
           "legendgroup": "Americas",
           "marker": {
            "color": "#ab63fa",
            "size": [
             31620918,
             6156369,
             142938076,
             26549700,
             12463354,
             30964245,
             2799811,
             10239839,
             6655297,
             9545158,
             4842194,
             7326406,
             5756203,
             4372203,
             2326606,
             80122492,
             3344353,
             2253639,
             3886512,
             20195924,
             3444468,
             1191336,
             242803533,
             3045153,
             17910182
            ],
            "sizemode": "area",
            "sizeref": 435928.2961983471,
            "symbol": "circle"
           },
           "mode": "markers",
           "name": "Americas",
           "orientation": "v",
           "showlegend": true,
           "type": "scatter",
           "x": [
            9139.671389,
            2753.69149,
            7807.095818000002,
            26626.51503,
            5547.063754,
            4903.2191,
            5629.915318,
            7532.924762999999,
            2899.842175,
            6481.776993,
            4140.442097,
            4246.485974,
            1823.015995,
            3023.096699,
            6351.237495,
            8688.156003,
            2955.984375,
            7034.779161,
            3998.875695,
            6360.943444,
            12281.34191,
            7388.597823,
            29884.350410000006,
            7452.398969,
            9883.584648
           ],
           "xaxis": "x",
           "y": [
            70.774,
            57.25100000000001,
            65.205,
            76.86,
            72.492,
            67.768,
            74.752,
            74.17399999999998,
            66.046,
            67.23100000000001,
            63.154,
            60.782,
            53.636,
            64.492,
            71.77,
            69.498,
            62.008,
            71.523,
            67.378,
            64.134,
            74.63,
            69.582,
            75.02,
            71.918,
            70.19
           ],
           "yaxis": "y"
          },
          {
           "hovertemplate": "continent=Oceania<br>year=1987<br>gdpPercap=%{x}<br>lifeExp=%{y}<br>pop=%{marker.size}<extra></extra>",
           "ids": [
            "Australia",
            "New Zealand"
           ],
           "legendgroup": "Oceania",
           "marker": {
            "color": "#FFA15A",
            "size": [
             16257249,
             3317166
            ],
            "sizemode": "area",
            "sizeref": 435928.2961983471,
            "symbol": "circle"
           },
           "mode": "markers",
           "name": "Oceania",
           "orientation": "v",
           "showlegend": true,
           "type": "scatter",
           "x": [
            21888.88903,
            19007.19129
           ],
           "xaxis": "x",
           "y": [
            76.32,
            74.32
           ],
           "yaxis": "y"
          }
         ],
         "name": "1987"
        },
        {
         "data": [
          {
           "hovertemplate": "continent=Asia<br>year=1992<br>gdpPercap=%{x}<br>lifeExp=%{y}<br>pop=%{marker.size}<extra></extra>",
           "ids": [
            "Afghanistan",
            "Bahrain",
            "Bangladesh",
            "Cambodia",
            "China",
            "Hong Kong, China",
            "India",
            "Indonesia",
            "Iran",
            "Iraq",
            "Israel",
            "Japan",
            "Jordan",
            "Korea, Dem. Rep.",
            "Korea, Rep.",
            "Kuwait",
            "Lebanon",
            "Malaysia",
            "Mongolia",
            "Myanmar",
            "Nepal",
            "Oman",
            "Pakistan",
            "Philippines",
            "Saudi Arabia",
            "Singapore",
            "Sri Lanka",
            "Syria",
            "Taiwan",
            "Thailand",
            "Vietnam",
            "West Bank and Gaza",
            "Yemen, Rep."
           ],
           "legendgroup": "Asia",
           "marker": {
            "color": "#636efa",
            "size": [
             16317921,
             529491,
             113704579,
             10150094,
             1164970000,
             5829696,
             872000000,
             184816000,
             60397973,
             17861905,
             4936550,
             124329269,
             3867409,
             20711375,
             43805450,
             1418095,
             3219994,
             18319502,
             2312802,
             40546538,
             20326209,
             1915208,
             120065004,
             67185766,
             16945857,
             3235865,
             17587060,
             13219062,
             20686918,
             56667095,
             69940728,
             2104779,
             13367997
            ],
            "sizemode": "area",
            "sizeref": 435928.2961983471,
            "symbol": "circle"
           },
           "mode": "markers",
           "name": "Asia",
           "orientation": "v",
           "showlegend": true,
           "type": "scatter",
           "x": [
            649.3413952000002,
            19035.57917,
            837.8101642999999,
            682.3031755,
            1655.784158,
            24757.60301,
            1164.406809,
            2383.140898,
            7235.653187999998,
            3745.640687,
            18051.52254,
            26824.89511,
            3431.593647,
            3726.063507,
            12104.27872,
            34932.91959,
            6890.806854,
            7277.912802,
            1785.402016,
            347,
            897.7403604,
            18616.70691,
            1971.829464,
            2279.324017000001,
            24841.61777,
            24769.8912,
            2153.739222,
            3340.542768,
            15215.6579,
            4616.896545000001,
            989.0231487,
            6017.654756,
            1879.496673
           ],
           "xaxis": "x",
           "y": [
            41.674,
            72.601,
            56.018,
            55.803,
            68.69,
            77.601,
            60.223,
            62.681,
            65.742,
            59.46100000000001,
            76.93,
            79.36,
            68.015,
            69.97800000000001,
            72.244,
            75.19,
            69.292,
            70.693,
            61.271,
            59.32,
            55.727,
            71.197,
            60.838,
            66.458,
            68.768,
            75.788,
            70.37899999999998,
            69.249,
            74.26,
            67.298,
            67.66199999999999,
            69.718,
            55.599
           ],
           "yaxis": "y"
          },
          {
           "hovertemplate": "continent=Europe<br>year=1992<br>gdpPercap=%{x}<br>lifeExp=%{y}<br>pop=%{marker.size}<extra></extra>",
           "ids": [
            "Albania",
            "Austria",
            "Belgium",
            "Bosnia and Herzegovina",
            "Bulgaria",
            "Croatia",
            "Czech Republic",
            "Denmark",
            "Finland",
            "France",
            "Germany",
            "Greece",
            "Hungary",
            "Iceland",
            "Ireland",
            "Italy",
            "Montenegro",
            "Netherlands",
            "Norway",
            "Poland",
            "Portugal",
            "Romania",
            "Serbia",
            "Slovak Republic",
            "Slovenia",
            "Spain",
            "Sweden",
            "Switzerland",
            "Turkey",
            "United Kingdom"
           ],
           "legendgroup": "Europe",
           "marker": {
            "color": "#EF553B",
            "size": [
             3326498,
             7914969,
             10045622,
             4256013,
             8658506,
             4494013,
             10315702,
             5171393,
             5041039,
             57374179,
             80597764,
             10325429,
             10348684,
             259012,
             3557761,
             56840847,
             621621,
             15174244,
             4286357,
             38370697,
             9927680,
             22797027,
             9826397,
             5302888,
             1999210,
             39549438,
             8718867,
             6995447,
             58179144,
             57866349
            ],
            "sizemode": "area",
            "sizeref": 435928.2961983471,
            "symbol": "circle"
           },
           "mode": "markers",
           "name": "Europe",
           "orientation": "v",
           "showlegend": true,
           "type": "scatter",
           "x": [
            2497.437901,
            27042.01868,
            25575.57069,
            2546.781445,
            6302.623438000001,
            8447.794873,
            14297.02122,
            26406.73985,
            20647.16499,
            24703.79615,
            26505.30317,
            17541.49634,
            10535.62855,
            25144.39201,
            17558.81555,
            22013.64486,
            7003.339037000002,
            26790.94961,
            33965.66115,
            7738.881247,
            16207.266630000002,
            6598.409903,
            9325.068238,
            9498.467723,
            14214.71681,
            18603.06452,
            23880.01683,
            31871.5303,
            5678.348271,
            22705.09254
           ],
           "xaxis": "x",
           "y": [
            71.581,
            76.04,
            76.46,
            72.178,
            71.19,
            72.527,
            72.4,
            75.33,
            75.7,
            77.46,
            76.07,
            77.03,
            69.17,
            78.77,
            75.467,
            77.44,
            75.435,
            77.42,
            77.32,
            70.99,
            74.86,
            69.36,
            71.65899999999998,
            71.38,
            73.64,
            77.57,
            78.16,
            78.03,
            66.146,
            76.42
           ],
           "yaxis": "y"
          },
          {
           "hovertemplate": "continent=Africa<br>year=1992<br>gdpPercap=%{x}<br>lifeExp=%{y}<br>pop=%{marker.size}<extra></extra>",
           "ids": [
            "Algeria",
            "Angola",
            "Benin",
            "Botswana",
            "Burkina Faso",
            "Burundi",
            "Cameroon",
            "Central African Republic",
            "Chad",
            "Comoros",
            "Congo, Dem. Rep.",
            "Congo, Rep.",
            "Cote d'Ivoire",
            "Djibouti",
            "Egypt",
            "Equatorial Guinea",
            "Eritrea",
            "Ethiopia",
            "Gabon",
            "Gambia",
            "Ghana",
            "Guinea",
            "Guinea-Bissau",
            "Kenya",
            "Lesotho",
            "Liberia",
            "Libya",
            "Madagascar",
            "Malawi",
            "Mali",
            "Mauritania",
            "Mauritius",
            "Morocco",
            "Mozambique",
            "Namibia",
            "Niger",
            "Nigeria",
            "Reunion",
            "Rwanda",
            "Sao Tome and Principe",
            "Senegal",
            "Sierra Leone",
            "Somalia",
            "South Africa",
            "Sudan",
            "Swaziland",
            "Tanzania",
            "Togo",
            "Tunisia",
            "Uganda",
            "Zambia",
            "Zimbabwe"
           ],
           "legendgroup": "Africa",
           "marker": {
            "color": "#00cc96",
            "size": [
             26298373,
             8735988,
             4981671,
             1342614,
             8878303,
             5809236,
             12467171,
             3265124,
             6429417,
             454429,
             41672143,
             2409073,
             12772596,
             384156,
             59402198,
             387838,
             3668440,
             52088559,
             985739,
             1025384,
             16278738,
             6990574,
             1050938,
             25020539,
             1803195,
             1912974,
             4364501,
             12210395,
             10014249,
             8416215,
             2119465,
             1096202,
             25798239,
             13160731,
             1554253,
             8392818,
             93364244,
             622191,
             7290203,
             125911,
             8307920,
             4260884,
             6099799,
             39964159,
             28227588,
             962344,
             26605473,
             3747553,
             8523077,
             18252190,
             8381163,
             10704340
            ],
            "sizemode": "area",
            "sizeref": 435928.2961983471,
            "symbol": "circle"
           },
           "mode": "markers",
           "name": "Africa",
           "orientation": "v",
           "showlegend": true,
           "type": "scatter",
           "x": [
            5023.216647,
            2627.845685,
            1191.207681,
            7954.111645,
            931.7527731,
            631.6998778,
            1793.1632780000002,
            747.9055252,
            1058.0643,
            1246.90737,
            457.7191807,
            4016.239529,
            1648.073791,
            2377.156192000001,
            3794.755195,
            1132.055034,
            582.8585102000002,
            421.3534653,
            13522.15752,
            665.6244126,
            925.060154,
            794.3484384,
            745.5398706,
            1341.9217210000004,
            977.4862725,
            636.6229191000001,
            9640.138501,
            1040.67619,
            563.2000145,
            739.014375,
            1361.369784,
            6058.253846000001,
            2948.047252,
            410.8968239,
            3804.537999,
            581.182725,
            1619.848217,
            6101.255823,
            737.0685949,
            1428.777814,
            1367.899369,
            1068.696278,
            926.9602964,
            7225.069257999998,
            1492.197043,
            3553.0224,
            825.682454,
            1034.298904,
            4332.720164,
            644.1707968999998,
            1210.884633,
            693.4207856
           ],
           "xaxis": "x",
           "y": [
            67.744,
            40.647,
            53.919,
            62.745,
            50.26,
            44.736,
            54.31399999999999,
            49.396,
            51.724,
            57.93899999999999,
            45.548,
            56.433,
            52.044,
            51.604,
            63.674,
            47.545,
            49.99100000000001,
            48.091,
            61.36600000000001,
            52.644,
            57.50100000000001,
            48.576,
            43.26600000000001,
            59.285,
            59.685,
            40.802,
            68.755,
            52.214,
            49.42,
            48.38800000000001,
            58.333,
            69.745,
            65.393,
            44.284,
            61.999,
            47.39100000000001,
            47.472,
            73.615,
            23.599,
            62.742,
            58.19600000000001,
            38.333,
            39.658,
            61.88800000000001,
            53.556,
            58.474,
            50.44,
            58.06100000000001,
            70.001,
            48.825,
            46.1,
            60.377
           ],
           "yaxis": "y"
          },
          {
           "hovertemplate": "continent=Americas<br>year=1992<br>gdpPercap=%{x}<br>lifeExp=%{y}<br>pop=%{marker.size}<extra></extra>",
           "ids": [
            "Argentina",
            "Bolivia",
            "Brazil",
            "Canada",
            "Chile",
            "Colombia",
            "Costa Rica",
            "Cuba",
            "Dominican Republic",
            "Ecuador",
            "El Salvador",
            "Guatemala",
            "Haiti",
            "Honduras",
            "Jamaica",
            "Mexico",
            "Nicaragua",
            "Panama",
            "Paraguay",
            "Peru",
            "Puerto Rico",
            "Trinidad and Tobago",
            "United States",
            "Uruguay",
            "Venezuela"
           ],
           "legendgroup": "Americas",
           "marker": {
            "color": "#ab63fa",
            "size": [
             33958947,
             6893451,
             155975974,
             28523502,
             13572994,
             34202721,
             3173216,
             10723260,
             7351181,
             10748394,
             5274649,
             8486949,
             6326682,
             5077347,
             2378618,
             88111030,
             4017939,
             2484997,
             4483945,
             22430449,
             3585176,
             1183669,
             256894189,
             3149262,
             20265563
            ],
            "sizemode": "area",
            "sizeref": 435928.2961983471,
            "symbol": "circle"
           },
           "mode": "markers",
           "name": "Americas",
           "orientation": "v",
           "showlegend": true,
           "type": "scatter",
           "x": [
            9308.41871,
            2961.699694,
            6950.283020999998,
            26342.88426,
            7596.125964,
            5444.648617,
            6160.416317,
            5592.843963,
            3044.214214,
            7103.702595000002,
            4444.2317,
            4439.45084,
            1456.309517,
            3081.694603,
            7404.923685,
            9472.384295,
            2170.151724,
            6618.74305,
            4196.411078,
            4446.380924,
            14641.58711,
            7370.990932,
            32003.93224,
            8137.004775,
            10733.92631
           ],
           "xaxis": "x",
           "y": [
            71.868,
            59.957,
            67.057,
            77.95,
            74.126,
            68.421,
            75.71300000000002,
            74.414,
            68.457,
            69.613,
            66.798,
            63.37300000000001,
            55.089,
            66.399,
            71.766,
            71.455,
            65.843,
            72.462,
            68.225,
            66.458,
            73.911,
            69.862,
            76.09,
            72.752,
            71.15
           ],
           "yaxis": "y"
          },
          {
           "hovertemplate": "continent=Oceania<br>year=1992<br>gdpPercap=%{x}<br>lifeExp=%{y}<br>pop=%{marker.size}<extra></extra>",
           "ids": [
            "Australia",
            "New Zealand"
           ],
           "legendgroup": "Oceania",
           "marker": {
            "color": "#FFA15A",
            "size": [
             17481977,
             3437674
            ],
            "sizemode": "area",
            "sizeref": 435928.2961983471,
            "symbol": "circle"
           },
           "mode": "markers",
           "name": "Oceania",
           "orientation": "v",
           "showlegend": true,
           "type": "scatter",
           "x": [
            23424.76683,
            18363.32494
           ],
           "xaxis": "x",
           "y": [
            77.56,
            76.33
           ],
           "yaxis": "y"
          }
         ],
         "name": "1992"
        },
        {
         "data": [
          {
           "hovertemplate": "continent=Asia<br>year=1997<br>gdpPercap=%{x}<br>lifeExp=%{y}<br>pop=%{marker.size}<extra></extra>",
           "ids": [
            "Afghanistan",
            "Bahrain",
            "Bangladesh",
            "Cambodia",
            "China",
            "Hong Kong, China",
            "India",
            "Indonesia",
            "Iran",
            "Iraq",
            "Israel",
            "Japan",
            "Jordan",
            "Korea, Dem. Rep.",
            "Korea, Rep.",
            "Kuwait",
            "Lebanon",
            "Malaysia",
            "Mongolia",
            "Myanmar",
            "Nepal",
            "Oman",
            "Pakistan",
            "Philippines",
            "Saudi Arabia",
            "Singapore",
            "Sri Lanka",
            "Syria",
            "Taiwan",
            "Thailand",
            "Vietnam",
            "West Bank and Gaza",
            "Yemen, Rep."
           ],
           "legendgroup": "Asia",
           "marker": {
            "color": "#636efa",
            "size": [
             22227415,
             598561,
             123315288,
             11782962,
             1230075000,
             6495918,
             959000000,
             199278000,
             63327987,
             20775703,
             5531387,
             125956499,
             4526235,
             21585105,
             46173816,
             1765345,
             3430388,
             20476091,
             2494803,
             43247867,
             23001113,
             2283635,
             135564834,
             75012988,
             21229759,
             3802309,
             18698655,
             15081016,
             21628605,
             60216677,
             76048996,
             2826046,
             15826497
            ],
            "sizemode": "area",
            "sizeref": 435928.2961983471,
            "symbol": "circle"
           },
           "mode": "markers",
           "name": "Asia",
           "orientation": "v",
           "showlegend": true,
           "type": "scatter",
           "x": [
            635.341351,
            20292.01679,
            972.7700352,
            734.28517,
            2289.234136,
            28377.63219,
            1458.817442,
            3119.335603,
            8263.590301,
            3076.239795,
            20896.60924,
            28816.58499,
            3645.379572,
            1690.756814,
            15993.52796,
            40300.61996,
            8754.96385,
            10132.90964,
            1902.2521,
            415,
            1010.892138,
            19702.05581,
            2049.3505210000008,
            2536.534925,
            20586.69019,
            33519.4766,
            2664.477257,
            4014.238972,
            20206.82098,
            5852.625497,
            1385.896769,
            7110.667619,
            2117.484526
           ],
           "xaxis": "x",
           "y": [
            41.76300000000001,
            73.925,
            59.412,
            56.534,
            70.426,
            80,
            61.765,
            66.041,
            68.042,
            58.81100000000001,
            78.26899999999998,
            80.69,
            69.77199999999999,
            67.727,
            74.64699999999998,
            76.156,
            70.265,
            71.938,
            63.625,
            60.328,
            59.426,
            72.499,
            61.81800000000001,
            68.564,
            70.533,
            77.158,
            70.457,
            71.527,
            75.25,
            67.521,
            70.672,
            71.096,
            58.02
           ],
           "yaxis": "y"
          },
          {
           "hovertemplate": "continent=Europe<br>year=1997<br>gdpPercap=%{x}<br>lifeExp=%{y}<br>pop=%{marker.size}<extra></extra>",
           "ids": [
            "Albania",
            "Austria",
            "Belgium",
            "Bosnia and Herzegovina",
            "Bulgaria",
            "Croatia",
            "Czech Republic",
            "Denmark",
            "Finland",
            "France",
            "Germany",
            "Greece",
            "Hungary",
            "Iceland",
            "Ireland",
            "Italy",
            "Montenegro",
            "Netherlands",
            "Norway",
            "Poland",
            "Portugal",
            "Romania",
            "Serbia",
            "Slovak Republic",
            "Slovenia",
            "Spain",
            "Sweden",
            "Switzerland",
            "Turkey",
            "United Kingdom"
           ],
           "legendgroup": "Europe",
           "marker": {
            "color": "#EF553B",
            "size": [
             3428038,
             8069876,
             10199787,
             3607000,
             8066057,
             4444595,
             10300707,
             5283663,
             5134406,
             58623428,
             82011073,
             10502372,
             10244684,
             271192,
             3667233,
             57479469,
             692651,
             15604464,
             4405672,
             38654957,
             10156415,
             22562458,
             10336594,
             5383010,
             2011612,
             39855442,
             8897619,
             7193761,
             63047647,
             58808266
            ],
            "sizemode": "area",
            "sizeref": 435928.2961983471,
            "symbol": "circle"
           },
           "mode": "markers",
           "name": "Europe",
           "orientation": "v",
           "showlegend": true,
           "type": "scatter",
           "x": [
            3193.054604,
            29095.920660000003,
            27561.19663,
            4766.355904,
            5970.38876,
            9875.604515,
            16048.51424,
            29804.34567,
            23723.9502,
            25889.78487,
            27788.88416,
            18747.69814,
            11712.7768,
            28061.099660000003,
            24521.94713,
            24675.02446,
            6465.613349,
            30246.13063,
            41283.16433,
            10159.58368,
            17641.03156,
            7346.547556999999,
            7914.320304000002,
            12126.23065,
            17161.10735,
            20445.29896,
            25266.59499,
            32135.323010000004,
            6601.429915,
            26074.53136
           ],
           "xaxis": "x",
           "y": [
            72.95,
            77.51,
            77.53,
            73.244,
            70.32,
            73.68,
            74.01,
            76.11,
            77.13,
            78.64,
            77.34,
            77.869,
            71.04,
            78.95,
            76.122,
            78.82,
            75.445,
            78.03,
            78.32,
            72.75,
            75.97,
            69.72,
            72.232,
            72.71,
            75.13,
            78.77,
            79.39,
            79.37,
            68.835,
            77.218
           ],
           "yaxis": "y"
          },
          {
           "hovertemplate": "continent=Africa<br>year=1997<br>gdpPercap=%{x}<br>lifeExp=%{y}<br>pop=%{marker.size}<extra></extra>",
           "ids": [
            "Algeria",
            "Angola",
            "Benin",
            "Botswana",
            "Burkina Faso",
            "Burundi",
            "Cameroon",
            "Central African Republic",
            "Chad",
            "Comoros",
            "Congo, Dem. Rep.",
            "Congo, Rep.",
            "Cote d'Ivoire",
            "Djibouti",
            "Egypt",
            "Equatorial Guinea",
            "Eritrea",
            "Ethiopia",
            "Gabon",
            "Gambia",
            "Ghana",
            "Guinea",
            "Guinea-Bissau",
            "Kenya",
            "Lesotho",
            "Liberia",
            "Libya",
            "Madagascar",
            "Malawi",
            "Mali",
            "Mauritania",
            "Mauritius",
            "Morocco",
            "Mozambique",
            "Namibia",
            "Niger",
            "Nigeria",
            "Reunion",
            "Rwanda",
            "Sao Tome and Principe",
            "Senegal",
            "Sierra Leone",
            "Somalia",
            "South Africa",
            "Sudan",
            "Swaziland",
            "Tanzania",
            "Togo",
            "Tunisia",
            "Uganda",
            "Zambia",
            "Zimbabwe"
           ],
           "legendgroup": "Africa",
           "marker": {
            "color": "#00cc96",
            "size": [
             29072015,
             9875024,
             6066080,
             1536536,
             10352843,
             6121610,
             14195809,
             3696513,
             7562011,
             527982,
             47798986,
             2800947,
             14625967,
             417908,
             66134291,
             439971,
             4058319,
             59861301,
             1126189,
             1235767,
             18418288,
             8048834,
             1193708,
             28263827,
             1982823,
             2200725,
             4759670,
             14165114,
             10419991,
             9384984,
             2444741,
             1149818,
             28529501,
             16603334,
             1774766,
             9666252,
             106207839,
             684810,
             7212583,
             145608,
             9535314,
             4578212,
             6633514,
             42835005,
             32160729,
             1054486,
             30686889,
             4320890,
             9231669,
             21210254,
             9417789,
             11404948
            ],
            "sizemode": "area",
            "sizeref": 435928.2961983471,
            "symbol": "circle"
           },
           "mode": "markers",
           "name": "Africa",
           "orientation": "v",
           "showlegend": true,
           "type": "scatter",
           "x": [
            4797.295051,
            2277.140884,
            1232.975292,
            8647.142313,
            946.2949618,
            463.1151478,
            1694.337469,
            740.5063317,
            1004.961353,
            1173.618235,
            312.188423,
            3484.164376,
            1786.265407,
            1895.016984,
            4173.181797,
            2814.480755,
            913.47079,
            515.8894013,
            14722.841880000002,
            653.7301704,
            1005.245812,
            869.4497667999998,
            796.6644681,
            1360.4850210000004,
            1186.147994,
            609.1739508,
            9467.446056,
            986.2958956,
            692.2758102999999,
            790.2579846,
            1483.136136,
            7425.705295000002,
            2982.101858,
            472.34607710000006,
            3899.52426,
            580.3052092,
            1624.941275,
            6071.941411,
            589.9445051,
            1339.076036,
            1392.368347,
            574.6481576,
            930.5964284,
            7479.188244,
            1632.2107640000004,
            3876.76846,
            789.1862231,
            982.2869243,
            4876.798614,
            816.559081,
            1071.353818,
            792.4499602999998
           ],
           "xaxis": "x",
           "y": [
            69.152,
            40.963,
            54.777,
            52.556,
            50.324,
            45.326,
            52.199,
            46.066,
            51.573,
            60.66,
            42.587,
            52.962,
            47.99100000000001,
            53.157,
            67.217,
            48.245,
            53.378,
            49.402,
            60.46100000000001,
            55.861,
            58.556,
            51.455,
            44.87300000000001,
            54.407,
            55.558,
            42.221,
            71.555,
            54.978,
            47.495,
            49.903,
            60.43,
            70.736,
            67.66,
            46.344,
            58.909,
            51.313,
            47.464,
            74.77199999999998,
            36.087,
            63.306,
            60.187,
            39.897,
            43.795,
            60.236,
            55.37300000000001,
            54.289,
            48.466,
            58.39,
            71.973,
            44.578,
            40.238,
            46.809
           ],
           "yaxis": "y"
          },
          {
           "hovertemplate": "continent=Americas<br>year=1997<br>gdpPercap=%{x}<br>lifeExp=%{y}<br>pop=%{marker.size}<extra></extra>",
           "ids": [
            "Argentina",
            "Bolivia",
            "Brazil",
            "Canada",
            "Chile",
            "Colombia",
            "Costa Rica",
            "Cuba",
            "Dominican Republic",
            "Ecuador",
            "El Salvador",
            "Guatemala",
            "Haiti",
            "Honduras",
            "Jamaica",
            "Mexico",
            "Nicaragua",
            "Panama",
            "Paraguay",
            "Peru",
            "Puerto Rico",
            "Trinidad and Tobago",
            "United States",
            "Uruguay",
            "Venezuela"
           ],
           "legendgroup": "Americas",
           "marker": {
            "color": "#ab63fa",
            "size": [
             36203463,
             7693188,
             168546719,
             30305843,
             14599929,
             37657830,
             3518107,
             10983007,
             7992357,
             11911819,
             5783439,
             9803875,
             6913545,
             5867957,
             2531311,
             95895146,
             4609572,
             2734531,
             5154123,
             24748122,
             3759430,
             1138101,
             272911760,
             3262838,
             22374398
            ],
            "sizemode": "area",
            "sizeref": 435928.2961983471,
            "symbol": "circle"
           },
           "mode": "markers",
           "name": "Americas",
           "orientation": "v",
           "showlegend": true,
           "type": "scatter",
           "x": [
            10967.28195,
            3326.143191,
            7957.980823999998,
            28954.92589,
            10118.05318,
            6117.361746000001,
            6677.045314,
            5431.990415,
            3614.101285,
            7429.4558769999985,
            5154.825496,
            4684.313807,
            1341.726931,
            3160.454906,
            7121.924704000001,
            9767.29753,
            2253.023004,
            7113.692252,
            4247.400261,
            5838.347657,
            16999.4333,
            8792.573126000001,
            35767.43303,
            9230.240708,
            10165.49518
           ],
           "xaxis": "x",
           "y": [
            73.275,
            62.05,
            69.388,
            78.61,
            75.816,
            70.313,
            77.26,
            76.15100000000002,
            69.957,
            72.312,
            69.535,
            66.322,
            56.67100000000001,
            67.65899999999999,
            72.262,
            73.67,
            68.426,
            73.738,
            69.4,
            68.38600000000001,
            74.917,
            69.465,
            76.81,
            74.223,
            72.146
           ],
           "yaxis": "y"
          },
          {
           "hovertemplate": "continent=Oceania<br>year=1997<br>gdpPercap=%{x}<br>lifeExp=%{y}<br>pop=%{marker.size}<extra></extra>",
           "ids": [
            "Australia",
            "New Zealand"
           ],
           "legendgroup": "Oceania",
           "marker": {
            "color": "#FFA15A",
            "size": [
             18565243,
             3676187
            ],
            "sizemode": "area",
            "sizeref": 435928.2961983471,
            "symbol": "circle"
           },
           "mode": "markers",
           "name": "Oceania",
           "orientation": "v",
           "showlegend": true,
           "type": "scatter",
           "x": [
            26997.93657,
            21050.41377
           ],
           "xaxis": "x",
           "y": [
            78.83,
            77.55
           ],
           "yaxis": "y"
          }
         ],
         "name": "1997"
        },
        {
         "data": [
          {
           "hovertemplate": "continent=Asia<br>year=2002<br>gdpPercap=%{x}<br>lifeExp=%{y}<br>pop=%{marker.size}<extra></extra>",
           "ids": [
            "Afghanistan",
            "Bahrain",
            "Bangladesh",
            "Cambodia",
            "China",
            "Hong Kong, China",
            "India",
            "Indonesia",
            "Iran",
            "Iraq",
            "Israel",
            "Japan",
            "Jordan",
            "Korea, Dem. Rep.",
            "Korea, Rep.",
            "Kuwait",
            "Lebanon",
            "Malaysia",
            "Mongolia",
            "Myanmar",
            "Nepal",
            "Oman",
            "Pakistan",
            "Philippines",
            "Saudi Arabia",
            "Singapore",
            "Sri Lanka",
            "Syria",
            "Taiwan",
            "Thailand",
            "Vietnam",
            "West Bank and Gaza",
            "Yemen, Rep."
           ],
           "legendgroup": "Asia",
           "marker": {
            "color": "#636efa",
            "size": [
             25268405,
             656397,
             135656790,
             12926707,
             1280400000,
             6762476,
             1034172547,
             211060000,
             66907826,
             24001816,
             6029529,
             127065841,
             5307470,
             22215365,
             47969150,
             2111561,
             3677780,
             22662365,
             2674234,
             45598081,
             25873917,
             2713462,
             153403524,
             82995088,
             24501530,
             4197776,
             19576783,
             17155814,
             22454239,
             62806748,
             80908147,
             3389578,
             18701257
            ],
            "sizemode": "area",
            "sizeref": 435928.2961983471,
            "symbol": "circle"
           },
           "mode": "markers",
           "name": "Asia",
           "orientation": "v",
           "showlegend": true,
           "type": "scatter",
           "x": [
            726.7340548,
            23403.55927,
            1136.3904300000004,
            896.2260152999999,
            3119.280896,
            30209.015160000006,
            1746.769454,
            2873.91287,
            9240.761975,
            4390.717312,
            21905.59514,
            28604.5919,
            3844.917194,
            1646.758151,
            19233.98818,
            35110.10566,
            9313.93883,
            10206.97794,
            2140.739323,
            611,
            1057.206311,
            19774.83687,
            2092.712441,
            2650.921068,
            19014.54118,
            36023.1054,
            3015.378833,
            4090.925331,
            23235.42329,
            5913.187529,
            1764.456677,
            4515.487575,
            2234.820827
           ],
           "xaxis": "x",
           "y": [
            42.129,
            74.795,
            62.01300000000001,
            56.752,
            72.028,
            81.495,
            62.879,
            68.58800000000001,
            69.45100000000001,
            57.04600000000001,
            79.696,
            82,
            71.263,
            66.66199999999999,
            77.045,
            76.904,
            71.028,
            73.044,
            65.033,
            59.908,
            61.34,
            74.193,
            63.61,
            70.303,
            71.626,
            78.77,
            70.815,
            73.053,
            76.99,
            68.564,
            73.017,
            72.37,
            60.308
           ],
           "yaxis": "y"
          },
          {
           "hovertemplate": "continent=Europe<br>year=2002<br>gdpPercap=%{x}<br>lifeExp=%{y}<br>pop=%{marker.size}<extra></extra>",
           "ids": [
            "Albania",
            "Austria",
            "Belgium",
            "Bosnia and Herzegovina",
            "Bulgaria",
            "Croatia",
            "Czech Republic",
            "Denmark",
            "Finland",
            "France",
            "Germany",
            "Greece",
            "Hungary",
            "Iceland",
            "Ireland",
            "Italy",
            "Montenegro",
            "Netherlands",
            "Norway",
            "Poland",
            "Portugal",
            "Romania",
            "Serbia",
            "Slovak Republic",
            "Slovenia",
            "Spain",
            "Sweden",
            "Switzerland",
            "Turkey",
            "United Kingdom"
           ],
           "legendgroup": "Europe",
           "marker": {
            "color": "#EF553B",
            "size": [
             3508512,
             8148312,
             10311970,
             4165416,
             7661799,
             4481020,
             10256295,
             5374693,
             5193039,
             59925035,
             82350671,
             10603863,
             10083313,
             288030,
             3879155,
             57926999,
             720230,
             16122830,
             4535591,
             38625976,
             10433867,
             22404337,
             10111559,
             5410052,
             2011497,
             40152517,
             8954175,
             7361757,
             67308928,
             59912431
            ],
            "sizemode": "area",
            "sizeref": 435928.2961983471,
            "symbol": "circle"
           },
           "mode": "markers",
           "name": "Europe",
           "orientation": "v",
           "showlegend": true,
           "type": "scatter",
           "x": [
            4604.211737,
            32417.60769,
            30485.88375,
            6018.975239,
            7696.777725,
            11628.38895,
            17596.210219999994,
            32166.50006,
            28204.59057,
            28926.03234,
            30035.80198,
            22514.2548,
            14843.93556,
            31163.20196,
            34077.04939,
            27968.09817,
            6557.194282,
            33724.75778,
            44683.97525,
            12002.23908,
            19970.90787,
            7885.360081,
            7236.075251,
            13638.778369999998,
            20660.01936,
            24835.47166,
            29341.630930000007,
            34480.95771,
            6508.085718,
            29478.99919
           ],
           "xaxis": "x",
           "y": [
            75.65100000000002,
            78.98,
            78.32,
            74.09,
            72.14,
            74.876,
            75.51,
            77.18,
            78.37,
            79.59,
            78.67,
            78.256,
            72.59,
            80.5,
            77.783,
            80.24,
            73.98100000000002,
            78.53,
            79.05,
            74.67,
            77.29,
            71.322,
            73.21300000000002,
            73.8,
            76.66,
            79.78,
            80.04,
            80.62,
            70.845,
            78.471
           ],
           "yaxis": "y"
          },
          {
           "hovertemplate": "continent=Africa<br>year=2002<br>gdpPercap=%{x}<br>lifeExp=%{y}<br>pop=%{marker.size}<extra></extra>",
           "ids": [
            "Algeria",
            "Angola",
            "Benin",
            "Botswana",
            "Burkina Faso",
            "Burundi",
            "Cameroon",
            "Central African Republic",
            "Chad",
            "Comoros",
            "Congo, Dem. Rep.",
            "Congo, Rep.",
            "Cote d'Ivoire",
            "Djibouti",
            "Egypt",
            "Equatorial Guinea",
            "Eritrea",
            "Ethiopia",
            "Gabon",
            "Gambia",
            "Ghana",
            "Guinea",
            "Guinea-Bissau",
            "Kenya",
            "Lesotho",
            "Liberia",
            "Libya",
            "Madagascar",
            "Malawi",
            "Mali",
            "Mauritania",
            "Mauritius",
            "Morocco",
            "Mozambique",
            "Namibia",
            "Niger",
            "Nigeria",
            "Reunion",
            "Rwanda",
            "Sao Tome and Principe",
            "Senegal",
            "Sierra Leone",
            "Somalia",
            "South Africa",
            "Sudan",
            "Swaziland",
            "Tanzania",
            "Togo",
            "Tunisia",
            "Uganda",
            "Zambia",
            "Zimbabwe"
           ],
           "legendgroup": "Africa",
           "marker": {
            "color": "#00cc96",
            "size": [
             31287142,
             10866106,
             7026113,
             1630347,
             12251209,
             7021078,
             15929988,
             4048013,
             8835739,
             614382,
             55379852,
             3328795,
             16252726,
             447416,
             73312559,
             495627,
             4414865,
             67946797,
             1299304,
             1457766,
             20550751,
             8807818,
             1332459,
             31386842,
             2046772,
             2814651,
             5368585,
             16473477,
             11824495,
             10580176,
             2828858,
             1200206,
             31167783,
             18473780,
             1972153,
             11140655,
             119901274,
             743981,
             7852401,
             170372,
             10870037,
             5359092,
             7753310,
             44433622,
             37090298,
             1130269,
             34593779,
             4977378,
             9770575,
             24739869,
             10595811,
             11926563
            ],
            "sizemode": "area",
            "sizeref": 435928.2961983471,
            "symbol": "circle"
           },
           "mode": "markers",
           "name": "Africa",
           "orientation": "v",
           "showlegend": true,
           "type": "scatter",
           "x": [
            5288.040382,
            2773.287312,
            1372.877931,
            11003.60508,
            1037.645221,
            446.4035126,
            1934.011449,
            738.6906068,
            1156.18186,
            1075.811558,
            241.1658765,
            3484.06197,
            1648.800823,
            1908.260867,
            4754.604414,
            7703.4959,
            765.3500015,
            530.0535319,
            12521.71392,
            660.5855997,
            1111.9845779999996,
            945.5835837,
            575.7047176,
            1287.514732,
            1275.184575,
            531.4823679,
            9534.677467,
            894.6370822,
            665.4231186000002,
            951.4097518,
            1579.019543,
            9021.815894,
            3258.495584,
            633.6179466,
            4072.324751,
            601.0745012,
            1615.286395,
            6316.1652,
            785.6537647999999,
            1353.09239,
            1519.635262,
            699.4897129999998,
            882.0818218000002,
            7710.946444,
            1993.398314,
            4128.116943,
            899.0742111,
            886.2205765000001,
            5722.895654999998,
            927.7210018,
            1071.6139380000004,
            672.0386227000001
           ],
           "xaxis": "x",
           "y": [
            70.994,
            41.003,
            54.40600000000001,
            46.63399999999999,
            50.65,
            47.36,
            49.856,
            43.308,
            50.525,
            62.974,
            44.966,
            52.97,
            46.832,
            53.37300000000001,
            69.806,
            49.348,
            55.24,
            50.725,
            56.761,
            58.041,
            58.453,
            53.676,
            45.504,
            50.992,
            44.593,
            43.753,
            72.737,
            57.286,
            45.00899999999999,
            51.81800000000001,
            62.247,
            71.954,
            69.615,
            44.026,
            51.479,
            54.496,
            46.608,
            75.744,
            43.413,
            64.337,
            61.6,
            41.012,
            45.93600000000001,
            53.365,
            56.369,
            43.869,
            49.651,
            57.56100000000001,
            73.042,
            47.813,
            39.19300000000001,
            39.989
           ],
           "yaxis": "y"
          },
          {
           "hovertemplate": "continent=Americas<br>year=2002<br>gdpPercap=%{x}<br>lifeExp=%{y}<br>pop=%{marker.size}<extra></extra>",
           "ids": [
            "Argentina",
            "Bolivia",
            "Brazil",
            "Canada",
            "Chile",
            "Colombia",
            "Costa Rica",
            "Cuba",
            "Dominican Republic",
            "Ecuador",
            "El Salvador",
            "Guatemala",
            "Haiti",
            "Honduras",
            "Jamaica",
            "Mexico",
            "Nicaragua",
            "Panama",
            "Paraguay",
            "Peru",
            "Puerto Rico",
            "Trinidad and Tobago",
            "United States",
            "Uruguay",
            "Venezuela"
           ],
           "legendgroup": "Americas",
           "marker": {
            "color": "#ab63fa",
            "size": [
             38331121,
             8445134,
             179914212,
             31902268,
             15497046,
             41008227,
             3834934,
             11226999,
             8650322,
             12921234,
             6353681,
             11178650,
             7607651,
             6677328,
             2664659,
             102479927,
             5146848,
             2990875,
             5884491,
             26769436,
             3859606,
             1101832,
             287675526,
             3363085,
             24287670
            ],
            "sizemode": "area",
            "sizeref": 435928.2961983471,
            "symbol": "circle"
           },
           "mode": "markers",
           "name": "Americas",
           "orientation": "v",
           "showlegend": true,
           "type": "scatter",
           "x": [
            8797.640716,
            3413.26269,
            8131.212843000001,
            33328.96507,
            10778.78385,
            5755.259962,
            7723.447195000002,
            6340.646683,
            4563.808154,
            5773.044512,
            5351.568665999999,
            4858.347495,
            1270.364932,
            3099.72866,
            6994.774861,
            10742.44053,
            2474.548819,
            7356.0319340000015,
            3783.674243,
            5909.020073,
            18855.60618,
            11460.60023,
            39097.09955,
            7727.002004000001,
            8605.047831
           ],
           "xaxis": "x",
           "y": [
            74.34,
            63.883,
            71.006,
            79.77,
            77.86,
            71.682,
            78.123,
            77.158,
            70.847,
            74.173,
            70.734,
            68.97800000000001,
            58.137,
            68.565,
            72.047,
            74.902,
            70.836,
            74.712,
            70.755,
            69.906,
            77.778,
            68.976,
            77.31,
            75.307,
            72.766
           ],
           "yaxis": "y"
          },
          {
           "hovertemplate": "continent=Oceania<br>year=2002<br>gdpPercap=%{x}<br>lifeExp=%{y}<br>pop=%{marker.size}<extra></extra>",
           "ids": [
            "Australia",
            "New Zealand"
           ],
           "legendgroup": "Oceania",
           "marker": {
            "color": "#FFA15A",
            "size": [
             19546792,
             3908037
            ],
            "sizemode": "area",
            "sizeref": 435928.2961983471,
            "symbol": "circle"
           },
           "mode": "markers",
           "name": "Oceania",
           "orientation": "v",
           "showlegend": true,
           "type": "scatter",
           "x": [
            30687.75473,
            23189.80135
           ],
           "xaxis": "x",
           "y": [
            80.37,
            79.11
           ],
           "yaxis": "y"
          }
         ],
         "name": "2002"
        },
        {
         "data": [
          {
           "hovertemplate": "continent=Asia<br>year=2007<br>gdpPercap=%{x}<br>lifeExp=%{y}<br>pop=%{marker.size}<extra></extra>",
           "ids": [
            "Afghanistan",
            "Bahrain",
            "Bangladesh",
            "Cambodia",
            "China",
            "Hong Kong, China",
            "India",
            "Indonesia",
            "Iran",
            "Iraq",
            "Israel",
            "Japan",
            "Jordan",
            "Korea, Dem. Rep.",
            "Korea, Rep.",
            "Kuwait",
            "Lebanon",
            "Malaysia",
            "Mongolia",
            "Myanmar",
            "Nepal",
            "Oman",
            "Pakistan",
            "Philippines",
            "Saudi Arabia",
            "Singapore",
            "Sri Lanka",
            "Syria",
            "Taiwan",
            "Thailand",
            "Vietnam",
            "West Bank and Gaza",
            "Yemen, Rep."
           ],
           "legendgroup": "Asia",
           "marker": {
            "color": "#636efa",
            "size": [
             31889923,
             708573,
             150448339,
             14131858,
             1318683096,
             6980412,
             1110396331,
             223547000,
             69453570,
             27499638,
             6426679,
             127467972,
             6053193,
             23301725,
             49044790,
             2505559,
             3921278,
             24821286,
             2874127,
             47761980,
             28901790,
             3204897,
             169270617,
             91077287,
             27601038,
             4553009,
             20378239,
             19314747,
             23174294,
             65068149,
             85262356,
             4018332,
             22211743
            ],
            "sizemode": "area",
            "sizeref": 435928.2961983471,
            "symbol": "circle"
           },
           "mode": "markers",
           "name": "Asia",
           "orientation": "v",
           "showlegend": true,
           "type": "scatter",
           "x": [
            974.5803384,
            29796.04834,
            1391.253792,
            1713.778686,
            4959.114854,
            39724.97867,
            2452.210407,
            3540.651564,
            11605.71449,
            4471.061906,
            25523.2771,
            31656.06806,
            4519.461171,
            1593.06548,
            23348.139730000006,
            47306.98978,
            10461.05868,
            12451.6558,
            3095.7722710000007,
            944,
            1091.359778,
            22316.19287,
            2605.94758,
            3190.481016,
            21654.83194,
            47143.17964,
            3970.095407,
            4184.548089,
            28718.27684,
            7458.396326999998,
            2441.576404,
            3025.349798,
            2280.769906
           ],
           "xaxis": "x",
           "y": [
            43.828,
            75.635,
            64.062,
            59.723,
            72.961,
            82.208,
            64.69800000000001,
            70.65,
            70.964,
            59.545,
            80.745,
            82.603,
            72.535,
            67.297,
            78.623,
            77.58800000000002,
            71.993,
            74.241,
            66.803,
            62.069,
            63.785,
            75.64,
            65.483,
            71.688,
            72.777,
            79.972,
            72.396,
            74.143,
            78.4,
            70.616,
            74.249,
            73.422,
            62.698
           ],
           "yaxis": "y"
          },
          {
           "hovertemplate": "continent=Europe<br>year=2007<br>gdpPercap=%{x}<br>lifeExp=%{y}<br>pop=%{marker.size}<extra></extra>",
           "ids": [
            "Albania",
            "Austria",
            "Belgium",
            "Bosnia and Herzegovina",
            "Bulgaria",
            "Croatia",
            "Czech Republic",
            "Denmark",
            "Finland",
            "France",
            "Germany",
            "Greece",
            "Hungary",
            "Iceland",
            "Ireland",
            "Italy",
            "Montenegro",
            "Netherlands",
            "Norway",
            "Poland",
            "Portugal",
            "Romania",
            "Serbia",
            "Slovak Republic",
            "Slovenia",
            "Spain",
            "Sweden",
            "Switzerland",
            "Turkey",
            "United Kingdom"
           ],
           "legendgroup": "Europe",
           "marker": {
            "color": "#EF553B",
            "size": [
             3600523,
             8199783,
             10392226,
             4552198,
             7322858,
             4493312,
             10228744,
             5468120,
             5238460,
             61083916,
             82400996,
             10706290,
             9956108,
             301931,
             4109086,
             58147733,
             684736,
             16570613,
             4627926,
             38518241,
             10642836,
             22276056,
             10150265,
             5447502,
             2009245,
             40448191,
             9031088,
             7554661,
             71158647,
             60776238
            ],
            "sizemode": "area",
            "sizeref": 435928.2961983471,
            "symbol": "circle"
           },
           "mode": "markers",
           "name": "Europe",
           "orientation": "v",
           "showlegend": true,
           "type": "scatter",
           "x": [
            5937.029525999998,
            36126.4927,
            33692.60508,
            7446.298803,
            10680.79282,
            14619.222719999998,
            22833.30851,
            35278.41874,
            33207.0844,
            30470.0167,
            32170.37442,
            27538.41188,
            18008.94444,
            36180.78919,
            40675.99635,
            28569.7197,
            9253.896111,
            36797.93332,
            49357.19017,
            15389.924680000002,
            20509.64777,
            10808.47561,
            9786.534714,
            18678.31435,
            25768.25759,
            28821.0637,
            33859.74835,
            37506.41907,
            8458.276384,
            33203.26128
           ],
           "xaxis": "x",
           "y": [
            76.423,
            79.829,
            79.441,
            74.852,
            73.005,
            75.748,
            76.486,
            78.332,
            79.313,
            80.657,
            79.406,
            79.483,
            73.33800000000002,
            81.757,
            78.885,
            80.546,
            74.543,
            79.762,
            80.196,
            75.563,
            78.098,
            72.476,
            74.002,
            74.663,
            77.926,
            80.941,
            80.884,
            81.70100000000002,
            71.777,
            79.425
           ],
           "yaxis": "y"
          },
          {
           "hovertemplate": "continent=Africa<br>year=2007<br>gdpPercap=%{x}<br>lifeExp=%{y}<br>pop=%{marker.size}<extra></extra>",
           "ids": [
            "Algeria",
            "Angola",
            "Benin",
            "Botswana",
            "Burkina Faso",
            "Burundi",
            "Cameroon",
            "Central African Republic",
            "Chad",
            "Comoros",
            "Congo, Dem. Rep.",
            "Congo, Rep.",
            "Cote d'Ivoire",
            "Djibouti",
            "Egypt",
            "Equatorial Guinea",
            "Eritrea",
            "Ethiopia",
            "Gabon",
            "Gambia",
            "Ghana",
            "Guinea",
            "Guinea-Bissau",
            "Kenya",
            "Lesotho",
            "Liberia",
            "Libya",
            "Madagascar",
            "Malawi",
            "Mali",
            "Mauritania",
            "Mauritius",
            "Morocco",
            "Mozambique",
            "Namibia",
            "Niger",
            "Nigeria",
            "Reunion",
            "Rwanda",
            "Sao Tome and Principe",
            "Senegal",
            "Sierra Leone",
            "Somalia",
            "South Africa",
            "Sudan",
            "Swaziland",
            "Tanzania",
            "Togo",
            "Tunisia",
            "Uganda",
            "Zambia",
            "Zimbabwe"
           ],
           "legendgroup": "Africa",
           "marker": {
            "color": "#00cc96",
            "size": [
             33333216,
             12420476,
             8078314,
             1639131,
             14326203,
             8390505,
             17696293,
             4369038,
             10238807,
             710960,
             64606759,
             3800610,
             18013409,
             496374,
             80264543,
             551201,
             4906585,
             76511887,
             1454867,
             1688359,
             22873338,
             9947814,
             1472041,
             35610177,
             2012649,
             3193942,
             6036914,
             19167654,
             13327079,
             12031795,
             3270065,
             1250882,
             33757175,
             19951656,
             2055080,
             12894865,
             135031164,
             798094,
             8860588,
             199579,
             12267493,
             6144562,
             9118773,
             43997828,
             42292929,
             1133066,
             38139640,
             5701579,
             10276158,
             29170398,
             11746035,
             12311143
            ],
            "sizemode": "area",
            "sizeref": 435928.2961983471,
            "symbol": "circle"
           },
           "mode": "markers",
           "name": "Africa",
           "orientation": "v",
           "showlegend": true,
           "type": "scatter",
           "x": [
            6223.367465,
            4797.231267,
            1441.284873,
            12569.85177,
            1217.032994,
            430.0706916,
            2042.09524,
            706.016537,
            1704.063724,
            986.1478792,
            277.5518587,
            3632.557798,
            1544.750112,
            2082.4815670000007,
            5581.180998,
            12154.08975,
            641.3695236000002,
            690.8055759,
            13206.48452,
            752.7497265,
            1327.60891,
            942.6542111,
            579.2317429999998,
            1463.249282,
            1569.331442,
            414.5073415,
            12057.49928,
            1044.770126,
            759.3499101,
            1042.581557,
            1803.151496,
            10956.99112,
            3820.17523,
            823.6856205,
            4811.060429,
            619.6768923999998,
            2013.977305,
            7670.122558,
            863.0884639000002,
            1598.435089,
            1712.472136,
            862.5407561000002,
            926.1410683,
            9269.657808,
            2602.394995,
            4513.480643,
            1107.482182,
            882.9699437999999,
            7092.923025,
            1056.380121,
            1271.211593,
            469.70929810000007
           ],
           "xaxis": "x",
           "y": [
            72.301,
            42.731,
            56.728,
            50.728,
            52.295,
            49.58,
            50.43,
            44.74100000000001,
            50.651,
            65.152,
            46.462,
            55.322,
            48.328,
            54.791,
            71.33800000000002,
            51.57899999999999,
            58.04,
            52.947,
            56.735,
            59.448,
            60.022,
            56.007,
            46.38800000000001,
            54.11,
            42.592,
            45.678,
            73.952,
            59.44300000000001,
            48.303,
            54.467,
            64.164,
            72.801,
            71.164,
            42.082,
            52.90600000000001,
            56.867,
            46.859,
            76.442,
            46.242,
            65.528,
            63.062,
            42.56800000000001,
            48.159,
            49.339,
            58.556,
            39.613,
            52.517,
            58.42,
            73.923,
            51.542,
            42.38399999999999,
            43.487
           ],
           "yaxis": "y"
          },
          {
           "hovertemplate": "continent=Americas<br>year=2007<br>gdpPercap=%{x}<br>lifeExp=%{y}<br>pop=%{marker.size}<extra></extra>",
           "ids": [
            "Argentina",
            "Bolivia",
            "Brazil",
            "Canada",
            "Chile",
            "Colombia",
            "Costa Rica",
            "Cuba",
            "Dominican Republic",
            "Ecuador",
            "El Salvador",
            "Guatemala",
            "Haiti",
            "Honduras",
            "Jamaica",
            "Mexico",
            "Nicaragua",
            "Panama",
            "Paraguay",
            "Peru",
            "Puerto Rico",
            "Trinidad and Tobago",
            "United States",
            "Uruguay",
            "Venezuela"
           ],
           "legendgroup": "Americas",
           "marker": {
            "color": "#ab63fa",
            "size": [
             40301927,
             9119152,
             190010647,
             33390141,
             16284741,
             44227550,
             4133884,
             11416987,
             9319622,
             13755680,
             6939688,
             12572928,
             8502814,
             7483763,
             2780132,
             108700891,
             5675356,
             3242173,
             6667147,
             28674757,
             3942491,
             1056608,
             301139947,
             3447496,
             26084662
            ],
            "sizemode": "area",
            "sizeref": 435928.2961983471,
            "symbol": "circle"
           },
           "mode": "markers",
           "name": "Americas",
           "orientation": "v",
           "showlegend": true,
           "type": "scatter",
           "x": [
            12779.37964,
            3822.137084,
            9065.800825,
            36319.23501,
            13171.63885,
            7006.580419,
            9645.06142,
            8948.102923,
            6025.3747520000015,
            6873.262326000001,
            5728.353514,
            5186.050003,
            1201.637154,
            3548.3308460000007,
            7320.8802620000015,
            11977.57496,
            2749.320965,
            9809.185636,
            4172.838464,
            7408.905561,
            19328.70901,
            18008.50924,
            42951.65309,
            10611.46299,
            11415.80569
           ],
           "xaxis": "x",
           "y": [
            75.32,
            65.554,
            72.39,
            80.653,
            78.553,
            72.889,
            78.782,
            78.273,
            72.235,
            74.994,
            71.878,
            70.259,
            60.916,
            70.19800000000001,
            72.567,
            76.195,
            72.899,
            75.53699999999998,
            71.752,
            71.421,
            78.74600000000002,
            69.819,
            78.242,
            76.384,
            73.747
           ],
           "yaxis": "y"
          },
          {
           "hovertemplate": "continent=Oceania<br>year=2007<br>gdpPercap=%{x}<br>lifeExp=%{y}<br>pop=%{marker.size}<extra></extra>",
           "ids": [
            "Australia",
            "New Zealand"
           ],
           "legendgroup": "Oceania",
           "marker": {
            "color": "#FFA15A",
            "size": [
             20434176,
             4115771
            ],
            "sizemode": "area",
            "sizeref": 435928.2961983471,
            "symbol": "circle"
           },
           "mode": "markers",
           "name": "Oceania",
           "orientation": "v",
           "showlegend": true,
           "type": "scatter",
           "x": [
            34435.367439999995,
            25185.00911
           ],
           "xaxis": "x",
           "y": [
            81.235,
            80.204
           ],
           "yaxis": "y"
          }
         ],
         "name": "2007"
        }
       ],
       "layout": {
        "legend": {
         "itemsizing": "constant",
         "title": {
          "text": "continent"
         },
         "tracegroupgap": 0
        },
        "margin": {
         "t": 60
        },
        "sliders": [
         {
          "active": 0,
          "currentvalue": {
           "prefix": "year="
          },
          "len": 0.9,
          "pad": {
           "b": 10,
           "t": 60
          },
          "steps": [
           {
            "args": [
             [
              "1952"
             ],
             {
              "frame": {
               "duration": 0,
               "redraw": false
              },
              "fromcurrent": true,
              "mode": "immediate",
              "transition": {
               "duration": 0,
               "easing": "linear"
              }
             }
            ],
            "label": "1952",
            "method": "animate"
           },
           {
            "args": [
             [
              "1957"
             ],
             {
              "frame": {
               "duration": 0,
               "redraw": false
              },
              "fromcurrent": true,
              "mode": "immediate",
              "transition": {
               "duration": 0,
               "easing": "linear"
              }
             }
            ],
            "label": "1957",
            "method": "animate"
           },
           {
            "args": [
             [
              "1962"
             ],
             {
              "frame": {
               "duration": 0,
               "redraw": false
              },
              "fromcurrent": true,
              "mode": "immediate",
              "transition": {
               "duration": 0,
               "easing": "linear"
              }
             }
            ],
            "label": "1962",
            "method": "animate"
           },
           {
            "args": [
             [
              "1967"
             ],
             {
              "frame": {
               "duration": 0,
               "redraw": false
              },
              "fromcurrent": true,
              "mode": "immediate",
              "transition": {
               "duration": 0,
               "easing": "linear"
              }
             }
            ],
            "label": "1967",
            "method": "animate"
           },
           {
            "args": [
             [
              "1972"
             ],
             {
              "frame": {
               "duration": 0,
               "redraw": false
              },
              "fromcurrent": true,
              "mode": "immediate",
              "transition": {
               "duration": 0,
               "easing": "linear"
              }
             }
            ],
            "label": "1972",
            "method": "animate"
           },
           {
            "args": [
             [
              "1977"
             ],
             {
              "frame": {
               "duration": 0,
               "redraw": false
              },
              "fromcurrent": true,
              "mode": "immediate",
              "transition": {
               "duration": 0,
               "easing": "linear"
              }
             }
            ],
            "label": "1977",
            "method": "animate"
           },
           {
            "args": [
             [
              "1982"
             ],
             {
              "frame": {
               "duration": 0,
               "redraw": false
              },
              "fromcurrent": true,
              "mode": "immediate",
              "transition": {
               "duration": 0,
               "easing": "linear"
              }
             }
            ],
            "label": "1982",
            "method": "animate"
           },
           {
            "args": [
             [
              "1987"
             ],
             {
              "frame": {
               "duration": 0,
               "redraw": false
              },
              "fromcurrent": true,
              "mode": "immediate",
              "transition": {
               "duration": 0,
               "easing": "linear"
              }
             }
            ],
            "label": "1987",
            "method": "animate"
           },
           {
            "args": [
             [
              "1992"
             ],
             {
              "frame": {
               "duration": 0,
               "redraw": false
              },
              "fromcurrent": true,
              "mode": "immediate",
              "transition": {
               "duration": 0,
               "easing": "linear"
              }
             }
            ],
            "label": "1992",
            "method": "animate"
           },
           {
            "args": [
             [
              "1997"
             ],
             {
              "frame": {
               "duration": 0,
               "redraw": false
              },
              "fromcurrent": true,
              "mode": "immediate",
              "transition": {
               "duration": 0,
               "easing": "linear"
              }
             }
            ],
            "label": "1997",
            "method": "animate"
           },
           {
            "args": [
             [
              "2002"
             ],
             {
              "frame": {
               "duration": 0,
               "redraw": false
              },
              "fromcurrent": true,
              "mode": "immediate",
              "transition": {
               "duration": 0,
               "easing": "linear"
              }
             }
            ],
            "label": "2002",
            "method": "animate"
           },
           {
            "args": [
             [
              "2007"
             ],
             {
              "frame": {
               "duration": 0,
               "redraw": false
              },
              "fromcurrent": true,
              "mode": "immediate",
              "transition": {
               "duration": 0,
               "easing": "linear"
              }
             }
            ],
            "label": "2007",
            "method": "animate"
           }
          ],
          "x": 0.1,
          "xanchor": "left",
          "y": 0,
          "yanchor": "top"
         }
        ],
        "template": {
         "data": {
          "bar": [
           {
            "error_x": {
             "color": "#2a3f5f"
            },
            "error_y": {
             "color": "#2a3f5f"
            },
            "marker": {
             "line": {
              "color": "#E5ECF6",
              "width": 0.5
             },
             "pattern": {
              "fillmode": "overlay",
              "size": 10,
              "solidity": 0.2
             }
            },
            "type": "bar"
           }
          ],
          "barpolar": [
           {
            "marker": {
             "line": {
              "color": "#E5ECF6",
              "width": 0.5
             },
             "pattern": {
              "fillmode": "overlay",
              "size": 10,
              "solidity": 0.2
             }
            },
            "type": "barpolar"
           }
          ],
          "carpet": [
           {
            "aaxis": {
             "endlinecolor": "#2a3f5f",
             "gridcolor": "white",
             "linecolor": "white",
             "minorgridcolor": "white",
             "startlinecolor": "#2a3f5f"
            },
            "baxis": {
             "endlinecolor": "#2a3f5f",
             "gridcolor": "white",
             "linecolor": "white",
             "minorgridcolor": "white",
             "startlinecolor": "#2a3f5f"
            },
            "type": "carpet"
           }
          ],
          "choropleth": [
           {
            "colorbar": {
             "outlinewidth": 0,
             "ticks": ""
            },
            "type": "choropleth"
           }
          ],
          "contour": [
           {
            "colorbar": {
             "outlinewidth": 0,
             "ticks": ""
            },
            "colorscale": [
             [
              0,
              "#0d0887"
             ],
             [
              0.1111111111111111,
              "#46039f"
             ],
             [
              0.2222222222222222,
              "#7201a8"
             ],
             [
              0.3333333333333333,
              "#9c179e"
             ],
             [
              0.4444444444444444,
              "#bd3786"
             ],
             [
              0.5555555555555556,
              "#d8576b"
             ],
             [
              0.6666666666666666,
              "#ed7953"
             ],
             [
              0.7777777777777778,
              "#fb9f3a"
             ],
             [
              0.8888888888888888,
              "#fdca26"
             ],
             [
              1,
              "#f0f921"
             ]
            ],
            "type": "contour"
           }
          ],
          "contourcarpet": [
           {
            "colorbar": {
             "outlinewidth": 0,
             "ticks": ""
            },
            "type": "contourcarpet"
           }
          ],
          "heatmap": [
           {
            "colorbar": {
             "outlinewidth": 0,
             "ticks": ""
            },
            "colorscale": [
             [
              0,
              "#0d0887"
             ],
             [
              0.1111111111111111,
              "#46039f"
             ],
             [
              0.2222222222222222,
              "#7201a8"
             ],
             [
              0.3333333333333333,
              "#9c179e"
             ],
             [
              0.4444444444444444,
              "#bd3786"
             ],
             [
              0.5555555555555556,
              "#d8576b"
             ],
             [
              0.6666666666666666,
              "#ed7953"
             ],
             [
              0.7777777777777778,
              "#fb9f3a"
             ],
             [
              0.8888888888888888,
              "#fdca26"
             ],
             [
              1,
              "#f0f921"
             ]
            ],
            "type": "heatmap"
           }
          ],
          "heatmapgl": [
           {
            "colorbar": {
             "outlinewidth": 0,
             "ticks": ""
            },
            "colorscale": [
             [
              0,
              "#0d0887"
             ],
             [
              0.1111111111111111,
              "#46039f"
             ],
             [
              0.2222222222222222,
              "#7201a8"
             ],
             [
              0.3333333333333333,
              "#9c179e"
             ],
             [
              0.4444444444444444,
              "#bd3786"
             ],
             [
              0.5555555555555556,
              "#d8576b"
             ],
             [
              0.6666666666666666,
              "#ed7953"
             ],
             [
              0.7777777777777778,
              "#fb9f3a"
             ],
             [
              0.8888888888888888,
              "#fdca26"
             ],
             [
              1,
              "#f0f921"
             ]
            ],
            "type": "heatmapgl"
           }
          ],
          "histogram": [
           {
            "marker": {
             "pattern": {
              "fillmode": "overlay",
              "size": 10,
              "solidity": 0.2
             }
            },
            "type": "histogram"
           }
          ],
          "histogram2d": [
           {
            "colorbar": {
             "outlinewidth": 0,
             "ticks": ""
            },
            "colorscale": [
             [
              0,
              "#0d0887"
             ],
             [
              0.1111111111111111,
              "#46039f"
             ],
             [
              0.2222222222222222,
              "#7201a8"
             ],
             [
              0.3333333333333333,
              "#9c179e"
             ],
             [
              0.4444444444444444,
              "#bd3786"
             ],
             [
              0.5555555555555556,
              "#d8576b"
             ],
             [
              0.6666666666666666,
              "#ed7953"
             ],
             [
              0.7777777777777778,
              "#fb9f3a"
             ],
             [
              0.8888888888888888,
              "#fdca26"
             ],
             [
              1,
              "#f0f921"
             ]
            ],
            "type": "histogram2d"
           }
          ],
          "histogram2dcontour": [
           {
            "colorbar": {
             "outlinewidth": 0,
             "ticks": ""
            },
            "colorscale": [
             [
              0,
              "#0d0887"
             ],
             [
              0.1111111111111111,
              "#46039f"
             ],
             [
              0.2222222222222222,
              "#7201a8"
             ],
             [
              0.3333333333333333,
              "#9c179e"
             ],
             [
              0.4444444444444444,
              "#bd3786"
             ],
             [
              0.5555555555555556,
              "#d8576b"
             ],
             [
              0.6666666666666666,
              "#ed7953"
             ],
             [
              0.7777777777777778,
              "#fb9f3a"
             ],
             [
              0.8888888888888888,
              "#fdca26"
             ],
             [
              1,
              "#f0f921"
             ]
            ],
            "type": "histogram2dcontour"
           }
          ],
          "mesh3d": [
           {
            "colorbar": {
             "outlinewidth": 0,
             "ticks": ""
            },
            "type": "mesh3d"
           }
          ],
          "parcoords": [
           {
            "line": {
             "colorbar": {
              "outlinewidth": 0,
              "ticks": ""
             }
            },
            "type": "parcoords"
           }
          ],
          "pie": [
           {
            "automargin": true,
            "type": "pie"
           }
          ],
          "scatter": [
           {
            "fillpattern": {
             "fillmode": "overlay",
             "size": 10,
             "solidity": 0.2
            },
            "type": "scatter"
           }
          ],
          "scatter3d": [
           {
            "line": {
             "colorbar": {
              "outlinewidth": 0,
              "ticks": ""
             }
            },
            "marker": {
             "colorbar": {
              "outlinewidth": 0,
              "ticks": ""
             }
            },
            "type": "scatter3d"
           }
          ],
          "scattercarpet": [
           {
            "marker": {
             "colorbar": {
              "outlinewidth": 0,
              "ticks": ""
             }
            },
            "type": "scattercarpet"
           }
          ],
          "scattergeo": [
           {
            "marker": {
             "colorbar": {
              "outlinewidth": 0,
              "ticks": ""
             }
            },
            "type": "scattergeo"
           }
          ],
          "scattergl": [
           {
            "marker": {
             "colorbar": {
              "outlinewidth": 0,
              "ticks": ""
             }
            },
            "type": "scattergl"
           }
          ],
          "scattermapbox": [
           {
            "marker": {
             "colorbar": {
              "outlinewidth": 0,
              "ticks": ""
             }
            },
            "type": "scattermapbox"
           }
          ],
          "scatterpolar": [
           {
            "marker": {
             "colorbar": {
              "outlinewidth": 0,
              "ticks": ""
             }
            },
            "type": "scatterpolar"
           }
          ],
          "scatterpolargl": [
           {
            "marker": {
             "colorbar": {
              "outlinewidth": 0,
              "ticks": ""
             }
            },
            "type": "scatterpolargl"
           }
          ],
          "scatterternary": [
           {
            "marker": {
             "colorbar": {
              "outlinewidth": 0,
              "ticks": ""
             }
            },
            "type": "scatterternary"
           }
          ],
          "surface": [
           {
            "colorbar": {
             "outlinewidth": 0,
             "ticks": ""
            },
            "colorscale": [
             [
              0,
              "#0d0887"
             ],
             [
              0.1111111111111111,
              "#46039f"
             ],
             [
              0.2222222222222222,
              "#7201a8"
             ],
             [
              0.3333333333333333,
              "#9c179e"
             ],
             [
              0.4444444444444444,
              "#bd3786"
             ],
             [
              0.5555555555555556,
              "#d8576b"
             ],
             [
              0.6666666666666666,
              "#ed7953"
             ],
             [
              0.7777777777777778,
              "#fb9f3a"
             ],
             [
              0.8888888888888888,
              "#fdca26"
             ],
             [
              1,
              "#f0f921"
             ]
            ],
            "type": "surface"
           }
          ],
          "table": [
           {
            "cells": {
             "fill": {
              "color": "#EBF0F8"
             },
             "line": {
              "color": "white"
             }
            },
            "header": {
             "fill": {
              "color": "#C8D4E3"
             },
             "line": {
              "color": "white"
             }
            },
            "type": "table"
           }
          ]
         },
         "layout": {
          "annotationdefaults": {
           "arrowcolor": "#2a3f5f",
           "arrowhead": 0,
           "arrowwidth": 1
          },
          "autotypenumbers": "strict",
          "coloraxis": {
           "colorbar": {
            "outlinewidth": 0,
            "ticks": ""
           }
          },
          "colorscale": {
           "diverging": [
            [
             0,
             "#8e0152"
            ],
            [
             0.1,
             "#c51b7d"
            ],
            [
             0.2,
             "#de77ae"
            ],
            [
             0.3,
             "#f1b6da"
            ],
            [
             0.4,
             "#fde0ef"
            ],
            [
             0.5,
             "#f7f7f7"
            ],
            [
             0.6,
             "#e6f5d0"
            ],
            [
             0.7,
             "#b8e186"
            ],
            [
             0.8,
             "#7fbc41"
            ],
            [
             0.9,
             "#4d9221"
            ],
            [
             1,
             "#276419"
            ]
           ],
           "sequential": [
            [
             0,
             "#0d0887"
            ],
            [
             0.1111111111111111,
             "#46039f"
            ],
            [
             0.2222222222222222,
             "#7201a8"
            ],
            [
             0.3333333333333333,
             "#9c179e"
            ],
            [
             0.4444444444444444,
             "#bd3786"
            ],
            [
             0.5555555555555556,
             "#d8576b"
            ],
            [
             0.6666666666666666,
             "#ed7953"
            ],
            [
             0.7777777777777778,
             "#fb9f3a"
            ],
            [
             0.8888888888888888,
             "#fdca26"
            ],
            [
             1,
             "#f0f921"
            ]
           ],
           "sequentialminus": [
            [
             0,
             "#0d0887"
            ],
            [
             0.1111111111111111,
             "#46039f"
            ],
            [
             0.2222222222222222,
             "#7201a8"
            ],
            [
             0.3333333333333333,
             "#9c179e"
            ],
            [
             0.4444444444444444,
             "#bd3786"
            ],
            [
             0.5555555555555556,
             "#d8576b"
            ],
            [
             0.6666666666666666,
             "#ed7953"
            ],
            [
             0.7777777777777778,
             "#fb9f3a"
            ],
            [
             0.8888888888888888,
             "#fdca26"
            ],
            [
             1,
             "#f0f921"
            ]
           ]
          },
          "colorway": [
           "#636efa",
           "#EF553B",
           "#00cc96",
           "#ab63fa",
           "#FFA15A",
           "#19d3f3",
           "#FF6692",
           "#B6E880",
           "#FF97FF",
           "#FECB52"
          ],
          "font": {
           "color": "#2a3f5f"
          },
          "geo": {
           "bgcolor": "white",
           "lakecolor": "white",
           "landcolor": "#E5ECF6",
           "showlakes": true,
           "showland": true,
           "subunitcolor": "white"
          },
          "hoverlabel": {
           "align": "left"
          },
          "hovermode": "closest",
          "mapbox": {
           "style": "light"
          },
          "paper_bgcolor": "white",
          "plot_bgcolor": "#E5ECF6",
          "polar": {
           "angularaxis": {
            "gridcolor": "white",
            "linecolor": "white",
            "ticks": ""
           },
           "bgcolor": "#E5ECF6",
           "radialaxis": {
            "gridcolor": "white",
            "linecolor": "white",
            "ticks": ""
           }
          },
          "scene": {
           "xaxis": {
            "backgroundcolor": "#E5ECF6",
            "gridcolor": "white",
            "gridwidth": 2,
            "linecolor": "white",
            "showbackground": true,
            "ticks": "",
            "zerolinecolor": "white"
           },
           "yaxis": {
            "backgroundcolor": "#E5ECF6",
            "gridcolor": "white",
            "gridwidth": 2,
            "linecolor": "white",
            "showbackground": true,
            "ticks": "",
            "zerolinecolor": "white"
           },
           "zaxis": {
            "backgroundcolor": "#E5ECF6",
            "gridcolor": "white",
            "gridwidth": 2,
            "linecolor": "white",
            "showbackground": true,
            "ticks": "",
            "zerolinecolor": "white"
           }
          },
          "shapedefaults": {
           "line": {
            "color": "#2a3f5f"
           }
          },
          "ternary": {
           "aaxis": {
            "gridcolor": "white",
            "linecolor": "white",
            "ticks": ""
           },
           "baxis": {
            "gridcolor": "white",
            "linecolor": "white",
            "ticks": ""
           },
           "bgcolor": "#E5ECF6",
           "caxis": {
            "gridcolor": "white",
            "linecolor": "white",
            "ticks": ""
           }
          },
          "title": {
           "x": 0.05
          },
          "xaxis": {
           "automargin": true,
           "gridcolor": "white",
           "linecolor": "white",
           "ticks": "",
           "title": {
            "standoff": 15
           },
           "zerolinecolor": "white",
           "zerolinewidth": 2
          },
          "yaxis": {
           "automargin": true,
           "gridcolor": "white",
           "linecolor": "white",
           "ticks": "",
           "title": {
            "standoff": 15
           },
           "zerolinecolor": "white",
           "zerolinewidth": 2
          }
         }
        },
        "updatemenus": [
         {
          "buttons": [
           {
            "args": [
             null,
             {
              "frame": {
               "duration": 500,
               "redraw": false
              },
              "fromcurrent": true,
              "mode": "immediate",
              "transition": {
               "duration": 500,
               "easing": "linear"
              }
             }
            ],
            "label": "&#9654;",
            "method": "animate"
           },
           {
            "args": [
             [
              null
             ],
             {
              "frame": {
               "duration": 0,
               "redraw": false
              },
              "fromcurrent": true,
              "mode": "immediate",
              "transition": {
               "duration": 0,
               "easing": "linear"
              }
             }
            ],
            "label": "&#9724;",
            "method": "animate"
           }
          ],
          "direction": "left",
          "pad": {
           "r": 10,
           "t": 70
          },
          "showactive": false,
          "type": "buttons",
          "x": 0.1,
          "xanchor": "right",
          "y": 0,
          "yanchor": "top"
         }
        ],
        "xaxis": {
         "anchor": "y",
         "domain": [
          0,
          1
         ],
         "range": [
          2,
          5
         ],
         "title": {
          "text": "gdpPercap"
         },
         "type": "log"
        },
        "yaxis": {
         "anchor": "x",
         "domain": [
          0,
          1
         ],
         "range": [
          5,
          100
         ],
         "title": {
          "text": "lifeExp"
         }
        }
       }
      }
     },
     "metadata": {},
     "output_type": "display_data"
    }
   ],
   "source": [
    "# animated plot\n",
    "fig =px.scatter(df, x= \"gdpPercap\",\n",
    "            y = \"lifeExp\",\n",
    "            size= \"pop\", color= \"continent\",\n",
    "            animation_frame='year', animation_group=\"country\",\n",
    "            log_x=True, size_max=55, range_x=[100,100000], range_y=[5,100])\n",
    "fig.show()"
   ]
  },
  {
   "cell_type": "markdown",
   "metadata": {},
   "source": [
    "# Assignment: How to export this plot as a video (avi, mp4) or gif file?"
   ]
  },
  {
   "cell_type": "code",
   "execution_count": 44,
   "metadata": {},
   "outputs": [
    {
     "ename": "NameError",
     "evalue": "name 'monthly_cases' is not defined",
     "output_type": "error",
     "traceback": [
      "\u001b[1;31m---------------------------------------------------------------------------\u001b[0m",
      "\u001b[1;31mNameError\u001b[0m                                 Traceback (most recent call last)",
      "\u001b[1;32md:\\DS & ai\\2_Ploty plots\\04_animated_plots.ipynb Cell 7\u001b[0m line \u001b[0;36m1\n\u001b[1;32m----> <a href='vscode-notebook-cell:/d%3A/DS%20%26%20ai/2_Ploty%20plots/04_animated_plots.ipynb#X10sZmlsZQ%3D%3D?line=0'>1</a>\u001b[0m fig \u001b[39m=\u001b[39m px\u001b[39m.\u001b[39mchoropleth(monthly_cases, locations\u001b[39m=\u001b[39m\u001b[39m'\u001b[39m\u001b[39mlocation\u001b[39m\u001b[39m'\u001b[39m, locationmode\u001b[39m=\u001b[39m\u001b[39m'\u001b[39m\u001b[39mcountry names\u001b[39m\u001b[39m'\u001b[39m, color \u001b[39m=\u001b[39m \u001b[39m'\u001b[39m\u001b[39mtotal_cases\u001b[39m\u001b[39m'\u001b[39m,\n\u001b[0;32m      <a href='vscode-notebook-cell:/d%3A/DS%20%26%20ai/2_Ploty%20plots/04_animated_plots.ipynb#X10sZmlsZQ%3D%3D?line=1'>2</a>\u001b[0m                     title\u001b[39m=\u001b[39m\u001b[39m'\u001b[39m\u001b[39mTotal Covid Cases Worldwide (January 2021 -to- April 2023)\u001b[39m\u001b[39m'\u001b[39m, \n\u001b[0;32m      <a href='vscode-notebook-cell:/d%3A/DS%20%26%20ai/2_Ploty%20plots/04_animated_plots.ipynb#X10sZmlsZQ%3D%3D?line=2'>3</a>\u001b[0m                     range_color\u001b[39m=\u001b[39m[\u001b[39m0\u001b[39m, monthly_cases[\u001b[39m'\u001b[39m\u001b[39mtotal_cases\u001b[39m\u001b[39m'\u001b[39m]\u001b[39m.\u001b[39mquantile(\u001b[39m0.85\u001b[39m)],\n\u001b[0;32m      <a href='vscode-notebook-cell:/d%3A/DS%20%26%20ai/2_Ploty%20plots/04_animated_plots.ipynb#X10sZmlsZQ%3D%3D?line=3'>4</a>\u001b[0m                     animation_frame\u001b[39m=\u001b[39m \u001b[39m'\u001b[39m\u001b[39myear_month\u001b[39m\u001b[39m'\u001b[39m, color_continuous_scale\u001b[39m=\u001b[39m\u001b[39m'\u001b[39m\u001b[39mviridis\u001b[39m\u001b[39m'\u001b[39m,\n\u001b[0;32m      <a href='vscode-notebook-cell:/d%3A/DS%20%26%20ai/2_Ploty%20plots/04_animated_plots.ipynb#X10sZmlsZQ%3D%3D?line=4'>5</a>\u001b[0m                     labels\u001b[39m=\u001b[39m{\u001b[39m'\u001b[39m\u001b[39myear_month\u001b[39m\u001b[39m'\u001b[39m:\u001b[39m'\u001b[39m\u001b[39mYear-Month\u001b[39m\u001b[39m'\u001b[39m, \u001b[39m'\u001b[39m\u001b[39mtotal_cases\u001b[39m\u001b[39m'\u001b[39m:\u001b[39m'\u001b[39m\u001b[39mTotal Cases\u001b[39m\u001b[39m'\u001b[39m}\n\u001b[0;32m      <a href='vscode-notebook-cell:/d%3A/DS%20%26%20ai/2_Ploty%20plots/04_animated_plots.ipynb#X10sZmlsZQ%3D%3D?line=5'>6</a>\u001b[0m                     )\n\u001b[0;32m      <a href='vscode-notebook-cell:/d%3A/DS%20%26%20ai/2_Ploty%20plots/04_animated_plots.ipynb#X10sZmlsZQ%3D%3D?line=6'>7</a>\u001b[0m \u001b[39m# increase the size of the map\u001b[39;00m\n\u001b[0;32m      <a href='vscode-notebook-cell:/d%3A/DS%20%26%20ai/2_Ploty%20plots/04_animated_plots.ipynb#X10sZmlsZQ%3D%3D?line=7'>8</a>\u001b[0m fig\u001b[39m.\u001b[39mupdate_layout(height\u001b[39m=\u001b[39m\u001b[39m600\u001b[39m, width\u001b[39m=\u001b[39m\u001b[39m800\u001b[39m)\n",
      "\u001b[1;31mNameError\u001b[0m: name 'monthly_cases' is not defined"
     ]
    }
   ],
   "source": [
    "fig = px.choropleth(monthly_cases, locations='location', locationmode='country names', color = 'total_cases',\n",
    "                    title='Total Covid Cases Worldwide (January 2021 -to- April 2023)', \n",
    "                    range_color=[0, monthly_cases['total_cases'].quantile(0.85)],\n",
    "                    animation_frame= 'year_month', color_continuous_scale='viridis',\n",
    "                    labels={'year_month':'Year-Month', 'total_cases':'Total Cases'}\n",
    "                    )\n",
    "# increase the size of the map\n",
    "fig.update_layout(height=600, width=800)"
   ]
  },
  {
   "cell_type": "code",
   "execution_count": 43,
   "metadata": {},
   "outputs": [
    {
     "ename": "AttributeError",
     "evalue": "'VideoClip' object has no attribute 'FuncAnimation'",
     "output_type": "error",
     "traceback": [
      "\u001b[1;31m---------------------------------------------------------------------------\u001b[0m",
      "\u001b[1;31mAttributeError\u001b[0m                            Traceback (most recent call last)",
      "\u001b[1;32md:\\DS & ai\\2_Ploty plots\\04_animated_plots.ipynb Cell 7\u001b[0m line \u001b[0;36m3\n\u001b[0;32m      <a href='vscode-notebook-cell:/d%3A/DS%20%26%20ai/2_Ploty%20plots/04_animated_plots.ipynb#W5sZmlsZQ%3D%3D?line=0'>1</a>\u001b[0m \u001b[39m# How to export this plot as a video (avi, mp4) or gif file?\u001b[39;00m\n\u001b[1;32m----> <a href='vscode-notebook-cell:/d%3A/DS%20%26%20ai/2_Ploty%20plots/04_animated_plots.ipynb#W5sZmlsZQ%3D%3D?line=2'>3</a>\u001b[0m animation \u001b[39m=\u001b[39m animation\u001b[39m.\u001b[39;49mFuncAnimation(fig, animate, frames\u001b[39m=\u001b[39m\u001b[39m100\u001b[39m, interval\u001b[39m=\u001b[39m\u001b[39m50\u001b[39m)\n\u001b[0;32m      <a href='vscode-notebook-cell:/d%3A/DS%20%26%20ai/2_Ploty%20plots/04_animated_plots.ipynb#W5sZmlsZQ%3D%3D?line=4'>5</a>\u001b[0m output_file \u001b[39m=\u001b[39m \u001b[39m\"\u001b[39m\u001b[39manimation.mp4\u001b[39m\u001b[39m\"\u001b[39m\n\u001b[0;32m      <a href='vscode-notebook-cell:/d%3A/DS%20%26%20ai/2_Ploty%20plots/04_animated_plots.ipynb#W5sZmlsZQ%3D%3D?line=5'>6</a>\u001b[0m animation\u001b[39m.\u001b[39msave(output_file, writer\u001b[39m=\u001b[39m\u001b[39m'\u001b[39m\u001b[39mffmpeg\u001b[39m\u001b[39m'\u001b[39m, fps\u001b[39m=\u001b[39m\u001b[39m30\u001b[39m)\n",
      "\u001b[1;31mAttributeError\u001b[0m: 'VideoClip' object has no attribute 'FuncAnimation'"
     ]
    }
   ],
   "source": [
    "# saving animated gif\n",
    "import plotly.express as px\n",
    "import pandas as pd\n",
    "import numpy as np\n",
    "import io\n",
    "import PIL\n",
    "fig = px.choropleth(monthly_cases, locations='location', locationmode='country names', color = 'total_cases',\n",
    "                    title='Total Covid Cases Worldwide (January 2021 -to- April 2023)', \n",
    "                    range_color=[0, monthly_cases['total_cases'].quantile(0.85)],\n",
    "                    animation_frame= 'year_month', color_continuous_scale='viridis',\n",
    "                    labels={'year_month':'Year-Month', 'total_cases':'Total Cases'}\n",
    "                    )\n",
    "# increase the size of the map\n",
    "fig.update_layout(height=600, width=800)\n",
    "\n",
    "# generate images for each step in animation\n",
    "frames = []\n",
    "for s, fr in enumerate(fig.frames):\n",
    "    # set main traces to appropriate traces within plotly frame\n",
    "    fig.update(data=fr.data)\n",
    "    # move slider to correct place\n",
    "    fig.layout.sliders[0].update(active=s)\n",
    "    # generate image of current state\n",
    "    frames.append(PIL.Image.open(io.BytesIO(fig.to_image(format=\"png\", scale=3))))\n",
    "    \n",
    "# create animated GIF\n",
    "frames[0].save(\n",
    "        \"./output/total_covid_cases_worldwide.gif\",\n",
    "        save_all=True,\n",
    "        append_images=frames[1:],\n",
    "        optimize=True,\n",
    "        duration=500, # milliseconds per frame\n",
    "        loop=0, # infinite loop\n",
    "        dither=None  # Turn off dithering\n",
    "    )"
   ]
  }
 ],
 "metadata": {
  "kernelspec": {
   "display_name": "python_eda",
   "language": "python",
   "name": "python3"
  },
  "language_info": {
   "codemirror_mode": {
    "name": "ipython",
    "version": 3
   },
   "file_extension": ".py",
   "mimetype": "text/x-python",
   "name": "python",
   "nbconvert_exporter": "python",
   "pygments_lexer": "ipython3",
   "version": "3.11.6"
  }
 },
 "nbformat": 4,
 "nbformat_minor": 2
}
