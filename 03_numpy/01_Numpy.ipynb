{
 "cells": [
  {
   "cell_type": "markdown",
   "metadata": {},
   "source": [
    "# *Numpy(Part_01)*"
   ]
  },
  {
   "cell_type": "code",
   "execution_count": 1,
   "metadata": {},
   "outputs": [],
   "source": [
    "# import libraries\n",
    "import numpy as np"
   ]
  },
  {
   "cell_type": "code",
   "execution_count": 7,
   "metadata": {},
   "outputs": [
    {
     "data": {
      "text/plain": [
       "1"
      ]
     },
     "execution_count": 7,
     "metadata": {},
     "output_type": "execute_result"
    }
   ],
   "source": [
    "a = np.arange(6)\n",
    "a.ndim"
   ]
  },
  {
   "cell_type": "code",
   "execution_count": 6,
   "metadata": {},
   "outputs": [
    {
     "data": {
      "text/plain": [
       "2"
      ]
     },
     "execution_count": 6,
     "metadata": {},
     "output_type": "execute_result"
    }
   ],
   "source": [
    "a2 = a[np.newaxis, :] # add new axis at row position 0 (row 0)  \n",
    "a2.ndim"
   ]
  },
  {
   "cell_type": "code",
   "execution_count": 18,
   "metadata": {},
   "outputs": [
    {
     "data": {
      "text/plain": [
       "array([1, 2, 3, 4, 5, 6])"
      ]
     },
     "execution_count": 18,
     "metadata": {},
     "output_type": "execute_result"
    }
   ],
   "source": [
    "a =np.array([1, 2, 3, 4, 5, 6])\n",
    "a"
   ]
  },
  {
   "cell_type": "code",
   "execution_count": 11,
   "metadata": {},
   "outputs": [
    {
     "data": {
      "text/plain": [
       "6"
      ]
     },
     "execution_count": 11,
     "metadata": {},
     "output_type": "execute_result"
    }
   ],
   "source": [
    "# If you to check length of array\n",
    "len(a)"
   ]
  },
  {
   "cell_type": "code",
   "execution_count": 10,
   "metadata": {},
   "outputs": [
    {
     "data": {
      "text/plain": [
       "1"
      ]
     },
     "execution_count": 10,
     "metadata": {},
     "output_type": "execute_result"
    }
   ],
   "source": [
    "# I f you find dimension of this array\n",
    "a.ndim"
   ]
  },
  {
   "cell_type": "code",
   "execution_count": 20,
   "metadata": {},
   "outputs": [
    {
     "data": {
      "text/plain": [
       "(3, 4)"
      ]
     },
     "execution_count": 20,
     "metadata": {},
     "output_type": "execute_result"
    }
   ],
   "source": [
    "z = np.array([[1, 2, 3, 4], [5, 6, 7, 8], [9, 10, 11, 12]])\n",
    "z.shape"
   ]
  },
  {
   "cell_type": "code",
   "execution_count": 26,
   "metadata": {},
   "outputs": [
    {
     "name": "stdout",
     "output_type": "stream",
     "text": [
      "[[ 1  2  3  4]\n",
      " [ 5  6  7  8]\n",
      " [ 9 10 11 12]]\n"
     ]
    }
   ],
   "source": [
    "print(z[0:])"
   ]
  },
  {
   "cell_type": "code",
   "execution_count": 21,
   "metadata": {},
   "outputs": [
    {
     "data": {
      "text/plain": [
       "2"
      ]
     },
     "execution_count": 21,
     "metadata": {},
     "output_type": "execute_result"
    }
   ],
   "source": [
    "z.ndim"
   ]
  },
  {
   "cell_type": "code",
   "execution_count": 29,
   "metadata": {},
   "outputs": [
    {
     "name": "stdout",
     "output_type": "stream",
     "text": [
      "[0. 0. 0. 0. 0.]\n",
      "[1. 1. 1. 1. 1.]\n"
     ]
    }
   ],
   "source": [
    "# If you want to create 0 array\n",
    "t=np.zeros(5)\n",
    "print(t)\n",
    "# If you want to create 1 array\n",
    "z=np.ones(5)\n",
    "print(z)"
   ]
  },
  {
   "cell_type": "markdown",
   "metadata": {},
   "source": [
    "# What is array?\n",
    "\n",
    "-  In computer programming, an array is a data structure that stores a collection of elements, each identified by an index or a key. Arrays are used to store a fixed-size sequential collection of elements of the same type, such as integers or strings. \n",
    "\n",
    "In Python, arrays are implemented as lists. A list is a collection of values that can be of different types, including other lists. Lists are mutable, which means that their contents can be modified after they are created. \n",
    "\n",
    "Numpy is a Python library that provides support for arrays and matrices. Numpy arrays are similar to lists, but they are more efficient for numerical operations and can be multi-dimensional. Numpy arrays are homogeneous, which means that all elements in the array must be of the same type. Numpy arrays are also immutable, which means that their size and contents cannot be changed after they are created."
   ]
  },
  {
   "cell_type": "markdown",
   "metadata": {},
   "source": [
    "# Assignment Day 28\n",
    "\n",
    "# *Why do we have 1D, 2D or 3D arrays?*\n",
    "•    1D arrays are useful for representing data that has a single dimension, such as a list of numbers or a                  sequence of characters. For example, you might use a 1D array to store the temperature readings for a            day, or the names of students in a class.\n",
    "\n",
    "•    2D arrays are useful for representing data that has two dimensions, such as an image or a table. For                 example, you might use a 2D array to store the pixel values of an image, or the data in a spreadsheet.\n",
    "\n",
    "•    3D arrays are useful for representing data that has three dimensions, such as a video or a medical                    image. For example, you might use a 3D array to store the video frames of a video, or the voxels of a                 medical image.\n",
    "\n",
    "# Where we need them in Data Science?\n",
    "•    1D arrays:\n",
    "o    Storing the results of a scientific experiment\n",
    "o    Representing the features of a data point in machine learning\n",
    "o    Encoding text data for natural language processing\n",
    "\n",
    "•    2D arrays:\n",
    "o    Storing the image data for a machine learning model\n",
    "o    Representing a matrix of numbers for linear algebra operations\n",
    "o    Creating a heatmap or other data visualization\n",
    "\n",
    "•    3D arrays:\n",
    "o    Storing the data for a video or medical image\n",
    "o    Representing a 3D model for computer vision tasks\n",
    "o    Simulating the flow of fluids in computational fluid dynamics"
   ]
  }
 ],
 "metadata": {
  "kernelspec": {
   "display_name": "python_eda",
   "language": "python",
   "name": "python3"
  },
  "language_info": {
   "codemirror_mode": {
    "name": "ipython",
    "version": 3
   },
   "file_extension": ".py",
   "mimetype": "text/x-python",
   "name": "python",
   "nbconvert_exporter": "python",
   "pygments_lexer": "ipython3",
   "version": "3.11.6"
  }
 },
 "nbformat": 4,
 "nbformat_minor": 2
}
